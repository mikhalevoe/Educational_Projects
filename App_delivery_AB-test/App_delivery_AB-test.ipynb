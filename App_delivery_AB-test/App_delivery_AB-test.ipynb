{
 "cells": [
  {
   "cell_type": "markdown",
   "metadata": {},
   "source": [
    "<h1>Проект 5.10.2."
   ]
  },
  {
   "cell_type": "markdown",
   "metadata": {},
   "source": [
    "<h1>Кейс №2 - Приложение доставки</h1>\n",
    "\n",
    "Вы работаете аналитиком в приложении по доставке продуктов.<br>\n",
    "Команда внедрила в приложение умную систему рекомендации товаров – <br>\n",
    "предполагается, что такая система поможет пользователям эффективнее работать <br>\n",
    "с приложением и лучше находить необходимые товары.\n",
    "\n",
    "Чтобы проверить эффективность системы рекомендаций, был проведен АБ-тест. <br>\n",
    "<b><i>В группе 1 оказались пользователи с новой системой рекомендаций, <br>\n",
    "в группе 0 пользователи со старой версией приложения, где нет рекомендации товаров.</b></i>\n",
    "\n",
    "<b>Ваша задача – оценить, смогла ли новая система рекомендаций принести пользу бизнесу <br>\n",
    "и пользователям приложения.</b> Для этого нужно выбрать метрики, которые отвечают за качество сервиса, <br>\n",
    "и статистически сравнить эти метрики в двух группах.\n",
    "\n",
    "Результат вашей работы – аналитическое заключение с ответом на вопрос, <br>\n",
    "стоит ли включать новую систему рекомендаций на всех пользователей.\n",
    "\n",
    "В данных вы найдете логи заказов пользователей:\n",
    "<ol>\n",
    "<li>ab_users_data – история заказов пользователей, <br>в этой таблице есть информация о том, какие заказы создавали и отменяли пользователи</li>\n",
    "<li>ab_orders – подробная информация о составе заказа,  <br>тут для каждого заказа есть список id тех продуктов, которые были включены в заказ</li>\n",
    "<li>ab_products – подробная информация о продуктах, их название и стоимость</li>\n",
    "</ol>\n",
    "<br><b>NB! Не стоит использовать интерактивные графики в итоговом файле – они имеют смысл только в динамических отчётах вроде веб-страницы.</b>\n",
    "\n",
    "В поле ответа прикрепите файл формата .ipynb — то есть обычный Jupyter Notebook со всеми вашими действиями, результатами, графиками и выводами."
   ]
  },
  {
   "cell_type": "code",
   "execution_count": null,
   "metadata": {},
   "outputs": [],
   "source": [
    "\n",
    "\n",
    "\n"
   ]
  },
  {
   "cell_type": "markdown",
   "metadata": {},
   "source": [
    "#### БИБЛИОТЕКИ"
   ]
  },
  {
   "cell_type": "code",
   "execution_count": 1,
   "metadata": {},
   "outputs": [],
   "source": [
    "# Подключим библиотеку pandas и назовем её pd\n",
    "import pandas as pd\n",
    "# Подключим библиотеку numpy и назовем её np\n",
    "import numpy as np\n",
    "# Подключим библиотеку scipy, и возьмем оттуда модуль со stats (статистические распределения и функции)\n",
    "from scipy import stats as ss\n",
    "import pingouin as pg\n",
    "from scipy.stats import bootstrap as bs\n",
    "\n",
    "# Импорт библиотек проводника\n",
    "import os\n",
    "# Импорт библиотек даты-времени\n",
    "import datetime\n",
    "\n",
    "\n",
    "# Подключим библиотеку seaborn и назовем её sns\n",
    "import seaborn as sns\n",
    "# Подключим библиотеку matplotlib и назовем её plt\n",
    "import matplotlib.pyplot as plt\n",
    "# Разрешим строить графики в интерактивном режиме\n",
    "%matplotlib inline\n",
    "# Подключим библиотеку plotly и назовем её px\n",
    "import plotly.express as px"
   ]
  },
  {
   "cell_type": "markdown",
   "metadata": {},
   "source": [
    "#### ЗАГРУЗКА ДАННЫХ"
   ]
  },
  {
   "cell_type": "code",
   "execution_count": 2,
   "metadata": {},
   "outputs": [
    {
     "name": "stderr",
     "output_type": "stream",
     "text": [
      "/opt/tljh/user/lib/python3.7/site-packages/outdated/utils.py:18: OutdatedCacheFailedWarning: Failed to use cache while checking for outdated package.\n",
      "Set the environment variable OUTDATED_RAISE_EXCEPTION=1 for a full traceback.\n",
      "Set the environment variable OUTDATED_IGNORE=1 to disable these warnings.\n",
      "  **kwargs\n",
      "/opt/tljh/user/lib/python3.7/site-packages/outdated/utils.py:18: OutdatedPackageWarning: The package pingouin is out of date. Your version is 0.4.0, the latest is 0.5.4.\n",
      "Set the environment variable OUTDATED_IGNORE=1 to disable these warnings.\n",
      "  **kwargs\n",
      "/opt/tljh/user/lib/python3.7/site-packages/outdated/utils.py:18: OutdatedPackageWarning: The package outdated is out of date. Your version is 0.2.1, the latest is 0.2.2.\n",
      "Set the environment variable OUTDATED_IGNORE=1 to disable these warnings.\n",
      "  **kwargs\n"
     ]
    }
   ],
   "source": [
    "# Чтобы узнать текущую дирректорию\n",
    "os.getcwd()\n",
    "# Чтобы узнать что лежит в текущей дирректории\n",
    "os.listdir()\n",
    "# - ~/ - относительный путь\n",
    "# - ../ - путь с поднятием вверх из другой папки до корневой\n",
    "# (подъём на уровень выше - домашняя директория ~)\n",
    "\n",
    "# Запишем путь файла в переменную\n",
    "path_df_users_data = \"/mnt/HC_Volume_18315164/home-jupyter/jupyter-o-mihalev/Statistic-Python_Lessions/Lecture_10/ab_users_data.csv\"\n",
    "path_df_orders = \"/mnt/HC_Volume_18315164/home-jupyter/jupyter-o-mihalev/Statistic-Python_Lessions/Lecture_10/ab_orders.csv\"\n",
    "path_df_products = \"/mnt/HC_Volume_18315164/home-jupyter/jupyter-o-mihalev/Statistic-Python_Lessions/Lecture_10/ab_products.csv\"\n",
    "# Cчитаем DF c помощью лямбда-функции\n",
    "download_df = lambda x:  pd.read_csv(x, sep=',') # , dtype={'Year': 'int'}\n",
    "# Присвоим переменную датафрейму\n",
    "ab_users_data = download_df(path_df_users_data)\n",
    "ab_orders = download_df(path_df_orders)\n",
    "ab_products = download_df(path_df_products)"
   ]
  },
  {
   "cell_type": "markdown",
   "metadata": {},
   "source": [
    "#### ПРОВЕРКА ДАННЫХ"
   ]
  },
  {
   "cell_type": "code",
   "execution_count": 3,
   "metadata": {
    "scrolled": true
   },
   "outputs": [
    {
     "name": "stdout",
     "output_type": "stream",
     "text": [
      "Размер таблицы истории заказов пользователей:\n",
      "(4337, 6) \n",
      "\n",
      "Размер таблицы состава заказов пользователей:\n",
      "(4123, 3) \n",
      "\n",
      "Размер таблицы информации о продуктах:\n",
      "(87, 3) \n",
      "\n",
      "Форматы колонок таблицы истории заказов пользователей:\n",
      "user_id              int64\n",
      "order_id             int64\n",
      "action              object\n",
      "time        datetime64[ns]\n",
      "date        datetime64[ns]\n",
      "group                int64\n",
      "dtype: object \n",
      "\n",
      "Форматы колонок таблицы состава заказов пользователей:\n",
      "order_id                  int64\n",
      "creation_time    datetime64[ns]\n",
      "product_ids              object\n",
      "dtype: object \n",
      "\n",
      "Форматы колонок таблицы информации о продуктах:\n",
      "product_id      int64\n",
      "name           object\n",
      "price         float64\n",
      "dtype: object \n",
      "\n",
      "Число пропусков в колонках таблицы истории заказов пользователей:\n",
      "user_id     0\n",
      "order_id    0\n",
      "action      0\n",
      "time        0\n",
      "date        0\n",
      "group       0\n",
      "dtype: int64 \n",
      "\n",
      "Число пропусков в колонках таблицы состава заказов пользователей:\n",
      "order_id         0\n",
      "creation_time    0\n",
      "product_ids      0\n",
      "dtype: int64 \n",
      "\n",
      "Число пропусков в колонках таблицы информации о продуктах:\n",
      "product_id    0\n",
      "name          0\n",
      "price         0\n",
      "dtype: int64 \n",
      "\n"
     ]
    }
   ],
   "source": [
    "# Проверим размер DF\n",
    "print(\"Размер таблицы истории заказов пользователей:\\n{}\".format(ab_users_data.shape), \"\\n\")\n",
    "print(\"Размер таблицы состава заказов пользователей:\\n{}\".format(ab_orders.shape), \"\\n\")\n",
    "print(\"Размер таблицы информации о продуктах:\\n{}\".format(ab_products.shape), \"\\n\")\n",
    "\n",
    "# Преобразуем колонки object в datetime\n",
    "ab_users_data.time = pd.to_datetime(ab_users_data.time)\n",
    "ab_users_data.date = pd.to_datetime(ab_users_data.date)\n",
    "ab_orders.creation_time = pd.to_datetime(ab_orders.creation_time)\n",
    "\n",
    "# Проверим типы данных столбцов DF\n",
    "print(\"Форматы колонок таблицы истории заказов пользователей:\\n{}\".format(ab_users_data.dtypes), '\\n')\n",
    "print(\"Форматы колонок таблицы состава заказов пользователей:\\n{}\".format(ab_orders.dtypes), '\\n')\n",
    "print(\"Форматы колонок таблицы информации о продуктах:\\n{}\".format(ab_products.dtypes), '\\n')\n",
    "\n",
    "# Проверим DF на пропуски\n",
    "print(\"Число пропусков в колонках таблицы истории заказов пользователей:\\n{}\".format(ab_users_data.isna().sum()), '\\n')\n",
    "print(\"Число пропусков в колонках таблицы состава заказов пользователей:\\n{}\".format(ab_orders.isna().sum()), '\\n')\n",
    "print(\"Число пропусков в колонках таблицы информации о продуктах:\\n{}\".format(ab_products.isna().sum()), '\\n')\n",
    "\n"
   ]
  },
  {
   "cell_type": "markdown",
   "metadata": {},
   "source": [
    "<h4>ИCCЛЕДУЕМ ДАННЫЕ</h4>\n",
    "<ul>\n",
    "<li>Заказ - любой созданный заказ (может быть отмененным, а может быть покупкой)</li>\n",
    "<li>Покупка - созданный и не отменённый заказ</li>"
   ]
  },
  {
   "cell_type": "code",
   "execution_count": 4,
   "metadata": {},
   "outputs": [
    {
     "data": {
      "text/plain": [
       "8        1258\n",
       "39       1296\n",
       "47       1298\n",
       "54       1308\n",
       "60       1315\n",
       "        ...  \n",
       "4221    54938\n",
       "4255    56612\n",
       "4259    56772\n",
       "4307    58492\n",
       "4321    59055\n",
       "Name: order_id, Length: 214, dtype: int64"
      ]
     },
     "execution_count": 4,
     "metadata": {},
     "output_type": "execute_result"
    }
   ],
   "source": [
    "# Найдем дубликаты в DF, чтобы определить отменённые заказы\n",
    "df_order_id_cancelled = ab_users_data.order_id.loc[ab_users_data.order_id.duplicated()]\n",
    "df_order_id_cancelled"
   ]
  },
  {
   "cell_type": "code",
   "execution_count": 5,
   "metadata": {},
   "outputs": [
    {
     "data": {
      "text/html": [
       "<div>\n",
       "<style scoped>\n",
       "    .dataframe tbody tr th:only-of-type {\n",
       "        vertical-align: middle;\n",
       "    }\n",
       "\n",
       "    .dataframe tbody tr th {\n",
       "        vertical-align: top;\n",
       "    }\n",
       "\n",
       "    .dataframe thead th {\n",
       "        text-align: right;\n",
       "    }\n",
       "</style>\n",
       "<table border=\"1\" class=\"dataframe\">\n",
       "  <thead>\n",
       "    <tr style=\"text-align: right;\">\n",
       "      <th></th>\n",
       "      <th>user_id</th>\n",
       "      <th>order_id</th>\n",
       "      <th>action</th>\n",
       "      <th>time</th>\n",
       "      <th>date</th>\n",
       "      <th>group</th>\n",
       "    </tr>\n",
       "  </thead>\n",
       "  <tbody>\n",
       "    <tr>\n",
       "      <th>8</th>\n",
       "      <td>966</td>\n",
       "      <td>1258</td>\n",
       "      <td>cancel_order</td>\n",
       "      <td>2022-08-26 00:08:25.486419</td>\n",
       "      <td>2022-08-26</td>\n",
       "      <td>0</td>\n",
       "    </tr>\n",
       "    <tr>\n",
       "      <th>39</th>\n",
       "      <td>993</td>\n",
       "      <td>1296</td>\n",
       "      <td>cancel_order</td>\n",
       "      <td>2022-08-26 00:44:18.150475</td>\n",
       "      <td>2022-08-26</td>\n",
       "      <td>0</td>\n",
       "    </tr>\n",
       "    <tr>\n",
       "      <th>47</th>\n",
       "      <td>995</td>\n",
       "      <td>1298</td>\n",
       "      <td>cancel_order</td>\n",
       "      <td>2022-08-26 00:49:51.514240</td>\n",
       "      <td>2022-08-26</td>\n",
       "      <td>0</td>\n",
       "    </tr>\n",
       "    <tr>\n",
       "      <th>54</th>\n",
       "      <td>1002</td>\n",
       "      <td>1308</td>\n",
       "      <td>cancel_order</td>\n",
       "      <td>2022-08-26 00:58:01.924112</td>\n",
       "      <td>2022-08-26</td>\n",
       "      <td>1</td>\n",
       "    </tr>\n",
       "    <tr>\n",
       "      <th>60</th>\n",
       "      <td>1008</td>\n",
       "      <td>1315</td>\n",
       "      <td>cancel_order</td>\n",
       "      <td>2022-08-26 01:06:11.292953</td>\n",
       "      <td>2022-08-26</td>\n",
       "      <td>0</td>\n",
       "    </tr>\n",
       "    <tr>\n",
       "      <th>...</th>\n",
       "      <td>...</td>\n",
       "      <td>...</td>\n",
       "      <td>...</td>\n",
       "      <td>...</td>\n",
       "      <td>...</td>\n",
       "      <td>...</td>\n",
       "    </tr>\n",
       "    <tr>\n",
       "      <th>4221</th>\n",
       "      <td>1498</td>\n",
       "      <td>54938</td>\n",
       "      <td>cancel_order</td>\n",
       "      <td>2022-09-08 06:46:29.885081</td>\n",
       "      <td>2022-09-08</td>\n",
       "      <td>0</td>\n",
       "    </tr>\n",
       "    <tr>\n",
       "      <th>4255</th>\n",
       "      <td>1658</td>\n",
       "      <td>56612</td>\n",
       "      <td>cancel_order</td>\n",
       "      <td>2022-09-08 13:31:37.085777</td>\n",
       "      <td>2022-09-08</td>\n",
       "      <td>0</td>\n",
       "    </tr>\n",
       "    <tr>\n",
       "      <th>4259</th>\n",
       "      <td>1314</td>\n",
       "      <td>56772</td>\n",
       "      <td>cancel_order</td>\n",
       "      <td>2022-09-08 14:09:53.652063</td>\n",
       "      <td>2022-09-08</td>\n",
       "      <td>1</td>\n",
       "    </tr>\n",
       "    <tr>\n",
       "      <th>4307</th>\n",
       "      <td>988</td>\n",
       "      <td>58492</td>\n",
       "      <td>cancel_order</td>\n",
       "      <td>2022-09-08 20:07:22.918779</td>\n",
       "      <td>2022-09-08</td>\n",
       "      <td>1</td>\n",
       "    </tr>\n",
       "    <tr>\n",
       "      <th>4321</th>\n",
       "      <td>1961</td>\n",
       "      <td>59055</td>\n",
       "      <td>cancel_order</td>\n",
       "      <td>2022-09-08 21:56:29.827929</td>\n",
       "      <td>2022-09-08</td>\n",
       "      <td>1</td>\n",
       "    </tr>\n",
       "  </tbody>\n",
       "</table>\n",
       "<p>214 rows × 6 columns</p>\n",
       "</div>"
      ],
      "text/plain": [
       "      user_id  order_id        action                       time       date  \\\n",
       "8         966      1258  cancel_order 2022-08-26 00:08:25.486419 2022-08-26   \n",
       "39        993      1296  cancel_order 2022-08-26 00:44:18.150475 2022-08-26   \n",
       "47        995      1298  cancel_order 2022-08-26 00:49:51.514240 2022-08-26   \n",
       "54       1002      1308  cancel_order 2022-08-26 00:58:01.924112 2022-08-26   \n",
       "60       1008      1315  cancel_order 2022-08-26 01:06:11.292953 2022-08-26   \n",
       "...       ...       ...           ...                        ...        ...   \n",
       "4221     1498     54938  cancel_order 2022-09-08 06:46:29.885081 2022-09-08   \n",
       "4255     1658     56612  cancel_order 2022-09-08 13:31:37.085777 2022-09-08   \n",
       "4259     1314     56772  cancel_order 2022-09-08 14:09:53.652063 2022-09-08   \n",
       "4307      988     58492  cancel_order 2022-09-08 20:07:22.918779 2022-09-08   \n",
       "4321     1961     59055  cancel_order 2022-09-08 21:56:29.827929 2022-09-08   \n",
       "\n",
       "      group  \n",
       "8         0  \n",
       "39        0  \n",
       "47        0  \n",
       "54        1  \n",
       "60        0  \n",
       "...     ...  \n",
       "4221      0  \n",
       "4255      0  \n",
       "4259      1  \n",
       "4307      1  \n",
       "4321      1  \n",
       "\n",
       "[214 rows x 6 columns]"
      ]
     },
     "execution_count": 5,
     "metadata": {},
     "output_type": "execute_result"
    }
   ],
   "source": [
    "cancelled_orders = ab_users_data.query(\"action == 'cancel_order'\").sort_values('order_id')\n",
    "cancelled_orders"
   ]
  },
  {
   "cell_type": "code",
   "execution_count": 6,
   "metadata": {},
   "outputs": [
    {
     "name": "stdout",
     "output_type": "stream",
     "text": [
      "Отменённых заказов всего 214 штук\n",
      "Столько же (214 штук) и созданных перед отменой\n"
     ]
    }
   ],
   "source": [
    "print(f\"Отменённых заказов всего {cancelled_orders.shape[0]} штук\")\n",
    "print(f\"Столько же ({cancelled_orders.shape[0]} штук) и созданных перед отменой\")"
   ]
  },
  {
   "cell_type": "code",
   "execution_count": 7,
   "metadata": {
    "scrolled": true
   },
   "outputs": [
    {
     "data": {
      "text/html": [
       "<div>\n",
       "<style scoped>\n",
       "    .dataframe tbody tr th:only-of-type {\n",
       "        vertical-align: middle;\n",
       "    }\n",
       "\n",
       "    .dataframe tbody tr th {\n",
       "        vertical-align: top;\n",
       "    }\n",
       "\n",
       "    .dataframe thead th {\n",
       "        text-align: right;\n",
       "    }\n",
       "</style>\n",
       "<table border=\"1\" class=\"dataframe\">\n",
       "  <thead>\n",
       "    <tr style=\"text-align: right;\">\n",
       "      <th></th>\n",
       "      <th>user_id</th>\n",
       "      <th>order_id</th>\n",
       "      <th>action</th>\n",
       "      <th>time</th>\n",
       "      <th>date</th>\n",
       "      <th>group</th>\n",
       "    </tr>\n",
       "  </thead>\n",
       "  <tbody>\n",
       "    <tr>\n",
       "      <th>0</th>\n",
       "      <td>964</td>\n",
       "      <td>1255</td>\n",
       "      <td>create_order</td>\n",
       "      <td>2022-08-26 00:00:19</td>\n",
       "      <td>2022-08-26</td>\n",
       "      <td>0</td>\n",
       "    </tr>\n",
       "    <tr>\n",
       "      <th>1</th>\n",
       "      <td>965</td>\n",
       "      <td>1256</td>\n",
       "      <td>create_order</td>\n",
       "      <td>2022-08-26 00:02:21</td>\n",
       "      <td>2022-08-26</td>\n",
       "      <td>1</td>\n",
       "    </tr>\n",
       "    <tr>\n",
       "      <th>2</th>\n",
       "      <td>964</td>\n",
       "      <td>1257</td>\n",
       "      <td>create_order</td>\n",
       "      <td>2022-08-26 00:02:27</td>\n",
       "      <td>2022-08-26</td>\n",
       "      <td>0</td>\n",
       "    </tr>\n",
       "    <tr>\n",
       "      <th>3</th>\n",
       "      <td>966</td>\n",
       "      <td>1258</td>\n",
       "      <td>create_order</td>\n",
       "      <td>2022-08-26 00:02:56</td>\n",
       "      <td>2022-08-26</td>\n",
       "      <td>0</td>\n",
       "    </tr>\n",
       "    <tr>\n",
       "      <th>4</th>\n",
       "      <td>967</td>\n",
       "      <td>1259</td>\n",
       "      <td>create_order</td>\n",
       "      <td>2022-08-26 00:03:37</td>\n",
       "      <td>2022-08-26</td>\n",
       "      <td>1</td>\n",
       "    </tr>\n",
       "    <tr>\n",
       "      <th>...</th>\n",
       "      <td>...</td>\n",
       "      <td>...</td>\n",
       "      <td>...</td>\n",
       "      <td>...</td>\n",
       "      <td>...</td>\n",
       "      <td>...</td>\n",
       "    </tr>\n",
       "    <tr>\n",
       "      <th>4332</th>\n",
       "      <td>990</td>\n",
       "      <td>59422</td>\n",
       "      <td>create_order</td>\n",
       "      <td>2022-09-08 23:13:03</td>\n",
       "      <td>2022-09-08</td>\n",
       "      <td>1</td>\n",
       "    </tr>\n",
       "    <tr>\n",
       "      <th>4333</th>\n",
       "      <td>1418</td>\n",
       "      <td>59439</td>\n",
       "      <td>create_order</td>\n",
       "      <td>2022-09-08 23:18:05</td>\n",
       "      <td>2022-09-08</td>\n",
       "      <td>1</td>\n",
       "    </tr>\n",
       "    <tr>\n",
       "      <th>4334</th>\n",
       "      <td>1605</td>\n",
       "      <td>59464</td>\n",
       "      <td>create_order</td>\n",
       "      <td>2022-09-08 23:22:27</td>\n",
       "      <td>2022-09-08</td>\n",
       "      <td>0</td>\n",
       "    </tr>\n",
       "    <tr>\n",
       "      <th>4335</th>\n",
       "      <td>1461</td>\n",
       "      <td>59487</td>\n",
       "      <td>create_order</td>\n",
       "      <td>2022-09-08 23:29:06</td>\n",
       "      <td>2022-09-08</td>\n",
       "      <td>0</td>\n",
       "    </tr>\n",
       "    <tr>\n",
       "      <th>4336</th>\n",
       "      <td>1376</td>\n",
       "      <td>59533</td>\n",
       "      <td>create_order</td>\n",
       "      <td>2022-09-08 23:41:24</td>\n",
       "      <td>2022-09-08</td>\n",
       "      <td>0</td>\n",
       "    </tr>\n",
       "  </tbody>\n",
       "</table>\n",
       "<p>4123 rows × 6 columns</p>\n",
       "</div>"
      ],
      "text/plain": [
       "      user_id  order_id        action                time       date  group\n",
       "0         964      1255  create_order 2022-08-26 00:00:19 2022-08-26      0\n",
       "1         965      1256  create_order 2022-08-26 00:02:21 2022-08-26      1\n",
       "2         964      1257  create_order 2022-08-26 00:02:27 2022-08-26      0\n",
       "3         966      1258  create_order 2022-08-26 00:02:56 2022-08-26      0\n",
       "4         967      1259  create_order 2022-08-26 00:03:37 2022-08-26      1\n",
       "...       ...       ...           ...                 ...        ...    ...\n",
       "4332      990     59422  create_order 2022-09-08 23:13:03 2022-09-08      1\n",
       "4333     1418     59439  create_order 2022-09-08 23:18:05 2022-09-08      1\n",
       "4334     1605     59464  create_order 2022-09-08 23:22:27 2022-09-08      0\n",
       "4335     1461     59487  create_order 2022-09-08 23:29:06 2022-09-08      0\n",
       "4336     1376     59533  create_order 2022-09-08 23:41:24 2022-09-08      0\n",
       "\n",
       "[4123 rows x 6 columns]"
      ]
     },
     "execution_count": 7,
     "metadata": {},
     "output_type": "execute_result"
    }
   ],
   "source": [
    "# Выведем DF ЗАКАЗОВ\n",
    "# Оставим и покупки и отмененные заказы - отавим все заказы\n",
    "df_users_data_allorders = ab_users_data.query(\"action == 'create_order'\").sort_values('order_id')\n",
    "df_users_data_allorders"
   ]
  },
  {
   "cell_type": "code",
   "execution_count": 8,
   "metadata": {},
   "outputs": [
    {
     "name": "stdout",
     "output_type": "stream",
     "text": [
      "Всего заказов всего 4123 штук\n"
     ]
    }
   ],
   "source": [
    "print(f\"Всего заказов всего {df_users_data_allorders.shape[0]} штук\")"
   ]
  },
  {
   "cell_type": "code",
   "execution_count": 9,
   "metadata": {
    "scrolled": true
   },
   "outputs": [
    {
     "data": {
      "text/html": [
       "<div>\n",
       "<style scoped>\n",
       "    .dataframe tbody tr th:only-of-type {\n",
       "        vertical-align: middle;\n",
       "    }\n",
       "\n",
       "    .dataframe tbody tr th {\n",
       "        vertical-align: top;\n",
       "    }\n",
       "\n",
       "    .dataframe thead th {\n",
       "        text-align: right;\n",
       "    }\n",
       "</style>\n",
       "<table border=\"1\" class=\"dataframe\">\n",
       "  <thead>\n",
       "    <tr style=\"text-align: right;\">\n",
       "      <th></th>\n",
       "      <th>user_id</th>\n",
       "      <th>order_id</th>\n",
       "      <th>action</th>\n",
       "      <th>time</th>\n",
       "      <th>date</th>\n",
       "      <th>group</th>\n",
       "    </tr>\n",
       "  </thead>\n",
       "  <tbody>\n",
       "    <tr>\n",
       "      <th>0</th>\n",
       "      <td>964</td>\n",
       "      <td>1255</td>\n",
       "      <td>create_order</td>\n",
       "      <td>2022-08-26 00:00:19</td>\n",
       "      <td>2022-08-26</td>\n",
       "      <td>0</td>\n",
       "    </tr>\n",
       "    <tr>\n",
       "      <th>1</th>\n",
       "      <td>965</td>\n",
       "      <td>1256</td>\n",
       "      <td>create_order</td>\n",
       "      <td>2022-08-26 00:02:21</td>\n",
       "      <td>2022-08-26</td>\n",
       "      <td>1</td>\n",
       "    </tr>\n",
       "    <tr>\n",
       "      <th>2</th>\n",
       "      <td>964</td>\n",
       "      <td>1257</td>\n",
       "      <td>create_order</td>\n",
       "      <td>2022-08-26 00:02:27</td>\n",
       "      <td>2022-08-26</td>\n",
       "      <td>0</td>\n",
       "    </tr>\n",
       "    <tr>\n",
       "      <th>4</th>\n",
       "      <td>967</td>\n",
       "      <td>1259</td>\n",
       "      <td>create_order</td>\n",
       "      <td>2022-08-26 00:03:37</td>\n",
       "      <td>2022-08-26</td>\n",
       "      <td>1</td>\n",
       "    </tr>\n",
       "    <tr>\n",
       "      <th>5</th>\n",
       "      <td>968</td>\n",
       "      <td>1261</td>\n",
       "      <td>create_order</td>\n",
       "      <td>2022-08-26 00:05:35</td>\n",
       "      <td>2022-08-26</td>\n",
       "      <td>0</td>\n",
       "    </tr>\n",
       "    <tr>\n",
       "      <th>...</th>\n",
       "      <td>...</td>\n",
       "      <td>...</td>\n",
       "      <td>...</td>\n",
       "      <td>...</td>\n",
       "      <td>...</td>\n",
       "      <td>...</td>\n",
       "    </tr>\n",
       "    <tr>\n",
       "      <th>4332</th>\n",
       "      <td>990</td>\n",
       "      <td>59422</td>\n",
       "      <td>create_order</td>\n",
       "      <td>2022-09-08 23:13:03</td>\n",
       "      <td>2022-09-08</td>\n",
       "      <td>1</td>\n",
       "    </tr>\n",
       "    <tr>\n",
       "      <th>4333</th>\n",
       "      <td>1418</td>\n",
       "      <td>59439</td>\n",
       "      <td>create_order</td>\n",
       "      <td>2022-09-08 23:18:05</td>\n",
       "      <td>2022-09-08</td>\n",
       "      <td>1</td>\n",
       "    </tr>\n",
       "    <tr>\n",
       "      <th>4334</th>\n",
       "      <td>1605</td>\n",
       "      <td>59464</td>\n",
       "      <td>create_order</td>\n",
       "      <td>2022-09-08 23:22:27</td>\n",
       "      <td>2022-09-08</td>\n",
       "      <td>0</td>\n",
       "    </tr>\n",
       "    <tr>\n",
       "      <th>4335</th>\n",
       "      <td>1461</td>\n",
       "      <td>59487</td>\n",
       "      <td>create_order</td>\n",
       "      <td>2022-09-08 23:29:06</td>\n",
       "      <td>2022-09-08</td>\n",
       "      <td>0</td>\n",
       "    </tr>\n",
       "    <tr>\n",
       "      <th>4336</th>\n",
       "      <td>1376</td>\n",
       "      <td>59533</td>\n",
       "      <td>create_order</td>\n",
       "      <td>2022-09-08 23:41:24</td>\n",
       "      <td>2022-09-08</td>\n",
       "      <td>0</td>\n",
       "    </tr>\n",
       "  </tbody>\n",
       "</table>\n",
       "<p>3909 rows × 6 columns</p>\n",
       "</div>"
      ],
      "text/plain": [
       "      user_id  order_id        action                time       date  group\n",
       "0         964      1255  create_order 2022-08-26 00:00:19 2022-08-26      0\n",
       "1         965      1256  create_order 2022-08-26 00:02:21 2022-08-26      1\n",
       "2         964      1257  create_order 2022-08-26 00:02:27 2022-08-26      0\n",
       "4         967      1259  create_order 2022-08-26 00:03:37 2022-08-26      1\n",
       "5         968      1261  create_order 2022-08-26 00:05:35 2022-08-26      0\n",
       "...       ...       ...           ...                 ...        ...    ...\n",
       "4332      990     59422  create_order 2022-09-08 23:13:03 2022-09-08      1\n",
       "4333     1418     59439  create_order 2022-09-08 23:18:05 2022-09-08      1\n",
       "4334     1605     59464  create_order 2022-09-08 23:22:27 2022-09-08      0\n",
       "4335     1461     59487  create_order 2022-09-08 23:29:06 2022-09-08      0\n",
       "4336     1376     59533  create_order 2022-09-08 23:41:24 2022-09-08      0\n",
       "\n",
       "[3909 rows x 6 columns]"
      ]
     },
     "execution_count": 9,
     "metadata": {},
     "output_type": "execute_result"
    }
   ],
   "source": [
    "# Выведем DF ПОКУПОК\n",
    "# Удалим из общего DF все отмененные заказы и номера созданных заказов, которые совпадают с отмененными\n",
    "df_users_data_purchases = ab_users_data.drop_duplicates(subset='order_id', keep=False)\n",
    "df_users_data_purchases"
   ]
  },
  {
   "cell_type": "code",
   "execution_count": 10,
   "metadata": {},
   "outputs": [
    {
     "name": "stdout",
     "output_type": "stream",
     "text": [
      "Всего покупок всего 3909 штук\n"
     ]
    }
   ],
   "source": [
    "print(f\"Всего покупок всего {df_users_data_purchases.shape[0]} штук\")"
   ]
  },
  {
   "cell_type": "code",
   "execution_count": null,
   "metadata": {},
   "outputs": [],
   "source": [
    "\n",
    "\n",
    "\n"
   ]
  },
  {
   "cell_type": "markdown",
   "metadata": {},
   "source": [
    "#### РАЗБИВКА DF НА 2 ГРУППЫ\n",
    "<ol>\n",
    "    <li>1 группа (контрольная) - старая версия, без рекомендаций товаров</li>\n",
    "    <li>2 группа (тестовая) - новая версия, с рекомендацями товаров</li>\n",
    "</ol>"
   ]
  },
  {
   "cell_type": "code",
   "execution_count": 13,
   "metadata": {},
   "outputs": [],
   "source": [
    "# Cмерджим первые 2 таблицы\n",
    "df_usersdata_and_orders = ab_users_data.merge(ab_orders, on='order_id', how=\"left\")\n",
    "df_usersdata_and_orders['count_product_ids'] =  df_usersdata_and_orders.product_ids.str.strip('{}').str.split(',').str.len()               \n",
    "\n",
    "#  0 группа (контрольная)\n",
    "df_usersdata_and_orders_control = df_usersdata_and_orders.query(\"group == 0\")\n",
    "\n",
    "#  1 группа (тестовая)\n",
    "df_usersdata_and_orders_test = df_usersdata_and_orders.query(\"group == 1\")"
   ]
  },
  {
   "cell_type": "markdown",
   "metadata": {},
   "source": [
    "<h4>Какие метрики отвечают за качество сервиса?</h4><br>\n",
    "<blockquote>AB-тест должен ответить на вопрос: \n",
    "    <blockquote><b>\"Лучше ли работает внедрённая система рекомендаций товаров?\"</b></blockquote>\n",
    "<br>Метрики <i>улучшения качества сервиса:</i>\n",
    "<ol> \n",
    "  <li>Количество заказов, совершённых уникальным пользователем</li>     \n",
    "  <li>Количество покупок, совершённых уникальным пользователем</li>   \n",
    "  <li>Количество продуктов в покупке</li>   \n",
    "</ol>    \n",
    "    </blockquote>"
   ]
  },
  {
   "cell_type": "code",
   "execution_count": null,
   "metadata": {
    "scrolled": true
   },
   "outputs": [],
   "source": [
    "\n"
   ]
  },
  {
   "cell_type": "markdown",
   "metadata": {},
   "source": [
    "<H1>1 МЕТРИКА:<BR><BR>\n",
    "   <I>КОЛИЧЕСТВО ЗАКАЗОВ, СОВЕРШЁННЫХ УНИКАЛЬНЫМ ПОЛЬЗОВАТЕЛЕМ</H1>"
   ]
  },
  {
   "cell_type": "code",
   "execution_count": 14,
   "metadata": {},
   "outputs": [
    {
     "name": "stdout",
     "output_type": "stream",
     "text": [
      "Размер тестовой группы: 502\n",
      "Размер контрольной группы: 515\n"
     ]
    }
   ],
   "source": [
    "# Выделим распределения\n",
    "df_orders = df_users_data_allorders.groupby([\"user_id\", \"group\" ], as_index=False)\\\n",
    "                                                    .agg({\"order_id\":\"count\"})\\\n",
    "                                                    .rename(columns={\"order_id\":\"order_counts\"})\\\n",
    "                                                    .sort_values([\"user_id\", \"group\"], ascending=True)\n",
    "# Выделим группы\n",
    "df_orders_test = df_orders[df_orders.group == 1]\n",
    "df_orders_control = df_orders[df_orders.group == 0]\n",
    "\n",
    "# Размер выборок\n",
    "print(f'Размер тестовой группы: {df_orders_test.shape[0]}')\n",
    "print(f'Размер контрольной группы: {df_orders_control.shape[0]}')"
   ]
  },
  {
   "cell_type": "code",
   "execution_count": 15,
   "metadata": {},
   "outputs": [
    {
     "data": {
      "text/html": [
       "<div>\n",
       "<style scoped>\n",
       "    .dataframe tbody tr th:only-of-type {\n",
       "        vertical-align: middle;\n",
       "    }\n",
       "\n",
       "    .dataframe tbody tr th {\n",
       "        vertical-align: top;\n",
       "    }\n",
       "\n",
       "    .dataframe thead th {\n",
       "        text-align: right;\n",
       "    }\n",
       "</style>\n",
       "<table border=\"1\" class=\"dataframe\">\n",
       "  <thead>\n",
       "    <tr style=\"text-align: right;\">\n",
       "      <th></th>\n",
       "      <th>user_id</th>\n",
       "      <th>group</th>\n",
       "      <th>order_counts</th>\n",
       "    </tr>\n",
       "  </thead>\n",
       "  <tbody>\n",
       "    <tr>\n",
       "      <th>0</th>\n",
       "      <td>964</td>\n",
       "      <td>0</td>\n",
       "      <td>2</td>\n",
       "    </tr>\n",
       "    <tr>\n",
       "      <th>1</th>\n",
       "      <td>965</td>\n",
       "      <td>1</td>\n",
       "      <td>9</td>\n",
       "    </tr>\n",
       "    <tr>\n",
       "      <th>2</th>\n",
       "      <td>966</td>\n",
       "      <td>0</td>\n",
       "      <td>1</td>\n",
       "    </tr>\n",
       "    <tr>\n",
       "      <th>3</th>\n",
       "      <td>967</td>\n",
       "      <td>1</td>\n",
       "      <td>5</td>\n",
       "    </tr>\n",
       "    <tr>\n",
       "      <th>4</th>\n",
       "      <td>968</td>\n",
       "      <td>0</td>\n",
       "      <td>3</td>\n",
       "    </tr>\n",
       "    <tr>\n",
       "      <th>...</th>\n",
       "      <td>...</td>\n",
       "      <td>...</td>\n",
       "      <td>...</td>\n",
       "    </tr>\n",
       "    <tr>\n",
       "      <th>1012</th>\n",
       "      <td>1976</td>\n",
       "      <td>1</td>\n",
       "      <td>5</td>\n",
       "    </tr>\n",
       "    <tr>\n",
       "      <th>1013</th>\n",
       "      <td>1977</td>\n",
       "      <td>1</td>\n",
       "      <td>4</td>\n",
       "    </tr>\n",
       "    <tr>\n",
       "      <th>1014</th>\n",
       "      <td>1978</td>\n",
       "      <td>1</td>\n",
       "      <td>7</td>\n",
       "    </tr>\n",
       "    <tr>\n",
       "      <th>1015</th>\n",
       "      <td>1979</td>\n",
       "      <td>1</td>\n",
       "      <td>6</td>\n",
       "    </tr>\n",
       "    <tr>\n",
       "      <th>1016</th>\n",
       "      <td>1980</td>\n",
       "      <td>1</td>\n",
       "      <td>7</td>\n",
       "    </tr>\n",
       "  </tbody>\n",
       "</table>\n",
       "<p>1017 rows × 3 columns</p>\n",
       "</div>"
      ],
      "text/plain": [
       "      user_id  group  order_counts\n",
       "0         964      0             2\n",
       "1         965      1             9\n",
       "2         966      0             1\n",
       "3         967      1             5\n",
       "4         968      0             3\n",
       "...       ...    ...           ...\n",
       "1012     1976      1             5\n",
       "1013     1977      1             4\n",
       "1014     1978      1             7\n",
       "1015     1979      1             6\n",
       "1016     1980      1             7\n",
       "\n",
       "[1017 rows x 3 columns]"
      ]
     },
     "execution_count": 15,
     "metadata": {},
     "output_type": "execute_result"
    }
   ],
   "source": [
    "df_orders"
   ]
  },
  {
   "cell_type": "code",
   "execution_count": null,
   "metadata": {},
   "outputs": [],
   "source": [
    "\n"
   ]
  },
  {
   "cell_type": "markdown",
   "metadata": {},
   "source": [
    "<h2>Проверка распределений на НОРМАЛЬНОСТЬ</h2><br>\n",
    "<b>Используем normaltest, тк размер выборок > 30</b>"
   ]
  },
  {
   "cell_type": "code",
   "execution_count": 16,
   "metadata": {},
   "outputs": [
    {
     "data": {
      "text/html": [
       "<div>\n",
       "<style scoped>\n",
       "    .dataframe tbody tr th:only-of-type {\n",
       "        vertical-align: middle;\n",
       "    }\n",
       "\n",
       "    .dataframe tbody tr th {\n",
       "        vertical-align: top;\n",
       "    }\n",
       "\n",
       "    .dataframe thead th {\n",
       "        text-align: right;\n",
       "    }\n",
       "</style>\n",
       "<table border=\"1\" class=\"dataframe\">\n",
       "  <thead>\n",
       "    <tr style=\"text-align: right;\">\n",
       "      <th></th>\n",
       "      <th>W</th>\n",
       "      <th>pval</th>\n",
       "      <th>normal</th>\n",
       "    </tr>\n",
       "  </thead>\n",
       "  <tbody>\n",
       "    <tr>\n",
       "      <th>0</th>\n",
       "      <td>168.681745</td>\n",
       "      <td>2.350847e-37</td>\n",
       "      <td>False</td>\n",
       "    </tr>\n",
       "    <tr>\n",
       "      <th>1</th>\n",
       "      <td>21.897130</td>\n",
       "      <td>1.758323e-05</td>\n",
       "      <td>False</td>\n",
       "    </tr>\n",
       "  </tbody>\n",
       "</table>\n",
       "</div>"
      ],
      "text/plain": [
       "            W          pval  normal\n",
       "0  168.681745  2.350847e-37   False\n",
       "1   21.897130  1.758323e-05   False"
      ]
     },
     "execution_count": 16,
     "metadata": {},
     "output_type": "execute_result"
    }
   ],
   "source": [
    "pg.normality(data=df_orders, dv=\"order_counts\", group='group', method='normaltest')"
   ]
  },
  {
   "cell_type": "markdown",
   "metadata": {},
   "source": [
    "Тест показал, что распределения ненормальны! Посмотрим на их визуальзацию."
   ]
  },
  {
   "cell_type": "code",
   "execution_count": 17,
   "metadata": {},
   "outputs": [
    {
     "data": {
      "text/plain": [
       "(array([  0.,  20.,  40.,  60.,  80., 100., 120., 140., 160.]),\n",
       " <a list of 9 Text major ticklabel objects>)"
      ]
     },
     "execution_count": 17,
     "metadata": {},
     "output_type": "execute_result"
    },
    {
     "data": {
      "image/png": "[encoded data removed]",
      "text/plain": [
       "<Figure size 1440x720 with 1 Axes>"
      ]
     },
     "metadata": {
      "needs_background": "light"
     },
     "output_type": "display_data"
    }
   ],
   "source": [
    "# Зададим размер и стиль графика\n",
    "plt.figure(figsize=(20, 10))\n",
    "sns.set(style='whitegrid', palette=None)\n",
    "\n",
    "# Графики\n",
    "sns.histplot(data=df_orders_test.order_counts, color='orange', kde=True)\n",
    "sns.histplot(data=df_orders_control.order_counts, color='blue',  kde=True)\n",
    "\n",
    "# Сделаем подписи к графику\n",
    "plt.title('Число заказов, сделанных уникальными пользователями\\n', fontsize=30)\n",
    "plt.xlabel('Число заказов', fontsize=20, rotation=0, labelpad=20)\n",
    "plt.ylabel('Поль-\\nзователи', fontsize=20, rotation=0, labelpad=70)\n",
    "\n",
    "# Увеличим масштаб подписей осей\n",
    "plt.xticks(fontsize=20)\n",
    "plt.yticks(fontsize=20)"
   ]
  },
  {
   "cell_type": "code",
   "execution_count": 18,
   "metadata": {},
   "outputs": [
    {
     "data": {
      "text/plain": [
       "(array([ 0.,  2.,  4.,  6.,  8., 10., 12., 14.]),\n",
       " <a list of 8 Text major ticklabel objects>)"
      ]
     },
     "execution_count": 18,
     "metadata": {},
     "output_type": "execute_result"
    },
    {
     "data": {
      "image/png": "[encoded data removed]",
      "text/plain": [
       "<Figure size 1440x720 with 1 Axes>"
      ]
     },
     "metadata": {},
     "output_type": "display_data"
    }
   ],
   "source": [
    "# Зададим размер и стиль графика\n",
    "plt.figure(figsize=(20, 10))\n",
    "sns.set(style='whitegrid', palette=None)\n",
    "\n",
    "# Графики\n",
    "sns.boxplot(data=df_orders,y='order_counts',x='group')\n",
    "\n",
    "# Сделаем подписи к графику\n",
    "plt.title('Число заказов, сделанных уникальными пользователями\\n', fontsize=30)\n",
    "plt.xlabel('Группа', fontsize=20, rotation=0, labelpad=20)\n",
    "plt.ylabel('Число\\nзаказов', fontsize=20, rotation=0, labelpad=70)\n",
    "\n",
    "# Увеличим масштаб подписей осей\n",
    "groups = [\"Контрольная\",\"Тестовая\"]\n",
    "plt.xticks(range(2), groups, fontsize=20)\n",
    "plt.yticks(fontsize=20)"
   ]
  },
  {
   "cell_type": "code",
   "execution_count": null,
   "metadata": {},
   "outputs": [],
   "source": [
    "\n"
   ]
  },
  {
   "cell_type": "markdown",
   "metadata": {},
   "source": [
    "<h2>Проверка распределений на ГОМОГЕННОСТЬ ДИСПЕРСИЙ</h2><br>\n",
    "<b>\n",
    "<ul>\n",
    "<li>Нулевая гипотеза - дисперсии равны</li>\n",
    "<li>Альтернативная гипотеза - дисперсии НЕ равны</li>\n",
    "\n",
    "\n",
    "</b>"
   ]
  },
  {
   "cell_type": "code",
   "execution_count": 19,
   "metadata": {},
   "outputs": [
    {
     "data": {
      "text/html": [
       "<div>\n",
       "<style scoped>\n",
       "    .dataframe tbody tr th:only-of-type {\n",
       "        vertical-align: middle;\n",
       "    }\n",
       "\n",
       "    .dataframe tbody tr th {\n",
       "        vertical-align: top;\n",
       "    }\n",
       "\n",
       "    .dataframe thead th {\n",
       "        text-align: right;\n",
       "    }\n",
       "</style>\n",
       "<table border=\"1\" class=\"dataframe\">\n",
       "  <thead>\n",
       "    <tr style=\"text-align: right;\">\n",
       "      <th></th>\n",
       "      <th>W</th>\n",
       "      <th>pval</th>\n",
       "      <th>equal_var</th>\n",
       "    </tr>\n",
       "  </thead>\n",
       "  <tbody>\n",
       "    <tr>\n",
       "      <th>levene</th>\n",
       "      <td>16.16773</td>\n",
       "      <td>0.000062</td>\n",
       "      <td>False</td>\n",
       "    </tr>\n",
       "  </tbody>\n",
       "</table>\n",
       "</div>"
      ],
      "text/plain": [
       "               W      pval  equal_var\n",
       "levene  16.16773  0.000062      False"
      ]
     },
     "execution_count": 19,
     "metadata": {},
     "output_type": "execute_result"
    }
   ],
   "source": [
    "# Проверка через критерий Левена - pingouin\n",
    "pg.homoscedasticity(data=df_orders, dv=\"order_counts\", group='group')"
   ]
  },
  {
   "cell_type": "markdown",
   "metadata": {},
   "source": [
    "Тест показал, что p-value < 0.05 - отклоняем нулевую гипотезу,<br>\n",
    "Дисперсии распределений НЕ ГОМОГЕННЫ."
   ]
  },
  {
   "cell_type": "code",
   "execution_count": null,
   "metadata": {},
   "outputs": [],
   "source": [
    "\n"
   ]
  },
  {
   "cell_type": "markdown",
   "metadata": {},
   "source": [
    "<h2>Используем метод BOOTSTRAP</h2><br>\n",
    "Так как ни одно из условай для применения Т-теста не выполнено.<br>\n",
    "<blockquote><ul> \n",
    "<li>H0 - cредние значения равны</li>\n",
    "<li>H1 - cредние значения не равны</li>\n",
    "</ul>  </blockquote>\n",
    "<b>"
   ]
  },
  {
   "cell_type": "code",
   "execution_count": 20,
   "metadata": {},
   "outputs": [
    {
     "name": "stdout",
     "output_type": "stream",
     "text": [
      "Cреднее значение тестовой группы = 5.00796812749004\n",
      "Cреднее значение контрольной группы = 3.124271844660194\n"
     ]
    }
   ],
   "source": [
    "print(f'Cреднее значение тестовой группы = {np.mean(df_orders_test.order_counts)}')\n",
    "print(f'Cреднее значение контрольной группы = {np.mean(df_orders_control.order_counts)}')"
   ]
  },
  {
   "cell_type": "code",
   "execution_count": 21,
   "metadata": {},
   "outputs": [
    {
     "data": {
      "text/plain": [
       "BootstrapResult(confidence_interval=ConfidenceInterval(low=4.818725099601593, high=5.203187250996016), standard_error=0.0985956755661805)"
      ]
     },
     "execution_count": 21,
     "metadata": {},
     "output_type": "execute_result"
    }
   ],
   "source": [
    "# Cравним средние\n",
    "bs_orders_test = bs((df_orders_test.order_counts, ), np.mean)\n",
    "bs_orders_test"
   ]
  },
  {
   "cell_type": "code",
   "execution_count": 22,
   "metadata": {},
   "outputs": [
    {
     "data": {
      "text/plain": [
       "BootstrapResult(confidence_interval=ConfidenceInterval(low=2.962725892977501, high=3.297087378640777), standard_error=0.08470906645105646)"
      ]
     },
     "execution_count": 22,
     "metadata": {},
     "output_type": "execute_result"
    }
   ],
   "source": [
    "bs_orders_control = bs((df_orders_control.order_counts, ), np.mean)\n",
    "bs_orders_control"
   ]
  },
  {
   "cell_type": "markdown",
   "metadata": {},
   "source": [
    "\n",
    "Исходя из наложения доверительных интервалов средних значений, видно что им явно далеко до пересечения,<br>\n",
    "отклоняем нулевую гипотезу, а изменения признаём статзначимыми в положительную сторону.\n",
    "\n"
   ]
  },
  {
   "cell_type": "code",
   "execution_count": null,
   "metadata": {},
   "outputs": [],
   "source": [
    "\n",
    "\n",
    "\n",
    "\n",
    "\n",
    "\n",
    "\n"
   ]
  },
  {
   "cell_type": "markdown",
   "metadata": {},
   "source": [
    "<H1>2 МЕТРИКА:<BR><BR>\n",
    "   <I>КОЛИЧЕСТВО ПОКУПОК, СОВЕРШЁННЫХ УНИКАЛЬНЫМ ПОЛЬЗОВАТЕЛЕМ</H1>"
   ]
  },
  {
   "cell_type": "code",
   "execution_count": 23,
   "metadata": {
    "scrolled": true
   },
   "outputs": [
    {
     "name": "stdout",
     "output_type": "stream",
     "text": [
      "Размер тестовой группы: 501\n",
      "Размер контрольной группы: 512\n"
     ]
    }
   ],
   "source": [
    "# Выделим распределения\n",
    "df_purchases = df_users_data_purchases.groupby([\"user_id\", \"group\" ], as_index=False)\\\n",
    "                                                    .agg({\"order_id\":\"count\"})\\\n",
    "                                                    .rename(columns={\"order_id\":\"purchase_counts\"})\\\n",
    "                                                    .sort_values([\"user_id\", \"group\"], ascending=True)\n",
    "# Выделим группы\n",
    "df_purchases_test = df_purchases[df_purchases.group == 1]\n",
    "df_purchases_control = df_purchases[df_purchases.group == 0]\n",
    "\n",
    "# Размер выборок\n",
    "print(f'Размер тестовой группы: {df_purchases_test.shape[0]}')\n",
    "print(f'Размер контрольной группы: {df_purchases_control.shape[0]}')"
   ]
  },
  {
   "cell_type": "code",
   "execution_count": null,
   "metadata": {},
   "outputs": [],
   "source": [
    "\n"
   ]
  },
  {
   "cell_type": "markdown",
   "metadata": {},
   "source": [
    "<h2>Проверка распределений на НОРМАЛЬНОСТЬ</h2><br>\n",
    "<b>Используем normaltest, тк размер выборок > 30</b>"
   ]
  },
  {
   "cell_type": "code",
   "execution_count": 24,
   "metadata": {},
   "outputs": [
    {
     "data": {
      "text/html": [
       "<div>\n",
       "<style scoped>\n",
       "    .dataframe tbody tr th:only-of-type {\n",
       "        vertical-align: middle;\n",
       "    }\n",
       "\n",
       "    .dataframe tbody tr th {\n",
       "        vertical-align: top;\n",
       "    }\n",
       "\n",
       "    .dataframe thead th {\n",
       "        text-align: right;\n",
       "    }\n",
       "</style>\n",
       "<table border=\"1\" class=\"dataframe\">\n",
       "  <thead>\n",
       "    <tr style=\"text-align: right;\">\n",
       "      <th></th>\n",
       "      <th>W</th>\n",
       "      <th>pval</th>\n",
       "      <th>normal</th>\n",
       "    </tr>\n",
       "  </thead>\n",
       "  <tbody>\n",
       "    <tr>\n",
       "      <th>0</th>\n",
       "      <td>178.266627</td>\n",
       "      <td>1.949368e-39</td>\n",
       "      <td>False</td>\n",
       "    </tr>\n",
       "    <tr>\n",
       "      <th>1</th>\n",
       "      <td>17.210719</td>\n",
       "      <td>1.831217e-04</td>\n",
       "      <td>False</td>\n",
       "    </tr>\n",
       "  </tbody>\n",
       "</table>\n",
       "</div>"
      ],
      "text/plain": [
       "            W          pval  normal\n",
       "0  178.266627  1.949368e-39   False\n",
       "1   17.210719  1.831217e-04   False"
      ]
     },
     "execution_count": 24,
     "metadata": {},
     "output_type": "execute_result"
    }
   ],
   "source": [
    "pg.normality(data=df_purchases, dv=\"purchase_counts\", group='group', method='normaltest')"
   ]
  },
  {
   "cell_type": "markdown",
   "metadata": {},
   "source": [
    "Тест показал, что распределения ненормальны! Посмотрим на их визуальзацию."
   ]
  },
  {
   "cell_type": "code",
   "execution_count": 25,
   "metadata": {},
   "outputs": [
    {
     "data": {
      "text/plain": [
       "(array([  0.,  20.,  40.,  60.,  80., 100., 120., 140., 160.]),\n",
       " <a list of 9 Text major ticklabel objects>)"
      ]
     },
     "execution_count": 25,
     "metadata": {},
     "output_type": "execute_result"
    },
    {
     "data": {
      "image/png": "[encoded data removed]",
      "text/plain": [
       "<Figure size 1440x720 with 1 Axes>"
      ]
     },
     "metadata": {},
     "output_type": "display_data"
    }
   ],
   "source": [
    "# Зададим размер и стиль графика\n",
    "plt.figure(figsize=(20, 10))\n",
    "sns.set(style='whitegrid', palette=None)\n",
    "\n",
    "# Графики\n",
    "sns.histplot(data=df_purchases_test.purchase_counts, color='orange', kde=True)\n",
    "sns.histplot(data=df_purchases_control.purchase_counts, color='blue',  kde=True)\n",
    "\n",
    "# Сделаем подписи к графику\n",
    "plt.title('Число покупок, сделанных уникальными пользователями\\n', fontsize=30)\n",
    "plt.xlabel('Число покупок', fontsize=20, rotation=0, labelpad=20)\n",
    "plt.ylabel('Поль-\\nзователи', fontsize=20, rotation=0, labelpad=70)\n",
    "\n",
    "# Увеличим масштаб подписей осей\n",
    "plt.xticks(fontsize=20)\n",
    "plt.yticks(fontsize=20)"
   ]
  },
  {
   "cell_type": "code",
   "execution_count": 26,
   "metadata": {},
   "outputs": [
    {
     "data": {
      "text/plain": [
       "(array([ 0.,  2.,  4.,  6.,  8., 10., 12., 14.]),\n",
       " <a list of 8 Text major ticklabel objects>)"
      ]
     },
     "execution_count": 26,
     "metadata": {},
     "output_type": "execute_result"
    },
    {
     "data": {
      "image/png": "[encoded data removed]",
      "text/plain": [
       "<Figure size 1440x720 with 1 Axes>"
      ]
     },
     "metadata": {},
     "output_type": "display_data"
    }
   ],
   "source": [
    "# Зададим размер и стиль графика\n",
    "plt.figure(figsize=(20, 10))\n",
    "sns.set(style='whitegrid', palette=None)\n",
    "\n",
    "# Графики\n",
    "sns.boxplot(data=df_purchases,y='purchase_counts',x='group')\n",
    "\n",
    "# Сделаем подписи к графику\n",
    "plt.title('Число заказов, сделанных уникальными пользователями\\n', fontsize=30)\n",
    "plt.xlabel('Группа', fontsize=20, rotation=0, labelpad=20)\n",
    "plt.ylabel('Число\\nпокупок', fontsize=20, rotation=0, labelpad=70)\n",
    "\n",
    "# Увеличим масштаб подписей осей\n",
    "groups = [\"Контрольная\",\"Тестовая\"]\n",
    "plt.xticks(range(2), groups, fontsize=20)\n",
    "plt.yticks(fontsize=20)"
   ]
  },
  {
   "cell_type": "code",
   "execution_count": null,
   "metadata": {},
   "outputs": [],
   "source": [
    "\n"
   ]
  },
  {
   "cell_type": "markdown",
   "metadata": {},
   "source": [
    "<h2>Проверка распределений на ГОМОГЕННОСТЬ ДИСПЕРСИЙ</h2><br>\n",
    "<b>\n",
    "<ul>\n",
    "<li>Нулевая гипотеза - дисперсии равны</li>\n",
    "<li>Альтернативная гипотеза - дисперсии НЕ равны</li>\n",
    "\n",
    "\n",
    "</b>"
   ]
  },
  {
   "cell_type": "code",
   "execution_count": 27,
   "metadata": {},
   "outputs": [
    {
     "data": {
      "text/html": [
       "<div>\n",
       "<style scoped>\n",
       "    .dataframe tbody tr th:only-of-type {\n",
       "        vertical-align: middle;\n",
       "    }\n",
       "\n",
       "    .dataframe tbody tr th {\n",
       "        vertical-align: top;\n",
       "    }\n",
       "\n",
       "    .dataframe thead th {\n",
       "        text-align: right;\n",
       "    }\n",
       "</style>\n",
       "<table border=\"1\" class=\"dataframe\">\n",
       "  <thead>\n",
       "    <tr style=\"text-align: right;\">\n",
       "      <th></th>\n",
       "      <th>W</th>\n",
       "      <th>pval</th>\n",
       "      <th>equal_var</th>\n",
       "    </tr>\n",
       "  </thead>\n",
       "  <tbody>\n",
       "    <tr>\n",
       "      <th>levene</th>\n",
       "      <td>17.195942</td>\n",
       "      <td>0.000037</td>\n",
       "      <td>False</td>\n",
       "    </tr>\n",
       "  </tbody>\n",
       "</table>\n",
       "</div>"
      ],
      "text/plain": [
       "                W      pval  equal_var\n",
       "levene  17.195942  0.000037      False"
      ]
     },
     "execution_count": 27,
     "metadata": {},
     "output_type": "execute_result"
    }
   ],
   "source": [
    "# Проверка через критерий Левена - pingouin\n",
    "pg.homoscedasticity(data=df_purchases, dv=\"purchase_counts\", group='group')"
   ]
  },
  {
   "cell_type": "markdown",
   "metadata": {},
   "source": [
    "Тест показал, что p-value < 0.05 - отклоняем нулевую гипотезу,<br>\n",
    "Дисперсии распределений НЕ ГОМОГЕННЫ."
   ]
  },
  {
   "cell_type": "code",
   "execution_count": null,
   "metadata": {},
   "outputs": [],
   "source": [
    "\n"
   ]
  },
  {
   "cell_type": "markdown",
   "metadata": {},
   "source": [
    "<h2>Используем метод BOOTSTRAP</h2><br>\n",
    "Так как ни одно из условай для применения Т-теста не выполнено.<br>\n",
    "<blockquote><ul> \n",
    "<li>H0 - cредние значения равны</li>\n",
    "<li>H1 - cредние значения не равны</li>\n",
    "</ul>  </blockquote>\n",
    "<b>"
   ]
  },
  {
   "cell_type": "code",
   "execution_count": 28,
   "metadata": {},
   "outputs": [
    {
     "name": "stdout",
     "output_type": "stream",
     "text": [
      "Cреднее значение тестовой группы = 4.754491017964072\n",
      "Cреднее значение контрольной группы = 2.982421875\n"
     ]
    }
   ],
   "source": [
    "print(f'Cреднее значение тестовой группы = {np.mean(df_purchases_test.purchase_counts)}')\n",
    "print(f'Cреднее значение контрольной группы = {np.mean(df_purchases_control.purchase_counts)}')"
   ]
  },
  {
   "cell_type": "code",
   "execution_count": 29,
   "metadata": {},
   "outputs": [
    {
     "data": {
      "text/plain": [
       "BootstrapResult(confidence_interval=ConfidenceInterval(low=4.570858283433134, high=4.942115768463074), standard_error=0.09524072363120509)"
      ]
     },
     "execution_count": 29,
     "metadata": {},
     "output_type": "execute_result"
    }
   ],
   "source": [
    "# Cравним средние\n",
    "bs_purchases_test = bs((df_purchases_test.purchase_counts, ), np.mean)\n",
    "bs_purchases_test"
   ]
  },
  {
   "cell_type": "code",
   "execution_count": 30,
   "metadata": {},
   "outputs": [
    {
     "data": {
      "text/plain": [
       "BootstrapResult(confidence_interval=ConfidenceInterval(low=2.82421875, high=3.150390625), standard_error=0.08300508386215719)"
      ]
     },
     "execution_count": 30,
     "metadata": {},
     "output_type": "execute_result"
    }
   ],
   "source": [
    "bs_purchases_control = bs((df_purchases_control.purchase_counts, ), np.mean)\n",
    "bs_purchases_control"
   ]
  },
  {
   "cell_type": "markdown",
   "metadata": {},
   "source": [
    "\n",
    "Исходя из наложения доверительных интервалов средних значений, видно что им явно далеко до пересечения,<br>\n",
    "отклоняем нулевую гипотезу, а изменения признаём статзначимыми в положительную сторону.\n",
    "\n"
   ]
  },
  {
   "cell_type": "code",
   "execution_count": null,
   "metadata": {},
   "outputs": [],
   "source": [
    "\n",
    "\n",
    "\n",
    "\n",
    "\n",
    "\n",
    "\n"
   ]
  },
  {
   "cell_type": "markdown",
   "metadata": {},
   "source": [
    "<H1>3 МЕТРИКА:<BR><BR>\n",
    "   <I>КОЛИЧЕСТВО ПРОДУКТОВ В ПОКУПКЕ</H1>"
   ]
  },
  {
   "cell_type": "code",
   "execution_count": 31,
   "metadata": {},
   "outputs": [
    {
     "data": {
      "text/html": [
       "<div>\n",
       "<style scoped>\n",
       "    .dataframe tbody tr th:only-of-type {\n",
       "        vertical-align: middle;\n",
       "    }\n",
       "\n",
       "    .dataframe tbody tr th {\n",
       "        vertical-align: top;\n",
       "    }\n",
       "\n",
       "    .dataframe thead th {\n",
       "        text-align: right;\n",
       "    }\n",
       "</style>\n",
       "<table border=\"1\" class=\"dataframe\">\n",
       "  <thead>\n",
       "    <tr style=\"text-align: right;\">\n",
       "      <th></th>\n",
       "      <th>user_id</th>\n",
       "      <th>order_id</th>\n",
       "      <th>action</th>\n",
       "      <th>time</th>\n",
       "      <th>date</th>\n",
       "      <th>group</th>\n",
       "      <th>creation_time</th>\n",
       "      <th>product_ids</th>\n",
       "    </tr>\n",
       "  </thead>\n",
       "  <tbody>\n",
       "    <tr>\n",
       "      <th>0</th>\n",
       "      <td>964</td>\n",
       "      <td>1255</td>\n",
       "      <td>create_order</td>\n",
       "      <td>2022-08-26 00:00:19</td>\n",
       "      <td>2022-08-26</td>\n",
       "      <td>0</td>\n",
       "      <td>2022-08-26 00:00:19</td>\n",
       "      <td>{75, 22, 53, 84}</td>\n",
       "    </tr>\n",
       "    <tr>\n",
       "      <th>1</th>\n",
       "      <td>965</td>\n",
       "      <td>1256</td>\n",
       "      <td>create_order</td>\n",
       "      <td>2022-08-26 00:02:21</td>\n",
       "      <td>2022-08-26</td>\n",
       "      <td>1</td>\n",
       "      <td>2022-08-26 00:02:21</td>\n",
       "      <td>{56, 76, 39}</td>\n",
       "    </tr>\n",
       "    <tr>\n",
       "      <th>2</th>\n",
       "      <td>964</td>\n",
       "      <td>1257</td>\n",
       "      <td>create_order</td>\n",
       "      <td>2022-08-26 00:02:27</td>\n",
       "      <td>2022-08-26</td>\n",
       "      <td>0</td>\n",
       "      <td>2022-08-26 00:02:27</td>\n",
       "      <td>{76, 34, 41, 38}</td>\n",
       "    </tr>\n",
       "    <tr>\n",
       "      <th>3</th>\n",
       "      <td>967</td>\n",
       "      <td>1259</td>\n",
       "      <td>create_order</td>\n",
       "      <td>2022-08-26 00:03:37</td>\n",
       "      <td>2022-08-26</td>\n",
       "      <td>1</td>\n",
       "      <td>2022-08-26 00:03:37</td>\n",
       "      <td>{20, 45, 67, 26}</td>\n",
       "    </tr>\n",
       "    <tr>\n",
       "      <th>4</th>\n",
       "      <td>968</td>\n",
       "      <td>1261</td>\n",
       "      <td>create_order</td>\n",
       "      <td>2022-08-26 00:05:35</td>\n",
       "      <td>2022-08-26</td>\n",
       "      <td>0</td>\n",
       "      <td>2022-08-26 00:05:35</td>\n",
       "      <td>{30, 35, 69, 6}</td>\n",
       "    </tr>\n",
       "    <tr>\n",
       "      <th>...</th>\n",
       "      <td>...</td>\n",
       "      <td>...</td>\n",
       "      <td>...</td>\n",
       "      <td>...</td>\n",
       "      <td>...</td>\n",
       "      <td>...</td>\n",
       "      <td>...</td>\n",
       "      <td>...</td>\n",
       "    </tr>\n",
       "    <tr>\n",
       "      <th>3904</th>\n",
       "      <td>990</td>\n",
       "      <td>59422</td>\n",
       "      <td>create_order</td>\n",
       "      <td>2022-09-08 23:13:03</td>\n",
       "      <td>2022-09-08</td>\n",
       "      <td>1</td>\n",
       "      <td>2022-09-08 23:13:03</td>\n",
       "      <td>{84, 8, 24}</td>\n",
       "    </tr>\n",
       "    <tr>\n",
       "      <th>3905</th>\n",
       "      <td>1418</td>\n",
       "      <td>59439</td>\n",
       "      <td>create_order</td>\n",
       "      <td>2022-09-08 23:18:05</td>\n",
       "      <td>2022-09-08</td>\n",
       "      <td>1</td>\n",
       "      <td>2022-09-08 23:18:05</td>\n",
       "      <td>{9, 25, 75, 30, 6}</td>\n",
       "    </tr>\n",
       "    <tr>\n",
       "      <th>3906</th>\n",
       "      <td>1605</td>\n",
       "      <td>59464</td>\n",
       "      <td>create_order</td>\n",
       "      <td>2022-09-08 23:22:27</td>\n",
       "      <td>2022-09-08</td>\n",
       "      <td>0</td>\n",
       "      <td>2022-09-08 23:22:27</td>\n",
       "      <td>{60, 41, 46}</td>\n",
       "    </tr>\n",
       "    <tr>\n",
       "      <th>3907</th>\n",
       "      <td>1461</td>\n",
       "      <td>59487</td>\n",
       "      <td>create_order</td>\n",
       "      <td>2022-09-08 23:29:06</td>\n",
       "      <td>2022-09-08</td>\n",
       "      <td>0</td>\n",
       "      <td>2022-09-08 23:29:06</td>\n",
       "      <td>{9, 62, 77}</td>\n",
       "    </tr>\n",
       "    <tr>\n",
       "      <th>3908</th>\n",
       "      <td>1376</td>\n",
       "      <td>59533</td>\n",
       "      <td>create_order</td>\n",
       "      <td>2022-09-08 23:41:24</td>\n",
       "      <td>2022-09-08</td>\n",
       "      <td>0</td>\n",
       "      <td>2022-09-08 23:41:24</td>\n",
       "      <td>{17, 85}</td>\n",
       "    </tr>\n",
       "  </tbody>\n",
       "</table>\n",
       "<p>3909 rows × 8 columns</p>\n",
       "</div>"
      ],
      "text/plain": [
       "      user_id  order_id        action                time       date  group  \\\n",
       "0         964      1255  create_order 2022-08-26 00:00:19 2022-08-26      0   \n",
       "1         965      1256  create_order 2022-08-26 00:02:21 2022-08-26      1   \n",
       "2         964      1257  create_order 2022-08-26 00:02:27 2022-08-26      0   \n",
       "3         967      1259  create_order 2022-08-26 00:03:37 2022-08-26      1   \n",
       "4         968      1261  create_order 2022-08-26 00:05:35 2022-08-26      0   \n",
       "...       ...       ...           ...                 ...        ...    ...   \n",
       "3904      990     59422  create_order 2022-09-08 23:13:03 2022-09-08      1   \n",
       "3905     1418     59439  create_order 2022-09-08 23:18:05 2022-09-08      1   \n",
       "3906     1605     59464  create_order 2022-09-08 23:22:27 2022-09-08      0   \n",
       "3907     1461     59487  create_order 2022-09-08 23:29:06 2022-09-08      0   \n",
       "3908     1376     59533  create_order 2022-09-08 23:41:24 2022-09-08      0   \n",
       "\n",
       "           creation_time         product_ids  \n",
       "0    2022-08-26 00:00:19    {75, 22, 53, 84}  \n",
       "1    2022-08-26 00:02:21        {56, 76, 39}  \n",
       "2    2022-08-26 00:02:27    {76, 34, 41, 38}  \n",
       "3    2022-08-26 00:03:37    {20, 45, 67, 26}  \n",
       "4    2022-08-26 00:05:35     {30, 35, 69, 6}  \n",
       "...                  ...                 ...  \n",
       "3904 2022-09-08 23:13:03         {84, 8, 24}  \n",
       "3905 2022-09-08 23:18:05  {9, 25, 75, 30, 6}  \n",
       "3906 2022-09-08 23:22:27        {60, 41, 46}  \n",
       "3907 2022-09-08 23:29:06         {9, 62, 77}  \n",
       "3908 2022-09-08 23:41:24            {17, 85}  \n",
       "\n",
       "[3909 rows x 8 columns]"
      ]
     },
     "execution_count": 31,
     "metadata": {},
     "output_type": "execute_result"
    }
   ],
   "source": [
    "# Cмерджим первые 2 таблицы\n",
    "df_usersdata_and_orders = df_users_data_purchases.merge(ab_orders, on='order_id', how=\"left\")\n",
    "df_usersdata_and_orders"
   ]
  },
  {
   "cell_type": "code",
   "execution_count": 32,
   "metadata": {},
   "outputs": [
    {
     "data": {
      "text/html": [
       "<div>\n",
       "<style scoped>\n",
       "    .dataframe tbody tr th:only-of-type {\n",
       "        vertical-align: middle;\n",
       "    }\n",
       "\n",
       "    .dataframe tbody tr th {\n",
       "        vertical-align: top;\n",
       "    }\n",
       "\n",
       "    .dataframe thead th {\n",
       "        text-align: right;\n",
       "    }\n",
       "</style>\n",
       "<table border=\"1\" class=\"dataframe\">\n",
       "  <thead>\n",
       "    <tr style=\"text-align: right;\">\n",
       "      <th></th>\n",
       "      <th>user_id</th>\n",
       "      <th>order_id</th>\n",
       "      <th>action</th>\n",
       "      <th>time</th>\n",
       "      <th>date</th>\n",
       "      <th>group</th>\n",
       "      <th>creation_time</th>\n",
       "      <th>product_ids</th>\n",
       "      <th>count_product_ids</th>\n",
       "    </tr>\n",
       "  </thead>\n",
       "  <tbody>\n",
       "    <tr>\n",
       "      <th>0</th>\n",
       "      <td>964</td>\n",
       "      <td>1255</td>\n",
       "      <td>create_order</td>\n",
       "      <td>2022-08-26 00:00:19</td>\n",
       "      <td>2022-08-26</td>\n",
       "      <td>0</td>\n",
       "      <td>2022-08-26 00:00:19</td>\n",
       "      <td>{75, 22, 53, 84}</td>\n",
       "      <td>4</td>\n",
       "    </tr>\n",
       "    <tr>\n",
       "      <th>1</th>\n",
       "      <td>965</td>\n",
       "      <td>1256</td>\n",
       "      <td>create_order</td>\n",
       "      <td>2022-08-26 00:02:21</td>\n",
       "      <td>2022-08-26</td>\n",
       "      <td>1</td>\n",
       "      <td>2022-08-26 00:02:21</td>\n",
       "      <td>{56, 76, 39}</td>\n",
       "      <td>3</td>\n",
       "    </tr>\n",
       "    <tr>\n",
       "      <th>2</th>\n",
       "      <td>964</td>\n",
       "      <td>1257</td>\n",
       "      <td>create_order</td>\n",
       "      <td>2022-08-26 00:02:27</td>\n",
       "      <td>2022-08-26</td>\n",
       "      <td>0</td>\n",
       "      <td>2022-08-26 00:02:27</td>\n",
       "      <td>{76, 34, 41, 38}</td>\n",
       "      <td>4</td>\n",
       "    </tr>\n",
       "    <tr>\n",
       "      <th>3</th>\n",
       "      <td>967</td>\n",
       "      <td>1259</td>\n",
       "      <td>create_order</td>\n",
       "      <td>2022-08-26 00:03:37</td>\n",
       "      <td>2022-08-26</td>\n",
       "      <td>1</td>\n",
       "      <td>2022-08-26 00:03:37</td>\n",
       "      <td>{20, 45, 67, 26}</td>\n",
       "      <td>4</td>\n",
       "    </tr>\n",
       "    <tr>\n",
       "      <th>4</th>\n",
       "      <td>968</td>\n",
       "      <td>1261</td>\n",
       "      <td>create_order</td>\n",
       "      <td>2022-08-26 00:05:35</td>\n",
       "      <td>2022-08-26</td>\n",
       "      <td>0</td>\n",
       "      <td>2022-08-26 00:05:35</td>\n",
       "      <td>{30, 35, 69, 6}</td>\n",
       "      <td>4</td>\n",
       "    </tr>\n",
       "    <tr>\n",
       "      <th>...</th>\n",
       "      <td>...</td>\n",
       "      <td>...</td>\n",
       "      <td>...</td>\n",
       "      <td>...</td>\n",
       "      <td>...</td>\n",
       "      <td>...</td>\n",
       "      <td>...</td>\n",
       "      <td>...</td>\n",
       "      <td>...</td>\n",
       "    </tr>\n",
       "    <tr>\n",
       "      <th>3904</th>\n",
       "      <td>990</td>\n",
       "      <td>59422</td>\n",
       "      <td>create_order</td>\n",
       "      <td>2022-09-08 23:13:03</td>\n",
       "      <td>2022-09-08</td>\n",
       "      <td>1</td>\n",
       "      <td>2022-09-08 23:13:03</td>\n",
       "      <td>{84, 8, 24}</td>\n",
       "      <td>3</td>\n",
       "    </tr>\n",
       "    <tr>\n",
       "      <th>3905</th>\n",
       "      <td>1418</td>\n",
       "      <td>59439</td>\n",
       "      <td>create_order</td>\n",
       "      <td>2022-09-08 23:18:05</td>\n",
       "      <td>2022-09-08</td>\n",
       "      <td>1</td>\n",
       "      <td>2022-09-08 23:18:05</td>\n",
       "      <td>{9, 25, 75, 30, 6}</td>\n",
       "      <td>5</td>\n",
       "    </tr>\n",
       "    <tr>\n",
       "      <th>3906</th>\n",
       "      <td>1605</td>\n",
       "      <td>59464</td>\n",
       "      <td>create_order</td>\n",
       "      <td>2022-09-08 23:22:27</td>\n",
       "      <td>2022-09-08</td>\n",
       "      <td>0</td>\n",
       "      <td>2022-09-08 23:22:27</td>\n",
       "      <td>{60, 41, 46}</td>\n",
       "      <td>3</td>\n",
       "    </tr>\n",
       "    <tr>\n",
       "      <th>3907</th>\n",
       "      <td>1461</td>\n",
       "      <td>59487</td>\n",
       "      <td>create_order</td>\n",
       "      <td>2022-09-08 23:29:06</td>\n",
       "      <td>2022-09-08</td>\n",
       "      <td>0</td>\n",
       "      <td>2022-09-08 23:29:06</td>\n",
       "      <td>{9, 62, 77}</td>\n",
       "      <td>3</td>\n",
       "    </tr>\n",
       "    <tr>\n",
       "      <th>3908</th>\n",
       "      <td>1376</td>\n",
       "      <td>59533</td>\n",
       "      <td>create_order</td>\n",
       "      <td>2022-09-08 23:41:24</td>\n",
       "      <td>2022-09-08</td>\n",
       "      <td>0</td>\n",
       "      <td>2022-09-08 23:41:24</td>\n",
       "      <td>{17, 85}</td>\n",
       "      <td>2</td>\n",
       "    </tr>\n",
       "  </tbody>\n",
       "</table>\n",
       "<p>3909 rows × 9 columns</p>\n",
       "</div>"
      ],
      "text/plain": [
       "      user_id  order_id        action                time       date  group  \\\n",
       "0         964      1255  create_order 2022-08-26 00:00:19 2022-08-26      0   \n",
       "1         965      1256  create_order 2022-08-26 00:02:21 2022-08-26      1   \n",
       "2         964      1257  create_order 2022-08-26 00:02:27 2022-08-26      0   \n",
       "3         967      1259  create_order 2022-08-26 00:03:37 2022-08-26      1   \n",
       "4         968      1261  create_order 2022-08-26 00:05:35 2022-08-26      0   \n",
       "...       ...       ...           ...                 ...        ...    ...   \n",
       "3904      990     59422  create_order 2022-09-08 23:13:03 2022-09-08      1   \n",
       "3905     1418     59439  create_order 2022-09-08 23:18:05 2022-09-08      1   \n",
       "3906     1605     59464  create_order 2022-09-08 23:22:27 2022-09-08      0   \n",
       "3907     1461     59487  create_order 2022-09-08 23:29:06 2022-09-08      0   \n",
       "3908     1376     59533  create_order 2022-09-08 23:41:24 2022-09-08      0   \n",
       "\n",
       "           creation_time         product_ids  count_product_ids  \n",
       "0    2022-08-26 00:00:19    {75, 22, 53, 84}                  4  \n",
       "1    2022-08-26 00:02:21        {56, 76, 39}                  3  \n",
       "2    2022-08-26 00:02:27    {76, 34, 41, 38}                  4  \n",
       "3    2022-08-26 00:03:37    {20, 45, 67, 26}                  4  \n",
       "4    2022-08-26 00:05:35     {30, 35, 69, 6}                  4  \n",
       "...                  ...                 ...                ...  \n",
       "3904 2022-09-08 23:13:03         {84, 8, 24}                  3  \n",
       "3905 2022-09-08 23:18:05  {9, 25, 75, 30, 6}                  5  \n",
       "3906 2022-09-08 23:22:27        {60, 41, 46}                  3  \n",
       "3907 2022-09-08 23:29:06         {9, 62, 77}                  3  \n",
       "3908 2022-09-08 23:41:24            {17, 85}                  2  \n",
       "\n",
       "[3909 rows x 9 columns]"
      ]
     },
     "execution_count": 32,
     "metadata": {},
     "output_type": "execute_result"
    }
   ],
   "source": [
    "# Посчитаем количесво продуктов в покупке\n",
    "df_usersdata_and_orders['count_product_ids'] =  df_usersdata_and_orders.product_ids.str.strip('{}').str.split(',').str.len()   \n",
    "df_usersdata_and_orders"
   ]
  },
  {
   "cell_type": "code",
   "execution_count": 33,
   "metadata": {},
   "outputs": [
    {
     "name": "stdout",
     "output_type": "stream",
     "text": [
      "Число уникальных заказов = 3909\n",
      "Т.е. повторений нет, и дубликатов по номеру заказа нет\n"
     ]
    }
   ],
   "source": [
    "print(f'Число уникальных заказов = {df_usersdata_and_orders.order_id.nunique()}')\n",
    "print(\"Т.е. повторений нет, и дубликатов по номеру заказа нет\")"
   ]
  },
  {
   "cell_type": "code",
   "execution_count": 34,
   "metadata": {},
   "outputs": [
    {
     "data": {
      "text/html": [
       "<div>\n",
       "<style scoped>\n",
       "    .dataframe tbody tr th:only-of-type {\n",
       "        vertical-align: middle;\n",
       "    }\n",
       "\n",
       "    .dataframe tbody tr th {\n",
       "        vertical-align: top;\n",
       "    }\n",
       "\n",
       "    .dataframe thead th {\n",
       "        text-align: right;\n",
       "    }\n",
       "</style>\n",
       "<table border=\"1\" class=\"dataframe\">\n",
       "  <thead>\n",
       "    <tr style=\"text-align: right;\">\n",
       "      <th></th>\n",
       "      <th>order_id</th>\n",
       "      <th>count_product_ids</th>\n",
       "      <th>group</th>\n",
       "    </tr>\n",
       "  </thead>\n",
       "  <tbody>\n",
       "    <tr>\n",
       "      <th>0</th>\n",
       "      <td>1255</td>\n",
       "      <td>4</td>\n",
       "      <td>0</td>\n",
       "    </tr>\n",
       "    <tr>\n",
       "      <th>1</th>\n",
       "      <td>1256</td>\n",
       "      <td>3</td>\n",
       "      <td>1</td>\n",
       "    </tr>\n",
       "    <tr>\n",
       "      <th>2</th>\n",
       "      <td>1257</td>\n",
       "      <td>4</td>\n",
       "      <td>0</td>\n",
       "    </tr>\n",
       "    <tr>\n",
       "      <th>3</th>\n",
       "      <td>1259</td>\n",
       "      <td>4</td>\n",
       "      <td>1</td>\n",
       "    </tr>\n",
       "    <tr>\n",
       "      <th>4</th>\n",
       "      <td>1261</td>\n",
       "      <td>4</td>\n",
       "      <td>0</td>\n",
       "    </tr>\n",
       "    <tr>\n",
       "      <th>...</th>\n",
       "      <td>...</td>\n",
       "      <td>...</td>\n",
       "      <td>...</td>\n",
       "    </tr>\n",
       "    <tr>\n",
       "      <th>3904</th>\n",
       "      <td>59422</td>\n",
       "      <td>3</td>\n",
       "      <td>1</td>\n",
       "    </tr>\n",
       "    <tr>\n",
       "      <th>3905</th>\n",
       "      <td>59439</td>\n",
       "      <td>5</td>\n",
       "      <td>1</td>\n",
       "    </tr>\n",
       "    <tr>\n",
       "      <th>3906</th>\n",
       "      <td>59464</td>\n",
       "      <td>3</td>\n",
       "      <td>0</td>\n",
       "    </tr>\n",
       "    <tr>\n",
       "      <th>3907</th>\n",
       "      <td>59487</td>\n",
       "      <td>3</td>\n",
       "      <td>0</td>\n",
       "    </tr>\n",
       "    <tr>\n",
       "      <th>3908</th>\n",
       "      <td>59533</td>\n",
       "      <td>2</td>\n",
       "      <td>0</td>\n",
       "    </tr>\n",
       "  </tbody>\n",
       "</table>\n",
       "<p>3909 rows × 3 columns</p>\n",
       "</div>"
      ],
      "text/plain": [
       "      order_id  count_product_ids  group\n",
       "0         1255                  4      0\n",
       "1         1256                  3      1\n",
       "2         1257                  4      0\n",
       "3         1259                  4      1\n",
       "4         1261                  4      0\n",
       "...        ...                ...    ...\n",
       "3904     59422                  3      1\n",
       "3905     59439                  5      1\n",
       "3906     59464                  3      0\n",
       "3907     59487                  3      0\n",
       "3908     59533                  2      0\n",
       "\n",
       "[3909 rows x 3 columns]"
      ]
     },
     "execution_count": 34,
     "metadata": {},
     "output_type": "execute_result"
    }
   ],
   "source": [
    "# Отберем нужные столбцы\n",
    "df_product = df_usersdata_and_orders[['order_id', 'count_product_ids', 'group']]\n",
    "df_product = df_product.sort_values([\"order_id\", \"group\"], ascending=True)\n",
    "df_product"
   ]
  },
  {
   "cell_type": "code",
   "execution_count": 35,
   "metadata": {},
   "outputs": [
    {
     "data": {
      "text/html": [
       "<div>\n",
       "<style scoped>\n",
       "    .dataframe tbody tr th:only-of-type {\n",
       "        vertical-align: middle;\n",
       "    }\n",
       "\n",
       "    .dataframe tbody tr th {\n",
       "        vertical-align: top;\n",
       "    }\n",
       "\n",
       "    .dataframe thead th {\n",
       "        text-align: right;\n",
       "    }\n",
       "</style>\n",
       "<table border=\"1\" class=\"dataframe\">\n",
       "  <thead>\n",
       "    <tr style=\"text-align: right;\">\n",
       "      <th></th>\n",
       "      <th>group</th>\n",
       "      <th>order_id</th>\n",
       "    </tr>\n",
       "  </thead>\n",
       "  <tbody>\n",
       "    <tr>\n",
       "      <th>0</th>\n",
       "      <td>0</td>\n",
       "      <td>1</td>\n",
       "    </tr>\n",
       "    <tr>\n",
       "      <th>1</th>\n",
       "      <td>1</td>\n",
       "      <td>1</td>\n",
       "    </tr>\n",
       "    <tr>\n",
       "      <th>2</th>\n",
       "      <td>0</td>\n",
       "      <td>1</td>\n",
       "    </tr>\n",
       "    <tr>\n",
       "      <th>3</th>\n",
       "      <td>1</td>\n",
       "      <td>1</td>\n",
       "    </tr>\n",
       "    <tr>\n",
       "      <th>4</th>\n",
       "      <td>0</td>\n",
       "      <td>1</td>\n",
       "    </tr>\n",
       "    <tr>\n",
       "      <th>...</th>\n",
       "      <td>...</td>\n",
       "      <td>...</td>\n",
       "    </tr>\n",
       "    <tr>\n",
       "      <th>3904</th>\n",
       "      <td>1</td>\n",
       "      <td>1</td>\n",
       "    </tr>\n",
       "    <tr>\n",
       "      <th>3905</th>\n",
       "      <td>1</td>\n",
       "      <td>1</td>\n",
       "    </tr>\n",
       "    <tr>\n",
       "      <th>3906</th>\n",
       "      <td>0</td>\n",
       "      <td>1</td>\n",
       "    </tr>\n",
       "    <tr>\n",
       "      <th>3907</th>\n",
       "      <td>0</td>\n",
       "      <td>1</td>\n",
       "    </tr>\n",
       "    <tr>\n",
       "      <th>3908</th>\n",
       "      <td>0</td>\n",
       "      <td>1</td>\n",
       "    </tr>\n",
       "  </tbody>\n",
       "</table>\n",
       "<p>3909 rows × 2 columns</p>\n",
       "</div>"
      ],
      "text/plain": [
       "      group  order_id\n",
       "0         0         1\n",
       "1         1         1\n",
       "2         0         1\n",
       "3         1         1\n",
       "4         0         1\n",
       "...     ...       ...\n",
       "3904      1         1\n",
       "3905      1         1\n",
       "3906      0         1\n",
       "3907      0         1\n",
       "3908      0         1\n",
       "\n",
       "[3909 rows x 2 columns]"
      ]
     },
     "execution_count": 35,
     "metadata": {},
     "output_type": "execute_result"
    }
   ],
   "source": [
    "df_usersdata_and_orders.groupby([\"order_id\", \"group\" ], as_index=False)\\\n",
    "                                                     .agg({\"order_id\":\"count\"})\\"
   ]
  },
  {
   "cell_type": "code",
   "execution_count": 36,
   "metadata": {
    "scrolled": true
   },
   "outputs": [
    {
     "name": "stdout",
     "output_type": "stream",
     "text": [
      "Размер тестовой группы: 2382\n",
      "Размер контрольной группы: 1527\n"
     ]
    }
   ],
   "source": [
    "# Выделим группы\n",
    "df_product_test = df_product[df_product.group == 1]\n",
    "df_product_control = df_product[df_product.group == 0]\n",
    "\n",
    "# Размер выборок\n",
    "print(f'Размер тестовой группы: {df_product_test.shape[0]}')\n",
    "print(f'Размер контрольной группы: {df_product_control.shape[0]}')"
   ]
  },
  {
   "cell_type": "code",
   "execution_count": null,
   "metadata": {},
   "outputs": [],
   "source": [
    "\n"
   ]
  },
  {
   "cell_type": "markdown",
   "metadata": {},
   "source": [
    "<h2>Проверка распределений на НОРМАЛЬНОСТЬ</h2><br>\n",
    "<b>Используем normaltest, тк размер выборок > 30</b>"
   ]
  },
  {
   "cell_type": "code",
   "execution_count": 37,
   "metadata": {},
   "outputs": [
    {
     "data": {
      "text/html": [
       "<div>\n",
       "<style scoped>\n",
       "    .dataframe tbody tr th:only-of-type {\n",
       "        vertical-align: middle;\n",
       "    }\n",
       "\n",
       "    .dataframe tbody tr th {\n",
       "        vertical-align: top;\n",
       "    }\n",
       "\n",
       "    .dataframe thead th {\n",
       "        text-align: right;\n",
       "    }\n",
       "</style>\n",
       "<table border=\"1\" class=\"dataframe\">\n",
       "  <thead>\n",
       "    <tr style=\"text-align: right;\">\n",
       "      <th></th>\n",
       "      <th>W</th>\n",
       "      <th>pval</th>\n",
       "      <th>normal</th>\n",
       "    </tr>\n",
       "  </thead>\n",
       "  <tbody>\n",
       "    <tr>\n",
       "      <th>0</th>\n",
       "      <td>36.287512</td>\n",
       "      <td>1.319067e-08</td>\n",
       "      <td>False</td>\n",
       "    </tr>\n",
       "    <tr>\n",
       "      <th>1</th>\n",
       "      <td>42.201912</td>\n",
       "      <td>6.854430e-10</td>\n",
       "      <td>False</td>\n",
       "    </tr>\n",
       "  </tbody>\n",
       "</table>\n",
       "</div>"
      ],
      "text/plain": [
       "           W          pval  normal\n",
       "0  36.287512  1.319067e-08   False\n",
       "1  42.201912  6.854430e-10   False"
      ]
     },
     "execution_count": 37,
     "metadata": {},
     "output_type": "execute_result"
    }
   ],
   "source": [
    "pg.normality(data=df_product, dv=\"count_product_ids\", group='group', method='normaltest')"
   ]
  },
  {
   "cell_type": "markdown",
   "metadata": {},
   "source": [
    "Тест показал, что распределения ненормальны! Посмотрим на их визуальзацию."
   ]
  },
  {
   "cell_type": "code",
   "execution_count": 38,
   "metadata": {},
   "outputs": [
    {
     "data": {
      "text/plain": [
       "(array([  0., 100., 200., 300., 400., 500., 600., 700., 800.]),\n",
       " <a list of 9 Text major ticklabel objects>)"
      ]
     },
     "execution_count": 38,
     "metadata": {},
     "output_type": "execute_result"
    },
    {
     "data": {
      "image/png": "[encoded data removed]",
      "text/plain": [
       "<Figure size 1440x720 with 1 Axes>"
      ]
     },
     "metadata": {},
     "output_type": "display_data"
    }
   ],
   "source": [
    "# Зададим размер и стиль графика\n",
    "plt.figure(figsize=(20, 10))\n",
    "sns.set(style='whitegrid', palette=None)\n",
    "\n",
    "# Графики\n",
    "sns.histplot(data=df_product_test.count_product_ids, color='orange', kde=True)\n",
    "sns.histplot(data=df_product_control.count_product_ids, color='blue',  kde=True)\n",
    "\n",
    "# Сделаем подписи к графику\n",
    "plt.title('Число продукток в покупоке\\n', fontsize=30)\n",
    "plt.xlabel('Число продуктов в покупке', fontsize=20, rotation=0, labelpad=20)\n",
    "plt.ylabel('Число поль-\\nзователей', fontsize=20, rotation=0, labelpad=70)\n",
    "\n",
    "# Увеличим масштаб подписей осей\n",
    "plt.xticks(fontsize=20)\n",
    "plt.yticks(fontsize=20)"
   ]
  },
  {
   "cell_type": "code",
   "execution_count": 39,
   "metadata": {},
   "outputs": [
    {
     "data": {
      "text/plain": [
       "(array([0., 1., 2., 3., 4., 5., 6., 7., 8., 9.]),\n",
       " <a list of 10 Text major ticklabel objects>)"
      ]
     },
     "execution_count": 39,
     "metadata": {},
     "output_type": "execute_result"
    },
    {
     "data": {
      "image/png": "[encoded data removed]",
      "text/plain": [
       "<Figure size 1440x720 with 1 Axes>"
      ]
     },
     "metadata": {},
     "output_type": "display_data"
    }
   ],
   "source": [
    "# Зададим размер и стиль графика\n",
    "plt.figure(figsize=(20, 10))\n",
    "sns.set(style='whitegrid', palette=None)\n",
    "\n",
    "# Графики\n",
    "sns.boxplot(data=df_product,y='count_product_ids',x='group')\n",
    "\n",
    "# Сделаем подписи к графику\n",
    "plt.title('Число продуктов в покупке\\n', fontsize=30)\n",
    "plt.xlabel('Группа', fontsize=20, rotation=0, labelpad=20)\n",
    "plt.ylabel('Число\\nпродуктов\\nв покупке', fontsize=20, rotation=0, labelpad=70)\n",
    "\n",
    "# Увеличим масштаб подписей осей\n",
    "groups = [\"Контрольная\",\"Тестовая\"]\n",
    "plt.xticks(range(2), groups, fontsize=20)\n",
    "plt.yticks(fontsize=20)"
   ]
  },
  {
   "cell_type": "code",
   "execution_count": null,
   "metadata": {},
   "outputs": [],
   "source": [
    "\n"
   ]
  },
  {
   "cell_type": "markdown",
   "metadata": {},
   "source": [
    "<h2>Проверка распределений на ГОМОГЕННОСТЬ ДИСПЕРСИЙ</h2><br>\n",
    "<b>\n",
    "<ul>\n",
    "<li>Нулевая гипотеза - дисперсии равны</li>\n",
    "<li>Альтернативная гипотеза - дисперсии НЕ равны</li>\n",
    "\n",
    "\n",
    "</b>"
   ]
  },
  {
   "cell_type": "code",
   "execution_count": 40,
   "metadata": {},
   "outputs": [
    {
     "data": {
      "text/html": [
       "<div>\n",
       "<style scoped>\n",
       "    .dataframe tbody tr th:only-of-type {\n",
       "        vertical-align: middle;\n",
       "    }\n",
       "\n",
       "    .dataframe tbody tr th {\n",
       "        vertical-align: top;\n",
       "    }\n",
       "\n",
       "    .dataframe thead th {\n",
       "        text-align: right;\n",
       "    }\n",
       "</style>\n",
       "<table border=\"1\" class=\"dataframe\">\n",
       "  <thead>\n",
       "    <tr style=\"text-align: right;\">\n",
       "      <th></th>\n",
       "      <th>W</th>\n",
       "      <th>pval</th>\n",
       "      <th>equal_var</th>\n",
       "    </tr>\n",
       "  </thead>\n",
       "  <tbody>\n",
       "    <tr>\n",
       "      <th>levene</th>\n",
       "      <td>1.787948</td>\n",
       "      <td>0.181254</td>\n",
       "      <td>True</td>\n",
       "    </tr>\n",
       "  </tbody>\n",
       "</table>\n",
       "</div>"
      ],
      "text/plain": [
       "               W      pval  equal_var\n",
       "levene  1.787948  0.181254       True"
      ]
     },
     "execution_count": 40,
     "metadata": {},
     "output_type": "execute_result"
    }
   ],
   "source": [
    "# Проверка через критерий Левена - pingouin\n",
    "pg.homoscedasticity(data=df_product, dv=\"count_product_ids\", group='group')"
   ]
  },
  {
   "cell_type": "markdown",
   "metadata": {},
   "source": [
    "Тест показал, что p-value > 0.05 - принимаем нулевую гипотезу,<br>\n",
    "Дисперсии распределений ГОМОГЕННЫ."
   ]
  },
  {
   "cell_type": "markdown",
   "metadata": {},
   "source": [
    "\n"
   ]
  },
  {
   "cell_type": "code",
   "execution_count": null,
   "metadata": {},
   "outputs": [],
   "source": []
  },
  {
   "cell_type": "markdown",
   "metadata": {},
   "source": [
    "<h2>Используем параметрический метод Манна-Уитни</h2><br>\n",
    "Так как проверка на нормальность не пройдена.<br>\n",
    "<blockquote><ul> \n",
    "<li>H0 - вероятность взять из тестовой выборки более высокое значение, чем из контрольной</li>\n",
    "<li>H1 - вероятность взять из тестовой выборки менее высокое значение, чем из контрольной</li>\n",
    "</ul>  </blockquote>\n",
    "<b>"
   ]
  },
  {
   "cell_type": "code",
   "execution_count": 41,
   "metadata": {},
   "outputs": [
    {
     "data": {
      "text/plain": [
       "MannwhitneyuResult(statistic=1831186.0, pvalue=0.7083277937581569)"
      ]
     },
     "execution_count": 41,
     "metadata": {},
     "output_type": "execute_result"
    }
   ],
   "source": [
    "ss.mannwhitneyu(df_product_test.count_product_ids, df_product_control.count_product_ids)"
   ]
  },
  {
   "cell_type": "markdown",
   "metadata": {},
   "source": [
    "Принимаем нулевую гипотезу (тк p-value > 0.05), вероятность взять из тестовой выборки более высокое значение, чем из контрольной.<br>\n",
    "Обе выборки эквивалентны (по ранжиру)."
   ]
  },
  {
   "cell_type": "code",
   "execution_count": null,
   "metadata": {},
   "outputs": [],
   "source": [
    "\n"
   ]
  },
  {
   "cell_type": "markdown",
   "metadata": {},
   "source": [
    "<h2>Используем метод BOOTSTRAP</h2><br>\n",
    "Для проверки вывода критерия Манна-Уитни.<br>\n",
    "<blockquote><ul> \n",
    "<li>H0 - cредние значения равны</li>\n",
    "<li>H1 - cредние значения не равны</li>\n",
    "</ul>  </blockquote>\n",
    "<b>"
   ]
  },
  {
   "cell_type": "code",
   "execution_count": 42,
   "metadata": {},
   "outputs": [
    {
     "name": "stdout",
     "output_type": "stream",
     "text": [
      "Cреднее значение тестовой группы = 3.350125944584383\n",
      "Cреднее значение контрольной группы = 3.341846758349705\n"
     ]
    }
   ],
   "source": [
    "print(f'Cреднее значение тестовой группы = {np.mean(df_product_test.count_product_ids)}')\n",
    "print(f'Cреднее значение контрольной группы = {np.mean(df_product_control.count_product_ids)}')"
   ]
  },
  {
   "cell_type": "code",
   "execution_count": 43,
   "metadata": {},
   "outputs": [
    {
     "data": {
      "text/plain": [
       "BootstrapResult(confidence_interval=ConfidenceInterval(low=3.2984886649874054, high=3.403022670025189), standard_error=0.026535615340217297)"
      ]
     },
     "execution_count": 43,
     "metadata": {},
     "output_type": "execute_result"
    }
   ],
   "source": [
    "# Cравним средние\n",
    "bs_product_test = bs((df_product_test.count_product_ids, ), np.mean)\n",
    "bs_product_test"
   ]
  },
  {
   "cell_type": "code",
   "execution_count": 44,
   "metadata": {},
   "outputs": [
    {
     "data": {
      "text/plain": [
       "BootstrapResult(confidence_interval=ConfidenceInterval(low=3.275703994760969, high=3.4034053700065487), standard_error=0.03288998724202524)"
      ]
     },
     "execution_count": 44,
     "metadata": {},
     "output_type": "execute_result"
    }
   ],
   "source": [
    "bs_product_control = bs((df_product_control.count_product_ids, ), np.mean)\n",
    "bs_product_control"
   ]
  },
  {
   "cell_type": "markdown",
   "metadata": {},
   "source": [
    "\n",
    "Исходя из наложения доверительных интервалов средних значений, видно что они пересекаются,<br>\n",
    "принимаем нулевую гипотезу, а изменения признаём статнезначимыми.\n",
    "\n"
   ]
  },
  {
   "cell_type": "code",
   "execution_count": null,
   "metadata": {},
   "outputs": [],
   "source": [
    "\n",
    "\n",
    "\n",
    "\n",
    "\n",
    "\n",
    "\n"
   ]
  },
  {
   "cell_type": "markdown",
   "metadata": {},
   "source": [
    "<H1>4 МЕТРИКА:<BR><BR>\n",
    "   <I>CУММАРНАЯ СТОИМОСТЬ ПРОДУКТОВ В ПОКУПКЕ</H1>"
   ]
  },
  {
   "cell_type": "code",
   "execution_count": 45,
   "metadata": {},
   "outputs": [
    {
     "data": {
      "text/html": [
       "<div>\n",
       "<style scoped>\n",
       "    .dataframe tbody tr th:only-of-type {\n",
       "        vertical-align: middle;\n",
       "    }\n",
       "\n",
       "    .dataframe tbody tr th {\n",
       "        vertical-align: top;\n",
       "    }\n",
       "\n",
       "    .dataframe thead th {\n",
       "        text-align: right;\n",
       "    }\n",
       "</style>\n",
       "<table border=\"1\" class=\"dataframe\">\n",
       "  <thead>\n",
       "    <tr style=\"text-align: right;\">\n",
       "      <th></th>\n",
       "      <th>user_id</th>\n",
       "      <th>order_id</th>\n",
       "      <th>action</th>\n",
       "      <th>time</th>\n",
       "      <th>date</th>\n",
       "      <th>group</th>\n",
       "      <th>creation_time</th>\n",
       "      <th>product_ids</th>\n",
       "    </tr>\n",
       "  </thead>\n",
       "  <tbody>\n",
       "    <tr>\n",
       "      <th>0</th>\n",
       "      <td>964</td>\n",
       "      <td>1255</td>\n",
       "      <td>create_order</td>\n",
       "      <td>2022-08-26 00:00:19</td>\n",
       "      <td>2022-08-26</td>\n",
       "      <td>0</td>\n",
       "      <td>2022-08-26 00:00:19</td>\n",
       "      <td>75</td>\n",
       "    </tr>\n",
       "    <tr>\n",
       "      <th>0</th>\n",
       "      <td>964</td>\n",
       "      <td>1255</td>\n",
       "      <td>create_order</td>\n",
       "      <td>2022-08-26 00:00:19</td>\n",
       "      <td>2022-08-26</td>\n",
       "      <td>0</td>\n",
       "      <td>2022-08-26 00:00:19</td>\n",
       "      <td>22</td>\n",
       "    </tr>\n",
       "    <tr>\n",
       "      <th>0</th>\n",
       "      <td>964</td>\n",
       "      <td>1255</td>\n",
       "      <td>create_order</td>\n",
       "      <td>2022-08-26 00:00:19</td>\n",
       "      <td>2022-08-26</td>\n",
       "      <td>0</td>\n",
       "      <td>2022-08-26 00:00:19</td>\n",
       "      <td>53</td>\n",
       "    </tr>\n",
       "    <tr>\n",
       "      <th>0</th>\n",
       "      <td>964</td>\n",
       "      <td>1255</td>\n",
       "      <td>create_order</td>\n",
       "      <td>2022-08-26 00:00:19</td>\n",
       "      <td>2022-08-26</td>\n",
       "      <td>0</td>\n",
       "      <td>2022-08-26 00:00:19</td>\n",
       "      <td>84</td>\n",
       "    </tr>\n",
       "    <tr>\n",
       "      <th>1</th>\n",
       "      <td>965</td>\n",
       "      <td>1256</td>\n",
       "      <td>create_order</td>\n",
       "      <td>2022-08-26 00:02:21</td>\n",
       "      <td>2022-08-26</td>\n",
       "      <td>1</td>\n",
       "      <td>2022-08-26 00:02:21</td>\n",
       "      <td>56</td>\n",
       "    </tr>\n",
       "    <tr>\n",
       "      <th>...</th>\n",
       "      <td>...</td>\n",
       "      <td>...</td>\n",
       "      <td>...</td>\n",
       "      <td>...</td>\n",
       "      <td>...</td>\n",
       "      <td>...</td>\n",
       "      <td>...</td>\n",
       "      <td>...</td>\n",
       "    </tr>\n",
       "    <tr>\n",
       "      <th>3907</th>\n",
       "      <td>1461</td>\n",
       "      <td>59487</td>\n",
       "      <td>create_order</td>\n",
       "      <td>2022-09-08 23:29:06</td>\n",
       "      <td>2022-09-08</td>\n",
       "      <td>0</td>\n",
       "      <td>2022-09-08 23:29:06</td>\n",
       "      <td>9</td>\n",
       "    </tr>\n",
       "    <tr>\n",
       "      <th>3907</th>\n",
       "      <td>1461</td>\n",
       "      <td>59487</td>\n",
       "      <td>create_order</td>\n",
       "      <td>2022-09-08 23:29:06</td>\n",
       "      <td>2022-09-08</td>\n",
       "      <td>0</td>\n",
       "      <td>2022-09-08 23:29:06</td>\n",
       "      <td>62</td>\n",
       "    </tr>\n",
       "    <tr>\n",
       "      <th>3907</th>\n",
       "      <td>1461</td>\n",
       "      <td>59487</td>\n",
       "      <td>create_order</td>\n",
       "      <td>2022-09-08 23:29:06</td>\n",
       "      <td>2022-09-08</td>\n",
       "      <td>0</td>\n",
       "      <td>2022-09-08 23:29:06</td>\n",
       "      <td>77</td>\n",
       "    </tr>\n",
       "    <tr>\n",
       "      <th>3908</th>\n",
       "      <td>1376</td>\n",
       "      <td>59533</td>\n",
       "      <td>create_order</td>\n",
       "      <td>2022-09-08 23:41:24</td>\n",
       "      <td>2022-09-08</td>\n",
       "      <td>0</td>\n",
       "      <td>2022-09-08 23:41:24</td>\n",
       "      <td>17</td>\n",
       "    </tr>\n",
       "    <tr>\n",
       "      <th>3908</th>\n",
       "      <td>1376</td>\n",
       "      <td>59533</td>\n",
       "      <td>create_order</td>\n",
       "      <td>2022-09-08 23:41:24</td>\n",
       "      <td>2022-09-08</td>\n",
       "      <td>0</td>\n",
       "      <td>2022-09-08 23:41:24</td>\n",
       "      <td>85</td>\n",
       "    </tr>\n",
       "  </tbody>\n",
       "</table>\n",
       "<p>13083 rows × 8 columns</p>\n",
       "</div>"
      ],
      "text/plain": [
       "      user_id  order_id        action                time       date  group  \\\n",
       "0         964      1255  create_order 2022-08-26 00:00:19 2022-08-26      0   \n",
       "0         964      1255  create_order 2022-08-26 00:00:19 2022-08-26      0   \n",
       "0         964      1255  create_order 2022-08-26 00:00:19 2022-08-26      0   \n",
       "0         964      1255  create_order 2022-08-26 00:00:19 2022-08-26      0   \n",
       "1         965      1256  create_order 2022-08-26 00:02:21 2022-08-26      1   \n",
       "...       ...       ...           ...                 ...        ...    ...   \n",
       "3907     1461     59487  create_order 2022-09-08 23:29:06 2022-09-08      0   \n",
       "3907     1461     59487  create_order 2022-09-08 23:29:06 2022-09-08      0   \n",
       "3907     1461     59487  create_order 2022-09-08 23:29:06 2022-09-08      0   \n",
       "3908     1376     59533  create_order 2022-09-08 23:41:24 2022-09-08      0   \n",
       "3908     1376     59533  create_order 2022-09-08 23:41:24 2022-09-08      0   \n",
       "\n",
       "           creation_time  product_ids  \n",
       "0    2022-08-26 00:00:19           75  \n",
       "0    2022-08-26 00:00:19           22  \n",
       "0    2022-08-26 00:00:19           53  \n",
       "0    2022-08-26 00:00:19           84  \n",
       "1    2022-08-26 00:02:21           56  \n",
       "...                  ...          ...  \n",
       "3907 2022-09-08 23:29:06            9  \n",
       "3907 2022-09-08 23:29:06           62  \n",
       "3907 2022-09-08 23:29:06           77  \n",
       "3908 2022-09-08 23:41:24           17  \n",
       "3908 2022-09-08 23:41:24           85  \n",
       "\n",
       "[13083 rows x 8 columns]"
      ]
     },
     "execution_count": 45,
     "metadata": {},
     "output_type": "execute_result"
    }
   ],
   "source": [
    "# Cмерджим первые 2 таблицы\n",
    "df_usersdata_and_orders = df_users_data_purchases.merge(ab_orders, on='order_id', how=\"left\")\n",
    "\n",
    "# Создадим список продуктов список\n",
    "df_usersdata_and_orders.product_ids = df_usersdata_and_orders.product_ids.str.strip('{}').str.split(',')\n",
    "\n",
    "# Расщепим список\n",
    "df_usersdata_and_orders = df_usersdata_and_orders.explode(column = \"product_ids\")\n",
    "df_usersdata_and_orders.product_ids = df_usersdata_and_orders.product_ids.astype(\"int\")\n",
    "df_usersdata_and_orders"
   ]
  },
  {
   "cell_type": "code",
   "execution_count": 46,
   "metadata": {},
   "outputs": [],
   "source": [
    "# Словарь продукт-цена для функции\n",
    "dict_products = ab_products[['product_id', 'price']].groupby(\"product_id\").agg({\"price\":\"min\"}).to_dict()['price']"
   ]
  },
  {
   "cell_type": "code",
   "execution_count": 47,
   "metadata": {},
   "outputs": [
    {
     "data": {
      "text/html": [
       "<div>\n",
       "<style scoped>\n",
       "    .dataframe tbody tr th:only-of-type {\n",
       "        vertical-align: middle;\n",
       "    }\n",
       "\n",
       "    .dataframe tbody tr th {\n",
       "        vertical-align: top;\n",
       "    }\n",
       "\n",
       "    .dataframe thead th {\n",
       "        text-align: right;\n",
       "    }\n",
       "</style>\n",
       "<table border=\"1\" class=\"dataframe\">\n",
       "  <thead>\n",
       "    <tr style=\"text-align: right;\">\n",
       "      <th></th>\n",
       "      <th>user_id</th>\n",
       "      <th>order_id</th>\n",
       "      <th>action</th>\n",
       "      <th>time</th>\n",
       "      <th>date</th>\n",
       "      <th>group</th>\n",
       "      <th>creation_time</th>\n",
       "      <th>product_ids</th>\n",
       "      <th>sum_price</th>\n",
       "    </tr>\n",
       "  </thead>\n",
       "  <tbody>\n",
       "    <tr>\n",
       "      <th>0</th>\n",
       "      <td>964</td>\n",
       "      <td>1255</td>\n",
       "      <td>create_order</td>\n",
       "      <td>2022-08-26 00:00:19</td>\n",
       "      <td>2022-08-26</td>\n",
       "      <td>0</td>\n",
       "      <td>2022-08-26 00:00:19</td>\n",
       "      <td>75</td>\n",
       "      <td>120.0</td>\n",
       "    </tr>\n",
       "    <tr>\n",
       "      <th>0</th>\n",
       "      <td>964</td>\n",
       "      <td>1255</td>\n",
       "      <td>create_order</td>\n",
       "      <td>2022-08-26 00:00:19</td>\n",
       "      <td>2022-08-26</td>\n",
       "      <td>0</td>\n",
       "      <td>2022-08-26 00:00:19</td>\n",
       "      <td>22</td>\n",
       "      <td>120.0</td>\n",
       "    </tr>\n",
       "    <tr>\n",
       "      <th>0</th>\n",
       "      <td>964</td>\n",
       "      <td>1255</td>\n",
       "      <td>create_order</td>\n",
       "      <td>2022-08-26 00:00:19</td>\n",
       "      <td>2022-08-26</td>\n",
       "      <td>0</td>\n",
       "      <td>2022-08-26 00:00:19</td>\n",
       "      <td>53</td>\n",
       "      <td>78.3</td>\n",
       "    </tr>\n",
       "    <tr>\n",
       "      <th>0</th>\n",
       "      <td>964</td>\n",
       "      <td>1255</td>\n",
       "      <td>create_order</td>\n",
       "      <td>2022-08-26 00:00:19</td>\n",
       "      <td>2022-08-26</td>\n",
       "      <td>0</td>\n",
       "      <td>2022-08-26 00:00:19</td>\n",
       "      <td>84</td>\n",
       "      <td>90.4</td>\n",
       "    </tr>\n",
       "    <tr>\n",
       "      <th>1</th>\n",
       "      <td>965</td>\n",
       "      <td>1256</td>\n",
       "      <td>create_order</td>\n",
       "      <td>2022-08-26 00:02:21</td>\n",
       "      <td>2022-08-26</td>\n",
       "      <td>1</td>\n",
       "      <td>2022-08-26 00:02:21</td>\n",
       "      <td>56</td>\n",
       "      <td>150.0</td>\n",
       "    </tr>\n",
       "    <tr>\n",
       "      <th>...</th>\n",
       "      <td>...</td>\n",
       "      <td>...</td>\n",
       "      <td>...</td>\n",
       "      <td>...</td>\n",
       "      <td>...</td>\n",
       "      <td>...</td>\n",
       "      <td>...</td>\n",
       "      <td>...</td>\n",
       "      <td>...</td>\n",
       "    </tr>\n",
       "    <tr>\n",
       "      <th>3907</th>\n",
       "      <td>1461</td>\n",
       "      <td>59487</td>\n",
       "      <td>create_order</td>\n",
       "      <td>2022-09-08 23:29:06</td>\n",
       "      <td>2022-09-08</td>\n",
       "      <td>0</td>\n",
       "      <td>2022-09-08 23:29:06</td>\n",
       "      <td>9</td>\n",
       "      <td>83.5</td>\n",
       "    </tr>\n",
       "    <tr>\n",
       "      <th>3907</th>\n",
       "      <td>1461</td>\n",
       "      <td>59487</td>\n",
       "      <td>create_order</td>\n",
       "      <td>2022-09-08 23:29:06</td>\n",
       "      <td>2022-09-08</td>\n",
       "      <td>0</td>\n",
       "      <td>2022-09-08 23:29:06</td>\n",
       "      <td>62</td>\n",
       "      <td>120.0</td>\n",
       "    </tr>\n",
       "    <tr>\n",
       "      <th>3907</th>\n",
       "      <td>1461</td>\n",
       "      <td>59487</td>\n",
       "      <td>create_order</td>\n",
       "      <td>2022-09-08 23:29:06</td>\n",
       "      <td>2022-09-08</td>\n",
       "      <td>0</td>\n",
       "      <td>2022-09-08 23:29:06</td>\n",
       "      <td>77</td>\n",
       "      <td>298.4</td>\n",
       "    </tr>\n",
       "    <tr>\n",
       "      <th>3908</th>\n",
       "      <td>1376</td>\n",
       "      <td>59533</td>\n",
       "      <td>create_order</td>\n",
       "      <td>2022-09-08 23:41:24</td>\n",
       "      <td>2022-09-08</td>\n",
       "      <td>0</td>\n",
       "      <td>2022-09-08 23:41:24</td>\n",
       "      <td>17</td>\n",
       "      <td>190.0</td>\n",
       "    </tr>\n",
       "    <tr>\n",
       "      <th>3908</th>\n",
       "      <td>1376</td>\n",
       "      <td>59533</td>\n",
       "      <td>create_order</td>\n",
       "      <td>2022-09-08 23:41:24</td>\n",
       "      <td>2022-09-08</td>\n",
       "      <td>0</td>\n",
       "      <td>2022-09-08 23:41:24</td>\n",
       "      <td>85</td>\n",
       "      <td>200.3</td>\n",
       "    </tr>\n",
       "  </tbody>\n",
       "</table>\n",
       "<p>13083 rows × 9 columns</p>\n",
       "</div>"
      ],
      "text/plain": [
       "      user_id  order_id        action                time       date  group  \\\n",
       "0         964      1255  create_order 2022-08-26 00:00:19 2022-08-26      0   \n",
       "0         964      1255  create_order 2022-08-26 00:00:19 2022-08-26      0   \n",
       "0         964      1255  create_order 2022-08-26 00:00:19 2022-08-26      0   \n",
       "0         964      1255  create_order 2022-08-26 00:00:19 2022-08-26      0   \n",
       "1         965      1256  create_order 2022-08-26 00:02:21 2022-08-26      1   \n",
       "...       ...       ...           ...                 ...        ...    ...   \n",
       "3907     1461     59487  create_order 2022-09-08 23:29:06 2022-09-08      0   \n",
       "3907     1461     59487  create_order 2022-09-08 23:29:06 2022-09-08      0   \n",
       "3907     1461     59487  create_order 2022-09-08 23:29:06 2022-09-08      0   \n",
       "3908     1376     59533  create_order 2022-09-08 23:41:24 2022-09-08      0   \n",
       "3908     1376     59533  create_order 2022-09-08 23:41:24 2022-09-08      0   \n",
       "\n",
       "           creation_time  product_ids  sum_price  \n",
       "0    2022-08-26 00:00:19           75      120.0  \n",
       "0    2022-08-26 00:00:19           22      120.0  \n",
       "0    2022-08-26 00:00:19           53       78.3  \n",
       "0    2022-08-26 00:00:19           84       90.4  \n",
       "1    2022-08-26 00:02:21           56      150.0  \n",
       "...                  ...          ...        ...  \n",
       "3907 2022-09-08 23:29:06            9       83.5  \n",
       "3907 2022-09-08 23:29:06           62      120.0  \n",
       "3907 2022-09-08 23:29:06           77      298.4  \n",
       "3908 2022-09-08 23:41:24           17      190.0  \n",
       "3908 2022-09-08 23:41:24           85      200.3  \n",
       "\n",
       "[13083 rows x 9 columns]"
      ]
     },
     "execution_count": 47,
     "metadata": {},
     "output_type": "execute_result"
    }
   ],
   "source": [
    "# Функция присвоения продукту цены\n",
    "def pro_price(x, dict_products):\n",
    "    y = 0\n",
    "    for key, value in dict_products.items():\n",
    "        if x == key:\n",
    "            return value\n",
    "\n",
    "df_usersdata_and_orders[\"sum_price\"] = df_usersdata_and_orders.product_ids.apply(lambda x: pro_price(x, dict_products))\n",
    "df_usersdata_and_orders"
   ]
  },
  {
   "cell_type": "code",
   "execution_count": 48,
   "metadata": {},
   "outputs": [
    {
     "data": {
      "text/html": [
       "<div>\n",
       "<style scoped>\n",
       "    .dataframe tbody tr th:only-of-type {\n",
       "        vertical-align: middle;\n",
       "    }\n",
       "\n",
       "    .dataframe tbody tr th {\n",
       "        vertical-align: top;\n",
       "    }\n",
       "\n",
       "    .dataframe thead th {\n",
       "        text-align: right;\n",
       "    }\n",
       "</style>\n",
       "<table border=\"1\" class=\"dataframe\">\n",
       "  <thead>\n",
       "    <tr style=\"text-align: right;\">\n",
       "      <th></th>\n",
       "      <th>order_id</th>\n",
       "      <th>group</th>\n",
       "      <th>sum_price</th>\n",
       "    </tr>\n",
       "  </thead>\n",
       "  <tbody>\n",
       "    <tr>\n",
       "      <th>0</th>\n",
       "      <td>1255</td>\n",
       "      <td>0</td>\n",
       "      <td>408.7</td>\n",
       "    </tr>\n",
       "    <tr>\n",
       "      <th>1</th>\n",
       "      <td>1256</td>\n",
       "      <td>1</td>\n",
       "      <td>250.5</td>\n",
       "    </tr>\n",
       "    <tr>\n",
       "      <th>2</th>\n",
       "      <td>1257</td>\n",
       "      <td>0</td>\n",
       "      <td>310.2</td>\n",
       "    </tr>\n",
       "    <tr>\n",
       "      <th>3</th>\n",
       "      <td>1259</td>\n",
       "      <td>1</td>\n",
       "      <td>228.0</td>\n",
       "    </tr>\n",
       "    <tr>\n",
       "      <th>4</th>\n",
       "      <td>1261</td>\n",
       "      <td>0</td>\n",
       "      <td>430.7</td>\n",
       "    </tr>\n",
       "    <tr>\n",
       "      <th>...</th>\n",
       "      <td>...</td>\n",
       "      <td>...</td>\n",
       "      <td>...</td>\n",
       "    </tr>\n",
       "    <tr>\n",
       "      <th>3904</th>\n",
       "      <td>59422</td>\n",
       "      <td>1</td>\n",
       "      <td>241.2</td>\n",
       "    </tr>\n",
       "    <tr>\n",
       "      <th>3905</th>\n",
       "      <td>59439</td>\n",
       "      <td>1</td>\n",
       "      <td>518.5</td>\n",
       "    </tr>\n",
       "    <tr>\n",
       "      <th>3906</th>\n",
       "      <td>59464</td>\n",
       "      <td>0</td>\n",
       "      <td>185.9</td>\n",
       "    </tr>\n",
       "    <tr>\n",
       "      <th>3907</th>\n",
       "      <td>59487</td>\n",
       "      <td>0</td>\n",
       "      <td>501.9</td>\n",
       "    </tr>\n",
       "    <tr>\n",
       "      <th>3908</th>\n",
       "      <td>59533</td>\n",
       "      <td>0</td>\n",
       "      <td>390.3</td>\n",
       "    </tr>\n",
       "  </tbody>\n",
       "</table>\n",
       "<p>3909 rows × 3 columns</p>\n",
       "</div>"
      ],
      "text/plain": [
       "      order_id  group  sum_price\n",
       "0         1255      0      408.7\n",
       "1         1256      1      250.5\n",
       "2         1257      0      310.2\n",
       "3         1259      1      228.0\n",
       "4         1261      0      430.7\n",
       "...        ...    ...        ...\n",
       "3904     59422      1      241.2\n",
       "3905     59439      1      518.5\n",
       "3906     59464      0      185.9\n",
       "3907     59487      0      501.9\n",
       "3908     59533      0      390.3\n",
       "\n",
       "[3909 rows x 3 columns]"
      ]
     },
     "execution_count": 48,
     "metadata": {},
     "output_type": "execute_result"
    }
   ],
   "source": [
    "df_sumprice = df_usersdata_and_orders.groupby([\"order_id\", \"group\" ], as_index=False)\\\n",
    "                                                                                 .agg({\"sum_price\":\"sum\"})\\\n",
    "                                                                                 .sort_values([\"order_id\", \"group\"], ascending=True)\n",
    "df_sumprice"
   ]
  },
  {
   "cell_type": "code",
   "execution_count": 49,
   "metadata": {
    "scrolled": true
   },
   "outputs": [
    {
     "name": "stdout",
     "output_type": "stream",
     "text": [
      "Размер тестовой группы: 2382\n",
      "Размер контрольной группы: 1527\n"
     ]
    }
   ],
   "source": [
    "# Выделим группы\n",
    "df_sumprice_test = df_sumprice[df_sumprice.group == 1]\n",
    "df_sumprice_control = df_sumprice[df_sumprice.group == 0]\n",
    "\n",
    "# Размер выборок\n",
    "print(f'Размер тестовой группы: {df_sumprice_test.shape[0]}')\n",
    "print(f'Размер контрольной группы: {df_sumprice_control.shape[0]}')"
   ]
  },
  {
   "cell_type": "code",
   "execution_count": null,
   "metadata": {},
   "outputs": [],
   "source": [
    "\n"
   ]
  },
  {
   "cell_type": "markdown",
   "metadata": {},
   "source": [
    "<h2>Проверка распределений на НОРМАЛЬНОСТЬ</h2><br>\n",
    "<b>Используем normaltest, тк размер выборок > 30</b>"
   ]
  },
  {
   "cell_type": "code",
   "execution_count": 50,
   "metadata": {},
   "outputs": [
    {
     "data": {
      "text/html": [
       "<div>\n",
       "<style scoped>\n",
       "    .dataframe tbody tr th:only-of-type {\n",
       "        vertical-align: middle;\n",
       "    }\n",
       "\n",
       "    .dataframe tbody tr th {\n",
       "        vertical-align: top;\n",
       "    }\n",
       "\n",
       "    .dataframe thead th {\n",
       "        text-align: right;\n",
       "    }\n",
       "</style>\n",
       "<table border=\"1\" class=\"dataframe\">\n",
       "  <thead>\n",
       "    <tr style=\"text-align: right;\">\n",
       "      <th></th>\n",
       "      <th>W</th>\n",
       "      <th>pval</th>\n",
       "      <th>normal</th>\n",
       "    </tr>\n",
       "  </thead>\n",
       "  <tbody>\n",
       "    <tr>\n",
       "      <th>0</th>\n",
       "      <td>276.039777</td>\n",
       "      <td>1.144785e-60</td>\n",
       "      <td>False</td>\n",
       "    </tr>\n",
       "    <tr>\n",
       "      <th>1</th>\n",
       "      <td>586.947838</td>\n",
       "      <td>3.514766e-128</td>\n",
       "      <td>False</td>\n",
       "    </tr>\n",
       "  </tbody>\n",
       "</table>\n",
       "</div>"
      ],
      "text/plain": [
       "            W           pval  normal\n",
       "0  276.039777   1.144785e-60   False\n",
       "1  586.947838  3.514766e-128   False"
      ]
     },
     "execution_count": 50,
     "metadata": {},
     "output_type": "execute_result"
    }
   ],
   "source": [
    "pg.normality(data=df_sumprice, dv=\"sum_price\", group='group', method='normaltest')"
   ]
  },
  {
   "cell_type": "markdown",
   "metadata": {},
   "source": [
    "Тест показал, что распределения ненормальны! Посмотрим на их визуальзацию."
   ]
  },
  {
   "cell_type": "code",
   "execution_count": 51,
   "metadata": {},
   "outputs": [
    {
     "data": {
      "text/plain": [
       "(array([  0.,  50., 100., 150., 200., 250., 300.]),\n",
       " <a list of 7 Text major ticklabel objects>)"
      ]
     },
     "execution_count": 51,
     "metadata": {},
     "output_type": "execute_result"
    },
    {
     "data": {
      "image/png": "[encoded data removed]",
      "text/plain": [
       "<Figure size 1440x720 with 1 Axes>"
      ]
     },
     "metadata": {},
     "output_type": "display_data"
    }
   ],
   "source": [
    "# Зададим размер и стиль графика\n",
    "plt.figure(figsize=(20, 10))\n",
    "sns.set(style='whitegrid', palette=None)\n",
    "\n",
    "# Графики\n",
    "sns.histplot(data=df_sumprice_test.sum_price, color='orange', kde=True)\n",
    "sns.histplot(data=df_sumprice_control.sum_price, color='blue',  kde=True)\n",
    "\n",
    "# Сделаем подписи к графику\n",
    "plt.title('Суммарная стоимость в покупке\\n', fontsize=30)\n",
    "plt.xlabel('Суммарная стоимость в покупке', fontsize=20, rotation=0, labelpad=20)\n",
    "plt.ylabel('Число поль-\\nзователей', fontsize=20, rotation=0, labelpad=70)\n",
    "\n",
    "# Увеличим масштаб подписей осей\n",
    "plt.xticks(fontsize=20)\n",
    "plt.yticks(fontsize=20)"
   ]
  },
  {
   "cell_type": "code",
   "execution_count": 52,
   "metadata": {},
   "outputs": [
    {
     "data": {
      "text/plain": [
       "(array([-250.,    0.,  250.,  500.,  750., 1000., 1250., 1500., 1750.,\n",
       "        2000.]),\n",
       " <a list of 10 Text major ticklabel objects>)"
      ]
     },
     "execution_count": 52,
     "metadata": {},
     "output_type": "execute_result"
    },
    {
     "data": {
      "image/png": "[encoded data removed]",
      "text/plain": [
       "<Figure size 1440x720 with 1 Axes>"
      ]
     },
     "metadata": {},
     "output_type": "display_data"
    }
   ],
   "source": [
    "# Зададим размер и стиль графика\n",
    "plt.figure(figsize=(20, 10))\n",
    "sns.set(style='whitegrid', palette=None)\n",
    "\n",
    "# Графики\n",
    "sns.boxplot(data=df_sumprice,y='sum_price',x='group')\n",
    "\n",
    "# Сделаем подписи к графику\n",
    "plt.title('Суммарная стоимость в покупке\\n', fontsize=30)\n",
    "plt.xlabel('Группа', fontsize=20, rotation=0, labelpad=20)\n",
    "plt.ylabel('Суммарная\\nстоимость', fontsize=20, rotation=0, labelpad=70)\n",
    "\n",
    "# Увеличим масштаб подписей осей\n",
    "groups = [\"Контрольная\",\"Тестовая\"]\n",
    "plt.xticks(range(2), groups, fontsize=20)\n",
    "plt.yticks(fontsize=20)"
   ]
  },
  {
   "cell_type": "code",
   "execution_count": null,
   "metadata": {},
   "outputs": [],
   "source": [
    "\n"
   ]
  },
  {
   "cell_type": "markdown",
   "metadata": {},
   "source": [
    "<h2>Проверка распределений на ГОМОГЕННОСТЬ ДИСПЕРСИЙ</h2><br>\n",
    "<b>\n",
    "<ul>\n",
    "<li>Нулевая гипотеза - дисперсии равны</li>\n",
    "<li>Альтернативная гипотеза - дисперсии НЕ равны</li>\n",
    "\n",
    "\n",
    "</b>"
   ]
  },
  {
   "cell_type": "code",
   "execution_count": 53,
   "metadata": {},
   "outputs": [
    {
     "data": {
      "text/html": [
       "<div>\n",
       "<style scoped>\n",
       "    .dataframe tbody tr th:only-of-type {\n",
       "        vertical-align: middle;\n",
       "    }\n",
       "\n",
       "    .dataframe tbody tr th {\n",
       "        vertical-align: top;\n",
       "    }\n",
       "\n",
       "    .dataframe thead th {\n",
       "        text-align: right;\n",
       "    }\n",
       "</style>\n",
       "<table border=\"1\" class=\"dataframe\">\n",
       "  <thead>\n",
       "    <tr style=\"text-align: right;\">\n",
       "      <th></th>\n",
       "      <th>W</th>\n",
       "      <th>pval</th>\n",
       "      <th>equal_var</th>\n",
       "    </tr>\n",
       "  </thead>\n",
       "  <tbody>\n",
       "    <tr>\n",
       "      <th>levene</th>\n",
       "      <td>1.011786</td>\n",
       "      <td>0.314538</td>\n",
       "      <td>True</td>\n",
       "    </tr>\n",
       "  </tbody>\n",
       "</table>\n",
       "</div>"
      ],
      "text/plain": [
       "               W      pval  equal_var\n",
       "levene  1.011786  0.314538       True"
      ]
     },
     "execution_count": 53,
     "metadata": {},
     "output_type": "execute_result"
    }
   ],
   "source": [
    "# Проверка через критерий Левена - pingouin\n",
    "pg.homoscedasticity(data=df_sumprice, dv=\"sum_price\", group='group')"
   ]
  },
  {
   "cell_type": "markdown",
   "metadata": {},
   "source": [
    "Тест показал, что p-value > 0.05 - принимаем нулевую гипотезу,<br>\n",
    "Дисперсии распределений ГОМОГЕННЫ."
   ]
  },
  {
   "cell_type": "markdown",
   "metadata": {},
   "source": [
    "\n"
   ]
  },
  {
   "cell_type": "code",
   "execution_count": null,
   "metadata": {},
   "outputs": [],
   "source": [
    "\n"
   ]
  },
  {
   "cell_type": "markdown",
   "metadata": {},
   "source": [
    "<h2>Используем параметрический метод Манна-Уитни</h2><br>\n",
    "Так как проверка на нормальность не пройдена.<br>\n",
    "<blockquote><ul> \n",
    "<li>H0 - вероятность взять из тестовой выборки более высокое значение, чем из контрольной</li>\n",
    "<li>H1 - вероятность взять из тестовой выборки менее высокое значение, чем из контрольной</li>\n",
    "</ul>  </blockquote>\n",
    "<b>"
   ]
  },
  {
   "cell_type": "code",
   "execution_count": 54,
   "metadata": {},
   "outputs": [
    {
     "data": {
      "text/plain": [
       "MannwhitneyuResult(statistic=1757446.0, pvalue=0.07539952478041778)"
      ]
     },
     "execution_count": 54,
     "metadata": {},
     "output_type": "execute_result"
    }
   ],
   "source": [
    "ss.mannwhitneyu(df_sumprice_test.sum_price, df_sumprice_control.sum_price)"
   ]
  },
  {
   "cell_type": "markdown",
   "metadata": {},
   "source": [
    "Принимаем нулевую гипотезу (тк p-value > 0.05), вероятность взять из тестовой выборки более высокое значение, чем из контрольной.<br>\n",
    "Обе выборки эквивалентны (по ранжиру)."
   ]
  },
  {
   "cell_type": "code",
   "execution_count": null,
   "metadata": {},
   "outputs": [],
   "source": [
    "\n"
   ]
  },
  {
   "cell_type": "markdown",
   "metadata": {},
   "source": [
    "<h2>Используем метод BOOTSTRAP</h2><br>\n",
    "Для проверки вывода критерия Манна-Уитни.<br>\n",
    "<blockquote><ul> \n",
    "<li>H0 - cредние значения равны</li>\n",
    "<li>H1 - cредние значения не равны</li>\n",
    "</ul>  </blockquote>\n",
    "<b>"
   ]
  },
  {
   "cell_type": "code",
   "execution_count": 55,
   "metadata": {},
   "outputs": [
    {
     "name": "stdout",
     "output_type": "stream",
     "text": [
      "Cреднее значение тестовой группы = 368.86162888329136\n",
      "Cреднее значение контрольной группы = 382.09292730844794\n"
     ]
    }
   ],
   "source": [
    "print(f'Cреднее значение тестовой группы = {np.mean(df_sumprice_test.sum_price)}')\n",
    "print(f'Cреднее значение контрольной группы = {np.mean(df_sumprice_control.sum_price)}')"
   ]
  },
  {
   "cell_type": "code",
   "execution_count": 56,
   "metadata": {},
   "outputs": [
    {
     "data": {
      "text/plain": [
       "BootstrapResult(confidence_interval=ConfidenceInterval(low=358.9516746653602, high=378.74745487548574), standard_error=5.038379329763368)"
      ]
     },
     "execution_count": 56,
     "metadata": {},
     "output_type": "execute_result"
    }
   ],
   "source": [
    "# Cравним средние\n",
    "bs_product_test = bs((df_sumprice_test.sum_price, ), np.mean)\n",
    "bs_product_test"
   ]
  },
  {
   "cell_type": "code",
   "execution_count": 57,
   "metadata": {},
   "outputs": [
    {
     "data": {
      "text/plain": [
       "BootstrapResult(confidence_interval=ConfidenceInterval(low=369.90980388974907, high=394.54905458373884), standard_error=6.26660293497026)"
      ]
     },
     "execution_count": 57,
     "metadata": {},
     "output_type": "execute_result"
    }
   ],
   "source": [
    "bs_product_control = bs((df_sumprice_control.sum_price, ), np.mean)\n",
    "bs_product_control"
   ]
  },
  {
   "cell_type": "markdown",
   "metadata": {},
   "source": [
    "\n",
    "Исходя из наложения доверительных интервалов средних значений, видно что они пересекаются,<br>\n",
    "принимаем нулевую гипотезу, а изменения признаём статнезначимыми.\n",
    "\n"
   ]
  },
  {
   "cell_type": "code",
   "execution_count": null,
   "metadata": {},
   "outputs": [],
   "source": [
    "\n",
    "\n"
   ]
  },
  {
   "cell_type": "markdown",
   "metadata": {},
   "source": [
    "<h1>ВЫВОД:</h1>\n",
    "\n",
    "<b>В ходе АБ-теста было получено статзначимое различие между 2 первыми метриками (в положительную сторону),<br>\n",
    "а также между воторыми 2 метриками статзначимого различия выявлено не было (не было разницы).<br><br>\n",
    "\n",
    "По моему мнению, <b><i>следует принять новую систему рекомендаций</i></b>.<br>\n",
    "Так как первые 2 метрики (кол-во заказов.покупок, совершённых уникальным пользователем)<br>\n",
    "наиболее ярко отражают полученную статзначимую пользу бизнесу."
   ]
  }
 ],
 "metadata": {
  "kernelspec": {
   "display_name": "Python 3",
   "language": "python",
   "name": "python3"
  },
  "language_info": {
   "codemirror_mode": {
    "name": "ipython",
    "version": 3
   },
   "file_extension": ".py",
   "mimetype": "text/x-python",
   "name": "python",
   "nbconvert_exporter": "python",
   "pygments_lexer": "ipython3",
   "version": "3.7.3"
  }
 },
 "nbformat": 4,
 "nbformat_minor": 4
}
