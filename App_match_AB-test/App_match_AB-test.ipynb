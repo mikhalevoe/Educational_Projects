{
 "cells": [
  {
   "cell_type": "markdown",
   "metadata": {},
   "source": [
    "<h1> Проект 5.10.1."
   ]
  },
  {
   "cell_type": "markdown",
   "metadata": {},
   "source": [
    "<h1>Кейс №1 - Приложение знакомств</h1>\n",
    "\n",
    "Вы работаете аналитиком в приложении для онлайн-знакомств. <br>\n",
    "Механика приложения следующая: пользователи видят в приложении анкеты друг друга и <br>\n",
    "могут ставить друг другу лайки или дизлайки. Если пользователи поставили друг другу лайк – <br>\n",
    "это называется мэтч, и у пользователей появляется возможность познакомиться.<br>\n",
    "\n",
    "Команда приложения разработала новый алгоритм для поиска наиболее подходящих анкет. <br>\n",
    "Для проверки работы алгоритма был проведен АБ-тест. Все пользователи были разделены на две группы. <br>\n",
    "<i><b>Пользователи в группе с номером 0 пользовались приложением со старым алгоритмом. <br>\n",
    "Все пользователи в группе 1 пользовались приложением с новым алгоритмом для поиска анкет.</i></b>\n",
    "\n",
    "Ваша задача – оценить, правда ли, что новый алгоритм улучшил качество сервиса. <br>\n",
    "Для этого нужно выбрать метрики, которые отвечают за качество сервиса, и <br>\n",
    "статистически сравнить эти метрики в двух группах.\n",
    "\n",
    "В данных находится выгрузка логов взаимодействия пользователей друг с другом. <br>\n",
    "Для каждой пары пользователей указано, из какой они группы АБ-теста и случился ли у них мэтч.\n",
    "\n",
    "Результат вашей работы – аналитическое заключение с ответом на вопрос, <br>\n",
    "стоит ли включать новую систему поиска анкет на всех пользователей.\n",
    "\n",
    "<b>NB! Не стоит использовать интерактивные графики в итоговом файле – <br>\n",
    "они имеют смысл только в динамических отчётах вроде веб-страницы.</b>\n",
    "\n",
    "В поле ответа прикрепите файл формата .ipynb — то есть обычный Jupyter Notebook <br>\n",
    "со всеми вашими действиями, результатами, графиками и выводами."
   ]
  },
  {
   "cell_type": "markdown",
   "metadata": {},
   "source": [
    "### БИБЛИОТЕКИ"
   ]
  },
  {
   "cell_type": "code",
   "execution_count": 2,
   "metadata": {
    "scrolled": true
   },
   "outputs": [],
   "source": [
    "# Подключим библиотеку pandas и назовем её pd\n",
    "import pandas as pd\n",
    "# Подключим библиотеку numpy и назовем её np\n",
    "import numpy as np\n",
    "# Подключим библиотеку scipy, и возьмем оттуда модуль со stats (статистические распределения и функции)\n",
    "from scipy import stats as ss\n",
    "from scipy.stats import bootstrap as bs\n",
    "import pingouin as pg\n",
    "\n",
    "# Импорт библиотек проводника\n",
    "import os\n",
    "\n",
    "# Подключим библиотеку seaborn и назовем её sns\n",
    "import seaborn as sns\n",
    "# Подключим библиотеку matplotlib и назовем её plt\n",
    "import matplotlib.pyplot as plt\n",
    "# Разрешим строить графики в интерактивном режиме\n",
    "%matplotlib inline"
   ]
  },
  {
   "cell_type": "markdown",
   "metadata": {},
   "source": [
    "### ЗАГРУЗКА ДАННЫХ"
   ]
  },
  {
   "cell_type": "code",
   "execution_count": 3,
   "metadata": {},
   "outputs": [
    {
     "data": {
      "text/html": [
       "<div>\n",
       "<style scoped>\n",
       "    .dataframe tbody tr th:only-of-type {\n",
       "        vertical-align: middle;\n",
       "    }\n",
       "\n",
       "    .dataframe tbody tr th {\n",
       "        vertical-align: top;\n",
       "    }\n",
       "\n",
       "    .dataframe thead th {\n",
       "        text-align: right;\n",
       "    }\n",
       "</style>\n",
       "<table border=\"1\" class=\"dataframe\">\n",
       "  <thead>\n",
       "    <tr style=\"text-align: right;\">\n",
       "      <th></th>\n",
       "      <th>user_id_1</th>\n",
       "      <th>user_id_2</th>\n",
       "      <th>group</th>\n",
       "      <th>is_match</th>\n",
       "    </tr>\n",
       "  </thead>\n",
       "  <tbody>\n",
       "    <tr>\n",
       "      <th>0</th>\n",
       "      <td>79</td>\n",
       "      <td>91</td>\n",
       "      <td>1</td>\n",
       "      <td>1</td>\n",
       "    </tr>\n",
       "    <tr>\n",
       "      <th>1</th>\n",
       "      <td>716</td>\n",
       "      <td>353</td>\n",
       "      <td>1</td>\n",
       "      <td>1</td>\n",
       "    </tr>\n",
       "    <tr>\n",
       "      <th>2</th>\n",
       "      <td>423</td>\n",
       "      <td>677</td>\n",
       "      <td>0</td>\n",
       "      <td>0</td>\n",
       "    </tr>\n",
       "    <tr>\n",
       "      <th>3</th>\n",
       "      <td>658</td>\n",
       "      <td>165</td>\n",
       "      <td>1</td>\n",
       "      <td>1</td>\n",
       "    </tr>\n",
       "    <tr>\n",
       "      <th>4</th>\n",
       "      <td>969</td>\n",
       "      <td>155</td>\n",
       "      <td>0</td>\n",
       "      <td>1</td>\n",
       "    </tr>\n",
       "    <tr>\n",
       "      <th>...</th>\n",
       "      <td>...</td>\n",
       "      <td>...</td>\n",
       "      <td>...</td>\n",
       "      <td>...</td>\n",
       "    </tr>\n",
       "    <tr>\n",
       "      <th>14509</th>\n",
       "      <td>476</td>\n",
       "      <td>631</td>\n",
       "      <td>0</td>\n",
       "      <td>0</td>\n",
       "    </tr>\n",
       "    <tr>\n",
       "      <th>14510</th>\n",
       "      <td>455</td>\n",
       "      <td>770</td>\n",
       "      <td>1</td>\n",
       "      <td>0</td>\n",
       "    </tr>\n",
       "    <tr>\n",
       "      <th>14511</th>\n",
       "      <td>260</td>\n",
       "      <td>6</td>\n",
       "      <td>1</td>\n",
       "      <td>1</td>\n",
       "    </tr>\n",
       "    <tr>\n",
       "      <th>14512</th>\n",
       "      <td>885</td>\n",
       "      <td>812</td>\n",
       "      <td>1</td>\n",
       "      <td>1</td>\n",
       "    </tr>\n",
       "    <tr>\n",
       "      <th>14513</th>\n",
       "      <td>357</td>\n",
       "      <td>810</td>\n",
       "      <td>1</td>\n",
       "      <td>1</td>\n",
       "    </tr>\n",
       "  </tbody>\n",
       "</table>\n",
       "<p>14514 rows × 4 columns</p>\n",
       "</div>"
      ],
      "text/plain": [
       "       user_id_1  user_id_2  group  is_match\n",
       "0             79         91      1         1\n",
       "1            716        353      1         1\n",
       "2            423        677      0         0\n",
       "3            658        165      1         1\n",
       "4            969        155      0         1\n",
       "...          ...        ...    ...       ...\n",
       "14509        476        631      0         0\n",
       "14510        455        770      1         0\n",
       "14511        260          6      1         1\n",
       "14512        885        812      1         1\n",
       "14513        357        810      1         1\n",
       "\n",
       "[14514 rows x 4 columns]"
      ]
     },
     "execution_count": 3,
     "metadata": {},
     "output_type": "execute_result"
    }
   ],
   "source": [
    "# Чтобы узнать текущую дирректорию\n",
    "os.getcwd()\n",
    "# Чтобы узнать что лежит в текущей дирректории\n",
    "os.listdir()\n",
    "# - ~/ - относительный путь\n",
    "# - ../ - путь с поднятием вверх из другой папки до корневой\n",
    "# (подъём на уровень выше - домашняя директория ~)\n",
    "\n",
    "# Запишем путь файла в переменную\n",
    "path_df_meeting = \"/mnt/HC_Volume_18315164/home-jupyter/jupyter-o-mihalev/Statistic-Python_Lessions/Lecture_10/dating_data.csv\"\n",
    "# Cчитаем DF c помощью лямбда-функции\n",
    "download_df_meeting = lambda x:  pd.read_csv(x, sep=',') # , dtype={'Year': 'int'}\n",
    "# Присвоим переменную датафрейму\n",
    "df_meeting = download_df_meeting(path_df_meeting)\n",
    "df_meeting"
   ]
  },
  {
   "cell_type": "markdown",
   "metadata": {},
   "source": [
    "### ПРОВЕРКА ДАННЫХ"
   ]
  },
  {
   "cell_type": "code",
   "execution_count": 4,
   "metadata": {},
   "outputs": [
    {
     "name": "stdout",
     "output_type": "stream",
     "text": [
      "Размер таблицы взаимодействия пользователей:\n",
      "(14514, 4) \n",
      "\n",
      "Форматы колонок таблицы взаимодействия пользователей:\n",
      "user_id_1    int64\n",
      "user_id_2    int64\n",
      "group        int64\n",
      "is_match     int64\n",
      "dtype: object \n",
      "\n",
      "Число пропусков в колонках таблицы взаимодействия пользователей:\n",
      "user_id_1    0\n",
      "user_id_2    0\n",
      "group        0\n",
      "is_match     0\n",
      "dtype: int64 \n",
      "\n"
     ]
    }
   ],
   "source": [
    "# Проверим размер DF\n",
    "print(\"Размер таблицы взаимодействия пользователей:\\n{}\".format(df_meeting.shape), \"\\n\")\n",
    "\n",
    "# Проверим типы данных столбцов DF\n",
    "print(\"Форматы колонок таблицы взаимодействия пользователей:\\n{}\".format(df_meeting.dtypes), '\\n')\n",
    "\n",
    "# Проверим DF на пропуски\n",
    "print(\"Число пропусков в колонках таблицы взаимодействия пользователей:\\n{}\".format(df_meeting.isna().sum()), '\\n')"
   ]
  },
  {
   "cell_type": "markdown",
   "metadata": {},
   "source": [
    "### РАЗБИВКА DF НА 2 ГРУППЫ"
   ]
  },
  {
   "cell_type": "code",
   "execution_count": 24,
   "metadata": {},
   "outputs": [
    {
     "name": "stdout",
     "output_type": "stream",
     "text": [
      "Размер 1 группы (контрольной): 4792 пар\n",
      "Размер 2 группы (тестовой):    9722 пар \n",
      "\n",
      "Колличество матчей в контольной группе =  user_id_1    2352483\n",
      "user_id_2    2390733\n",
      "group              0\n",
      "is_match         934\n",
      "dtype: int64 штук\n",
      "Колличество матчей в тестовой группе   = user_id_1    4907712\n",
      "user_id_2    4893027\n",
      "group           9722\n",
      "is_match        3909\n",
      "dtype: int64 штук\n",
      "\n"
     ]
    }
   ],
   "source": [
    "#  1 группа (контрольная)\n",
    "df_meeting_control = df_meeting.query(\"group == 0\")\n",
    "\n",
    "#  2 группа (тестовая)\n",
    "df_meeting_test = df_meeting.query(\"group == 1\")\n",
    "\n",
    "print(\"Размер 1 группы (контрольной): {} пар\".format(df_meeting_control.shape[0]))\n",
    "print(\"Размер 2 группы (тестовой):    {} пар\".format(df_meeting_test.shape[0]), '\\n')\n",
    "\n",
    "print(f'Колличество матчей в контольной группе =  {df_meeting_control.sum()} штук')\n",
    "print(f'Колличество матчей в тестовой группе   = {df_meeting_test.sum()} штук\\n')"
   ]
  },
  {
   "cell_type": "code",
   "execution_count": null,
   "metadata": {},
   "outputs": [],
   "source": [
    "\n",
    "\n",
    "\n"
   ]
  },
  {
   "cell_type": "markdown",
   "metadata": {},
   "source": [
    "<h3>Какие метрики отвечают за качество сервиса?</h3><br>\n",
    "<blockquote> Так как AB-тест должен ответить на вопрос: \n",
    "    <blockquote><b>\"Лучше ли работает новый алгорим поиска <b>подходящих анкет?\"</b></blockquote>\n",
    "Показатель <i>улучшения качества сервиса:</i>\n",
    "        <ol>\n",
    "            <li><b>Кол-во матчей на пользователя user_id_1 () </b> в тестовой группе <br>\n",
    "            по сравнению с контрольной группой!</li>\n",
    "            <li><b>Кол-во матчей на пользователя user_id_1 () к показам </b> в тестовой группе <br>\n",
    "            по сравнению с контрольной группой!</li>\n",
    "        </ol>\n",
    "</blockquote>"
   ]
  },
  {
   "cell_type": "markdown",
   "metadata": {},
   "source": [
    "<h3>1) Проверка метрики: <i>кол-во матчей на пользователя user_id_1 - MPU</i> </h3>"
   ]
  },
  {
   "cell_type": "code",
   "execution_count": 88,
   "metadata": {},
   "outputs": [
    {
     "name": "stdout",
     "output_type": "stream",
     "text": [
      "Размер выборки MPU контрольной группы: 501\n",
      "Размер выборки MPU тестовой группы:    499\n"
     ]
    }
   ],
   "source": [
    "# Определим метрику\n",
    "\n",
    "df_meeting_MPU = df_meeting\\\n",
    "                        .groupby([\"user_id_1\", 'group'], as_index=False)\\\n",
    "                        .agg({\"is_match\":'sum'})\\\n",
    "                        .sort_values([\"user_id_1\", \"group\"])\\\n",
    "                        .rename(columns={\"is_match\":\"MPU\"})\n",
    "\n",
    "# Поделим на группы\n",
    "# И определим MPU в рамках каждой группы на уникального пользователя\n",
    "# Определим среднее значение MPU на уникального пользователя в группе\n",
    "\n",
    "#  1 группа (контрольная)\n",
    "df_meeting_MPU_control = df_meeting_MPU.query(\"group == 0\")\n",
    "\n",
    "# ---------------------------------------------------------------------------------------------\n",
    "\n",
    "#  2 группа (тестовая)\n",
    "df_meeting_MPU_test = df_meeting_MPU.query(\"group == 1\")\n",
    "\n",
    "\n",
    "print(\"Размер выборки MPU контрольной группы: {}\".format(df_meeting_MPU_control.shape[0]))\n",
    "print(\"Размер выборки MPU тестовой группы:    {}\".format(df_meeting_MPU_test.shape[0]))"
   ]
  },
  {
   "cell_type": "code",
   "execution_count": 89,
   "metadata": {},
   "outputs": [
    {
     "name": "stdout",
     "output_type": "stream",
     "text": [
      "Среднее значение MPU в контрольной группе - 1.8642714570858283\n",
      "Среднее значение MPU в тестовой группе - 7.833667334669339\n"
     ]
    }
   ],
   "source": [
    "# Посчитаем ср.значения MPU в 2 группах\n",
    "MPU_mean_control = df_meeting_MPU_control.MPU.mean()\n",
    "MPU_mean_test = df_meeting_MPU_test.MPU.mean()\n",
    "print(\"Среднее значение MPU в контрольной группе - {0}\".format(MPU_mean_control))\n",
    "print(\"Среднее значение MPU в тестовой группе - {0}\".format(MPU_mean_test))"
   ]
  },
  {
   "cell_type": "code",
   "execution_count": null,
   "metadata": {},
   "outputs": [],
   "source": [
    "\n"
   ]
  },
  {
   "cell_type": "markdown",
   "metadata": {},
   "source": [
    "<H3>CТАТИСТИЧЕСКИ СРАВНИМ СРЕДНИЕ ПОКАЗАТЕЛИ MPU <BR>В ГРУППАХ С ПОМОЩЬЮ T-ТЕСТА<br></H3>\n",
    " (так как мы имеем дело в <b>количественной</b> переменной)</H4>\n",
    " <blockquote>\n",
    "<ul>\n",
    "<li>Нулевая гипотеза: ср.значения стат.значимо НЕ отличаются (p-value > 0.05)!</li>\n",
    "<li>Альтернативная гипотеза: ср.значения стат.значимо отличаются (p-value < 0.05)!</li>\n",
    "</ul>\n",
    "</blockquote>    "
   ]
  },
  {
   "cell_type": "markdown",
   "metadata": {},
   "source": [
    "<h4> ПРОВЕРКА УСЛОВИЯ НОРМАЛЬНОСТИ Т-ТЕСТА </h4>\n",
    "(тест Шапиро не используем , тк размеры выборок большие - n>30)"
   ]
  },
  {
   "cell_type": "code",
   "execution_count": 90,
   "metadata": {},
   "outputs": [
    {
     "name": "stdout",
     "output_type": "stream",
     "text": [
      "Контрольная группа - NormaltestResult(statistic=62.41476656929049, pvalue=2.79772900172115e-14)\n",
      "Тестовая группа    - NormaltestResult(statistic=2.353675608026829, pvalue=0.30825195213008727) \n",
      "\n",
      "           W          pval  normal\n",
      "1   2.353676  3.082520e-01    True\n",
      "0  62.414767  2.797729e-14   False\n"
     ]
    }
   ],
   "source": [
    "# Проверка через normaltest - контрольной группы\n",
    "print(f\"Контрольная группа - {ss.normaltest(df_meeting_MPU_control.MPU)}\")\n",
    "\n",
    "# Проверка через normaltest - тестовой группы\n",
    "print(f\"Тестовая группа    - {ss.normaltest(df_meeting_MPU_test.MPU)}\",\"\\n\")\n",
    "\n",
    "# Проверка через normaltest pingouin - обеих групп\n",
    "print(pg.normality(data=df_meeting_MPU, dv=\"MPU\", group='group', method='normaltest'))"
   ]
  },
  {
   "cell_type": "markdown",
   "metadata": {},
   "source": [
    "<h5>\n",
    "Распределение MPU контрольной группы - не нормальное<br>\n",
    "Распределение MPU тестовой группы       -      нормальное\n",
    "</h5>"
   ]
  },
  {
   "cell_type": "code",
   "execution_count": 91,
   "metadata": {
    "scrolled": true
   },
   "outputs": [
    {
     "data": {
      "text/plain": [
       "<matplotlib.axes._subplots.AxesSubplot at 0x7fa340311208>"
      ]
     },
     "execution_count": 91,
     "metadata": {},
     "output_type": "execute_result"
    },
    {
     "data": {
      "image/png": "[encoded data removed]",
      "text/plain": [
       "<Figure size 432x288 with 1 Axes>"
      ]
     },
     "metadata": {
      "needs_background": "light"
     },
     "output_type": "display_data"
    }
   ],
   "source": [
    "sns.histplot(data=df_meeting_MPU_control.MPU, color='blue')\n",
    "sns.histplot(data=df_meeting_MPU_test.MPU, color='orange')"
   ]
  },
  {
   "cell_type": "code",
   "execution_count": 92,
   "metadata": {},
   "outputs": [
    {
     "data": {
      "text/plain": [
       "<matplotlib.axes._subplots.AxesSubplot at 0x7fa340293908>"
      ]
     },
     "execution_count": 92,
     "metadata": {},
     "output_type": "execute_result"
    },
    {
     "data": {
      "image/png": "[encoded data removed]",
      "text/plain": [
       "<Figure size 432x288 with 1 Axes>"
      ]
     },
     "metadata": {
      "needs_background": "light"
     },
     "output_type": "display_data"
    }
   ],
   "source": [
    "sns.boxplot(data=df_meeting_MPU,y='MPU',x='group')"
   ]
  },
  {
   "cell_type": "code",
   "execution_count": null,
   "metadata": {},
   "outputs": [],
   "source": [
    "\n"
   ]
  },
  {
   "cell_type": "markdown",
   "metadata": {},
   "source": [
    "<h4> ПРОВЕРКА УСЛОВИЯ ГОМОГЕННОСТИ ДИСПЕРСИЙ РАСПРЕДЕЛЕНИЙ </h4><br>\n",
    "<blockquote>    \n",
    "<ul>\n",
    "<li>Нулевая гипотеза - дисперсии равны</li>\n",
    "<li>Альтернативная гипотеза - дисперсии НЕ равны</li>\n",
    "    </ul></blockquote>    "
   ]
  },
  {
   "cell_type": "code",
   "execution_count": 93,
   "metadata": {},
   "outputs": [
    {
     "data": {
      "text/plain": [
       "LeveneResult(statistic=134.17424158182058, pvalue=3.3545479435181664e-29)"
      ]
     },
     "execution_count": 93,
     "metadata": {},
     "output_type": "execute_result"
    }
   ],
   "source": [
    "# Проверка через критерий Левена\n",
    "ss.levene(df_meeting_MPU_control.MPU, df_meeting_MPU_test.MPU)"
   ]
  },
  {
   "cell_type": "code",
   "execution_count": 94,
   "metadata": {},
   "outputs": [
    {
     "data": {
      "text/html": [
       "<div>\n",
       "<style scoped>\n",
       "    .dataframe tbody tr th:only-of-type {\n",
       "        vertical-align: middle;\n",
       "    }\n",
       "\n",
       "    .dataframe tbody tr th {\n",
       "        vertical-align: top;\n",
       "    }\n",
       "\n",
       "    .dataframe thead th {\n",
       "        text-align: right;\n",
       "    }\n",
       "</style>\n",
       "<table border=\"1\" class=\"dataframe\">\n",
       "  <thead>\n",
       "    <tr style=\"text-align: right;\">\n",
       "      <th></th>\n",
       "      <th>W</th>\n",
       "      <th>pval</th>\n",
       "      <th>equal_var</th>\n",
       "    </tr>\n",
       "  </thead>\n",
       "  <tbody>\n",
       "    <tr>\n",
       "      <th>levene</th>\n",
       "      <td>134.174242</td>\n",
       "      <td>3.354548e-29</td>\n",
       "      <td>False</td>\n",
       "    </tr>\n",
       "  </tbody>\n",
       "</table>\n",
       "</div>"
      ],
      "text/plain": [
       "                 W          pval  equal_var\n",
       "levene  134.174242  3.354548e-29      False"
      ]
     },
     "execution_count": 94,
     "metadata": {},
     "output_type": "execute_result"
    }
   ],
   "source": [
    "# Проверка через критерий Левена - pingouin\n",
    "pg.homoscedasticity(data=df_meeting_MPU, dv=\"MPU\", group='group')"
   ]
  },
  {
   "cell_type": "markdown",
   "metadata": {},
   "source": [
    "<h5>Поскольку p-value < 0.05, то имеет смысл отклонить нулевую гипотезу<br>\n",
    "и принять, что дисперсии распределений НЕ гомогенны!!!\n",
    "</h5>"
   ]
  },
  {
   "cell_type": "code",
   "execution_count": null,
   "metadata": {},
   "outputs": [],
   "source": [
    "\n"
   ]
  },
  {
   "cell_type": "markdown",
   "metadata": {},
   "source": [
    "<h4>ПРОИЗВЕДЕМ T-ТЕСТ<br>\n",
    "    (справледливости ради, его не стоит делать, тк условия не выполнены)</h4><br>\n",
    "В целом, Т-тест с определенной точностью может<br>\n",
    "\"переварить\" и не совсем нормальные распределения. Попробуем.\n"
   ]
  },
  {
   "cell_type": "code",
   "execution_count": 95,
   "metadata": {},
   "outputs": [
    {
     "data": {
      "text/plain": [
       "Ttest_indResult(statistic=-47.180514076216454, pvalue=2.2880416014858935e-256)"
      ]
     },
     "execution_count": 95,
     "metadata": {},
     "output_type": "execute_result"
    }
   ],
   "source": [
    "SSttest = ss.ttest_ind(df_meeting_MPU_control.MPU, df_meeting_MPU_test.MPU)\n",
    "SSttest"
   ]
  },
  {
   "cell_type": "code",
   "execution_count": 96,
   "metadata": {},
   "outputs": [
    {
     "data": {
      "text/html": [
       "<div>\n",
       "<style scoped>\n",
       "    .dataframe tbody tr th:only-of-type {\n",
       "        vertical-align: middle;\n",
       "    }\n",
       "\n",
       "    .dataframe tbody tr th {\n",
       "        vertical-align: top;\n",
       "    }\n",
       "\n",
       "    .dataframe thead th {\n",
       "        text-align: right;\n",
       "    }\n",
       "</style>\n",
       "<table border=\"1\" class=\"dataframe\">\n",
       "  <thead>\n",
       "    <tr style=\"text-align: right;\">\n",
       "      <th></th>\n",
       "      <th>T</th>\n",
       "      <th>dof</th>\n",
       "      <th>alternative</th>\n",
       "      <th>p-val</th>\n",
       "      <th>CI95%</th>\n",
       "      <th>cohen-d</th>\n",
       "      <th>BF10</th>\n",
       "      <th>power</th>\n",
       "    </tr>\n",
       "  </thead>\n",
       "  <tbody>\n",
       "    <tr>\n",
       "      <th>T-test</th>\n",
       "      <td>-47.129786</td>\n",
       "      <td>772.18908</td>\n",
       "      <td>two-sided</td>\n",
       "      <td>2.129646e-229</td>\n",
       "      <td>[-6.22, -5.72]</td>\n",
       "      <td>2.983964</td>\n",
       "      <td>4.329e+251</td>\n",
       "      <td>1.0</td>\n",
       "    </tr>\n",
       "  </tbody>\n",
       "</table>\n",
       "</div>"
      ],
      "text/plain": [
       "                T        dof alternative          p-val           CI95%  \\\n",
       "T-test -47.129786  772.18908   two-sided  2.129646e-229  [-6.22, -5.72]   \n",
       "\n",
       "         cohen-d        BF10  power  \n",
       "T-test  2.983964  4.329e+251    1.0  "
      ]
     },
     "execution_count": 96,
     "metadata": {},
     "output_type": "execute_result"
    }
   ],
   "source": [
    "# с помощью pingouin\n",
    "PGttest = pg.ttest(df_meeting_MPU_control.MPU, df_meeting_MPU_test.MPU)\n",
    "PGttest"
   ]
  },
  {
   "cell_type": "markdown",
   "metadata": {},
   "source": [
    "<h5>\n",
    "Так как p-value < 0.05, то отклоняем нулевую гипотезу,\n",
    "и делаем вывод - </h5>\n",
    "    <br>Средние значения MPU в группах стат.значимо отличаются!<br>\n",
    "    И в тестовой группе качество сервиса стат.значимо выросло (улучшилось).\n"
   ]
  },
  {
   "cell_type": "code",
   "execution_count": null,
   "metadata": {},
   "outputs": [],
   "source": [
    "\n"
   ]
  },
  {
   "cell_type": "markdown",
   "metadata": {},
   "source": [
    "<h4>ПРОИЗВЕДЕМ ПАРАМЕТРИЧЕСКИЙ КРИТЕРИЙ МАННА-УИТНИ</h4><br>\n",
    "(Так как критерий для обычного Т-теста не выполнены и он может ошибаться)"
   ]
  },
  {
   "cell_type": "code",
   "execution_count": 97,
   "metadata": {},
   "outputs": [
    {
     "data": {
      "text/plain": [
       "MannwhitneyuResult(statistic=4406.0, pvalue=3.964683653930119e-155)"
      ]
     },
     "execution_count": 97,
     "metadata": {},
     "output_type": "execute_result"
    }
   ],
   "source": [
    "ss.mannwhitneyu(df_meeting_MPU_control.MPU, df_meeting_MPU_test.MPU)"
   ]
  },
  {
   "cell_type": "markdown",
   "metadata": {},
   "source": [
    "<h5>\n",
    "Так как p-value < 0.05, то отклоняем нулевую гипотезу,\n",
    "и делаем вывод - </h5>\n",
    "    <br>Средние значения MPU в группах стат.значимо отличаются!<br>\n",
    "    И в тестовой группе качество сервиса стат.значимо выросло (улучшилось)."
   ]
  },
  {
   "cell_type": "code",
   "execution_count": null,
   "metadata": {},
   "outputs": [],
   "source": [
    "\n"
   ]
  },
  {
   "cell_type": "markdown",
   "metadata": {},
   "source": [
    "<h4>ПРОИЗВЕДЕМ МЕТОД BOOTSTRAP</h4><br>\n",
    "(По сути, этот метод и должен применяться для ставнения средний значений 2-ух групп<br>\n",
    "при условии, ненормальности распределений и неоднородности их дисперсий)<br>\n",
    "Можно сравнить как средние величины так и медианы."
   ]
  },
  {
   "cell_type": "code",
   "execution_count": 98,
   "metadata": {},
   "outputs": [
    {
     "data": {
      "text/plain": [
       "BootstrapResult(confidence_interval=ConfidenceInterval(low=1.748502994011976, high=1.9820359281437125), standard_error=0.06010790773417709)"
      ]
     },
     "execution_count": 98,
     "metadata": {},
     "output_type": "execute_result"
    }
   ],
   "source": [
    "# Cравним средние\n",
    "bs_MPU_control = bs((df_meeting_MPU_control.MPU, ), np.mean)\n",
    "bs_MPU_control"
   ]
  },
  {
   "cell_type": "code",
   "execution_count": 99,
   "metadata": {
    "scrolled": true
   },
   "outputs": [
    {
     "data": {
      "text/plain": [
       "BootstrapResult(confidence_interval=ConfidenceInterval(low=7.615230460921843, high=8.050100200400802), standard_error=0.1109722781576418)"
      ]
     },
     "execution_count": 99,
     "metadata": {},
     "output_type": "execute_result"
    }
   ],
   "source": [
    "bs_MPU_test = bs((df_meeting_MPU_test.MPU, ), np.mean)\n",
    "bs_MPU_test"
   ]
  },
  {
   "cell_type": "markdown",
   "metadata": {},
   "source": [
    "<h5>\n",
    "Исходя из наложения доверительных интервалов средних значений, видно что им явно далеко до пересечения,<br>\n",
    "отклоняем нулевую гипотезу, а изменения признаём статзначимыми в положительную сторону (MPU значимо вырос)\n",
    "</h5>\n"
   ]
  },
  {
   "cell_type": "code",
   "execution_count": null,
   "metadata": {},
   "outputs": [],
   "source": [
    "\n",
    "\n",
    "\n"
   ]
  },
  {
   "cell_type": "markdown",
   "metadata": {},
   "source": [
    "<h3>2) Проверка метрики: <i>кол-во матчей на пользователя user_id_1 к показам - MPUS</i></h3>"
   ]
  },
  {
   "cell_type": "code",
   "execution_count": 100,
   "metadata": {},
   "outputs": [
    {
     "name": "stdout",
     "output_type": "stream",
     "text": [
      "Размер выборки MPU контрольной группы: 501\n",
      "Размер выборки MPU тестовой группы:    499\n"
     ]
    }
   ],
   "source": [
    "# Определим метрику\n",
    "\n",
    "df_meeting_MPU = df_meeting\\\n",
    "                        .groupby([\"user_id_1\", 'group'], as_index=False)\\\n",
    "                        .agg({\"is_match\":'sum'})\\\n",
    "                        .sort_values([\"user_id_1\", \"group\"])\\\n",
    "                        .rename(columns={\"is_match\":\"MPU\"})\n",
    "\n",
    "# Поделим на группы\n",
    "# И определим MPU в рамках каждой группы на уникального пользователя\n",
    "# Определим среднее значение MPU на уникального пользователя в группе\n",
    "\n",
    "#  1 группа (контрольная)\n",
    "df_meeting_MPU_control = df_meeting_MPU.query(\"group == 0\")\n",
    "\n",
    "# ---------------------------------------------------------------------------------------------\n",
    "\n",
    "#  2 группа (тестовая)\n",
    "df_meeting_MPU_test = df_meeting_MPU.query(\"group == 1\")\n",
    "\n",
    "\n",
    "print(\"Размер выборки MPU контрольной группы: {}\".format(df_meeting_MPU_control.shape[0]))\n",
    "print(\"Размер выборки MPU тестовой группы:    {}\".format(df_meeting_MPU_test.shape[0]))"
   ]
  },
  {
   "cell_type": "code",
   "execution_count": 101,
   "metadata": {},
   "outputs": [
    {
     "data": {
      "text/html": [
       "<div>\n",
       "<style scoped>\n",
       "    .dataframe tbody tr th:only-of-type {\n",
       "        vertical-align: middle;\n",
       "    }\n",
       "\n",
       "    .dataframe tbody tr th {\n",
       "        vertical-align: top;\n",
       "    }\n",
       "\n",
       "    .dataframe thead th {\n",
       "        text-align: right;\n",
       "    }\n",
       "</style>\n",
       "<table border=\"1\" class=\"dataframe\">\n",
       "  <thead>\n",
       "    <tr style=\"text-align: right;\">\n",
       "      <th></th>\n",
       "      <th>user_id_1</th>\n",
       "      <th>user_id_2</th>\n",
       "      <th>group</th>\n",
       "      <th>is_match</th>\n",
       "    </tr>\n",
       "  </thead>\n",
       "  <tbody>\n",
       "    <tr>\n",
       "      <th>0</th>\n",
       "      <td>79</td>\n",
       "      <td>91</td>\n",
       "      <td>1</td>\n",
       "      <td>1</td>\n",
       "    </tr>\n",
       "    <tr>\n",
       "      <th>1</th>\n",
       "      <td>716</td>\n",
       "      <td>353</td>\n",
       "      <td>1</td>\n",
       "      <td>1</td>\n",
       "    </tr>\n",
       "    <tr>\n",
       "      <th>2</th>\n",
       "      <td>423</td>\n",
       "      <td>677</td>\n",
       "      <td>0</td>\n",
       "      <td>0</td>\n",
       "    </tr>\n",
       "    <tr>\n",
       "      <th>3</th>\n",
       "      <td>658</td>\n",
       "      <td>165</td>\n",
       "      <td>1</td>\n",
       "      <td>1</td>\n",
       "    </tr>\n",
       "    <tr>\n",
       "      <th>4</th>\n",
       "      <td>969</td>\n",
       "      <td>155</td>\n",
       "      <td>0</td>\n",
       "      <td>1</td>\n",
       "    </tr>\n",
       "    <tr>\n",
       "      <th>...</th>\n",
       "      <td>...</td>\n",
       "      <td>...</td>\n",
       "      <td>...</td>\n",
       "      <td>...</td>\n",
       "    </tr>\n",
       "    <tr>\n",
       "      <th>14509</th>\n",
       "      <td>476</td>\n",
       "      <td>631</td>\n",
       "      <td>0</td>\n",
       "      <td>0</td>\n",
       "    </tr>\n",
       "    <tr>\n",
       "      <th>14510</th>\n",
       "      <td>455</td>\n",
       "      <td>770</td>\n",
       "      <td>1</td>\n",
       "      <td>0</td>\n",
       "    </tr>\n",
       "    <tr>\n",
       "      <th>14511</th>\n",
       "      <td>260</td>\n",
       "      <td>6</td>\n",
       "      <td>1</td>\n",
       "      <td>1</td>\n",
       "    </tr>\n",
       "    <tr>\n",
       "      <th>14512</th>\n",
       "      <td>885</td>\n",
       "      <td>812</td>\n",
       "      <td>1</td>\n",
       "      <td>1</td>\n",
       "    </tr>\n",
       "    <tr>\n",
       "      <th>14513</th>\n",
       "      <td>357</td>\n",
       "      <td>810</td>\n",
       "      <td>1</td>\n",
       "      <td>1</td>\n",
       "    </tr>\n",
       "  </tbody>\n",
       "</table>\n",
       "<p>14514 rows × 4 columns</p>\n",
       "</div>"
      ],
      "text/plain": [
       "       user_id_1  user_id_2  group  is_match\n",
       "0             79         91      1         1\n",
       "1            716        353      1         1\n",
       "2            423        677      0         0\n",
       "3            658        165      1         1\n",
       "4            969        155      0         1\n",
       "...          ...        ...    ...       ...\n",
       "14509        476        631      0         0\n",
       "14510        455        770      1         0\n",
       "14511        260          6      1         1\n",
       "14512        885        812      1         1\n",
       "14513        357        810      1         1\n",
       "\n",
       "[14514 rows x 4 columns]"
      ]
     },
     "execution_count": 101,
     "metadata": {},
     "output_type": "execute_result"
    }
   ],
   "source": [
    "df_meeting"
   ]
  },
  {
   "cell_type": "code",
   "execution_count": 102,
   "metadata": {},
   "outputs": [
    {
     "data": {
      "text/html": [
       "<div>\n",
       "<style scoped>\n",
       "    .dataframe tbody tr th:only-of-type {\n",
       "        vertical-align: middle;\n",
       "    }\n",
       "\n",
       "    .dataframe tbody tr th {\n",
       "        vertical-align: top;\n",
       "    }\n",
       "\n",
       "    .dataframe thead th {\n",
       "        text-align: right;\n",
       "    }\n",
       "</style>\n",
       "<table border=\"1\" class=\"dataframe\">\n",
       "  <thead>\n",
       "    <tr style=\"text-align: right;\">\n",
       "      <th></th>\n",
       "      <th>user_id_1</th>\n",
       "      <th>group</th>\n",
       "      <th>MPU</th>\n",
       "      <th>events</th>\n",
       "      <th>MPUS</th>\n",
       "    </tr>\n",
       "  </thead>\n",
       "  <tbody>\n",
       "    <tr>\n",
       "      <th>0</th>\n",
       "      <td>1</td>\n",
       "      <td>1</td>\n",
       "      <td>11</td>\n",
       "      <td>24</td>\n",
       "      <td>0.458333</td>\n",
       "    </tr>\n",
       "    <tr>\n",
       "      <th>1</th>\n",
       "      <td>2</td>\n",
       "      <td>1</td>\n",
       "      <td>7</td>\n",
       "      <td>16</td>\n",
       "      <td>0.437500</td>\n",
       "    </tr>\n",
       "    <tr>\n",
       "      <th>2</th>\n",
       "      <td>3</td>\n",
       "      <td>1</td>\n",
       "      <td>5</td>\n",
       "      <td>16</td>\n",
       "      <td>0.312500</td>\n",
       "    </tr>\n",
       "    <tr>\n",
       "      <th>3</th>\n",
       "      <td>4</td>\n",
       "      <td>0</td>\n",
       "      <td>2</td>\n",
       "      <td>9</td>\n",
       "      <td>0.222222</td>\n",
       "    </tr>\n",
       "    <tr>\n",
       "      <th>4</th>\n",
       "      <td>5</td>\n",
       "      <td>1</td>\n",
       "      <td>13</td>\n",
       "      <td>22</td>\n",
       "      <td>0.590909</td>\n",
       "    </tr>\n",
       "    <tr>\n",
       "      <th>...</th>\n",
       "      <td>...</td>\n",
       "      <td>...</td>\n",
       "      <td>...</td>\n",
       "      <td>...</td>\n",
       "      <td>...</td>\n",
       "    </tr>\n",
       "    <tr>\n",
       "      <th>995</th>\n",
       "      <td>996</td>\n",
       "      <td>0</td>\n",
       "      <td>1</td>\n",
       "      <td>8</td>\n",
       "      <td>0.125000</td>\n",
       "    </tr>\n",
       "    <tr>\n",
       "      <th>996</th>\n",
       "      <td>997</td>\n",
       "      <td>0</td>\n",
       "      <td>1</td>\n",
       "      <td>12</td>\n",
       "      <td>0.083333</td>\n",
       "    </tr>\n",
       "    <tr>\n",
       "      <th>997</th>\n",
       "      <td>998</td>\n",
       "      <td>1</td>\n",
       "      <td>10</td>\n",
       "      <td>18</td>\n",
       "      <td>0.555556</td>\n",
       "    </tr>\n",
       "    <tr>\n",
       "      <th>998</th>\n",
       "      <td>999</td>\n",
       "      <td>0</td>\n",
       "      <td>2</td>\n",
       "      <td>7</td>\n",
       "      <td>0.285714</td>\n",
       "    </tr>\n",
       "    <tr>\n",
       "      <th>999</th>\n",
       "      <td>1000</td>\n",
       "      <td>1</td>\n",
       "      <td>12</td>\n",
       "      <td>23</td>\n",
       "      <td>0.521739</td>\n",
       "    </tr>\n",
       "  </tbody>\n",
       "</table>\n",
       "<p>1000 rows × 5 columns</p>\n",
       "</div>"
      ],
      "text/plain": [
       "     user_id_1  group  MPU  events      MPUS\n",
       "0            1      1   11      24  0.458333\n",
       "1            2      1    7      16  0.437500\n",
       "2            3      1    5      16  0.312500\n",
       "3            4      0    2       9  0.222222\n",
       "4            5      1   13      22  0.590909\n",
       "..         ...    ...  ...     ...       ...\n",
       "995        996      0    1       8  0.125000\n",
       "996        997      0    1      12  0.083333\n",
       "997        998      1   10      18  0.555556\n",
       "998        999      0    2       7  0.285714\n",
       "999       1000      1   12      23  0.521739\n",
       "\n",
       "[1000 rows x 5 columns]"
      ]
     },
     "execution_count": 102,
     "metadata": {},
     "output_type": "execute_result"
    }
   ],
   "source": [
    "# Узнаем колличество эвентов\n",
    "df_meeting_events = df_meeting\\\n",
    "                        .groupby([\"user_id_1\", 'group'], as_index=False)\\\n",
    "                        .agg({\"is_match\":'count'})\\\n",
    "                        .sort_values([\"user_id_1\", \"group\"])\\\n",
    "                        .rename(columns={\"is_match\":\"events\"})\n",
    "\n",
    "# А теперь посчитаем метриму MPUS\n",
    "df_meeting_MPUS = df_meeting_MPU.merge(df_meeting_events, how=\"left\", on=['user_id_1', 'group'])\n",
    "df_meeting_MPUS['MPUS'] = df_meeting_MPUS.MPU / df_meeting_MPUS.events\n",
    "df_meeting_MPUS"
   ]
  },
  {
   "cell_type": "code",
   "execution_count": 103,
   "metadata": {},
   "outputs": [],
   "source": [
    "# Поделим на группы\n",
    "df_meeting_MPUS_control = df_meeting_MPUS.query('group == 0')\n",
    "df_meeting_MPUS_test = df_meeting_MPUS.query('group == 1')"
   ]
  },
  {
   "cell_type": "code",
   "execution_count": 104,
   "metadata": {},
   "outputs": [
    {
     "data": {
      "text/plain": [
       "<matplotlib.axes._subplots.AxesSubplot at 0x7fa3401eca20>"
      ]
     },
     "execution_count": 104,
     "metadata": {},
     "output_type": "execute_result"
    },
    {
     "data": {
      "image/png": "[encoded data removed]",
      "text/plain": [
       "<Figure size 432x288 with 1 Axes>"
      ]
     },
     "metadata": {
      "needs_background": "light"
     },
     "output_type": "display_data"
    }
   ],
   "source": [
    "# Посмотрим на распределения\n",
    "sns.histplot(data=df_meeting_MPUS_control.MPU, color='blue')\n",
    "sns.histplot(data=df_meeting_MPUS_test.MPU, color='orange')"
   ]
  },
  {
   "cell_type": "code",
   "execution_count": 105,
   "metadata": {},
   "outputs": [
    {
     "data": {
      "text/plain": [
       "<matplotlib.axes._subplots.AxesSubplot at 0x7fa34014b390>"
      ]
     },
     "execution_count": 105,
     "metadata": {},
     "output_type": "execute_result"
    },
    {
     "data": {
      "image/png": "[encoded data removed]",
      "text/plain": [
       "<Figure size 432x288 with 1 Axes>"
      ]
     },
     "metadata": {
      "needs_background": "light"
     },
     "output_type": "display_data"
    }
   ],
   "source": [
    "sns.boxplot(data=df_meeting_MPUS,y='MPUS',x='group')"
   ]
  },
  {
   "cell_type": "markdown",
   "metadata": {},
   "source": [
    "<h5>В данном случае контрольная группа выглядит\n",
    "    <br>более нормальной, чем приметрике MPU. Проверим.\n",
    "  \n",
    "</h5>"
   ]
  },
  {
   "cell_type": "markdown",
   "metadata": {},
   "source": [
    "<h4> ПРОВЕРКА УСЛОВИЯ НОРМАЛЬНОСТИ Т-ТЕСТА </h4>\n",
    "(тест Шапиро не используем , тк размеры выборок большие - n>30)"
   ]
  },
  {
   "cell_type": "code",
   "execution_count": 106,
   "metadata": {},
   "outputs": [
    {
     "name": "stdout",
     "output_type": "stream",
     "text": [
      "Контрольная группа - NormaltestResult(statistic=24.05142184275496, pvalue=5.988252519460471e-06)\n",
      "Тестовая группа    - NormaltestResult(statistic=0.27389179572110844, pvalue=0.8720174028630457) \n",
      "\n",
      "           W      pval  normal\n",
      "1   0.273892  0.872017    True\n",
      "0  24.051422  0.000006   False\n"
     ]
    }
   ],
   "source": [
    "# Проверка через normaltest - контрольной группы\n",
    "print(f\"Контрольная группа - {ss.normaltest(df_meeting_MPUS_control.MPUS)}\")\n",
    "\n",
    "# Проверка через normaltest - тестовой группы\n",
    "print(f\"Тестовая группа    - {ss.normaltest(df_meeting_MPUS_test.MPUS)}\",\"\\n\")\n",
    "\n",
    "# Проверка через normaltest pingouin - обеих групп\n",
    "print(pg.normality(data=df_meeting_MPUS, dv=\"MPUS\", group='group', method='normaltest'))"
   ]
  },
  {
   "cell_type": "markdown",
   "metadata": {},
   "source": [
    "<h4> Видим все то же самое, КОНТРОЛЬНАЯ ГРУППА - не нормальная!\n",
    "\n",
    "<br>Проверим дисперсии!</h4>\n",
    "<blockquote>    \n",
    "<ul>\n",
    "<li>Нулевая гипотеза - дисперсии равны</li>\n",
    "<li>Альтернативная гипотеза - дисперсии НЕ равны</li>\n",
    "    </ul></blockquote>    "
   ]
  },
  {
   "cell_type": "code",
   "execution_count": 107,
   "metadata": {},
   "outputs": [
    {
     "data": {
      "text/html": [
       "<div>\n",
       "<style scoped>\n",
       "    .dataframe tbody tr th:only-of-type {\n",
       "        vertical-align: middle;\n",
       "    }\n",
       "\n",
       "    .dataframe tbody tr th {\n",
       "        vertical-align: top;\n",
       "    }\n",
       "\n",
       "    .dataframe thead th {\n",
       "        text-align: right;\n",
       "    }\n",
       "</style>\n",
       "<table border=\"1\" class=\"dataframe\">\n",
       "  <thead>\n",
       "    <tr style=\"text-align: right;\">\n",
       "      <th></th>\n",
       "      <th>W</th>\n",
       "      <th>pval</th>\n",
       "      <th>equal_var</th>\n",
       "    </tr>\n",
       "  </thead>\n",
       "  <tbody>\n",
       "    <tr>\n",
       "      <th>levene</th>\n",
       "      <td>134.174242</td>\n",
       "      <td>3.354548e-29</td>\n",
       "      <td>False</td>\n",
       "    </tr>\n",
       "  </tbody>\n",
       "</table>\n",
       "</div>"
      ],
      "text/plain": [
       "                 W          pval  equal_var\n",
       "levene  134.174242  3.354548e-29      False"
      ]
     },
     "execution_count": 107,
     "metadata": {},
     "output_type": "execute_result"
    }
   ],
   "source": [
    "# Проверка через критерий Левена - pingouin\n",
    "pg.homoscedasticity(data=df_meeting_MPU, dv=\"MPU\", group='group')"
   ]
  },
  {
   "cell_type": "markdown",
   "metadata": {},
   "source": [
    "#### Дисперсии также неоднородны!"
   ]
  },
  {
   "cell_type": "code",
   "execution_count": null,
   "metadata": {},
   "outputs": [],
   "source": [
    "\n"
   ]
  },
  {
   "cell_type": "markdown",
   "metadata": {},
   "source": [
    "<h4>ПРОИЗВЕДЕМ МЕТОД BOOTSTRAP</h4><br>\n",
    "(По сути, этот метод и должен применяться для ставнения средний значений 2-ух групп<br>\n",
    "при условии, ненормальности распределений и неоднородности их дисперсий)<br>\n",
    "Можно сравнить как средние величины так и медианы."
   ]
  },
  {
   "cell_type": "code",
   "execution_count": 108,
   "metadata": {},
   "outputs": [
    {
     "data": {
      "text/plain": [
       "BootstrapResult(confidence_interval=ConfidenceInterval(low=0.18242707703253735, high=0.20624047471550602), standard_error=0.00607446782850056)"
      ]
     },
     "execution_count": 108,
     "metadata": {},
     "output_type": "execute_result"
    }
   ],
   "source": [
    "# Cравним средние\n",
    "bs_MPUS_control = bs((df_meeting_MPUS_control.MPUS, ), np.mean)\n",
    "bs_MPUS_control"
   ]
  },
  {
   "cell_type": "code",
   "execution_count": 109,
   "metadata": {},
   "outputs": [
    {
     "data": {
      "text/plain": [
       "BootstrapResult(confidence_interval=ConfidenceInterval(low=0.39223292750634636, high=0.4124034525120422), standard_error=0.00513443443916292)"
      ]
     },
     "execution_count": 109,
     "metadata": {},
     "output_type": "execute_result"
    }
   ],
   "source": [
    "bs_MPUS_test = bs((df_meeting_MPUS_test.MPUS, ), np.mean)\n",
    "bs_MPUS_test"
   ]
  },
  {
   "cell_type": "markdown",
   "metadata": {},
   "source": [
    "<h5>\n",
    "Исходя из наложения доверительных интервалов средних значений, видно что им явно далеко до пересечения,<br>\n",
    "отклоняем нулевую гипотезу, а изменения признаём статзначимыми в положительную сторону (MPU значимо вырос)\n",
    "</h5>"
   ]
  },
  {
   "cell_type": "code",
   "execution_count": null,
   "metadata": {},
   "outputs": [],
   "source": [
    "\n"
   ]
  },
  {
   "cell_type": "markdown",
   "metadata": {},
   "source": [
    "<h1>ВЫВОД:</h1>\n",
    "\n",
    "<b>В ходе АБ-теста было получено положительное статзначимое различие между выделенными метриками.<br>\n",
    "Данные метрики выросли в тестовой группе по сравнению с контрольной.<br>\n",
    "Моё заключение - <i>новую систему поиска анкет стоит включать на всех пользователей!</i></b>"
   ]
  }
 ],
 "metadata": {
  "kernelspec": {
   "display_name": "Python 3",
   "language": "python",
   "name": "python3"
  },
  "language_info": {
   "codemirror_mode": {
    "name": "ipython",
    "version": 3
   },
   "file_extension": ".py",
   "mimetype": "text/x-python",
   "name": "python",
   "nbconvert_exporter": "python",
   "pygments_lexer": "ipython3",
   "version": "3.7.3"
  }
 },
 "nbformat": 4,
 "nbformat_minor": 4
}
