{
 "cells": [
  {
   "cell_type": "code",
   "execution_count": 1,
   "metadata": {},
   "outputs": [],
   "source": [
    "# https://git.lab.karpov.courses/lab/final_project/-/merge_requests/2108"
   ]
  },
  {
   "cell_type": "markdown",
   "metadata": {},
   "source": [
    "<h1>A/B тест оплаты услуг на сайте</h1><br>"
   ]
  },
  {
   "cell_type": "markdown",
   "metadata": {},
   "source": [
    "<h3>Задание 1. A/B–тестирование</h3>\n",
    "\n",
    "<h6>1.1 Условие</h6>\n",
    "\n",
    "Одной из основных задач аналитика в нашей команде является корректное проведение экспериментов. <br>\n",
    "Для этого мы применяем метод A/B–тестирования. В ходе тестирования одной гипотезы целевой группе <br>\n",
    "была предложена новая механика оплаты услуг на сайте, у контрольной группы оставалась базовая механика.<br>\n",
    "В качестве задания Вам необходимо проанализировать итоги эксперимента и сделать вывод, стоит ли запускать <br>\n",
    "новую механику оплаты на всех пользователей.\n",
    "\n",
    "<h6>1.2 Входные данные</h6>\n",
    "\n",
    "В качестве входных данных Вы имеете 4 csv-файла:\n",
    "\n",
    "   - groups.csv - файл с информацией о принадлежности пользователя к контрольной или экспериментальной группе (А – контроль, <br>\n",
    "        B –   целевая группа) \n",
    "   - groups_add.csv - дополнительный файл с пользователями, который вам прислали спустя 2 дня после передачи данных\n",
    "   - active_studs.csv - файл с информацией о пользователях, которые зашли на платформу в дни проведения эксперимента. \n",
    "   - checks.csv - файл с информацией об оплатах пользователей в дни проведения эксперимента. \n",
    "\n",
    "<h6>1.3 Вопросы</h6>\n",
    "\n",
    "Предлагаем Вам ответить на следующие вопросы:\n",
    "\n",
    "   1. На какие метрики Вы смотрите в ходе анализа и почему?\n",
    "   2. Имеются ли различия в показателях и с чем они могут быть связаны?\n",
    "   3. Являются ли эти различия статистически значимыми?\n",
    "   4. Стоит ли запускать новую механику на всех пользователей?\n",
    "\n",
    "Данный список вопросов не является обязательным, и Вы можете при своём ответе опираться на собственный план.\n",
    "\n",
    "<h6>1.4 Требования к ответу</h6>\n",
    "\n",
    "При выполнении тестового задания необходимо использовать язык программирования Python.<br>\n",
    "В файле обязательно должны быть комментарии к тем действиям, которые Вы выполняете с данными.<br>\n",
    "Файл должен представлять собой законченный отчёт с выводами, сделанными в ходе исследования."
   ]
  },
  {
   "cell_type": "code",
   "execution_count": null,
   "metadata": {},
   "outputs": [],
   "source": [
    "\n"
   ]
  },
  {
   "cell_type": "markdown",
   "metadata": {},
   "source": [
    "<h4> Библиотеки"
   ]
  },
  {
   "cell_type": "code",
   "execution_count": 93,
   "metadata": {
    "scrolled": true
   },
   "outputs": [],
   "source": [
    "# Подключим библиотеки\n",
    "import os\n",
    "\n",
    "from datetime import datetime\n",
    "from datetime import timedelta\n",
    "\n",
    "import seaborn as sns\n",
    "import matplotlib.pyplot as plt\n",
    "%matplotlib inline\n",
    "\n",
    "import pandas as pd\n",
    "import numpy as np\n",
    "\n",
    "import scipy.stats as ss\n",
    "import pingouin as pg\n"
   ]
  },
  {
   "cell_type": "code",
   "execution_count": null,
   "metadata": {},
   "outputs": [],
   "source": [
    "\n"
   ]
  },
  {
   "cell_type": "markdown",
   "metadata": {},
   "source": [
    "<h4> Считаем данные"
   ]
  },
  {
   "cell_type": "code",
   "execution_count": 3,
   "metadata": {},
   "outputs": [],
   "source": [
    "# Зададим словарь с расположением файлов\n",
    "paths_files = dict([\n",
    "                                    ('groups' , 'Проект_2_groups.csv'),\n",
    "                                    ('groups_add' , 'Проект_2_group_add.csv'),\n",
    "                                    ('active_studs' , 'Проект_2_active_studs.csv'),\n",
    "                                    ('checks' , 'Проект_2_checks.csv'),\n",
    "                                  ])\n",
    "\n",
    "# Cчитаем данные\n",
    "groups = pd.read_csv(paths_files['groups'], sep=';')\n",
    "groups_add = pd.read_csv(paths_files['groups_add'])\n",
    "active_studs= pd.read_csv(paths_files['active_studs'], sep=';')\n",
    "checks = pd.read_csv(paths_files['checks'], sep=';')"
   ]
  },
  {
   "cell_type": "markdown",
   "metadata": {},
   "source": [
    "<h4> Проанализируем данные"
   ]
  },
  {
   "cell_type": "code",
   "execution_count": 4,
   "metadata": {},
   "outputs": [
    {
     "name": "stdout",
     "output_type": "stream",
     "text": [
      "Размер таблицы с пользователями: \n",
      "(74484, 2) \n",
      "\n",
      "Размер таблицы о новыми пользователями: \n",
      "(92, 2) \n",
      "\n",
      "Размер таблицы с активными пользователями в дни проведения эксперимента: \n",
      "(8341, 1) \n",
      "\n",
      "Размер таблицы об оплатах пользователей в дни проведения эксперимента: \n",
      "(541, 2)\n"
     ]
    },
    {
     "name": "stderr",
     "output_type": "stream",
     "text": [
      "/opt/tljh/user/lib/python3.7/site-packages/outdated/utils.py:18: OutdatedCacheFailedWarning: Failed to use cache while checking for outdated package.\n",
      "Set the environment variable OUTDATED_RAISE_EXCEPTION=1 for a full traceback.\n",
      "Set the environment variable OUTDATED_IGNORE=1 to disable these warnings.\n",
      "  **kwargs\n",
      "/opt/tljh/user/lib/python3.7/site-packages/outdated/utils.py:18: OutdatedPackageWarning: The package pingouin is out of date. Your version is 0.4.0, the latest is 0.5.4.\n",
      "Set the environment variable OUTDATED_IGNORE=1 to disable these warnings.\n",
      "  **kwargs\n",
      "/opt/tljh/user/lib/python3.7/site-packages/outdated/utils.py:18: OutdatedPackageWarning: The package outdated is out of date. Your version is 0.2.1, the latest is 0.2.2.\n",
      "Set the environment variable OUTDATED_IGNORE=1 to disable these warnings.\n",
      "  **kwargs\n"
     ]
    }
   ],
   "source": [
    "# Размеры таблиц\n",
    "print(\"Размер таблицы с пользователями: \\n{}\".format(groups.shape), \"\\n\")\n",
    "print(\"Размер таблицы о новыми пользователями: \\n{}\".format(groups_add.shape), \"\\n\")\n",
    "print(\"Размер таблицы с активными пользователями в дни проведения эксперимента: \\n{}\".format(active_studs.shape), \"\\n\")\n",
    "print(\"Размер таблицы об оплатах пользователей в дни проведения эксперимента: \\n{}\".format(checks.shape))"
   ]
  },
  {
   "cell_type": "code",
   "execution_count": 5,
   "metadata": {
    "scrolled": true
   },
   "outputs": [
    {
     "name": "stdout",
     "output_type": "stream",
     "text": [
      "Размер таблицы с пользователями: \n",
      "id      int64\n",
      "grp    object\n",
      "dtype: object \n",
      "\n",
      "Размер таблицы о новыми пользователями: \n",
      "id      int64\n",
      "grp    object\n",
      "dtype: object \n",
      "\n",
      "Размер таблицы с активными пользователями в дни проведения эксперимента: \n",
      "student_id    int64\n",
      "dtype: object \n",
      "\n",
      "Размер таблицы об оплатах пользователей в дни проведения эксперимента: \n",
      "student_id      int64\n",
      "rev           float64\n",
      "dtype: object\n"
     ]
    }
   ],
   "source": [
    "# Типы таблиц\n",
    "print(\"Размер таблицы с пользователями: \\n{}\".format(groups.dtypes), \"\\n\")\n",
    "print(\"Размер таблицы о новыми пользователями: \\n{}\".format(groups_add.dtypes), \"\\n\")\n",
    "print(\"Размер таблицы с активными пользователями в дни проведения эксперимента: \\n{}\".format(active_studs.dtypes), \"\\n\")\n",
    "print(\"Размер таблицы об оплатах пользователей в дни проведения эксперимента: \\n{}\".format(checks.dtypes))"
   ]
  },
  {
   "cell_type": "code",
   "execution_count": 6,
   "metadata": {},
   "outputs": [],
   "source": [
    "# Приведем к правильным типам данных, чтобы избежать ошибок в дальнейшем\n",
    "groups = groups.astype({\"id\" : \"str\",\"grp\" : \"str\"})\n",
    "groups_add = groups_add.astype({\"id\" : \"str\",\"grp\" : \"str\"})\n",
    "active_studs = active_studs.astype({\"student_id\" : \"str\"})\n",
    "checks = checks.astype({\"student_id\" : \"str\"})"
   ]
  },
  {
   "cell_type": "code",
   "execution_count": 7,
   "metadata": {},
   "outputs": [
    {
     "name": "stdout",
     "output_type": "stream",
     "text": [
      "Размер таблицы с пользователями: \n",
      "id     0\n",
      "grp    0\n",
      "dtype: int64 \n",
      "\n",
      "Размер таблицы о новыми пользователями: \n",
      "id     0\n",
      "grp    0\n",
      "dtype: int64 \n",
      "\n",
      "Размер таблицы с активными пользователями в дни проведения эксперимента: \n",
      "student_id    0\n",
      "dtype: int64 \n",
      "\n",
      "Размер таблицы об оплатах пользователей в дни проведения эксперимента: \n",
      "student_id    0\n",
      "rev           0\n",
      "dtype: int64\n"
     ]
    }
   ],
   "source": [
    "# Пропуски в таблицах\n",
    "print(\"Размер таблицы с пользователями: \\n{}\".format(groups.isna().sum()), \"\\n\")\n",
    "print(\"Размер таблицы о новыми пользователями: \\n{}\".format(groups_add.isna().sum()), \"\\n\")\n",
    "print(\"Размер таблицы с активными пользователями в дни проведения эксперимента: \\n{}\".format(active_studs.isna().sum()), \"\\n\")\n",
    "print(\"Размер таблицы об оплатах пользователей в дни проведения эксперимента: \\n{}\".format(checks.isna().sum()))\n",
    "# Пропусков в таблицах нет!"
   ]
  },
  {
   "cell_type": "code",
   "execution_count": 8,
   "metadata": {},
   "outputs": [
    {
     "name": "stdout",
     "output_type": "stream",
     "text": [
      "Размер таблицы с пользователями 74484 cовпадает с числом уникальных пользователей 74484. \n",
      "\n",
      "Размер таблицы о новыми пользователями 92 cовпадает с числом уникальных пользователей 92. \n",
      "\n",
      "Размер таблицы с активными пользователями в дни проведения эксперимента 8341 cовпадает с числом уникальных пользователей 8341. \n",
      "\n",
      "Размер таблицы об оплатах пользователей в дни проведения эксперимента 541 cовпадает с числом уникальных пользователей 541. \n",
      "\n"
     ]
    }
   ],
   "source": [
    "# Проверим таблицы на уникальных пользователей (совпадают ли они с размером самой таблицы или есть повторения данных)\n",
    "print(\"Размер таблицы с пользователями {0} cовпадает с числом уникальных пользователей {1}.\"\\\n",
    "      .format(groups.shape[0], groups.id.nunique()), \"\\n\")\n",
    "print(\"Размер таблицы о новыми пользователями {0} cовпадает с числом уникальных пользователей {1}.\"\\\n",
    "      .format(groups_add.shape[0], groups_add.id.nunique()), \"\\n\")\n",
    "print(\"Размер таблицы с активными пользователями в дни проведения эксперимента {0} cовпадает с числом уникальных пользователей {1}.\"\\\n",
    "      .format(active_studs.shape[0], active_studs.student_id.nunique()), \"\\n\")\n",
    "print(\"Размер таблицы об оплатах пользователей в дни проведения эксперимента {0} cовпадает с числом уникальных пользователей {1}.\"\\\n",
    "      .format(checks.shape[0], checks.student_id.nunique()), \"\\n\")"
   ]
  },
  {
   "cell_type": "code",
   "execution_count": 9,
   "metadata": {},
   "outputs": [
    {
     "name": "stdout",
     "output_type": "stream",
     "text": [
      "Найдено 0 совпадений пользователей в таблице \"groups\" с таблицей \"groups_add\"\n"
     ]
    }
   ],
   "source": [
    "# Проверим, встречаются ли пользователи из таблицы \"groups_add\" в таблице \"groups\"\n",
    "# Используем метод .isin()\n",
    "print(f\"Найдено {groups.id.isin(groups_add.id).sum()} совпадений пользователей в таблице \\\"groups\\\" с таблицей \\\"groups_add\\\"\")"
   ]
  },
  {
   "cell_type": "code",
   "execution_count": 10,
   "metadata": {},
   "outputs": [],
   "source": [
    "# Данные в таблицах не повторяются, поэтому их можно смерджить, не получив декартова произведения\n",
    "groups_all = groups.merge(groups_add, how=\"outer\", on=['id', 'grp'])"
   ]
  },
  {
   "cell_type": "code",
   "execution_count": 11,
   "metadata": {},
   "outputs": [
    {
     "name": "stdout",
     "output_type": "stream",
     "text": [
      "Найдено 392 совпадений пользователей в таблице \"checks\" с таблицей \"active_studs\" \n"
     ]
    }
   ],
   "source": [
    "# Проверим, встречаются ли пользователи из таблицы \"active_studs\" в таблице \"checks\"\n",
    "print(f\"Найдено {checks.student_id.isin(active_studs.student_id).sum()} совпадений пользователей в таблице \\\"checks\\\" с таблицей \\\"active_studs\\\" \")"
   ]
  },
  {
   "cell_type": "markdown",
   "metadata": {},
   "source": [
    "Тоесть всего 392 (из 541) пользователя в с таблице об оплатах в дни проведения эксперимента \"checks\", встречаются в таблице пользователей зашедших на платформу в дни проведения эксперимента \"active_studs\". А что с остальными <b>149 пользователями</b>???<br>(возможно это люди с подписочной системой оплаты, где не требовалось заходить в сервис для совершнения транзакции)."
   ]
  },
  {
   "cell_type": "code",
   "execution_count": 12,
   "metadata": {},
   "outputs": [],
   "source": [
    "# Добавим в таблицу с оплатами колонку \"было ли посещение в дни проведения эксперимента\"\n",
    "checks[\"visit_in_experiment_days\"] = checks.student_id.isin(active_studs.student_id)\n",
    "checks[\"visit_in_experiment_days\"] = checks.visit_in_experiment_days.apply(lambda x: \"yes visit\" if x == True else \"no visit\")\n",
    "\n",
    "# Такую же  колонку довавим в таблицу с пользoвателями, которые посетили сервис в дни проведения эксперимента\n",
    "active_studs[\"visit_in_experiment_days\"] = \"yes visit\""
   ]
  },
  {
   "cell_type": "code",
   "execution_count": 13,
   "metadata": {},
   "outputs": [
    {
     "name": "stdout",
     "output_type": "stream",
     "text": [
      "Найдено 8341 совпадений пользователей в таблице \"active_studs\" с таблицей \"groups_all\" \n"
     ]
    }
   ],
   "source": [
    "# Проверим, встречаются ли пользователи из таблицы \"active_studs\" в таблице \"groups_all\"\n",
    "print(f\"Найдено {active_studs.student_id.isin(groups_all.id).sum()} совпадений пользователей в таблице \\\"active_studs\\\" с таблицей \\\"groups_all\\\" \")"
   ]
  },
  {
   "cell_type": "markdown",
   "metadata": {},
   "source": [
    "Тоесть все пользователи (8341 из 8341), которые заходили на платформу в дни проведения эксперимента из таблицы \"active_studs\" найдены в общей таблице со всеми пользователями и каждому присвоена принадлежность к группе - <b>нет потерянных или непонятно откуда появившихся данных."
   ]
  },
  {
   "cell_type": "code",
   "execution_count": 14,
   "metadata": {
    "scrolled": true
   },
   "outputs": [
    {
     "name": "stdout",
     "output_type": "stream",
     "text": [
      "Найдено 541 совпадений пользователей в таблице \"checks\" с таблицей \"groups_all\" \n"
     ]
    }
   ],
   "source": [
    "# Проверим, встречаются ли пользователи из таблицы \"checks\" в таблице \"groups_all\"\n",
    "print(f\"Найдено {checks.student_id.isin(groups_all.id).sum()} совпадений пользователей в таблице \\\"checks\\\" с таблицей \\\"groups_all\\\" \")"
   ]
  },
  {
   "cell_type": "markdown",
   "metadata": {},
   "source": [
    "Тоесть все пользователи (541 из 541), которые совершили оплату в дни проведения эксперимента из таблицы \"checks\" найдены в общей таблице со всеми пользователями и каждому присвоена принадлежность к группе - <b>нет потерянных или непонятно откуда появившихся данных."
   ]
  },
  {
   "cell_type": "code",
   "execution_count": null,
   "metadata": {},
   "outputs": [],
   "source": [
    "\n"
   ]
  },
  {
   "cell_type": "markdown",
   "metadata": {},
   "source": [
    "<h4> Соберём таблицу с пользователями, которые были в сервисе (все у кого была/не была оплата), присвоим им когорту, и отметём лишних пользователей, которых и не было в дни проведения эксперимента"
   ]
  },
  {
   "cell_type": "code",
   "execution_count": 15,
   "metadata": {},
   "outputs": [],
   "source": [
    "# Получим обновленную таблицу с оплатами, где появляется и принадлежность к группе\n",
    "checks_exp_upd = checks.merge(groups_all, how='left', left_on='student_id',  right_on='id')"
   ]
  },
  {
   "cell_type": "code",
   "execution_count": 16,
   "metadata": {},
   "outputs": [
    {
     "data": {
      "text/plain": [
       "541"
      ]
     },
     "execution_count": 16,
     "metadata": {},
     "output_type": "execute_result"
    }
   ],
   "source": [
    "# Проверим, все ли id равны, должно быть 541 значение\n",
    "(checks_exp_upd.student_id == checks_exp_upd.id).sum()"
   ]
  },
  {
   "cell_type": "code",
   "execution_count": 17,
   "metadata": {},
   "outputs": [],
   "source": [
    "# Все id совпадают, можно избавиться от одного из дублирующихся столбцов\n",
    "checks_exp_upd.drop(axis=1, labels=\"id\",inplace=True)"
   ]
  },
  {
   "cell_type": "code",
   "execution_count": 18,
   "metadata": {},
   "outputs": [
    {
     "data": {
      "text/html": [
       "<div>\n",
       "<style scoped>\n",
       "    .dataframe tbody tr th:only-of-type {\n",
       "        vertical-align: middle;\n",
       "    }\n",
       "\n",
       "    .dataframe tbody tr th {\n",
       "        vertical-align: top;\n",
       "    }\n",
       "\n",
       "    .dataframe thead th {\n",
       "        text-align: right;\n",
       "    }\n",
       "</style>\n",
       "<table border=\"1\" class=\"dataframe\">\n",
       "  <thead>\n",
       "    <tr style=\"text-align: right;\">\n",
       "      <th></th>\n",
       "      <th>student_id</th>\n",
       "      <th>rev</th>\n",
       "      <th>visit_in_experiment_days</th>\n",
       "      <th>grp</th>\n",
       "    </tr>\n",
       "  </thead>\n",
       "  <tbody>\n",
       "    <tr>\n",
       "      <th>0</th>\n",
       "      <td>1627</td>\n",
       "      <td>990.0</td>\n",
       "      <td>yes visit</td>\n",
       "      <td>A</td>\n",
       "    </tr>\n",
       "    <tr>\n",
       "      <th>1</th>\n",
       "      <td>3185</td>\n",
       "      <td>690.0</td>\n",
       "      <td>no visit</td>\n",
       "      <td>B</td>\n",
       "    </tr>\n",
       "    <tr>\n",
       "      <th>2</th>\n",
       "      <td>25973</td>\n",
       "      <td>690.0</td>\n",
       "      <td>no visit</td>\n",
       "      <td>B</td>\n",
       "    </tr>\n",
       "    <tr>\n",
       "      <th>3</th>\n",
       "      <td>26280</td>\n",
       "      <td>690.0</td>\n",
       "      <td>no visit</td>\n",
       "      <td>B</td>\n",
       "    </tr>\n",
       "    <tr>\n",
       "      <th>4</th>\n",
       "      <td>100300</td>\n",
       "      <td>990.0</td>\n",
       "      <td>yes visit</td>\n",
       "      <td>B</td>\n",
       "    </tr>\n",
       "    <tr>\n",
       "      <th>...</th>\n",
       "      <td>...</td>\n",
       "      <td>...</td>\n",
       "      <td>...</td>\n",
       "      <td>...</td>\n",
       "    </tr>\n",
       "    <tr>\n",
       "      <th>536</th>\n",
       "      <td>5645737</td>\n",
       "      <td>1900.0</td>\n",
       "      <td>yes visit</td>\n",
       "      <td>B</td>\n",
       "    </tr>\n",
       "    <tr>\n",
       "      <th>537</th>\n",
       "      <td>5651566</td>\n",
       "      <td>1900.0</td>\n",
       "      <td>yes visit</td>\n",
       "      <td>B</td>\n",
       "    </tr>\n",
       "    <tr>\n",
       "      <th>538</th>\n",
       "      <td>5662322</td>\n",
       "      <td>1900.0</td>\n",
       "      <td>yes visit</td>\n",
       "      <td>B</td>\n",
       "    </tr>\n",
       "    <tr>\n",
       "      <th>539</th>\n",
       "      <td>5681918</td>\n",
       "      <td>1900.0</td>\n",
       "      <td>yes visit</td>\n",
       "      <td>B</td>\n",
       "    </tr>\n",
       "    <tr>\n",
       "      <th>540</th>\n",
       "      <td>5740903</td>\n",
       "      <td>1900.0</td>\n",
       "      <td>yes visit</td>\n",
       "      <td>B</td>\n",
       "    </tr>\n",
       "  </tbody>\n",
       "</table>\n",
       "<p>541 rows × 4 columns</p>\n",
       "</div>"
      ],
      "text/plain": [
       "    student_id     rev visit_in_experiment_days grp\n",
       "0         1627   990.0                yes visit   A\n",
       "1         3185   690.0                 no visit   B\n",
       "2        25973   690.0                 no visit   B\n",
       "3        26280   690.0                 no visit   B\n",
       "4       100300   990.0                yes visit   B\n",
       "..         ...     ...                      ...  ..\n",
       "536    5645737  1900.0                yes visit   B\n",
       "537    5651566  1900.0                yes visit   B\n",
       "538    5662322  1900.0                yes visit   B\n",
       "539    5681918  1900.0                yes visit   B\n",
       "540    5740903  1900.0                yes visit   B\n",
       "\n",
       "[541 rows x 4 columns]"
      ]
     },
     "execution_count": 18,
     "metadata": {},
     "output_type": "execute_result"
    }
   ],
   "source": [
    "checks_exp_upd"
   ]
  },
  {
   "cell_type": "code",
   "execution_count": null,
   "metadata": {},
   "outputs": [],
   "source": [
    "\n"
   ]
  },
  {
   "cell_type": "code",
   "execution_count": 19,
   "metadata": {},
   "outputs": [],
   "source": [
    "# Получим обновленную таблицу с посещениями в дни проведения эксперимента\n",
    "\n",
    "# Создадим список всех пользователей с оплатами в дни проведения эксперимента\n",
    "users_in_payment = list(checks_exp_upd.student_id)\n",
    "\n",
    "# Уберем пользователей, которые встречающтся в таблице \"checks_upd\", чтобы не было ЗАДВОЕНИЯ\n",
    "active_studs_upd = active_studs.query(\"student_id != @users_in_payment\")\n",
    "# Получим таблицу с посещениями в дни проведения эксперимента, где появляется и принадлежность к группе\n",
    "active_studs_upd = active_studs_upd.merge(groups_all, how='left', left_on='student_id',  right_on='id')"
   ]
  },
  {
   "cell_type": "code",
   "execution_count": 20,
   "metadata": {},
   "outputs": [
    {
     "data": {
      "text/plain": [
       "7949"
      ]
     },
     "execution_count": 20,
     "metadata": {},
     "output_type": "execute_result"
    }
   ],
   "source": [
    "# Проверим, все ли id равны, должно быть 7949 значение\n",
    "(active_studs_upd.student_id == active_studs_upd.id).sum()"
   ]
  },
  {
   "cell_type": "code",
   "execution_count": 21,
   "metadata": {},
   "outputs": [],
   "source": [
    "# Все id совпадают, можно избавиться от одного из дублирующихся столбцов\n",
    "active_studs_upd.drop(axis=1, labels=\"id\",inplace=True)"
   ]
  },
  {
   "cell_type": "code",
   "execution_count": 22,
   "metadata": {},
   "outputs": [
    {
     "data": {
      "text/html": [
       "<div>\n",
       "<style scoped>\n",
       "    .dataframe tbody tr th:only-of-type {\n",
       "        vertical-align: middle;\n",
       "    }\n",
       "\n",
       "    .dataframe tbody tr th {\n",
       "        vertical-align: top;\n",
       "    }\n",
       "\n",
       "    .dataframe thead th {\n",
       "        text-align: right;\n",
       "    }\n",
       "</style>\n",
       "<table border=\"1\" class=\"dataframe\">\n",
       "  <thead>\n",
       "    <tr style=\"text-align: right;\">\n",
       "      <th></th>\n",
       "      <th>student_id</th>\n",
       "      <th>visit_in_experiment_days</th>\n",
       "      <th>grp</th>\n",
       "    </tr>\n",
       "  </thead>\n",
       "  <tbody>\n",
       "    <tr>\n",
       "      <th>0</th>\n",
       "      <td>581585</td>\n",
       "      <td>yes visit</td>\n",
       "      <td>A</td>\n",
       "    </tr>\n",
       "    <tr>\n",
       "      <th>1</th>\n",
       "      <td>5723133</td>\n",
       "      <td>yes visit</td>\n",
       "      <td>A</td>\n",
       "    </tr>\n",
       "    <tr>\n",
       "      <th>2</th>\n",
       "      <td>3276743</td>\n",
       "      <td>yes visit</td>\n",
       "      <td>B</td>\n",
       "    </tr>\n",
       "    <tr>\n",
       "      <th>3</th>\n",
       "      <td>4238589</td>\n",
       "      <td>yes visit</td>\n",
       "      <td>A</td>\n",
       "    </tr>\n",
       "    <tr>\n",
       "      <th>4</th>\n",
       "      <td>4475369</td>\n",
       "      <td>yes visit</td>\n",
       "      <td>B</td>\n",
       "    </tr>\n",
       "    <tr>\n",
       "      <th>...</th>\n",
       "      <td>...</td>\n",
       "      <td>...</td>\n",
       "      <td>...</td>\n",
       "    </tr>\n",
       "    <tr>\n",
       "      <th>7944</th>\n",
       "      <td>264371</td>\n",
       "      <td>yes visit</td>\n",
       "      <td>B</td>\n",
       "    </tr>\n",
       "    <tr>\n",
       "      <th>7945</th>\n",
       "      <td>1794344</td>\n",
       "      <td>yes visit</td>\n",
       "      <td>B</td>\n",
       "    </tr>\n",
       "    <tr>\n",
       "      <th>7946</th>\n",
       "      <td>296883</td>\n",
       "      <td>yes visit</td>\n",
       "      <td>B</td>\n",
       "    </tr>\n",
       "    <tr>\n",
       "      <th>7947</th>\n",
       "      <td>3598448</td>\n",
       "      <td>yes visit</td>\n",
       "      <td>B</td>\n",
       "    </tr>\n",
       "    <tr>\n",
       "      <th>7948</th>\n",
       "      <td>205705</td>\n",
       "      <td>yes visit</td>\n",
       "      <td>B</td>\n",
       "    </tr>\n",
       "  </tbody>\n",
       "</table>\n",
       "<p>7949 rows × 3 columns</p>\n",
       "</div>"
      ],
      "text/plain": [
       "     student_id visit_in_experiment_days grp\n",
       "0        581585                yes visit   A\n",
       "1       5723133                yes visit   A\n",
       "2       3276743                yes visit   B\n",
       "3       4238589                yes visit   A\n",
       "4       4475369                yes visit   B\n",
       "...         ...                      ...  ..\n",
       "7944     264371                yes visit   B\n",
       "7945    1794344                yes visit   B\n",
       "7946     296883                yes visit   B\n",
       "7947    3598448                yes visit   B\n",
       "7948     205705                yes visit   B\n",
       "\n",
       "[7949 rows x 3 columns]"
      ]
     },
     "execution_count": 22,
     "metadata": {},
     "output_type": "execute_result"
    }
   ],
   "source": [
    "active_studs_upd"
   ]
  },
  {
   "cell_type": "code",
   "execution_count": 23,
   "metadata": {},
   "outputs": [],
   "source": [
    "# Примерджим всех пользователей, совершивших оплату, поличим общую таблицу со всеми участниками в дни проведения эксперимента\n",
    "users_exp_upd = active_studs_upd.merge(checks_exp_upd, on=['student_id','visit_in_experiment_days','grp'], how=\"outer\")\n",
    "\n",
    "# Заменим NaN на нули\n",
    "users_exp_upd.rev = users_exp_upd.rev.fillna(0)"
   ]
  },
  {
   "cell_type": "code",
   "execution_count": 24,
   "metadata": {},
   "outputs": [
    {
     "data": {
      "text/html": [
       "<div>\n",
       "<style scoped>\n",
       "    .dataframe tbody tr th:only-of-type {\n",
       "        vertical-align: middle;\n",
       "    }\n",
       "\n",
       "    .dataframe tbody tr th {\n",
       "        vertical-align: top;\n",
       "    }\n",
       "\n",
       "    .dataframe thead th {\n",
       "        text-align: right;\n",
       "    }\n",
       "</style>\n",
       "<table border=\"1\" class=\"dataframe\">\n",
       "  <thead>\n",
       "    <tr style=\"text-align: right;\">\n",
       "      <th></th>\n",
       "      <th>student_id</th>\n",
       "      <th>visit_in_experiment_days</th>\n",
       "      <th>grp</th>\n",
       "      <th>rev</th>\n",
       "    </tr>\n",
       "  </thead>\n",
       "  <tbody>\n",
       "    <tr>\n",
       "      <th>0</th>\n",
       "      <td>581585</td>\n",
       "      <td>yes visit</td>\n",
       "      <td>A</td>\n",
       "      <td>0.0</td>\n",
       "    </tr>\n",
       "    <tr>\n",
       "      <th>1</th>\n",
       "      <td>5723133</td>\n",
       "      <td>yes visit</td>\n",
       "      <td>A</td>\n",
       "      <td>0.0</td>\n",
       "    </tr>\n",
       "    <tr>\n",
       "      <th>2</th>\n",
       "      <td>3276743</td>\n",
       "      <td>yes visit</td>\n",
       "      <td>B</td>\n",
       "      <td>0.0</td>\n",
       "    </tr>\n",
       "    <tr>\n",
       "      <th>3</th>\n",
       "      <td>4238589</td>\n",
       "      <td>yes visit</td>\n",
       "      <td>A</td>\n",
       "      <td>0.0</td>\n",
       "    </tr>\n",
       "    <tr>\n",
       "      <th>4</th>\n",
       "      <td>4475369</td>\n",
       "      <td>yes visit</td>\n",
       "      <td>B</td>\n",
       "      <td>0.0</td>\n",
       "    </tr>\n",
       "    <tr>\n",
       "      <th>...</th>\n",
       "      <td>...</td>\n",
       "      <td>...</td>\n",
       "      <td>...</td>\n",
       "      <td>...</td>\n",
       "    </tr>\n",
       "    <tr>\n",
       "      <th>8485</th>\n",
       "      <td>5645737</td>\n",
       "      <td>yes visit</td>\n",
       "      <td>B</td>\n",
       "      <td>1900.0</td>\n",
       "    </tr>\n",
       "    <tr>\n",
       "      <th>8486</th>\n",
       "      <td>5651566</td>\n",
       "      <td>yes visit</td>\n",
       "      <td>B</td>\n",
       "      <td>1900.0</td>\n",
       "    </tr>\n",
       "    <tr>\n",
       "      <th>8487</th>\n",
       "      <td>5662322</td>\n",
       "      <td>yes visit</td>\n",
       "      <td>B</td>\n",
       "      <td>1900.0</td>\n",
       "    </tr>\n",
       "    <tr>\n",
       "      <th>8488</th>\n",
       "      <td>5681918</td>\n",
       "      <td>yes visit</td>\n",
       "      <td>B</td>\n",
       "      <td>1900.0</td>\n",
       "    </tr>\n",
       "    <tr>\n",
       "      <th>8489</th>\n",
       "      <td>5740903</td>\n",
       "      <td>yes visit</td>\n",
       "      <td>B</td>\n",
       "      <td>1900.0</td>\n",
       "    </tr>\n",
       "  </tbody>\n",
       "</table>\n",
       "<p>8490 rows × 4 columns</p>\n",
       "</div>"
      ],
      "text/plain": [
       "     student_id visit_in_experiment_days grp     rev\n",
       "0        581585                yes visit   A     0.0\n",
       "1       5723133                yes visit   A     0.0\n",
       "2       3276743                yes visit   B     0.0\n",
       "3       4238589                yes visit   A     0.0\n",
       "4       4475369                yes visit   B     0.0\n",
       "...         ...                      ...  ..     ...\n",
       "8485    5645737                yes visit   B  1900.0\n",
       "8486    5651566                yes visit   B  1900.0\n",
       "8487    5662322                yes visit   B  1900.0\n",
       "8488    5681918                yes visit   B  1900.0\n",
       "8489    5740903                yes visit   B  1900.0\n",
       "\n",
       "[8490 rows x 4 columns]"
      ]
     },
     "execution_count": 24,
     "metadata": {},
     "output_type": "execute_result"
    }
   ],
   "source": [
    "users_exp_upd"
   ]
  },
  {
   "cell_type": "code",
   "execution_count": 25,
   "metadata": {},
   "outputs": [
    {
     "data": {
      "text/plain": [
       "Series([], Name: student_id, dtype: object)"
      ]
     },
     "execution_count": 25,
     "metadata": {},
     "output_type": "execute_result"
    }
   ],
   "source": [
    "# Проверим \"users_exp_upd\" на дубликатыв пользователей\n",
    "users_exp_upd.student_id.loc[users_exp_upd.student_id.duplicated()]"
   ]
  },
  {
   "cell_type": "code",
   "execution_count": 26,
   "metadata": {},
   "outputs": [
    {
     "name": "stdout",
     "output_type": "stream",
     "text": [
      "Дубликатов по пользователям 0 штук.\n"
     ]
    }
   ],
   "source": [
    "print(f\"Дубликатов по пользователям {users_exp_upd.student_id.duplicated().sum()} штук.\")"
   ]
  },
  {
   "cell_type": "code",
   "execution_count": null,
   "metadata": {},
   "outputs": [],
   "source": [
    "\n"
   ]
  },
  {
   "cell_type": "markdown",
   "metadata": {},
   "source": [
    "<h4> Проверим пользователей, которые оплатили, в дни эксперимента, но не заходили в сервис - к какой группе относятся эти пользователи "
   ]
  },
  {
   "cell_type": "code",
   "execution_count": 27,
   "metadata": {},
   "outputs": [
    {
     "data": {
      "text/plain": [
       "['B', 'A']"
      ]
     },
     "execution_count": 27,
     "metadata": {},
     "output_type": "execute_result"
    }
   ],
   "source": [
    "checks_exp_upd.query('visit_in_experiment_days == \"no visit\"').grp.unique().tolist()"
   ]
  },
  {
   "cell_type": "markdown",
   "metadata": {},
   "source": [
    "Видно, что пользователи, у которых была оплата, но не было фактического захода в сервис, отпосятся к обеим когортным группам. Это достаточно интересное наблюдение. Вероятно, система сплитования не отбирала этих пользователей в одну группу, а разбивала пользователей равномерно и рандомно."
   ]
  },
  {
   "cell_type": "markdown",
   "metadata": {},
   "source": [
    "По итогу мы имеем 3 таблицы:\n",
    "1. <b>\"users_exp_upd\"</b>    - таблица (общая) со всеми пользователями, учавствовавшими в эксперименте;\n",
    "2. <b>\"active_studs_upd\"</b> - таблица с пользователями, зашедшими в сервис в дни проведения эксперимента;\n",
    "3. <b>\"checks_exp_upd\"</b>   - таблица с пользователями, у которых была оплата в дни проведения эксперимента."
   ]
  },
  {
   "cell_type": "code",
   "execution_count": null,
   "metadata": {},
   "outputs": [],
   "source": [
    "\n"
   ]
  },
  {
   "cell_type": "markdown",
   "metadata": {},
   "source": [
    "<b><i>Будем анализировать следующие метрики:\n",
    "    - ARPU  (средняя выручка на пользователя);\n",
    "    - ARPPU (средняя выручка на платящего пользователя);\n",
    "    - CR    (конверсия пользователя в покупателя)."
   ]
  },
  {
   "cell_type": "markdown",
   "metadata": {},
   "source": [
    "<h4>1) ARPU  (средняя выручка на пользователя)"
   ]
  },
  {
   "cell_type": "markdown",
   "metadata": {},
   "source": [
    "В этом пункте есть выбор: \n",
    "- сравнивать лишь активных пользователей, которые заходили в сервис в дни проведения эксперимента;\n",
    "- сравнивать всех пользователей, включая тех, кто не заходил в сервис, но при производил оплату в дни проведения эксперимента.\n",
    "\n",
    "Я предлагаю остановиться на 2-ом варианте (и следовать этому выбору в последующих АВ-тестах), дабы попросу, исходя из догадок, не тебять 149 пользователей, которые отметились действием в дни проведения эксперимента, пусть и не заходили в сервис."
   ]
  },
  {
   "cell_type": "code",
   "execution_count": 30,
   "metadata": {},
   "outputs": [
    {
     "data": {
      "text/html": [
       "<div>\n",
       "<style scoped>\n",
       "    .dataframe tbody tr th:only-of-type {\n",
       "        vertical-align: middle;\n",
       "    }\n",
       "\n",
       "    .dataframe tbody tr th {\n",
       "        vertical-align: top;\n",
       "    }\n",
       "\n",
       "    .dataframe thead th {\n",
       "        text-align: right;\n",
       "    }\n",
       "</style>\n",
       "<table border=\"1\" class=\"dataframe\">\n",
       "  <thead>\n",
       "    <tr style=\"text-align: right;\">\n",
       "      <th></th>\n",
       "      <th>sum_revenue</th>\n",
       "      <th>count_users</th>\n",
       "      <th>arpu</th>\n",
       "    </tr>\n",
       "  </thead>\n",
       "  <tbody>\n",
       "    <tr>\n",
       "      <th>A</th>\n",
       "      <td>92096.0000</td>\n",
       "      <td>1567</td>\n",
       "      <td>58.772176</td>\n",
       "    </tr>\n",
       "    <tr>\n",
       "      <th>B</th>\n",
       "      <td>481230.0036</td>\n",
       "      <td>6923</td>\n",
       "      <td>69.511773</td>\n",
       "    </tr>\n",
       "  </tbody>\n",
       "</table>\n",
       "</div>"
      ],
      "text/plain": [
       "   sum_revenue  count_users       arpu\n",
       "A   92096.0000         1567  58.772176\n",
       "B  481230.0036         6923  69.511773"
      ]
     },
     "execution_count": 30,
     "metadata": {},
     "output_type": "execute_result"
    }
   ],
   "source": [
    "# Число юзеров в группе А\n",
    "count_users_A = users_exp_upd.query(\"grp == 'A'\").shape[0]\n",
    "# Выручка в группе А\n",
    "sum_revenue_A = users_exp_upd.query(\"grp == 'A'\").rev.sum()\n",
    "# Средняя выручка в группе А\n",
    "arpu_A = sum_revenue_A / count_users_A\n",
    "\n",
    "# Число юзеров в группе B\n",
    "count_users_B = users_exp_upd.query(\"grp == 'B'\").shape[0]\n",
    "# Выручка в группе B\n",
    "sum_revenue_B = users_exp_upd.query(\"grp == 'B'\").rev.sum()\n",
    "# Средняя выручка в группе B\n",
    "arpu_B = sum_revenue_B / count_users_B\n",
    "\n",
    "# Выведем таблицу в ARPU по группам\n",
    "arpu_frame = pd.DataFrame(index=[\"A\",\"B\"],\n",
    "                          columns=[\"sum_revenue\", \"count_users\", \"arpu\"], \n",
    "                          data=[[sum_revenue_A, count_users_A, arpu_A],\n",
    "                                [sum_revenue_B, count_users_B, arpu_B]])\n",
    "arpu_frame"
   ]
  },
  {
   "cell_type": "markdown",
   "metadata": {},
   "source": [
    "Сразу можно отметить, что количество пользователей в контрольной группе А намного меньше, чем в тестовой группе B."
   ]
  },
  {
   "cell_type": "code",
   "execution_count": 207,
   "metadata": {},
   "outputs": [
    {
     "name": "stdout",
     "output_type": "stream",
     "text": [
      "ARPU выше в тестовой группе на 18.27% по сравнению с контрольной группой.\n"
     ]
    }
   ],
   "source": [
    "print(f\"ARPU выше в тестовой группе на \\\n",
    "{round((arpu_frame.arpu['B'] / arpu_frame.arpu['A'] - 1) * 100, 2)}% \\\n",
    "по сравнению с контрольной группой.\")"
   ]
  },
  {
   "cell_type": "code",
   "execution_count": 62,
   "metadata": {},
   "outputs": [
    {
     "data": {
      "text/plain": [
       "Text(0.5, 0, 'Группы')"
      ]
     },
     "execution_count": 62,
     "metadata": {},
     "output_type": "execute_result"
    },
    {
     "data": {
      "image/png": "[encoded data removed]",
      "text/plain": [
       "<Figure size 1080x360 with 1 Axes>"
      ]
     },
     "metadata": {
      "needs_background": "light"
     },
     "output_type": "display_data"
    }
   ],
   "source": [
    "# Посмотрим на число пользователей в каждой группе\n",
    "\n",
    "# Размер графика\n",
    "plt.figure(figsize=(15,5))\n",
    "\n",
    "# Нарисуем барплот\n",
    "graf = sns.barplot(data=users_exp_upd.groupby(\"grp\", as_index=False).agg({\"student_id\":\"count\"}).sort_values('grp', ascending=True), \n",
    "                        x=\"grp\", \n",
    "                        y=\"student_id\")\n",
    "\n",
    "# Нарисуем сетку\n",
    "plt.grid(visible=True, axis='both', linestyle=':')\n",
    "\n",
    "# Подписи названию и осям графика\n",
    "graf.set_title('Распределение количества пользователей в 2-ух группах\\n', size=20)\n",
    "graf.set_ylabel('Количество пользователей', labelpad=15, size=10)\n",
    "graf.set_xlabel('Группы', labelpad=15, size=10)\n",
    "\n",
    "# Легенда\n",
    "#plt.legend(title=\"Группа\")\n",
    "\n",
    "# Подписи меток осей\n",
    "#plt.xticks(fontsize=10) #range(len(labels)), labels, , rotation=45\n",
    "#plt.yticks(fontsize=10)"
   ]
  },
  {
   "cell_type": "code",
   "execution_count": 73,
   "metadata": {},
   "outputs": [
    {
     "data": {
      "text/plain": [
       "Text(0.5, 0, 'Группы')"
      ]
     },
     "execution_count": 73,
     "metadata": {},
     "output_type": "execute_result"
    },
    {
     "data": {
      "image/png": "[encoded data removed]",
      "text/plain": [
       "<Figure size 1080x360 with 1 Axes>"
      ]
     },
     "metadata": {
      "needs_background": "light"
     },
     "output_type": "display_data"
    }
   ],
   "source": [
    "# Посмотрим распределение прибыли в каждой группе\n",
    "\n",
    "# Размер графика\n",
    "plt.figure(figsize=(15,5))\n",
    "\n",
    "# Нарисуем барплот\n",
    "graf = sns.boxplot(data=users_exp_upd, \n",
    "                                            x=\"grp\", \n",
    "                                            y=\"rev\")\n",
    "\n",
    "# Нарисуем сетку\n",
    "plt.grid(visible=True, axis='both', linestyle=':')\n",
    "\n",
    "# Подписи названию и осям графика\n",
    "plt.title('Распределение средней прибыли с пользователя в 2-ух группах\\n', size=20)\n",
    "plt.ylabel('Количество пользователей', labelpad=15, size=10)\n",
    "plt.xlabel('Группы', labelpad=15, size=10)"
   ]
  },
  {
   "cell_type": "code",
   "execution_count": 85,
   "metadata": {},
   "outputs": [
    {
     "data": {
      "text/plain": [
       "Text(0.5, 6.79999999999999, 'Группы')"
      ]
     },
     "execution_count": 85,
     "metadata": {},
     "output_type": "execute_result"
    },
    {
     "data": {
      "text/plain": [
       "<Figure size 1080x360 with 0 Axes>"
      ]
     },
     "metadata": {},
     "output_type": "display_data"
    },
    {
     "data": {
      "image/png": "[encoded data removed]",
      "text/plain": [
       "<Figure size 402.875x360 with 1 Axes>"
      ]
     },
     "metadata": {
      "needs_background": "light"
     },
     "output_type": "display_data"
    }
   ],
   "source": [
    "# Посмотрим на распределение прибыли в каждой группе\n",
    "\n",
    "# Размер графика\n",
    "plt.figure(figsize=(15,5))\n",
    "\n",
    "# Нарисуем барплот\n",
    "sns.displot(data=users_exp_upd, x='rev', hue=\"grp\", kde=True)\n",
    "\n",
    "# Нарисуем сетку\n",
    "plt.grid(visible=True, axis='both', linestyle=':')\n",
    "\n",
    "# Подписи названию и осям графика\n",
    "plt.title('Распределение средней прибыли с пользователя в 2-ух группах\\n', size=20)\n",
    "plt.ylabel('Количество пользователей', labelpad=15, size=10)\n",
    "plt.xlabel('Группы', labelpad=15, size=10)"
   ]
  },
  {
   "cell_type": "markdown",
   "metadata": {},
   "source": [
    "По виду распределения не напоминают нормальные!"
   ]
  },
  {
   "cell_type": "markdown",
   "metadata": {},
   "source": [
    "<b>Проверим распределения на нормальность.</b><br><br>\n",
    "Так как выборки большого размера (1567 в группе А, 6923 в группе В, что явно больше 30), то лучше всего подойдет использование normaltest."
   ]
  },
  {
   "cell_type": "code",
   "execution_count": 108,
   "metadata": {},
   "outputs": [
    {
     "data": {
      "text/html": [
       "<div>\n",
       "<style scoped>\n",
       "    .dataframe tbody tr th:only-of-type {\n",
       "        vertical-align: middle;\n",
       "    }\n",
       "\n",
       "    .dataframe tbody tr th {\n",
       "        vertical-align: top;\n",
       "    }\n",
       "\n",
       "    .dataframe thead th {\n",
       "        text-align: right;\n",
       "    }\n",
       "</style>\n",
       "<table border=\"1\" class=\"dataframe\">\n",
       "  <thead>\n",
       "    <tr style=\"text-align: right;\">\n",
       "      <th></th>\n",
       "      <th>W</th>\n",
       "      <th>pval</th>\n",
       "      <th>normal</th>\n",
       "    </tr>\n",
       "  </thead>\n",
       "  <tbody>\n",
       "    <tr>\n",
       "      <th>A</th>\n",
       "      <td>2128.744222</td>\n",
       "      <td>0.0</td>\n",
       "      <td>False</td>\n",
       "    </tr>\n",
       "    <tr>\n",
       "      <th>B</th>\n",
       "      <td>7405.521370</td>\n",
       "      <td>0.0</td>\n",
       "      <td>False</td>\n",
       "    </tr>\n",
       "  </tbody>\n",
       "</table>\n",
       "</div>"
      ],
      "text/plain": [
       "             W  pval  normal\n",
       "A  2128.744222   0.0   False\n",
       "B  7405.521370   0.0   False"
      ]
     },
     "execution_count": 108,
     "metadata": {},
     "output_type": "execute_result"
    }
   ],
   "source": [
    "pg.normality(users_exp_upd, \n",
    "                             group=\"grp\", \n",
    "                             dv='rev',\n",
    "                             method=\"normaltest\")"
   ]
  },
  {
   "cell_type": "markdown",
   "metadata": {},
   "source": [
    "Распределения в обеих группах не нормальные."
   ]
  },
  {
   "cell_type": "markdown",
   "metadata": {},
   "source": [
    "<b>Проверим распределения на  однородность дисперсий.</b><br><br>\n",
    "Выдвинем гипотезы для проверки однородности дисперсий:\n",
    "<li>$Н_0$ - дисперсии гомогенны</li>\n",
    "<li>$Н_1$ - дисперсии НЕ гомогенны</li>   \n",
    "\n",
    "Проверим распределения через критерий Левена."
   ]
  },
  {
   "cell_type": "code",
   "execution_count": 109,
   "metadata": {},
   "outputs": [
    {
     "data": {
      "text/html": [
       "<div>\n",
       "<style scoped>\n",
       "    .dataframe tbody tr th:only-of-type {\n",
       "        vertical-align: middle;\n",
       "    }\n",
       "\n",
       "    .dataframe tbody tr th {\n",
       "        vertical-align: top;\n",
       "    }\n",
       "\n",
       "    .dataframe thead th {\n",
       "        text-align: right;\n",
       "    }\n",
       "</style>\n",
       "<table border=\"1\" class=\"dataframe\">\n",
       "  <thead>\n",
       "    <tr style=\"text-align: right;\">\n",
       "      <th></th>\n",
       "      <th>W</th>\n",
       "      <th>pval</th>\n",
       "      <th>equal_var</th>\n",
       "    </tr>\n",
       "  </thead>\n",
       "  <tbody>\n",
       "    <tr>\n",
       "      <th>levene</th>\n",
       "      <td>1.416929</td>\n",
       "      <td>0.233943</td>\n",
       "      <td>True</td>\n",
       "    </tr>\n",
       "  </tbody>\n",
       "</table>\n",
       "</div>"
      ],
      "text/plain": [
       "               W      pval  equal_var\n",
       "levene  1.416929  0.233943       True"
      ]
     },
     "execution_count": 109,
     "metadata": {},
     "output_type": "execute_result"
    }
   ],
   "source": [
    "pg.homoscedasticity(users_exp_upd, \n",
    "                                         group=\"grp\", \n",
    "                                         dv='rev')"
   ]
  },
  {
   "cell_type": "markdown",
   "metadata": {},
   "source": [
    "Дисперсии гомогенны."
   ]
  },
  {
   "cell_type": "markdown",
   "metadata": {},
   "source": [
    "На основе полученных данных (большие выборки, дисперсии однородны, распределения не нормальны) <b>можно использовать Т-тест Стъюдента</b>.\n",
    "\n",
    "Выдвинем гипотезы для сравнения средних значений прибыли в группах:\n",
    "- $Н_0$ - средние значения прибыли в группах не отличаются;\n",
    "- $Н_1$ - средние значения прибыли в группах отличаются."
   ]
  },
  {
   "cell_type": "code",
   "execution_count": 142,
   "metadata": {
    "scrolled": true
   },
   "outputs": [
    {
     "data": {
      "text/html": [
       "<div>\n",
       "<style scoped>\n",
       "    .dataframe tbody tr th:only-of-type {\n",
       "        vertical-align: middle;\n",
       "    }\n",
       "\n",
       "    .dataframe tbody tr th {\n",
       "        vertical-align: top;\n",
       "    }\n",
       "\n",
       "    .dataframe thead th {\n",
       "        text-align: right;\n",
       "    }\n",
       "</style>\n",
       "<table border=\"1\" class=\"dataframe\">\n",
       "  <thead>\n",
       "    <tr style=\"text-align: right;\">\n",
       "      <th></th>\n",
       "      <th>T</th>\n",
       "      <th>dof</th>\n",
       "      <th>alternative</th>\n",
       "      <th>p-val</th>\n",
       "      <th>CI95%</th>\n",
       "      <th>cohen-d</th>\n",
       "      <th>BF10</th>\n",
       "      <th>power</th>\n",
       "    </tr>\n",
       "  </thead>\n",
       "  <tbody>\n",
       "    <tr>\n",
       "      <th>T-test</th>\n",
       "      <td>-1.190348</td>\n",
       "      <td>8488</td>\n",
       "      <td>two-sided</td>\n",
       "      <td>0.233943</td>\n",
       "      <td>[-28.43, 6.95]</td>\n",
       "      <td>0.0333</td>\n",
       "      <td>0.064</td>\n",
       "      <td>0.22154</td>\n",
       "    </tr>\n",
       "  </tbody>\n",
       "</table>\n",
       "</div>"
      ],
      "text/plain": [
       "               T   dof alternative     p-val           CI95%  cohen-d   BF10  \\\n",
       "T-test -1.190348  8488   two-sided  0.233943  [-28.43, 6.95]   0.0333  0.064   \n",
       "\n",
       "          power  \n",
       "T-test  0.22154  "
      ]
     },
     "execution_count": 142,
     "metadata": {},
     "output_type": "execute_result"
    }
   ],
   "source": [
    "pg.ttest(users_exp_upd.query('grp == \"A\"').rev, \n",
    "                 users_exp_upd.query('grp == \"B\"').rev,\n",
    "                 correction=False)"
   ]
  },
  {
   "cell_type": "markdown",
   "metadata": {},
   "source": [
    "<h5>Так как p-value > 0.05, то оставляем $H_0$,\n",
    "и делаем вывод - </h5>\n",
    "    <br><i>Cредние значения прибыли по пользователям между группами стат.значимо неотличаются!\n",
    "    Но также не будем забывать, что есть вопросы к системе сплитования и количество пользователей отличается сильно."
   ]
  },
  {
   "cell_type": "code",
   "execution_count": null,
   "metadata": {},
   "outputs": [],
   "source": [
    "\n",
    "\n"
   ]
  },
  {
   "cell_type": "markdown",
   "metadata": {},
   "source": [
    "<h4>2) ARPPU  (средняя выручка на платящего пользователя)"
   ]
  },
  {
   "cell_type": "code",
   "execution_count": 122,
   "metadata": {},
   "outputs": [
    {
     "data": {
      "text/html": [
       "<div>\n",
       "<style scoped>\n",
       "    .dataframe tbody tr th:only-of-type {\n",
       "        vertical-align: middle;\n",
       "    }\n",
       "\n",
       "    .dataframe tbody tr th {\n",
       "        vertical-align: top;\n",
       "    }\n",
       "\n",
       "    .dataframe thead th {\n",
       "        text-align: right;\n",
       "    }\n",
       "</style>\n",
       "<table border=\"1\" class=\"dataframe\">\n",
       "  <thead>\n",
       "    <tr style=\"text-align: right;\">\n",
       "      <th></th>\n",
       "      <th>sum_pay_revenue</th>\n",
       "      <th>count_pay_users</th>\n",
       "      <th>arppu</th>\n",
       "    </tr>\n",
       "  </thead>\n",
       "  <tbody>\n",
       "    <tr>\n",
       "      <th>A</th>\n",
       "      <td>92096.0000</td>\n",
       "      <td>107</td>\n",
       "      <td>860.710280</td>\n",
       "    </tr>\n",
       "    <tr>\n",
       "      <th>B</th>\n",
       "      <td>481230.0036</td>\n",
       "      <td>434</td>\n",
       "      <td>1108.824893</td>\n",
       "    </tr>\n",
       "  </tbody>\n",
       "</table>\n",
       "</div>"
      ],
      "text/plain": [
       "   sum_pay_revenue  count_pay_users        arppu\n",
       "A       92096.0000              107   860.710280\n",
       "B      481230.0036              434  1108.824893"
      ]
     },
     "execution_count": 122,
     "metadata": {},
     "output_type": "execute_result"
    }
   ],
   "source": [
    "# Число юзеров в группе А\n",
    "count_pay_users_A = checks_exp_upd.query(\"grp == 'A'\").shape[0]\n",
    "# Выручка в группе А\n",
    "sum_pay_revenue_A = checks_exp_upd.query(\"grp == 'A'\").rev.sum()\n",
    "# Средняя выручка в группе А\n",
    "arppu_A = sum_pay_revenue_A / count_pay_users_A\n",
    "\n",
    "# Число юзеров в группе B\n",
    "count_pay_users_B = checks_exp_upd.query(\"grp == 'B'\").shape[0]\n",
    "# Выручка в группе B\n",
    "sum_pay_revenue_B = checks_exp_upd.query(\"grp == 'B'\").rev.sum()\n",
    "# Средняя выручка в группе B\n",
    "arppu_B = sum_pay_revenue_B / count_pay_users_B\n",
    "\n",
    "# Выведем таблицу в ARPPU по группам\n",
    "arppu_frame = pd.DataFrame(index=[\"A\",\"B\"],\n",
    "                                                           columns=[\"sum_pay_revenue\", \"count_pay_users\", \"arppu\"], \n",
    "                                                           data=[[sum_pay_revenue_A, count_pay_users_A, arppu_A],\n",
    "                                                                        [sum_pay_revenue_B, count_pay_users_B, arppu_B]])\n",
    "arppu_frame"
   ]
  },
  {
   "cell_type": "code",
   "execution_count": 208,
   "metadata": {},
   "outputs": [
    {
     "name": "stdout",
     "output_type": "stream",
     "text": [
      "ARPPU выше в тестовой группе на 28.83% по сравнению с контрольной группой.\n"
     ]
    }
   ],
   "source": [
    "print(f\"ARPPU выше в тестовой группе на \\\n",
    "{round((arppu_frame.arppu['B'] / arppu_frame.arppu['A'] - 1) * 100, 2)}% \\\n",
    "по сравнению с контрольной группой.\")"
   ]
  },
  {
   "cell_type": "code",
   "execution_count": 123,
   "metadata": {},
   "outputs": [
    {
     "data": {
      "text/plain": [
       "Text(0.5, 0, 'Группы')"
      ]
     },
     "execution_count": 123,
     "metadata": {},
     "output_type": "execute_result"
    },
    {
     "data": {
      "image/png": "[encoded data removed]",
      "text/plain": [
       "<Figure size 1080x360 with 1 Axes>"
      ]
     },
     "metadata": {
      "needs_background": "light"
     },
     "output_type": "display_data"
    }
   ],
   "source": [
    "# Посмотрим на число пользователей в каждой группе\n",
    "\n",
    "# Размер графика\n",
    "plt.figure(figsize=(15,5))\n",
    "\n",
    "# Нарисуем барплот\n",
    "graf = sns.barplot(data=checks_exp_upd.groupby(\"grp\", as_index=False).agg({\"student_id\":\"count\"}).sort_values('grp', ascending=True), \n",
    "                        x=\"grp\", \n",
    "                        y=\"student_id\")\n",
    "\n",
    "# Нарисуем сетку\n",
    "plt.grid(visible=True, axis='both', linestyle=':')\n",
    "\n",
    "# Подписи названию и осям графика\n",
    "graf.set_title('Распределение количества пользователей в 2-ух группах\\n', size=20)\n",
    "graf.set_ylabel('Количество пользователей', labelpad=15, size=10)\n",
    "graf.set_xlabel('Группы', labelpad=15, size=10)"
   ]
  },
  {
   "cell_type": "code",
   "execution_count": 124,
   "metadata": {},
   "outputs": [
    {
     "data": {
      "text/plain": [
       "Text(0.5, 0, 'Группы')"
      ]
     },
     "execution_count": 124,
     "metadata": {},
     "output_type": "execute_result"
    },
    {
     "data": {
      "image/png": "[encoded data removed]",
      "text/plain": [
       "<Figure size 1080x360 with 1 Axes>"
      ]
     },
     "metadata": {
      "needs_background": "light"
     },
     "output_type": "display_data"
    }
   ],
   "source": [
    "# Посмотрим распределение прибыли в каждой группе\n",
    "\n",
    "# Размер графика\n",
    "plt.figure(figsize=(15,5))\n",
    "\n",
    "# Нарисуем барплот\n",
    "graf = sns.boxplot(data=checks_exp_upd, \n",
    "                                            x=\"grp\", \n",
    "                                            y=\"rev\")\n",
    "\n",
    "# Нарисуем сетку\n",
    "plt.grid(visible=True, axis='both', linestyle=':')\n",
    "\n",
    "# Подписи названию и осям графика\n",
    "plt.title('Распределение средней прибыли с пользователя в 2-ух группах\\n', size=20)\n",
    "plt.ylabel('Количество пользователей', labelpad=15, size=10)\n",
    "plt.xlabel('Группы', labelpad=15, size=10)"
   ]
  },
  {
   "cell_type": "code",
   "execution_count": 125,
   "metadata": {},
   "outputs": [
    {
     "data": {
      "text/plain": [
       "Text(0.5, 6.79999999999999, 'Группы')"
      ]
     },
     "execution_count": 125,
     "metadata": {},
     "output_type": "execute_result"
    },
    {
     "data": {
      "text/plain": [
       "<Figure size 1080x360 with 0 Axes>"
      ]
     },
     "metadata": {},
     "output_type": "display_data"
    },
    {
     "data": {
      "image/png": "[encoded data removed]",
      "text/plain": [
       "<Figure size 402.875x360 with 1 Axes>"
      ]
     },
     "metadata": {
      "needs_background": "light"
     },
     "output_type": "display_data"
    }
   ],
   "source": [
    "# Посмотрим на распределение прибыли в каждой группе\n",
    "\n",
    "# Размер графика\n",
    "plt.figure(figsize=(15,5))\n",
    "\n",
    "# Нарисуем барплот\n",
    "sns.displot(data=checks_exp_upd, x='rev', hue=\"grp\", kde=True)\n",
    "\n",
    "# Нарисуем сетку\n",
    "plt.grid(visible=True, axis='both', linestyle=':')\n",
    "\n",
    "# Подписи названию и осям графика\n",
    "plt.title('Распределение средней прибыли с пользователя в 2-ух группах\\n', size=20)\n",
    "plt.ylabel('Количество пользователей', labelpad=15, size=10)\n",
    "plt.xlabel('Группы', labelpad=15, size=10)"
   ]
  },
  {
   "cell_type": "markdown",
   "metadata": {},
   "source": [
    "По виду распределения не напоминают нормальные!"
   ]
  },
  {
   "cell_type": "markdown",
   "metadata": {},
   "source": [
    "<b>Проверим распределения на нормальность.</b><br><br>\n",
    "Так как выборки большого размера (107 в группе А, 434 в группе В, что явно больше 30), то лучше всего подойдет использование normaltest."
   ]
  },
  {
   "cell_type": "code",
   "execution_count": 129,
   "metadata": {},
   "outputs": [
    {
     "data": {
      "text/html": [
       "<div>\n",
       "<style scoped>\n",
       "    .dataframe tbody tr th:only-of-type {\n",
       "        vertical-align: middle;\n",
       "    }\n",
       "\n",
       "    .dataframe tbody tr th {\n",
       "        vertical-align: top;\n",
       "    }\n",
       "\n",
       "    .dataframe thead th {\n",
       "        text-align: right;\n",
       "    }\n",
       "</style>\n",
       "<table border=\"1\" class=\"dataframe\">\n",
       "  <thead>\n",
       "    <tr style=\"text-align: right;\">\n",
       "      <th></th>\n",
       "      <th>W</th>\n",
       "      <th>pval</th>\n",
       "      <th>normal</th>\n",
       "    </tr>\n",
       "  </thead>\n",
       "  <tbody>\n",
       "    <tr>\n",
       "      <th>A</th>\n",
       "      <td>52.218452</td>\n",
       "      <td>4.580439e-12</td>\n",
       "      <td>False</td>\n",
       "    </tr>\n",
       "    <tr>\n",
       "      <th>B</th>\n",
       "      <td>33.195875</td>\n",
       "      <td>6.188814e-08</td>\n",
       "      <td>False</td>\n",
       "    </tr>\n",
       "  </tbody>\n",
       "</table>\n",
       "</div>"
      ],
      "text/plain": [
       "           W          pval  normal\n",
       "A  52.218452  4.580439e-12   False\n",
       "B  33.195875  6.188814e-08   False"
      ]
     },
     "execution_count": 129,
     "metadata": {},
     "output_type": "execute_result"
    }
   ],
   "source": [
    "pg.normality(checks_exp_upd, \n",
    "                             group=\"grp\", \n",
    "                             dv='rev',\n",
    "                             method=\"normaltest\")"
   ]
  },
  {
   "cell_type": "markdown",
   "metadata": {},
   "source": [
    "Распределения в обеих группах не нормальные"
   ]
  },
  {
   "cell_type": "markdown",
   "metadata": {},
   "source": [
    "<b>Проверим распределения на  однородность дисперсий.</b><br><br>\n",
    "Выдвинем гипотезы для проверки однородности дисперсий:\n",
    "<li>$Н_0$ - дисперсии гомогенны</li>\n",
    "<li>$Н_1$ - дисперсии НЕ гомогенны</li>   \n",
    "\n",
    "Проверим распределения через критерий Левена."
   ]
  },
  {
   "cell_type": "code",
   "execution_count": 130,
   "metadata": {},
   "outputs": [
    {
     "data": {
      "text/html": [
       "<div>\n",
       "<style scoped>\n",
       "    .dataframe tbody tr th:only-of-type {\n",
       "        vertical-align: middle;\n",
       "    }\n",
       "\n",
       "    .dataframe tbody tr th {\n",
       "        vertical-align: top;\n",
       "    }\n",
       "\n",
       "    .dataframe thead th {\n",
       "        text-align: right;\n",
       "    }\n",
       "</style>\n",
       "<table border=\"1\" class=\"dataframe\">\n",
       "  <thead>\n",
       "    <tr style=\"text-align: right;\">\n",
       "      <th></th>\n",
       "      <th>W</th>\n",
       "      <th>pval</th>\n",
       "      <th>equal_var</th>\n",
       "    </tr>\n",
       "  </thead>\n",
       "  <tbody>\n",
       "    <tr>\n",
       "      <th>levene</th>\n",
       "      <td>4.478901</td>\n",
       "      <td>0.034774</td>\n",
       "      <td>False</td>\n",
       "    </tr>\n",
       "  </tbody>\n",
       "</table>\n",
       "</div>"
      ],
      "text/plain": [
       "               W      pval  equal_var\n",
       "levene  4.478901  0.034774      False"
      ]
     },
     "execution_count": 130,
     "metadata": {},
     "output_type": "execute_result"
    }
   ],
   "source": [
    "pg.homoscedasticity(checks_exp_upd, \n",
    "                                         group=\"grp\", \n",
    "                                         dv='rev')"
   ]
  },
  {
   "cell_type": "markdown",
   "metadata": {},
   "source": [
    "Дисперсии НЕ гомогенны."
   ]
  },
  {
   "cell_type": "markdown",
   "metadata": {},
   "source": [
    "На основе полученных данных (большие выборки, дисперсии неоднородны, распределения не нормальны) <b>можно использовать Т-тест Уэлча для неоднородных дисперсий в распределениях</b>.\n",
    "\n",
    "Выдвинем гипотезы для сравнения средних значений прибыли в группах:\n",
    "- $Н_0$ - средние значения прибыли в группах не отличаются;\n",
    "- $Н_1$ - средние значения прибыли в группах отличаются."
   ]
  },
  {
   "cell_type": "code",
   "execution_count": 145,
   "metadata": {},
   "outputs": [
    {
     "data": {
      "text/html": [
       "<div>\n",
       "<style scoped>\n",
       "    .dataframe tbody tr th:only-of-type {\n",
       "        vertical-align: middle;\n",
       "    }\n",
       "\n",
       "    .dataframe tbody tr th {\n",
       "        vertical-align: top;\n",
       "    }\n",
       "\n",
       "    .dataframe thead th {\n",
       "        text-align: right;\n",
       "    }\n",
       "</style>\n",
       "<table border=\"1\" class=\"dataframe\">\n",
       "  <thead>\n",
       "    <tr style=\"text-align: right;\">\n",
       "      <th></th>\n",
       "      <th>T</th>\n",
       "      <th>dof</th>\n",
       "      <th>alternative</th>\n",
       "      <th>p-val</th>\n",
       "      <th>CI95%</th>\n",
       "      <th>cohen-d</th>\n",
       "      <th>BF10</th>\n",
       "      <th>power</th>\n",
       "    </tr>\n",
       "  </thead>\n",
       "  <tbody>\n",
       "    <tr>\n",
       "      <th>T-test</th>\n",
       "      <td>-2.867019</td>\n",
       "      <td>152.06622</td>\n",
       "      <td>two-sided</td>\n",
       "      <td>0.004732</td>\n",
       "      <td>[-419.09, -77.14]</td>\n",
       "      <td>0.327773</td>\n",
       "      <td>6.039</td>\n",
       "      <td>0.858002</td>\n",
       "    </tr>\n",
       "  </tbody>\n",
       "</table>\n",
       "</div>"
      ],
      "text/plain": [
       "               T        dof alternative     p-val              CI95%  \\\n",
       "T-test -2.867019  152.06622   two-sided  0.004732  [-419.09, -77.14]   \n",
       "\n",
       "         cohen-d   BF10     power  \n",
       "T-test  0.327773  6.039  0.858002  "
      ]
     },
     "execution_count": 145,
     "metadata": {},
     "output_type": "execute_result"
    }
   ],
   "source": [
    "pg.ttest(checks_exp_upd.query('grp == \"A\"').rev, \n",
    "                 checks_exp_upd.query('grp == \"B\"').rev,\n",
    "                 correction=True)"
   ]
  },
  {
   "cell_type": "markdown",
   "metadata": {},
   "source": [
    "<h5>Так как p-value < 0.05, то отбрасываем $H_0$,\n",
    "и делаем вывод - </h5>\n",
    "    <br><i>Cредние значения прибыли по пользователям между группами стат.значимо отличаются! И в тестовой группе В средняя прибыль <br>на платящего пользователя выше, чем в контрольной группе А.\n",
    "<br> Но также не будем забывать, что есть вопросы к системе сплитования и количество пользователей отличается сильно."
   ]
  },
  {
   "cell_type": "code",
   "execution_count": null,
   "metadata": {},
   "outputs": [],
   "source": [
    "\n",
    "\n"
   ]
  },
  {
   "cell_type": "markdown",
   "metadata": {},
   "source": [
    "<h4>3) CR  (конверсия пользователя в платящего пользователя)</h4>\n",
    "\n",
    "Так как CR - это качественная переменная, то стоит использовать для сравнения этих переменных критерий согласия Пирсона (критерий Хи-квадрат).\n",
    "Но на данном этапе, всех кто не заходил в сервис в дни проведения эксперимента стоит отбросить, так как эти пользователи скорее всего имеют подписочную модель и скорвертировались в платящего пользователя до проведения эксперимента и они сместят картину в пользу увеличения CR, что даст ложное представление о конверсии."
   ]
  },
  {
   "cell_type": "code",
   "execution_count": 163,
   "metadata": {},
   "outputs": [
    {
     "name": "stderr",
     "output_type": "stream",
     "text": [
      "/opt/tljh/user/lib/python3.7/site-packages/ipykernel_launcher.py:5: SettingWithCopyWarning: \n",
      "A value is trying to be set on a copy of a slice from a DataFrame.\n",
      "Try using .loc[row_indexer,col_indexer] = value instead\n",
      "\n",
      "See the caveats in the documentation: https://pandas.pydata.org/pandas-docs/stable/user_guide/indexing.html#returning-a-view-versus-a-copy\n",
      "  \"\"\"\n"
     ]
    },
    {
     "data": {
      "text/html": [
       "<div>\n",
       "<style scoped>\n",
       "    .dataframe tbody tr th:only-of-type {\n",
       "        vertical-align: middle;\n",
       "    }\n",
       "\n",
       "    .dataframe tbody tr th {\n",
       "        vertical-align: top;\n",
       "    }\n",
       "\n",
       "    .dataframe thead th {\n",
       "        text-align: right;\n",
       "    }\n",
       "</style>\n",
       "<table border=\"1\" class=\"dataframe\">\n",
       "  <thead>\n",
       "    <tr style=\"text-align: right;\">\n",
       "      <th></th>\n",
       "      <th>student_id</th>\n",
       "      <th>visit_in_experiment_days</th>\n",
       "      <th>grp</th>\n",
       "      <th>rev</th>\n",
       "      <th>purchase</th>\n",
       "    </tr>\n",
       "  </thead>\n",
       "  <tbody>\n",
       "    <tr>\n",
       "      <th>0</th>\n",
       "      <td>581585</td>\n",
       "      <td>yes visit</td>\n",
       "      <td>A</td>\n",
       "      <td>0.0</td>\n",
       "      <td>False</td>\n",
       "    </tr>\n",
       "    <tr>\n",
       "      <th>1</th>\n",
       "      <td>5723133</td>\n",
       "      <td>yes visit</td>\n",
       "      <td>A</td>\n",
       "      <td>0.0</td>\n",
       "      <td>False</td>\n",
       "    </tr>\n",
       "    <tr>\n",
       "      <th>2</th>\n",
       "      <td>3276743</td>\n",
       "      <td>yes visit</td>\n",
       "      <td>B</td>\n",
       "      <td>0.0</td>\n",
       "      <td>False</td>\n",
       "    </tr>\n",
       "    <tr>\n",
       "      <th>3</th>\n",
       "      <td>4238589</td>\n",
       "      <td>yes visit</td>\n",
       "      <td>A</td>\n",
       "      <td>0.0</td>\n",
       "      <td>False</td>\n",
       "    </tr>\n",
       "    <tr>\n",
       "      <th>4</th>\n",
       "      <td>4475369</td>\n",
       "      <td>yes visit</td>\n",
       "      <td>B</td>\n",
       "      <td>0.0</td>\n",
       "      <td>False</td>\n",
       "    </tr>\n",
       "    <tr>\n",
       "      <th>...</th>\n",
       "      <td>...</td>\n",
       "      <td>...</td>\n",
       "      <td>...</td>\n",
       "      <td>...</td>\n",
       "      <td>...</td>\n",
       "    </tr>\n",
       "    <tr>\n",
       "      <th>8485</th>\n",
       "      <td>5645737</td>\n",
       "      <td>yes visit</td>\n",
       "      <td>B</td>\n",
       "      <td>1900.0</td>\n",
       "      <td>True</td>\n",
       "    </tr>\n",
       "    <tr>\n",
       "      <th>8486</th>\n",
       "      <td>5651566</td>\n",
       "      <td>yes visit</td>\n",
       "      <td>B</td>\n",
       "      <td>1900.0</td>\n",
       "      <td>True</td>\n",
       "    </tr>\n",
       "    <tr>\n",
       "      <th>8487</th>\n",
       "      <td>5662322</td>\n",
       "      <td>yes visit</td>\n",
       "      <td>B</td>\n",
       "      <td>1900.0</td>\n",
       "      <td>True</td>\n",
       "    </tr>\n",
       "    <tr>\n",
       "      <th>8488</th>\n",
       "      <td>5681918</td>\n",
       "      <td>yes visit</td>\n",
       "      <td>B</td>\n",
       "      <td>1900.0</td>\n",
       "      <td>True</td>\n",
       "    </tr>\n",
       "    <tr>\n",
       "      <th>8489</th>\n",
       "      <td>5740903</td>\n",
       "      <td>yes visit</td>\n",
       "      <td>B</td>\n",
       "      <td>1900.0</td>\n",
       "      <td>True</td>\n",
       "    </tr>\n",
       "  </tbody>\n",
       "</table>\n",
       "<p>8341 rows × 5 columns</p>\n",
       "</div>"
      ],
      "text/plain": [
       "     student_id visit_in_experiment_days grp     rev  purchase\n",
       "0        581585                yes visit   A     0.0     False\n",
       "1       5723133                yes visit   A     0.0     False\n",
       "2       3276743                yes visit   B     0.0     False\n",
       "3       4238589                yes visit   A     0.0     False\n",
       "4       4475369                yes visit   B     0.0     False\n",
       "...         ...                      ...  ..     ...       ...\n",
       "8485    5645737                yes visit   B  1900.0      True\n",
       "8486    5651566                yes visit   B  1900.0      True\n",
       "8487    5662322                yes visit   B  1900.0      True\n",
       "8488    5681918                yes visit   B  1900.0      True\n",
       "8489    5740903                yes visit   B  1900.0      True\n",
       "\n",
       "[8341 rows x 5 columns]"
      ]
     },
     "execution_count": 163,
     "metadata": {},
     "output_type": "execute_result"
    }
   ],
   "source": [
    "# Отфильтруем пользователей, которые заходили в сервис в дни проведения эксперимента\n",
    "users_exp_upd_yes_visit = users_exp_upd.query(\"visit_in_experiment_days == 'yes visit'\")\n",
    "\n",
    "# Зададим новую колонку \"purchase\" - была ли совершена покупка\n",
    "users_exp_upd_yes_visit[\"purchase\"] = users_exp_upd_yes_visit.rev.apply(lambda x: False if x == 0 else True)\n",
    "users_exp_upd_yes_visit"
   ]
  },
  {
   "cell_type": "code",
   "execution_count": 173,
   "metadata": {},
   "outputs": [
    {
     "data": {
      "text/html": [
       "<div>\n",
       "<style scoped>\n",
       "    .dataframe tbody tr th:only-of-type {\n",
       "        vertical-align: middle;\n",
       "    }\n",
       "\n",
       "    .dataframe tbody tr th {\n",
       "        vertical-align: top;\n",
       "    }\n",
       "\n",
       "    .dataframe thead th {\n",
       "        text-align: right;\n",
       "    }\n",
       "</style>\n",
       "<table border=\"1\" class=\"dataframe\">\n",
       "  <thead>\n",
       "    <tr style=\"text-align: right;\">\n",
       "      <th>grp</th>\n",
       "      <th>A</th>\n",
       "      <th>B</th>\n",
       "    </tr>\n",
       "    <tr>\n",
       "      <th>purchase</th>\n",
       "      <th></th>\n",
       "      <th></th>\n",
       "    </tr>\n",
       "  </thead>\n",
       "  <tbody>\n",
       "    <tr>\n",
       "      <th>False</th>\n",
       "      <td>1460</td>\n",
       "      <td>6489</td>\n",
       "    </tr>\n",
       "    <tr>\n",
       "      <th>True</th>\n",
       "      <td>78</td>\n",
       "      <td>314</td>\n",
       "    </tr>\n",
       "  </tbody>\n",
       "</table>\n",
       "</div>"
      ],
      "text/plain": [
       "grp          A     B\n",
       "purchase            \n",
       "False     1460  6489\n",
       "True        78   314"
      ]
     },
     "execution_count": 173,
     "metadata": {},
     "output_type": "execute_result"
    }
   ],
   "source": [
    "# Создадим кросс таблицу с количеством пользователей и клиентов по группам\n",
    "cr_crosstab = pd.crosstab(index      = users_exp_upd_yes_visit.purchase,\n",
    "                                                   columns = users_exp_upd_yes_visit.grp,\n",
    "                                                   values     = 'student_id', \n",
    "                                                   aggfunc  = 'count')\n",
    "cr_crosstab"
   ]
  },
  {
   "cell_type": "code",
   "execution_count": 241,
   "metadata": {},
   "outputs": [
    {
     "data": {
      "text/html": [
       "<div>\n",
       "<style scoped>\n",
       "    .dataframe tbody tr th:only-of-type {\n",
       "        vertical-align: middle;\n",
       "    }\n",
       "\n",
       "    .dataframe tbody tr th {\n",
       "        vertical-align: top;\n",
       "    }\n",
       "\n",
       "    .dataframe thead th {\n",
       "        text-align: right;\n",
       "    }\n",
       "</style>\n",
       "<table border=\"1\" class=\"dataframe\">\n",
       "  <thead>\n",
       "    <tr style=\"text-align: right;\">\n",
       "      <th></th>\n",
       "      <th>grp</th>\n",
       "      <th>purchase</th>\n",
       "      <th>student_id</th>\n",
       "    </tr>\n",
       "  </thead>\n",
       "  <tbody>\n",
       "    <tr>\n",
       "      <th>0</th>\n",
       "      <td>A</td>\n",
       "      <td>False</td>\n",
       "      <td>1460</td>\n",
       "    </tr>\n",
       "    <tr>\n",
       "      <th>1</th>\n",
       "      <td>A</td>\n",
       "      <td>True</td>\n",
       "      <td>78</td>\n",
       "    </tr>\n",
       "    <tr>\n",
       "      <th>2</th>\n",
       "      <td>B</td>\n",
       "      <td>False</td>\n",
       "      <td>6489</td>\n",
       "    </tr>\n",
       "    <tr>\n",
       "      <th>3</th>\n",
       "      <td>B</td>\n",
       "      <td>True</td>\n",
       "      <td>314</td>\n",
       "    </tr>\n",
       "  </tbody>\n",
       "</table>\n",
       "</div>"
      ],
      "text/plain": [
       "  grp  purchase  student_id\n",
       "0   A     False        1460\n",
       "1   A      True          78\n",
       "2   B     False        6489\n",
       "3   B      True         314"
      ]
     },
     "execution_count": 241,
     "metadata": {},
     "output_type": "execute_result"
    }
   ],
   "source": [
    "# Число пользователей в каждой группе, и платил ли пользователь\n",
    "users_exp_upd_yes_visit.groupby(['grp', 'purchase'], as_index=False).agg({'student_id':'count'})"
   ]
  },
  {
   "cell_type": "code",
   "execution_count": 210,
   "metadata": {},
   "outputs": [
    {
     "data": {
      "text/html": [
       "<div>\n",
       "<style scoped>\n",
       "    .dataframe tbody tr th:only-of-type {\n",
       "        vertical-align: middle;\n",
       "    }\n",
       "\n",
       "    .dataframe tbody tr th {\n",
       "        vertical-align: top;\n",
       "    }\n",
       "\n",
       "    .dataframe thead th {\n",
       "        text-align: right;\n",
       "    }\n",
       "</style>\n",
       "<table border=\"1\" class=\"dataframe\">\n",
       "  <thead>\n",
       "    <tr style=\"text-align: right;\">\n",
       "      <th></th>\n",
       "      <th>grp</th>\n",
       "      <th>student_id</th>\n",
       "    </tr>\n",
       "  </thead>\n",
       "  <tbody>\n",
       "    <tr>\n",
       "      <th>0</th>\n",
       "      <td>A</td>\n",
       "      <td>1538</td>\n",
       "    </tr>\n",
       "    <tr>\n",
       "      <th>1</th>\n",
       "      <td>B</td>\n",
       "      <td>6803</td>\n",
       "    </tr>\n",
       "  </tbody>\n",
       "</table>\n",
       "</div>"
      ],
      "text/plain": [
       "  grp  student_id\n",
       "0   A        1538\n",
       "1   B        6803"
      ]
     },
     "execution_count": 210,
     "metadata": {},
     "output_type": "execute_result"
    }
   ],
   "source": [
    "# Все пользователи заходящие в сервис\n",
    "users_exp_upd_yes_visit.groupby(['grp'], as_index=False).agg({'student_id':'count'})"
   ]
  },
  {
   "cell_type": "code",
   "execution_count": 188,
   "metadata": {},
   "outputs": [
    {
     "data": {
      "text/plain": [
       "<matplotlib.legend.Legend at 0x7f839a13f048>"
      ]
     },
     "execution_count": 188,
     "metadata": {},
     "output_type": "execute_result"
    },
    {
     "data": {
      "image/png": "[encoded data removed]",
      "text/plain": [
       "<Figure size 1080x360 with 1 Axes>"
      ]
     },
     "metadata": {
      "needs_background": "light"
     },
     "output_type": "display_data"
    }
   ],
   "source": [
    "# Размер графика\n",
    "plt.figure(figsize=(15,5))\n",
    "\n",
    "sns.barplot(data=users_exp_upd_yes_visit.groupby(['grp', 'purchase'], as_index=False).agg({'student_id':'count'}), \n",
    "                        x='grp', \n",
    "                        y='student_id', \n",
    "                        hue=\"purchase\")\n",
    "\n",
    "# Сделаем подписи к графику\n",
    "plt.title('Количество пользователей/платящих пользователей в 2-ух группах\\n', size=20)\n",
    "plt.ylabel('Пользователи', labelpad=15, size=10)\n",
    "plt.xlabel('Группа', labelpad=15, size=10)\n",
    "\n",
    "\n",
    "# Легенда\n",
    "plt.legend(title=\"Cовершенные покупки\")"
   ]
  },
  {
   "cell_type": "code",
   "execution_count": 240,
   "metadata": {},
   "outputs": [
    {
     "name": "stdout",
     "output_type": "stream",
     "text": [
      "Конверсия в контрольной группе А = 5.07%.\n",
      "Конверсия в тестовой группе В          = 4.62%.\n"
     ]
    }
   ],
   "source": [
    "# Посчитаем абсолютные значения CR в каждой группе\n",
    "\n",
    "CR_A = (users_exp_upd_yes_visit.groupby(['grp', 'purchase'], as_index=False).agg({'student_id':'count'}).iloc[1].student_id / \\\n",
    "                users_exp_upd_yes_visit.groupby(['grp'], as_index=False).agg({'student_id':'count'}).iloc[0].student_id) \\\n",
    "                 *  100\n",
    "\n",
    "CR_B = (users_exp_upd_yes_visit.groupby(['grp', 'purchase'], as_index=False).agg({'student_id':'count'}).iloc[3].student_id / \\\n",
    "                users_exp_upd_yes_visit.groupby(['grp'], as_index=False).agg({'student_id':'count'}).iloc[1].student_id) \\\n",
    "                 *  100\n",
    "\n",
    "print(f'Конверсия в контрольной группе А = {round(CR_A, 2)}%.\\\n",
    "\\nКонверсия в тестовой группе В          = {round(CR_B, 2)}%.')"
   ]
  },
  {
   "cell_type": "markdown",
   "metadata": {},
   "source": [
    "Выдвинем гипотезы для использования <i><b>критерия Хи-квадрат</i></b> для категориальной переменной \"purchase\":\n",
    "    \n",
    "- $H_0$ - различий в CR нет;\n",
    "- $H_1$ - различия в CR есть.\n",
    "\n",
    "<i><b>Для использования критерия Хи-квадрат выполняются следующие условия</i></b>:\n",
    "1. Все наблюдения независимы;\n",
    "2. Количество наблюдений в каждой группе > 5."
   ]
  },
  {
   "cell_type": "code",
   "execution_count": 193,
   "metadata": {},
   "outputs": [
    {
     "data": {
      "text/plain": [
       "(0.48480826522557896, 0.48625240457231045, 1)"
      ]
     },
     "execution_count": 193,
     "metadata": {},
     "output_type": "execute_result"
    }
   ],
   "source": [
    "chi2_stat, pvalue, degrees_of_freedom, expected_freq  = ss.chi2_contingency(cr_crosstab)\n",
    "chi2_stat, pvalue, degrees_of_freedom"
   ]
  },
  {
   "cell_type": "code",
   "execution_count": 194,
   "metadata": {},
   "outputs": [
    {
     "data": {
      "text/plain": [
       "False"
      ]
     },
     "execution_count": 194,
     "metadata": {},
     "output_type": "execute_result"
    }
   ],
   "source": [
    "pvalue < 0.05"
   ]
  },
  {
   "cell_type": "markdown",
   "metadata": {},
   "source": [
    "<h5>\n",
    "Так как p-value > 0.05, то оставляем $H_0$,\n",
    "и делаем вывод - </h5>\n",
    "    <br><i>статзначимых различий в CR нет."
   ]
  },
  {
   "cell_type": "code",
   "execution_count": null,
   "metadata": {},
   "outputs": [],
   "source": [
    "\n"
   ]
  },
  {
   "cell_type": "markdown",
   "metadata": {},
   "source": [
    "<h4>Вывод по Заданию 1</h4>\n",
    "\n",
    "В ходе задания, был реализован анализ данных, в котором двум группам пользователей предлагались различные механики оплат услуг на сайте..<br>\n",
    "Были рассмотрены метрики:\n",
    "- ARPU (средний доход с пользователей статистически не отличается в группе 'b'-тестовой по сравнению с группой 'a'-контрольной);\n",
    "- ARPPU (средний доход с платящих пользователей статистически отличается 'b'-тестовой по сравнению с группой 'a'-контрольной, в тестовой группе средний доход с платящих пользователей на 12.75% выше);\n",
    "- CR (не обнаружены статзначимые различия в конверсии пользователей в платящих пользователей в дни проведения эксперимента). \n",
    "\n",
    "На основе анализа вышеуказанных метрик, можно сделать однозначный вывод в пользу тестовой группы.<br>\n",
    "Возможно выборки были сделаны криво, неравномерно, система сплитования работала плохо, количество пользователей в группах очень разнится. \n",
    "А также мы не знаем (можнм ли догадываться), те люди, которыесовершали покупки в дни проведения эксперимента, но не появлялись в сервисе - это баг или это подписочная модель оплаты.<br>\n",
    " <b>Тестовая группа показала лучше средний доход с платящих пользователей (на 12.75%), при прочих равных условиях стоит выкатить новую механику оплаты услуг на сайте. </b><br>\n",
    "Стоит провести анализ системы сплитования юзеров и АА-тесты.\n",
    "Стоит и иметь ввиду, издержки на полноценное внедрение той или иной механики оплаты услуг на постоянной основе.<br>"
   ]
  }
 ],
 "metadata": {
  "kernelspec": {
   "display_name": "Python 3",
   "language": "python",
   "name": "python3"
  },
  "language_info": {
   "codemirror_mode": {
    "name": "ipython",
    "version": 3
   },
   "file_extension": ".py",
   "mimetype": "text/x-python",
   "name": "python",
   "nbconvert_exporter": "python",
   "pygments_lexer": "ipython3",
   "version": "3.7.3"
  }
 },
 "nbformat": 4,
 "nbformat_minor": 4
}
