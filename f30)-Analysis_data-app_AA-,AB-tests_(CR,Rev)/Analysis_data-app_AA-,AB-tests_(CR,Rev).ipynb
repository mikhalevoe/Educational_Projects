{
 "cells": [
  {
   "cell_type": "markdown",
   "metadata": {},
   "source": [
    "<h1>Анализ дэйтингового приложения</h1><br>\n",
    "<h6>\n",
    "Представьте, что вы работаете в крупном дейтинговом приложении.<br>\n",
    "\n",
    "Помимо базовых функций, в приложении также имеется премиум-подписка, которая дает доступ к ряду важных дополнительных возможностей. <br>\n",
    "Был проведен A/B тест, в рамках которого для новых пользователей из нескольких стран была изменена стоимость премиум-подписки* при покупке через две новые платежные системы. При этом стоимость пробного периода оставалась прежней.\n",
    "\n",
    "Проверьте:\n",
    "1. Был ли эксперимент успешен в целом.<br>\n",
    "<i>(*Деньги за подписку списываются ежемесячно до тех пор, пока пользователь её не отменит.)</i>\n",
    "</h6>\n",
    "\n",
    "<h3>Данные</h3>\n",
    "\n",
    "Всего есть три группы: тестовая (test), контрольная 1 (control_1) и контрольная 2 (control_2). <br>\n",
    "Для каждой из них:\n",
    "\n",
    "<i><b>users_*.csv – информация о пользователях:</i></b>\n",
    "- uid – идентификатор пользователя\n",
    "- age – возраст\n",
    "- attraction_coeff – коэффициент привлекательности (от 0 до 1000, (лайки/просмотры)*1000)\n",
    "- coins – число монеток (внутренняя валюта)\n",
    "- country – страна  \n",
    "- visit_days – в какие дни после регистрации пользователь посещал приложение (напр. в 1, затем в 7)\n",
    "- gender – пол\n",
    "- age_filter_start  – фильтр поиска, мин. значение \n",
    "- age_filter_end  – фильтр поиска, макс. значение \n",
    "- views_count – число полученных оценок \n",
    "- was_premium – был ли когда-либо премиум (либо пробный период премиум-статуса, либо купленный за деньги)\n",
    "- is_premium –  является ли премиум\n",
    "- total_revenue – нормированная выручка <br>\n",
    "\n",
    "<i><b>transactions_*.csv – информация о платежах пользователей:</i></b>\n",
    "- uid – идентификатор пользователя\n",
    "- country – страна\n",
    "- joined_at – дата и время регистрации\n",
    "- paid_at – дата и время покупки\n",
    "- revenue – нормированная выручка\n",
    "- payment_id – идентификатор платежа\n",
    "- from_page – откуда пользователь перешел на страницу оплаты\n",
    "- product_type – тип продукта (trial_premium – пробная премиум-подписка, premium_no_trial – премиум-подписка без пробной, coins – подписка за внутреннюю валюту, other_type – другое) \n",
    "\n",
    "\n",
    "<h3>Файлы:</h3>\n",
    "\n",
    "- users_test – информация о пользователях в тестовой группе. \n",
    "- users_control_1 – информация о пользователях в первой контрольной группе. \n",
    "- users_control_2 – информация о пользователях во второй контрольной группе . \n",
    "- transactions_test – информация о платежах пользователей в тестовой группе. \n",
    "- transactions_control_1 – информация о платежах пользователей в первой контрольной группе. \n",
    "- transactions_control_2 – информация о платежах пользователей во второй контрольной группе "
   ]
  },
  {
   "cell_type": "markdown",
   "metadata": {},
   "source": [
    "<h3>Библиотеки"
   ]
  },
  {
   "cell_type": "code",
   "execution_count": 517,
   "metadata": {},
   "outputs": [],
   "source": [
    "# Подключим библиотеки\n",
    "\n",
    "import os\n",
    "\n",
    "from datetime import datetime\n",
    "from datetime import timedelta\n",
    "\n",
    "import seaborn as sns\n",
    "import matplotlib.pyplot as plt\n",
    "%matplotlib inline\n",
    "\n",
    "import pandas as pd\n",
    "import numpy as np\n",
    "\n",
    "from scipy import stats as ss\n",
    "from scipy.stats import chi2_contingency, chi2\n",
    "import pingouin as pg\n",
    "\n",
    "# https://git.lab.karpov.courses/lab/final_project/-/blob/yulia_sergeeva_17.08_ju-sergeeva/variant3/Final_Project_Sergeeva_Yulia.ipynb\n",
    "\n",
    "# https://git.lab.karpov.courses/lab/final_project/-/blob/leisan_khilazheva_17.08_l-hilazheva/variant3/final_project_variant3.ipynb\n",
    "\n",
    "# https://git.lab.karpov.courses/lab/final_project/-/merge_requests/2031\n",
    "# https://git.lab.karpov.courses/lab/final_project/-/blob/bauyrzhan_nurseitov_13.07_b-nurseitov/variant3/Final_Project_BN_var3.ipynb"
   ]
  },
  {
   "cell_type": "markdown",
   "metadata": {},
   "source": [
    "<h3>Cчитывание данных"
   ]
  },
  {
   "cell_type": "code",
   "execution_count": 518,
   "metadata": {},
   "outputs": [],
   "source": [
    "# Присвоим переменную датафрейму\n",
    "\n",
    "df_users_test = pd.read_csv(\"~/FinalProject/Проект_3_users_test.csv\", sep=';')\n",
    "df_users_control_1 = pd.read_csv(\"~/FinalProject/Проект_3_users_control_1.csv\", sep=';')\n",
    "df_users_control_2 = pd.read_csv(\"~/FinalProject/Проект_3_users_control_2.csv\", sep=';')\n",
    "\n",
    "df_transactions_test = pd.read_csv(\"~/FinalProject/Проект_3_transactions_test.csv\", sep=';', parse_dates=['joined_at', 'paid_at'])\n",
    "df_transactions_control_1 = pd.read_csv(\"~/FinalProject/Проект_3_transactions_control_1.csv\", sep=';', parse_dates=['joined_at', 'paid_at'])\n",
    "df_transactions_control_2 = pd.read_csv(\"~/FinalProject/Проект_3_transactions_control_2.csv\", sep=';', parse_dates=['joined_at', 'paid_at'])"
   ]
  },
  {
   "cell_type": "code",
   "execution_count": null,
   "metadata": {},
   "outputs": [],
   "source": [
    "\n",
    "\n"
   ]
  },
  {
   "cell_type": "markdown",
   "metadata": {},
   "source": [
    "<h2><u>Блок анализа данных"
   ]
  },
  {
   "cell_type": "markdown",
   "metadata": {},
   "source": [
    "<h3>Размеры исходных таблиц"
   ]
  },
  {
   "cell_type": "code",
   "execution_count": 519,
   "metadata": {},
   "outputs": [
    {
     "name": "stdout",
     "output_type": "stream",
     "text": [
      "Размер таблицы df_users_test: \n",
      "(4308, 13) \n",
      "\n",
      "Размер таблицы df_users_control_1: \n",
      "(4340, 13) \n",
      "\n",
      "Размер таблицы df_users_control_2: \n",
      "(4264, 13) \n",
      "\n",
      "Размер таблицы df_transactions_test: \n",
      "(273, 8) \n",
      "\n",
      "Размер таблицы df_transactions_control_1: \n",
      "(1007, 8) \n",
      "\n",
      "Размер таблицы df_transactions_control_2: \n",
      "(328, 8) \n",
      "\n"
     ]
    }
   ],
   "source": [
    "# Размеры DF\n",
    "\n",
    "print(\"Размер таблицы df_users_test: \\n{}\".format(df_users_test.shape), \"\\n\")\n",
    "print(\"Размер таблицы df_users_control_1: \\n{}\".format(df_users_control_1.shape), \"\\n\")\n",
    "print(\"Размер таблицы df_users_control_2: \\n{}\".format(df_users_control_2.shape), \"\\n\")\n",
    "\n",
    "print(\"Размер таблицы df_transactions_test: \\n{}\".format(df_transactions_test.shape), \"\\n\")\n",
    "print(\"Размер таблицы df_transactions_control_1: \\n{}\".format(df_transactions_control_1.shape), \"\\n\")\n",
    "print(\"Размер таблицы df_transactions_control_2: \\n{}\".format(df_transactions_control_2.shape), \"\\n\")"
   ]
  },
  {
   "cell_type": "code",
   "execution_count": null,
   "metadata": {},
   "outputs": [],
   "source": [
    "\n",
    "\n"
   ]
  },
  {
   "cell_type": "markdown",
   "metadata": {},
   "source": [
    "<h3> Типы данных таблиц и их изменение"
   ]
  },
  {
   "cell_type": "code",
   "execution_count": 520,
   "metadata": {},
   "outputs": [
    {
     "name": "stdout",
     "output_type": "stream",
     "text": [
      "Типы данных таблицы df_users_test: \n",
      "uid                  object\n",
      "age                   int64\n",
      "attraction_coeff      int64\n",
      "coins               float64\n",
      "country              object\n",
      "visit_days           object\n",
      "gender               object\n",
      "age_filter_start      int64\n",
      "age_filter_end        int64\n",
      "views_count           int64\n",
      "was_premium         float64\n",
      "is_premium          float64\n",
      "total_revenue         int64\n",
      "dtype: object \n",
      "\n",
      "Типы данных таблицы df_users_control_1: \n",
      "uid                  object\n",
      "age                   int64\n",
      "attraction_coeff      int64\n",
      "coins               float64\n",
      "country              object\n",
      "visit_days           object\n",
      "gender               object\n",
      "age_filter_start      int64\n",
      "age_filter_end        int64\n",
      "views_count           int64\n",
      "was_premium         float64\n",
      "is_premium          float64\n",
      "total_revenue         int64\n",
      "dtype: object \n",
      "\n",
      "Типы данных таблицы df_users_control_2: \n",
      "uid                  object\n",
      "age                   int64\n",
      "attraction_coeff      int64\n",
      "coins               float64\n",
      "country              object\n",
      "visit_days           object\n",
      "gender               object\n",
      "age_filter_start      int64\n",
      "age_filter_end        int64\n",
      "views_count           int64\n",
      "was_premium         float64\n",
      "is_premium          float64\n",
      "total_revenue         int64\n",
      "dtype: object \n",
      "\n",
      "Типы данных таблицы df_transactions_test: \n",
      "uid                     object\n",
      "country                 object\n",
      "joined_at       datetime64[ns]\n",
      "paid_at         datetime64[ns]\n",
      "revenue                  int64\n",
      "payment_id              object\n",
      "from_page               object\n",
      "product_type            object\n",
      "dtype: object \n",
      "\n",
      "Типы данных таблицы df_transactions_control_1: \n",
      "uid                    float64\n",
      "country                 object\n",
      "joined_at       datetime64[ns]\n",
      "paid_at         datetime64[ns]\n",
      "revenue                float64\n",
      "payment_id              object\n",
      "from_page               object\n",
      "product_type            object\n",
      "dtype: object \n",
      "\n",
      "Типы данных таблицы df_transactions_control_2: \n",
      "uid                     object\n",
      "country                 object\n",
      "joined_at       datetime64[ns]\n",
      "paid_at         datetime64[ns]\n",
      "revenue                  int64\n",
      "payment_id              object\n",
      "from_page               object\n",
      "product_type            object\n",
      "dtype: object \n",
      "\n"
     ]
    }
   ],
   "source": [
    "# Типы данных DF\n",
    "\n",
    "# Приведем данные-категориальные в один str тип\n",
    "\n",
    "df_users_test = df_users_test.astype({\"uid\":\"str\",\n",
    "                                      \"gender\":\"str\" })\n",
    "\n",
    "df_users_control_1 = df_users_control_1.astype({\"uid\":\"str\",\n",
    "                                                \"gender\":\"str\" })\n",
    "\n",
    "df_users_control_2 = df_users_control_2.astype({\"uid\":\"str\",\n",
    "                                                \"gender\":\"str\" })\n",
    "\n",
    "df_transactions_test = df_transactions_test.astype({\"uid\":\"str\",\n",
    "                                                    \"payment_id\":\"str\" })\n",
    "\n",
    "df_transactions_control_1 = df_transactions_control_1.astype({\"payment_id\":\"str\" })\n",
    "\n",
    "df_transactions_control_2 = df_transactions_control_2.astype({\"uid\":\"str\",\n",
    "                                                              \"payment_id\":\"str\" })\n",
    "\n",
    "\n",
    "\n",
    "print(\"Типы данных таблицы df_users_test: \\n{}\".format(df_users_test.dtypes), \"\\n\")\n",
    "print(\"Типы данных таблицы df_users_control_1: \\n{}\".format(df_users_control_1.dtypes), \"\\n\")\n",
    "print(\"Типы данных таблицы df_users_control_2: \\n{}\".format(df_users_control_2.dtypes), \"\\n\")\n",
    "\n",
    "print(\"Типы данных таблицы df_transactions_test: \\n{}\".format(df_transactions_test.dtypes), \"\\n\")\n",
    "print(\"Типы данных таблицы df_transactions_control_1: \\n{}\".format(df_transactions_control_1.dtypes), \"\\n\")\n",
    "print(\"Типы данных таблицы df_transactions_control_2: \\n{}\".format(df_transactions_control_2.dtypes), \"\\n\")"
   ]
  },
  {
   "cell_type": "code",
   "execution_count": null,
   "metadata": {},
   "outputs": [],
   "source": [
    "\n",
    "\n"
   ]
  },
  {
   "cell_type": "markdown",
   "metadata": {},
   "source": [
    "<h3>Пропуски в данных и анализ этих пропусков"
   ]
  },
  {
   "cell_type": "code",
   "execution_count": 521,
   "metadata": {},
   "outputs": [
    {
     "name": "stdout",
     "output_type": "stream",
     "text": [
      "Пропуски данных таблицы df_users_test: \n",
      "uid                    0\n",
      "age                    0\n",
      "attraction_coeff       0\n",
      "coins               4259\n",
      "country                0\n",
      "visit_days          1330\n",
      "gender                 0\n",
      "age_filter_start       0\n",
      "age_filter_end         0\n",
      "views_count            0\n",
      "was_premium         3900\n",
      "is_premium          4151\n",
      "total_revenue          0\n",
      "dtype: int64 \n",
      "\n",
      "Пропуски данных таблицы df_users_control_1: \n",
      "uid                    0\n",
      "age                    0\n",
      "attraction_coeff       0\n",
      "coins               4280\n",
      "country                0\n",
      "visit_days          1324\n",
      "gender                 0\n",
      "age_filter_start       0\n",
      "age_filter_end         0\n",
      "views_count            0\n",
      "was_premium         3904\n",
      "is_premium          4148\n",
      "total_revenue          0\n",
      "dtype: int64 \n",
      "\n",
      "Пропуски данных таблицы df_users_control_2: \n",
      "uid                    0\n",
      "age                    0\n",
      "attraction_coeff       0\n",
      "coins               4203\n",
      "country                0\n",
      "visit_days          1364\n",
      "gender                 0\n",
      "age_filter_start       0\n",
      "age_filter_end         0\n",
      "views_count            0\n",
      "was_premium         3853\n",
      "is_premium          4073\n",
      "total_revenue          0\n",
      "dtype: int64 \n",
      "\n",
      "Пропуски данных таблицы df_transactions_test: \n",
      "uid             0\n",
      "country         0\n",
      "joined_at       0\n",
      "paid_at         0\n",
      "revenue         0\n",
      "payment_id      0\n",
      "from_page       0\n",
      "product_type    0\n",
      "dtype: int64 \n",
      "\n",
      "Пропуски данных таблицы df_transactions_control_1: \n",
      "uid             630\n",
      "country         630\n",
      "joined_at       630\n",
      "paid_at         630\n",
      "revenue         630\n",
      "payment_id        0\n",
      "from_page       630\n",
      "product_type    630\n",
      "dtype: int64 \n",
      "\n",
      "Пропуски данных таблицы df_transactions_control_2: \n",
      "uid             0\n",
      "country         0\n",
      "joined_at       0\n",
      "paid_at         0\n",
      "revenue         0\n",
      "payment_id      0\n",
      "from_page       0\n",
      "product_type    0\n",
      "dtype: int64 \n",
      "\n"
     ]
    }
   ],
   "source": [
    "# Пропуски данных DF\n",
    "\n",
    "print(\"Пропуски данных таблицы df_users_test: \\n{}\".format(df_users_test.isna().sum()), \"\\n\")\n",
    "print(\"Пропуски данных таблицы df_users_control_1: \\n{}\".format(df_users_control_1.isna().sum()), \"\\n\")\n",
    "print(\"Пропуски данных таблицы df_users_control_2: \\n{}\".format(df_users_control_2.isna().sum()), \"\\n\")\n",
    "\n",
    "print(\"Пропуски данных таблицы df_transactions_test: \\n{}\".format(df_transactions_test.isna().sum()), \"\\n\")\n",
    "print(\"Пропуски данных таблицы df_transactions_control_1: \\n{}\".format(df_transactions_control_1.isna().sum()), \"\\n\")\n",
    "print(\"Пропуски данных таблицы df_transactions_control_2: \\n{}\".format(df_transactions_control_2.isna().sum()), \"\\n\")"
   ]
  },
  {
   "cell_type": "code",
   "execution_count": 522,
   "metadata": {},
   "outputs": [
    {
     "data": {
      "text/html": [
       "<div>\n",
       "<style scoped>\n",
       "    .dataframe tbody tr th:only-of-type {\n",
       "        vertical-align: middle;\n",
       "    }\n",
       "\n",
       "    .dataframe tbody tr th {\n",
       "        vertical-align: top;\n",
       "    }\n",
       "\n",
       "    .dataframe thead th {\n",
       "        text-align: right;\n",
       "    }\n",
       "</style>\n",
       "<table border=\"1\" class=\"dataframe\">\n",
       "  <thead>\n",
       "    <tr style=\"text-align: right;\">\n",
       "      <th></th>\n",
       "      <th>uid</th>\n",
       "      <th>country</th>\n",
       "      <th>joined_at</th>\n",
       "      <th>paid_at</th>\n",
       "      <th>revenue</th>\n",
       "      <th>payment_id</th>\n",
       "      <th>from_page</th>\n",
       "      <th>product_type</th>\n",
       "    </tr>\n",
       "  </thead>\n",
       "  <tbody>\n",
       "  </tbody>\n",
       "</table>\n",
       "</div>"
      ],
      "text/plain": [
       "Empty DataFrame\n",
       "Columns: [uid, country, joined_at, paid_at, revenue, payment_id, from_page, product_type]\n",
       "Index: []"
      ]
     },
     "execution_count": 522,
     "metadata": {},
     "output_type": "execute_result"
    }
   ],
   "source": [
    "# В таблице df_transactions_control_1 630 строк пустые можно их сразу удалить, при чём они идут строго по порядку\n",
    "# Они же и не дают поменять тип данных в этой таблице в колонке uid\n",
    "\n",
    "# До 376 строчки значения есть, а вот с 377 и до конца сплошные пропуски\n",
    "df_transactions_control_1.iloc[:377].query('uid == \"NaN\"')"
   ]
  },
  {
   "cell_type": "code",
   "execution_count": 523,
   "metadata": {},
   "outputs": [
    {
     "data": {
      "text/html": [
       "<div>\n",
       "<style scoped>\n",
       "    .dataframe tbody tr th:only-of-type {\n",
       "        vertical-align: middle;\n",
       "    }\n",
       "\n",
       "    .dataframe tbody tr th {\n",
       "        vertical-align: top;\n",
       "    }\n",
       "\n",
       "    .dataframe thead th {\n",
       "        text-align: right;\n",
       "    }\n",
       "</style>\n",
       "<table border=\"1\" class=\"dataframe\">\n",
       "  <thead>\n",
       "    <tr style=\"text-align: right;\">\n",
       "      <th></th>\n",
       "      <th>uid</th>\n",
       "      <th>country</th>\n",
       "      <th>joined_at</th>\n",
       "      <th>paid_at</th>\n",
       "      <th>revenue</th>\n",
       "      <th>payment_id</th>\n",
       "      <th>from_page</th>\n",
       "      <th>product_type</th>\n",
       "    </tr>\n",
       "  </thead>\n",
       "  <tbody>\n",
       "    <tr>\n",
       "      <th>377</th>\n",
       "      <td>NaN</td>\n",
       "      <td>NaN</td>\n",
       "      <td>NaT</td>\n",
       "      <td>NaT</td>\n",
       "      <td>NaN</td>\n",
       "      <td>nan</td>\n",
       "      <td>NaN</td>\n",
       "      <td>NaN</td>\n",
       "    </tr>\n",
       "    <tr>\n",
       "      <th>378</th>\n",
       "      <td>NaN</td>\n",
       "      <td>NaN</td>\n",
       "      <td>NaT</td>\n",
       "      <td>NaT</td>\n",
       "      <td>NaN</td>\n",
       "      <td>nan</td>\n",
       "      <td>NaN</td>\n",
       "      <td>NaN</td>\n",
       "    </tr>\n",
       "    <tr>\n",
       "      <th>379</th>\n",
       "      <td>NaN</td>\n",
       "      <td>NaN</td>\n",
       "      <td>NaT</td>\n",
       "      <td>NaT</td>\n",
       "      <td>NaN</td>\n",
       "      <td>nan</td>\n",
       "      <td>NaN</td>\n",
       "      <td>NaN</td>\n",
       "    </tr>\n",
       "    <tr>\n",
       "      <th>380</th>\n",
       "      <td>NaN</td>\n",
       "      <td>NaN</td>\n",
       "      <td>NaT</td>\n",
       "      <td>NaT</td>\n",
       "      <td>NaN</td>\n",
       "      <td>nan</td>\n",
       "      <td>NaN</td>\n",
       "      <td>NaN</td>\n",
       "    </tr>\n",
       "    <tr>\n",
       "      <th>381</th>\n",
       "      <td>NaN</td>\n",
       "      <td>NaN</td>\n",
       "      <td>NaT</td>\n",
       "      <td>NaT</td>\n",
       "      <td>NaN</td>\n",
       "      <td>nan</td>\n",
       "      <td>NaN</td>\n",
       "      <td>NaN</td>\n",
       "    </tr>\n",
       "    <tr>\n",
       "      <th>...</th>\n",
       "      <td>...</td>\n",
       "      <td>...</td>\n",
       "      <td>...</td>\n",
       "      <td>...</td>\n",
       "      <td>...</td>\n",
       "      <td>...</td>\n",
       "      <td>...</td>\n",
       "      <td>...</td>\n",
       "    </tr>\n",
       "    <tr>\n",
       "      <th>1002</th>\n",
       "      <td>NaN</td>\n",
       "      <td>NaN</td>\n",
       "      <td>NaT</td>\n",
       "      <td>NaT</td>\n",
       "      <td>NaN</td>\n",
       "      <td>nan</td>\n",
       "      <td>NaN</td>\n",
       "      <td>NaN</td>\n",
       "    </tr>\n",
       "    <tr>\n",
       "      <th>1003</th>\n",
       "      <td>NaN</td>\n",
       "      <td>NaN</td>\n",
       "      <td>NaT</td>\n",
       "      <td>NaT</td>\n",
       "      <td>NaN</td>\n",
       "      <td>nan</td>\n",
       "      <td>NaN</td>\n",
       "      <td>NaN</td>\n",
       "    </tr>\n",
       "    <tr>\n",
       "      <th>1004</th>\n",
       "      <td>NaN</td>\n",
       "      <td>NaN</td>\n",
       "      <td>NaT</td>\n",
       "      <td>NaT</td>\n",
       "      <td>NaN</td>\n",
       "      <td>nan</td>\n",
       "      <td>NaN</td>\n",
       "      <td>NaN</td>\n",
       "    </tr>\n",
       "    <tr>\n",
       "      <th>1005</th>\n",
       "      <td>NaN</td>\n",
       "      <td>NaN</td>\n",
       "      <td>NaT</td>\n",
       "      <td>NaT</td>\n",
       "      <td>NaN</td>\n",
       "      <td>nan</td>\n",
       "      <td>NaN</td>\n",
       "      <td>NaN</td>\n",
       "    </tr>\n",
       "    <tr>\n",
       "      <th>1006</th>\n",
       "      <td>NaN</td>\n",
       "      <td>NaN</td>\n",
       "      <td>NaT</td>\n",
       "      <td>NaT</td>\n",
       "      <td>NaN</td>\n",
       "      <td>nan</td>\n",
       "      <td>NaN</td>\n",
       "      <td>NaN</td>\n",
       "    </tr>\n",
       "  </tbody>\n",
       "</table>\n",
       "<p>630 rows × 8 columns</p>\n",
       "</div>"
      ],
      "text/plain": [
       "      uid country joined_at paid_at  revenue payment_id from_page product_type\n",
       "377   NaN     NaN       NaT     NaT      NaN        nan       NaN          NaN\n",
       "378   NaN     NaN       NaT     NaT      NaN        nan       NaN          NaN\n",
       "379   NaN     NaN       NaT     NaT      NaN        nan       NaN          NaN\n",
       "380   NaN     NaN       NaT     NaT      NaN        nan       NaN          NaN\n",
       "381   NaN     NaN       NaT     NaT      NaN        nan       NaN          NaN\n",
       "...   ...     ...       ...     ...      ...        ...       ...          ...\n",
       "1002  NaN     NaN       NaT     NaT      NaN        nan       NaN          NaN\n",
       "1003  NaN     NaN       NaT     NaT      NaN        nan       NaN          NaN\n",
       "1004  NaN     NaN       NaT     NaT      NaN        nan       NaN          NaN\n",
       "1005  NaN     NaN       NaT     NaT      NaN        nan       NaN          NaN\n",
       "1006  NaN     NaN       NaT     NaT      NaN        nan       NaN          NaN\n",
       "\n",
       "[630 rows x 8 columns]"
      ]
     },
     "execution_count": 523,
     "metadata": {},
     "output_type": "execute_result"
    }
   ],
   "source": [
    "# Как раз 630 пропусков, просто уберем эти значения\n",
    "df_transactions_control_1.iloc[375:].query('uid == \"NaN\"')"
   ]
  },
  {
   "cell_type": "code",
   "execution_count": 524,
   "metadata": {},
   "outputs": [
    {
     "name": "stdout",
     "output_type": "stream",
     "text": [
      "Размер таблицы df_transactions_control_1: \n",
      "(377, 8) \n",
      "\n",
      "Типы данных таблицы df_transactions_control_1: \n",
      "uid             0\n",
      "country         0\n",
      "joined_at       0\n",
      "paid_at         0\n",
      "revenue         0\n",
      "payment_id      0\n",
      "from_page       0\n",
      "product_type    0\n",
      "dtype: int64 \n",
      "\n"
     ]
    }
   ],
   "source": [
    "# Уберем значения с NaN\n",
    "df_transactions_control_1 = df_transactions_control_1.iloc[:377]\n",
    "\n",
    "# А также изменим формат колонки uid (уберем 0-ли и в строковый формат)\n",
    "df_transactions_control_1.uid = df_transactions_control_1.uid.astype(\"int\").astype(\"str\")\n",
    "\n",
    "print(\"Размер таблицы df_transactions_control_1: \\n{}\".format(df_transactions_control_1.shape), \"\\n\")\n",
    "print(\"Типы данных таблицы df_transactions_control_1: \\n{}\".format(df_transactions_control_1.isna().sum()), \"\\n\")"
   ]
  },
  {
   "cell_type": "code",
   "execution_count": null,
   "metadata": {},
   "outputs": [],
   "source": [
    "\n",
    "\n"
   ]
  },
  {
   "cell_type": "markdown",
   "metadata": {},
   "source": [
    "<h3> Проверка и подсчёт пользователей\n",
    "\n"
   ]
  },
  {
   "cell_type": "code",
   "execution_count": 525,
   "metadata": {
    "scrolled": true
   },
   "outputs": [
    {
     "name": "stdout",
     "output_type": "stream",
     "text": [
      "Количество уникальных пользователей в группе test 4308 равняется длине таблицы 4308.\n",
      "Количество уникальных пользователей в группе test 4340 равняется длине таблицы 4340.\n",
      "Количество уникальных пользователей в группе test 4264 равняется длине таблицы 4264.\n"
     ]
    }
   ],
   "source": [
    "# Посмотрим число уникальных юзеров в каждой группе\n",
    "\n",
    "print(f'Количество уникальных пользователей в группе test {df_users_test.uid.nunique()} равняется длине таблицы {df_users_test.uid.shape[0]}.')\n",
    "print(f'Количество уникальных пользователей в группе test {df_users_control_1.uid.nunique()} равняется длине таблицы {df_users_control_1.uid.shape[0]}.')\n",
    "print(f'Количество уникальных пользователей в группе test {df_users_control_2.uid.nunique()} равняется длине таблицы {df_users_control_2.uid.shape[0]}.')"
   ]
  },
  {
   "cell_type": "code",
   "execution_count": 526,
   "metadata": {},
   "outputs": [
    {
     "name": "stdout",
     "output_type": "stream",
     "text": [
      "Количество уникальных пользователей в группе test 146 не равняется длине таблицы 273.\n",
      "Количество уникальных пользователей в группе test 193 не равняется длине таблицы 377.\n",
      "Количество уникальных пользователей в группе test 187 не равняется длине таблицы 328.\n"
     ]
    }
   ],
   "source": [
    "# Посмотрим число уникальных клиентов в каждой группе\n",
    "\n",
    "print(f'Количество уникальных пользователей в группе test {df_transactions_test.uid.nunique()} не равняется длине таблицы {df_transactions_test.uid.shape[0]}.')\n",
    "print(f'Количество уникальных пользователей в группе test {df_transactions_control_1.uid.nunique()} не равняется длине таблицы {df_transactions_control_1.uid.shape[0]}.')\n",
    "print(f'Количество уникальных пользователей в группе test {df_transactions_control_2.uid.nunique()} не равняется длине таблицы {df_transactions_control_2.uid.shape[0]}.')"
   ]
  },
  {
   "cell_type": "code",
   "execution_count": 527,
   "metadata": {},
   "outputs": [
    {
     "name": "stdout",
     "output_type": "stream",
     "text": [
      "Для группы test.\n",
      "Количесво юзеров в платежах, которых нет в таблице юзеров = 0.\n",
      "Для группы control_1.\n",
      "Количесво юзеров в платежах, которых нет в таблице юзеров = 0.\n",
      "Для группы control_2.\n",
      "Количесво юзеров в платежах, которых нет в таблице юзеров = 0.\n"
     ]
    }
   ],
   "source": [
    "# Проверим - нет ли в таблицах о платежах юзеров, которых нет в таблице юзеров\n",
    "\n",
    "print(f'Для группы test.\\nКоличесво юзеров в платежах, которых нет в таблице юзеров = {df_transactions_test.query(\"uid not in @df_users_test.uid.unique().tolist()\").uid.nunique()}.')\n",
    "print(f'Для группы control_1.\\nКоличесво юзеров в платежах, которых нет в таблице юзеров = {df_transactions_control_1.query(\"uid not in @df_users_control_1.uid.unique().tolist()\").uid.nunique()}.')\n",
    "print(f'Для группы control_2.\\nКоличесво юзеров в платежах, которых нет в таблице юзеров = {df_transactions_control_2.query(\"uid not in @df_users_control_2.uid.unique().tolist()\").uid.nunique()}.')"
   ]
  },
  {
   "cell_type": "code",
   "execution_count": 528,
   "metadata": {
    "scrolled": true
   },
   "outputs": [
    {
     "name": "stdout",
     "output_type": "stream",
     "text": [
      "Для группы transactions_test.\n",
      "Года регистраций юзеров 2017.\n",
      "\n",
      "Для группы transactions_control_1.\n",
      "Года регистраций юзеров 2017, 2015.\n",
      "\n",
      "Для группы transactions_control_2.\n",
      "Года регистраций юзеров 2017.\n"
     ]
    }
   ],
   "source": [
    "# Года регистраций в разных группах\n",
    "\n",
    "transactions_test_years = str(df_transactions_test.query(\"joined_at != 'NaT'\").joined_at.dt.year.unique().tolist()).strip('[]')\n",
    "print(f'Для группы transactions_test.\\nГода регистраций юзеров {transactions_test_years}.\\n')\n",
    "\n",
    "transactions_control_1_years = str(df_transactions_control_1.query(\"joined_at != 'NaT'\").joined_at.dt.year.unique().tolist()).strip('[]')\n",
    "print(f'Для группы transactions_control_1.\\nГода регистраций юзеров {transactions_control_1_years}.\\n')\n",
    "\n",
    "transactions_control_2_years = str(df_transactions_control_2.query(\"joined_at != 'NaT'\").joined_at.dt.year.unique().tolist()).strip('[]')\n",
    "print(f'Для группы transactions_control_2.\\nГода регистраций юзеров {transactions_control_2_years}.')"
   ]
  },
  {
   "cell_type": "code",
   "execution_count": null,
   "metadata": {},
   "outputs": [],
   "source": [
    "\n",
    "\n"
   ]
  },
  {
   "cell_type": "markdown",
   "metadata": {},
   "source": [
    "<h3>Ошибки в колонке \"paid_at\""
   ]
  },
  {
   "cell_type": "code",
   "execution_count": 529,
   "metadata": {},
   "outputs": [
    {
     "name": "stdout",
     "output_type": "stream",
     "text": [
      "Для группы test.\n",
      "Ошибки, где дата регистрации позже даты отплаты встречается у 35 юникальных юзеров.\n",
      "\n",
      "Для группы control_1.\n",
      "Ошибки, где дата регистрации позже даты отплаты встречается у 37 юникальных юзеров.\n",
      "\n",
      "Для группы control_2.\n",
      "Ошибки, где дата регистрации позже даты отплаты встречается у 41 юникальных юзеров.\n"
     ]
    }
   ],
   "source": [
    "# Проверим, есть ли ситуации, при которых дата регистрации позже даты отплаты\n",
    "\n",
    "print(f'Для группы test.\\nОшибки, где дата регистрации позже даты отплаты встречается у {df_transactions_test.query(\"joined_at > paid_at\").uid.nunique()} юникальных юзеров.\\n')\n",
    "print(f'Для группы control_1.\\nОшибки, где дата регистрации позже даты отплаты встречается у {df_transactions_control_1.query(\"joined_at > paid_at\").uid.nunique()} юникальных юзеров.\\n')\n",
    "print(f'Для группы control_2.\\nОшибки, где дата регистрации позже даты отплаты встречается у {df_transactions_control_2.query(\"joined_at > paid_at\").uid.nunique()} юникальных юзеров.')"
   ]
  },
  {
   "cell_type": "code",
   "execution_count": 530,
   "metadata": {},
   "outputs": [
    {
     "data": {
      "text/html": [
       "<div>\n",
       "<style scoped>\n",
       "    .dataframe tbody tr th:only-of-type {\n",
       "        vertical-align: middle;\n",
       "    }\n",
       "\n",
       "    .dataframe tbody tr th {\n",
       "        vertical-align: top;\n",
       "    }\n",
       "\n",
       "    .dataframe thead th {\n",
       "        text-align: right;\n",
       "    }\n",
       "</style>\n",
       "<table border=\"1\" class=\"dataframe\">\n",
       "  <thead>\n",
       "    <tr style=\"text-align: right;\">\n",
       "      <th></th>\n",
       "      <th>uid</th>\n",
       "      <th>country</th>\n",
       "      <th>joined_at</th>\n",
       "      <th>paid_at</th>\n",
       "      <th>revenue</th>\n",
       "      <th>payment_id</th>\n",
       "      <th>from_page</th>\n",
       "      <th>product_type</th>\n",
       "    </tr>\n",
       "  </thead>\n",
       "  <tbody>\n",
       "    <tr>\n",
       "      <th>11</th>\n",
       "      <td>891861048</td>\n",
       "      <td>Canada</td>\n",
       "      <td>2017-10-26 02:55:00</td>\n",
       "      <td>2017-10-11 19:00:00</td>\n",
       "      <td>3588</td>\n",
       "      <td>68</td>\n",
       "      <td>none</td>\n",
       "      <td>premium_no_trial</td>\n",
       "    </tr>\n",
       "    <tr>\n",
       "      <th>20</th>\n",
       "      <td>891806280</td>\n",
       "      <td>United States of America</td>\n",
       "      <td>2017-10-27 08:56:00</td>\n",
       "      <td>2017-03-11 10:57:00</td>\n",
       "      <td>8242</td>\n",
       "      <td>147</td>\n",
       "      <td>trial_vip_popup</td>\n",
       "      <td>trial_premium</td>\n",
       "    </tr>\n",
       "    <tr>\n",
       "      <th>24</th>\n",
       "      <td>891786216</td>\n",
       "      <td>Spain</td>\n",
       "      <td>2017-10-27 18:20:00</td>\n",
       "      <td>2017-03-11 20:20:00</td>\n",
       "      <td>12818</td>\n",
       "      <td>147</td>\n",
       "      <td>trial_vip_popup</td>\n",
       "      <td>trial_premium</td>\n",
       "    </tr>\n",
       "    <tr>\n",
       "      <th>25</th>\n",
       "      <td>892057347</td>\n",
       "      <td>France</td>\n",
       "      <td>2017-10-21 23:15:00</td>\n",
       "      <td>2017-08-11 01:56:00</td>\n",
       "      <td>1209</td>\n",
       "      <td>19</td>\n",
       "      <td>none</td>\n",
       "      <td>coins</td>\n",
       "    </tr>\n",
       "    <tr>\n",
       "      <th>36</th>\n",
       "      <td>891589239</td>\n",
       "      <td>Italy</td>\n",
       "      <td>2017-10-31 14:16:00</td>\n",
       "      <td>2017-09-11 15:44:00</td>\n",
       "      <td>6305</td>\n",
       "      <td>19</td>\n",
       "      <td>empty_likes</td>\n",
       "      <td>coins</td>\n",
       "    </tr>\n",
       "  </tbody>\n",
       "</table>\n",
       "</div>"
      ],
      "text/plain": [
       "          uid                   country           joined_at  \\\n",
       "11  891861048                    Canada 2017-10-26 02:55:00   \n",
       "20  891806280  United States of America 2017-10-27 08:56:00   \n",
       "24  891786216                     Spain 2017-10-27 18:20:00   \n",
       "25  892057347                    France 2017-10-21 23:15:00   \n",
       "36  891589239                     Italy 2017-10-31 14:16:00   \n",
       "\n",
       "               paid_at  revenue payment_id        from_page      product_type  \n",
       "11 2017-10-11 19:00:00     3588         68             none  premium_no_trial  \n",
       "20 2017-03-11 10:57:00     8242        147  trial_vip_popup     trial_premium  \n",
       "24 2017-03-11 20:20:00    12818        147  trial_vip_popup     trial_premium  \n",
       "25 2017-08-11 01:56:00     1209         19             none             coins  \n",
       "36 2017-09-11 15:44:00     6305         19      empty_likes             coins  "
      ]
     },
     "execution_count": 530,
     "metadata": {},
     "output_type": "execute_result"
    }
   ],
   "source": [
    "df_transactions_test.query(\"joined_at > paid_at\").head()"
   ]
  },
  {
   "cell_type": "code",
   "execution_count": 531,
   "metadata": {},
   "outputs": [
    {
     "name": "stdout",
     "output_type": "stream",
     "text": [
      "Видно, скорее всего в колонке оплаты перепутаны местами месяц и число. Так как все ошибки связаны с 11-м числом.\n"
     ]
    }
   ],
   "source": [
    "print(\"Видно, скорее всего в колонке оплаты перепутаны местами месяц и число. Так как все ошибки связаны с 11-м числом.\")"
   ]
  },
  {
   "cell_type": "code",
   "execution_count": 532,
   "metadata": {},
   "outputs": [],
   "source": [
    "# Функция исправления даты покупки \"paid_at\" - перестановка местами дня и месяца\n",
    "def reverse_data_day_month(full_df):\n",
    "    \"\"\"\n",
    "    Эта функция меняет местами дни и месяцы в сломанной колонке 'paid_at'.\n",
    "    Сломан день 11, и это повторяется во всех датафреймах, на самом деле это 11й месяц.\n",
    "    Аргумент функциии - исходный датафрейм\n",
    "    \"\"\"\n",
    "    \n",
    "    # Отберем только даты с ошибками\n",
    "    df_BAD_paid_at = full_df.query(\"joined_at > paid_at\")\n",
    "    # Переведем даты с оштбками в str\n",
    "    df_bad_paid_at_RE_paid_at = df_BAD_paid_at.paid_at.dt.strftime('%Y-%m-%d %H:%M:%S')\n",
    "    # Переведем обратно из str в datetime, но с обратным форматом месяца и дня\n",
    "    df_bad_paid_at_RE_paid_at = pd.to_datetime(df_bad_paid_at_RE_paid_at, format='%Y-%d-%m %H:%M:%S')\n",
    "    # Преобразуем серию в DF с названием колонки \"paid_at\"\n",
    "    df_bad_paid_at_RE_paid_at = pd.DataFrame(df_bad_paid_at_RE_paid_at, columns=[\"paid_at\"])\n",
    "    \n",
    "    # Объединим DF c неправильной и правильной датами по индексу\n",
    "    df_GOOD_paid_at = df_BAD_paid_at.merge(df_bad_paid_at_RE_paid_at, how=\"left\", left_index = True, right_index = True)\n",
    "    # Удалим неправильную дату\n",
    "    df_GOOD_paid_at.drop(labels=\"paid_at_x\", axis=1, inplace=True)\n",
    "    # И изменим имя правильной даты\n",
    "    df_GOOD_paid_at.rename(columns={\"paid_at_y\":\"paid_at\"}, inplace=True)\n",
    "    \n",
    "    # Добавим исправленные строки в в отфильтрованный DF и отфильтруем по индексу\n",
    "    full_df = full_df\\\n",
    "                                     .query(\"joined_at <= paid_at\")\\\n",
    "                                     .append(df_GOOD_paid_at)\\\n",
    "                                     .sort_index(ascending=True)\n",
    "    return full_df"
   ]
  },
  {
   "cell_type": "code",
   "execution_count": 533,
   "metadata": {},
   "outputs": [],
   "source": [
    "# Вызовем ф-ю для каждого датафрейма\n",
    "df_transactions_test = reverse_data_day_month(df_transactions_test)\n",
    "df_transactions_control_1 = reverse_data_day_month(df_transactions_control_1)\n",
    "df_transactions_control_2 = reverse_data_day_month(df_transactions_control_2)"
   ]
  },
  {
   "cell_type": "code",
   "execution_count": 534,
   "metadata": {},
   "outputs": [
    {
     "data": {
      "text/plain": [
       "uid             0\n",
       "country         0\n",
       "joined_at       0\n",
       "paid_at         0\n",
       "revenue         0\n",
       "payment_id      0\n",
       "from_page       0\n",
       "product_type    0\n",
       "dtype: int64"
      ]
     },
     "execution_count": 534,
     "metadata": {},
     "output_type": "execute_result"
    }
   ],
   "source": [
    "# Проверим на наличие ошибок\n",
    "df_transactions_test.query(\"joined_at > paid_at\").nunique()"
   ]
  },
  {
   "cell_type": "code",
   "execution_count": null,
   "metadata": {},
   "outputs": [],
   "source": [
    "\n",
    "\n"
   ]
  },
  {
   "cell_type": "markdown",
   "metadata": {},
   "source": [
    "<h3> Найдем MAX и MIN даты регистрации и покупок"
   ]
  },
  {
   "cell_type": "code",
   "execution_count": 535,
   "metadata": {},
   "outputs": [
    {
     "name": "stderr",
     "output_type": "stream",
     "text": [
      "/opt/tljh/user/lib/python3.7/site-packages/ipykernel_launcher.py:1: FutureWarning: Treating datetime data as categorical rather than numeric in `.describe` is deprecated and will be removed in a future version of pandas. Specify `datetime_is_numeric=True` to silence this warning and adopt the future behavior now.\n",
      "  \"\"\"Entry point for launching an IPython kernel.\n",
      "/opt/tljh/user/lib/python3.7/site-packages/ipykernel_launcher.py:1: FutureWarning: Treating datetime data as categorical rather than numeric in `.describe` is deprecated and will be removed in a future version of pandas. Specify `datetime_is_numeric=True` to silence this warning and adopt the future behavior now.\n",
      "  \"\"\"Entry point for launching an IPython kernel.\n"
     ]
    },
    {
     "data": {
      "text/html": [
       "<div>\n",
       "<style scoped>\n",
       "    .dataframe tbody tr th:only-of-type {\n",
       "        vertical-align: middle;\n",
       "    }\n",
       "\n",
       "    .dataframe tbody tr th {\n",
       "        vertical-align: top;\n",
       "    }\n",
       "\n",
       "    .dataframe thead th {\n",
       "        text-align: right;\n",
       "    }\n",
       "</style>\n",
       "<table border=\"1\" class=\"dataframe\">\n",
       "  <thead>\n",
       "    <tr style=\"text-align: right;\">\n",
       "      <th></th>\n",
       "      <th>joined_at</th>\n",
       "      <th>paid_at</th>\n",
       "    </tr>\n",
       "  </thead>\n",
       "  <tbody>\n",
       "    <tr>\n",
       "      <th>count</th>\n",
       "      <td>273</td>\n",
       "      <td>273</td>\n",
       "    </tr>\n",
       "    <tr>\n",
       "      <th>unique</th>\n",
       "      <td>146</td>\n",
       "      <td>258</td>\n",
       "    </tr>\n",
       "    <tr>\n",
       "      <th>top</th>\n",
       "      <td>2017-10-18 01:09:00</td>\n",
       "      <td>2017-10-22 22:08:00</td>\n",
       "    </tr>\n",
       "    <tr>\n",
       "      <th>freq</th>\n",
       "      <td>14</td>\n",
       "      <td>4</td>\n",
       "    </tr>\n",
       "    <tr>\n",
       "      <th>first</th>\n",
       "      <td>2017-01-11 03:07:00</td>\n",
       "      <td>2017-02-11 13:43:00</td>\n",
       "    </tr>\n",
       "    <tr>\n",
       "      <th>last</th>\n",
       "      <td>2017-10-31 23:40:00</td>\n",
       "      <td>2017-12-11 22:06:00</td>\n",
       "    </tr>\n",
       "  </tbody>\n",
       "</table>\n",
       "</div>"
      ],
      "text/plain": [
       "                  joined_at              paid_at\n",
       "count                   273                  273\n",
       "unique                  146                  258\n",
       "top     2017-10-18 01:09:00  2017-10-22 22:08:00\n",
       "freq                     14                    4\n",
       "first   2017-01-11 03:07:00  2017-02-11 13:43:00\n",
       "last    2017-10-31 23:40:00  2017-12-11 22:06:00"
      ]
     },
     "execution_count": 535,
     "metadata": {},
     "output_type": "execute_result"
    }
   ],
   "source": [
    "df_transactions_test.describe(include='datetime')"
   ]
  },
  {
   "cell_type": "code",
   "execution_count": 536,
   "metadata": {
    "scrolled": true
   },
   "outputs": [
    {
     "name": "stderr",
     "output_type": "stream",
     "text": [
      "/opt/tljh/user/lib/python3.7/site-packages/ipykernel_launcher.py:1: FutureWarning: Treating datetime data as categorical rather than numeric in `.describe` is deprecated and will be removed in a future version of pandas. Specify `datetime_is_numeric=True` to silence this warning and adopt the future behavior now.\n",
      "  \"\"\"Entry point for launching an IPython kernel.\n",
      "/opt/tljh/user/lib/python3.7/site-packages/ipykernel_launcher.py:1: FutureWarning: Treating datetime data as categorical rather than numeric in `.describe` is deprecated and will be removed in a future version of pandas. Specify `datetime_is_numeric=True` to silence this warning and adopt the future behavior now.\n",
      "  \"\"\"Entry point for launching an IPython kernel.\n"
     ]
    },
    {
     "data": {
      "text/html": [
       "<div>\n",
       "<style scoped>\n",
       "    .dataframe tbody tr th:only-of-type {\n",
       "        vertical-align: middle;\n",
       "    }\n",
       "\n",
       "    .dataframe tbody tr th {\n",
       "        vertical-align: top;\n",
       "    }\n",
       "\n",
       "    .dataframe thead th {\n",
       "        text-align: right;\n",
       "    }\n",
       "</style>\n",
       "<table border=\"1\" class=\"dataframe\">\n",
       "  <thead>\n",
       "    <tr style=\"text-align: right;\">\n",
       "      <th></th>\n",
       "      <th>joined_at</th>\n",
       "      <th>paid_at</th>\n",
       "    </tr>\n",
       "  </thead>\n",
       "  <tbody>\n",
       "    <tr>\n",
       "      <th>count</th>\n",
       "      <td>377</td>\n",
       "      <td>377</td>\n",
       "    </tr>\n",
       "    <tr>\n",
       "      <th>unique</th>\n",
       "      <td>193</td>\n",
       "      <td>335</td>\n",
       "    </tr>\n",
       "    <tr>\n",
       "      <th>top</th>\n",
       "      <td>2017-10-16 01:38:00</td>\n",
       "      <td>2017-10-16 02:08:00</td>\n",
       "    </tr>\n",
       "    <tr>\n",
       "      <th>freq</th>\n",
       "      <td>27</td>\n",
       "      <td>5</td>\n",
       "    </tr>\n",
       "    <tr>\n",
       "      <th>first</th>\n",
       "      <td>2015-01-19 11:49:00</td>\n",
       "      <td>2016-12-14 16:16:00</td>\n",
       "    </tr>\n",
       "    <tr>\n",
       "      <th>last</th>\n",
       "      <td>2017-10-31 22:17:00</td>\n",
       "      <td>2017-12-11 21:57:00</td>\n",
       "    </tr>\n",
       "  </tbody>\n",
       "</table>\n",
       "</div>"
      ],
      "text/plain": [
       "                  joined_at              paid_at\n",
       "count                   377                  377\n",
       "unique                  193                  335\n",
       "top     2017-10-16 01:38:00  2017-10-16 02:08:00\n",
       "freq                     27                    5\n",
       "first   2015-01-19 11:49:00  2016-12-14 16:16:00\n",
       "last    2017-10-31 22:17:00  2017-12-11 21:57:00"
      ]
     },
     "execution_count": 536,
     "metadata": {},
     "output_type": "execute_result"
    }
   ],
   "source": [
    "df_transactions_control_1.describe(include='datetime')"
   ]
  },
  {
   "cell_type": "code",
   "execution_count": 537,
   "metadata": {},
   "outputs": [
    {
     "name": "stderr",
     "output_type": "stream",
     "text": [
      "/opt/tljh/user/lib/python3.7/site-packages/ipykernel_launcher.py:1: FutureWarning: Treating datetime data as categorical rather than numeric in `.describe` is deprecated and will be removed in a future version of pandas. Specify `datetime_is_numeric=True` to silence this warning and adopt the future behavior now.\n",
      "  \"\"\"Entry point for launching an IPython kernel.\n",
      "/opt/tljh/user/lib/python3.7/site-packages/ipykernel_launcher.py:1: FutureWarning: Treating datetime data as categorical rather than numeric in `.describe` is deprecated and will be removed in a future version of pandas. Specify `datetime_is_numeric=True` to silence this warning and adopt the future behavior now.\n",
      "  \"\"\"Entry point for launching an IPython kernel.\n"
     ]
    },
    {
     "data": {
      "text/html": [
       "<div>\n",
       "<style scoped>\n",
       "    .dataframe tbody tr th:only-of-type {\n",
       "        vertical-align: middle;\n",
       "    }\n",
       "\n",
       "    .dataframe tbody tr th {\n",
       "        vertical-align: top;\n",
       "    }\n",
       "\n",
       "    .dataframe thead th {\n",
       "        text-align: right;\n",
       "    }\n",
       "</style>\n",
       "<table border=\"1\" class=\"dataframe\">\n",
       "  <thead>\n",
       "    <tr style=\"text-align: right;\">\n",
       "      <th></th>\n",
       "      <th>joined_at</th>\n",
       "      <th>paid_at</th>\n",
       "    </tr>\n",
       "  </thead>\n",
       "  <tbody>\n",
       "    <tr>\n",
       "      <th>count</th>\n",
       "      <td>328</td>\n",
       "      <td>328</td>\n",
       "    </tr>\n",
       "    <tr>\n",
       "      <th>unique</th>\n",
       "      <td>187</td>\n",
       "      <td>309</td>\n",
       "    </tr>\n",
       "    <tr>\n",
       "      <th>top</th>\n",
       "      <td>2017-10-30 15:22:00</td>\n",
       "      <td>2017-10-23 20:17:00</td>\n",
       "    </tr>\n",
       "    <tr>\n",
       "      <th>freq</th>\n",
       "      <td>11</td>\n",
       "      <td>3</td>\n",
       "    </tr>\n",
       "    <tr>\n",
       "      <th>first</th>\n",
       "      <td>2017-01-11 08:36:00</td>\n",
       "      <td>2017-02-11 21:52:00</td>\n",
       "    </tr>\n",
       "    <tr>\n",
       "      <th>last</th>\n",
       "      <td>2017-10-31 17:43:00</td>\n",
       "      <td>2017-12-11 23:28:00</td>\n",
       "    </tr>\n",
       "  </tbody>\n",
       "</table>\n",
       "</div>"
      ],
      "text/plain": [
       "                  joined_at              paid_at\n",
       "count                   328                  328\n",
       "unique                  187                  309\n",
       "top     2017-10-30 15:22:00  2017-10-23 20:17:00\n",
       "freq                     11                    3\n",
       "first   2017-01-11 08:36:00  2017-02-11 21:52:00\n",
       "last    2017-10-31 17:43:00  2017-12-11 23:28:00"
      ]
     },
     "execution_count": 537,
     "metadata": {},
     "output_type": "execute_result"
    }
   ],
   "source": [
    "df_transactions_control_2.describe(include='datetime')"
   ]
  },
  {
   "cell_type": "code",
   "execution_count": null,
   "metadata": {},
   "outputs": [],
   "source": [
    "\n",
    "\n"
   ]
  },
  {
   "cell_type": "markdown",
   "metadata": {},
   "source": [
    "<h3> Объединим таблицы данных по группам"
   ]
  },
  {
   "cell_type": "code",
   "execution_count": 538,
   "metadata": {},
   "outputs": [],
   "source": [
    "test = df_users_test.merge(df_transactions_test, on=[\"uid\", \"country\"], how=\"left\")\n",
    "control_1 = df_users_control_1.merge(df_transactions_control_1, on=[\"uid\", \"country\"], how=\"left\")\n",
    "control_2 = df_users_control_2.merge(df_transactions_control_2, on=[\"uid\", \"country\"], how=\"left\")"
   ]
  },
  {
   "cell_type": "code",
   "execution_count": null,
   "metadata": {},
   "outputs": [],
   "source": [
    "\n",
    "\n"
   ]
  },
  {
   "cell_type": "markdown",
   "metadata": {},
   "source": [
    "<h3> Проверим колонку \"was_premium\", тк если у кого-то он был, значит пользователь принес нам деньги."
   ]
  },
  {
   "cell_type": "code",
   "execution_count": 539,
   "metadata": {},
   "outputs": [
    {
     "name": "stdout",
     "output_type": "stream",
     "text": [
      "Случаев, когда нет прибыли с пользователя, но при этом он был когда-то премиум достаточно в каждом DF.      \n",
      "Значит колонка 'was_premium' не поможет при дальнейшем анализе данных.\n"
     ]
    }
   ],
   "source": [
    "# Проверим случай, когда общей прибыли нет, но у юзера был кагда-то премиум\n",
    "test.query(\"(total_revenue == 'NaN' or total_revenue <= 0) and (was_premium == 1)\")\n",
    "control_1.query(\"(total_revenue == 'NaN' or total_revenue <= 0) and (was_premium == 1)\")\n",
    "control_2.query(\"(total_revenue == 'NaN' or total_revenue <= 0) and (was_premium == 1)\")\n",
    "print(\"Случаев, когда нет прибыли с пользователя, но при этом он был когда-то премиум достаточно в каждом DF.\\\n",
    "      \\nЗначит колонка 'was_premium' не поможет при дальнейшем анализе данных.\")"
   ]
  },
  {
   "cell_type": "code",
   "execution_count": null,
   "metadata": {},
   "outputs": [],
   "source": [
    "\n",
    "\n"
   ]
  },
  {
   "cell_type": "markdown",
   "metadata": {},
   "source": [
    "<h3> Проверим колонку \"is_premium\", \"product_type\" соответствует ожиданиям."
   ]
  },
  {
   "cell_type": "code",
   "execution_count": 540,
   "metadata": {},
   "outputs": [
    {
     "data": {
      "text/html": [
       "<div>\n",
       "<style scoped>\n",
       "    .dataframe tbody tr th:only-of-type {\n",
       "        vertical-align: middle;\n",
       "    }\n",
       "\n",
       "    .dataframe tbody tr th {\n",
       "        vertical-align: top;\n",
       "    }\n",
       "\n",
       "    .dataframe thead th {\n",
       "        text-align: right;\n",
       "    }\n",
       "</style>\n",
       "<table border=\"1\" class=\"dataframe\">\n",
       "  <thead>\n",
       "    <tr style=\"text-align: right;\">\n",
       "      <th></th>\n",
       "      <th>product_type</th>\n",
       "      <th>uid</th>\n",
       "    </tr>\n",
       "  </thead>\n",
       "  <tbody>\n",
       "    <tr>\n",
       "      <th>0</th>\n",
       "      <td>coins</td>\n",
       "      <td>21</td>\n",
       "    </tr>\n",
       "    <tr>\n",
       "      <th>1</th>\n",
       "      <td>other_type</td>\n",
       "      <td>5</td>\n",
       "    </tr>\n",
       "    <tr>\n",
       "      <th>2</th>\n",
       "      <td>premium_no_trial</td>\n",
       "      <td>7</td>\n",
       "    </tr>\n",
       "  </tbody>\n",
       "</table>\n",
       "</div>"
      ],
      "text/plain": [
       "       product_type  uid\n",
       "0             coins   21\n",
       "1        other_type    5\n",
       "2  premium_no_trial    7"
      ]
     },
     "execution_count": 540,
     "metadata": {},
     "output_type": "execute_result"
    }
   ],
   "source": [
    "test\\\n",
    "        .query(\"is_premium != 1 and product_type in ['premium_no_trial', 'coins', 'trial_premium', 'other_type']\")\\\n",
    "       .groupby('product_type', as_index=False).agg({\"uid\":\"count\"})"
   ]
  },
  {
   "cell_type": "code",
   "execution_count": 541,
   "metadata": {},
   "outputs": [
    {
     "data": {
      "text/html": [
       "<div>\n",
       "<style scoped>\n",
       "    .dataframe tbody tr th:only-of-type {\n",
       "        vertical-align: middle;\n",
       "    }\n",
       "\n",
       "    .dataframe tbody tr th {\n",
       "        vertical-align: top;\n",
       "    }\n",
       "\n",
       "    .dataframe thead th {\n",
       "        text-align: right;\n",
       "    }\n",
       "</style>\n",
       "<table border=\"1\" class=\"dataframe\">\n",
       "  <thead>\n",
       "    <tr style=\"text-align: right;\">\n",
       "      <th></th>\n",
       "      <th>product_type</th>\n",
       "      <th>uid</th>\n",
       "    </tr>\n",
       "  </thead>\n",
       "  <tbody>\n",
       "    <tr>\n",
       "      <th>0</th>\n",
       "      <td>coins</td>\n",
       "      <td>40</td>\n",
       "    </tr>\n",
       "    <tr>\n",
       "      <th>1</th>\n",
       "      <td>other_type</td>\n",
       "      <td>19</td>\n",
       "    </tr>\n",
       "    <tr>\n",
       "      <th>2</th>\n",
       "      <td>premium_no_trial</td>\n",
       "      <td>13</td>\n",
       "    </tr>\n",
       "    <tr>\n",
       "      <th>3</th>\n",
       "      <td>trial_premium</td>\n",
       "      <td>1</td>\n",
       "    </tr>\n",
       "  </tbody>\n",
       "</table>\n",
       "</div>"
      ],
      "text/plain": [
       "       product_type  uid\n",
       "0             coins   40\n",
       "1        other_type   19\n",
       "2  premium_no_trial   13\n",
       "3     trial_premium    1"
      ]
     },
     "execution_count": 541,
     "metadata": {},
     "output_type": "execute_result"
    }
   ],
   "source": [
    "control_1\\\n",
    "        .query(\"is_premium != 1 and product_type in ['premium_no_trial', 'coins', 'trial_premium', 'other_type']\")\\\n",
    "       .groupby('product_type', as_index=False).agg({\"uid\":\"count\"})"
   ]
  },
  {
   "cell_type": "code",
   "execution_count": 542,
   "metadata": {},
   "outputs": [
    {
     "data": {
      "text/html": [
       "<div>\n",
       "<style scoped>\n",
       "    .dataframe tbody tr th:only-of-type {\n",
       "        vertical-align: middle;\n",
       "    }\n",
       "\n",
       "    .dataframe tbody tr th {\n",
       "        vertical-align: top;\n",
       "    }\n",
       "\n",
       "    .dataframe thead th {\n",
       "        text-align: right;\n",
       "    }\n",
       "</style>\n",
       "<table border=\"1\" class=\"dataframe\">\n",
       "  <thead>\n",
       "    <tr style=\"text-align: right;\">\n",
       "      <th></th>\n",
       "      <th>product_type</th>\n",
       "      <th>uid</th>\n",
       "    </tr>\n",
       "  </thead>\n",
       "  <tbody>\n",
       "    <tr>\n",
       "      <th>0</th>\n",
       "      <td>coins</td>\n",
       "      <td>34</td>\n",
       "    </tr>\n",
       "    <tr>\n",
       "      <th>1</th>\n",
       "      <td>other_type</td>\n",
       "      <td>14</td>\n",
       "    </tr>\n",
       "    <tr>\n",
       "      <th>2</th>\n",
       "      <td>premium_no_trial</td>\n",
       "      <td>10</td>\n",
       "    </tr>\n",
       "    <tr>\n",
       "      <th>3</th>\n",
       "      <td>trial_premium</td>\n",
       "      <td>1</td>\n",
       "    </tr>\n",
       "  </tbody>\n",
       "</table>\n",
       "</div>"
      ],
      "text/plain": [
       "       product_type  uid\n",
       "0             coins   34\n",
       "1        other_type   14\n",
       "2  premium_no_trial   10\n",
       "3     trial_premium    1"
      ]
     },
     "execution_count": 542,
     "metadata": {},
     "output_type": "execute_result"
    }
   ],
   "source": [
    "control_2\\\n",
    "        .query(\"is_premium != 1 and product_type in ['premium_no_trial', 'coins', 'trial_premium', 'other_type']\")\\\n",
    "       .groupby('product_type', as_index=False).agg({\"uid\":\"count\"})"
   ]
  },
  {
   "cell_type": "code",
   "execution_count": 543,
   "metadata": {},
   "outputs": [
    {
     "name": "stdout",
     "output_type": "stream",
     "text": [
      "На колонку 'is_premium' такэже нельзя полагаться, тк она пропущена во многих случаях премиум-подписки.\n"
     ]
    }
   ],
   "source": [
    "print(\"На колонку 'is_premium' такэже нельзя полагаться, тк она пропущена во многих случаях премиум-подписки.\")"
   ]
  },
  {
   "cell_type": "code",
   "execution_count": null,
   "metadata": {},
   "outputs": [],
   "source": [
    "\n",
    "\n"
   ]
  },
  {
   "cell_type": "markdown",
   "metadata": {},
   "source": [
    "<h3> Проверим колонку \"visit_days\""
   ]
  },
  {
   "cell_type": "code",
   "execution_count": 544,
   "metadata": {},
   "outputs": [
    {
     "data": {
      "text/html": [
       "<div>\n",
       "<style scoped>\n",
       "    .dataframe tbody tr th:only-of-type {\n",
       "        vertical-align: middle;\n",
       "    }\n",
       "\n",
       "    .dataframe tbody tr th {\n",
       "        vertical-align: top;\n",
       "    }\n",
       "\n",
       "    .dataframe thead th {\n",
       "        text-align: right;\n",
       "    }\n",
       "</style>\n",
       "<table border=\"1\" class=\"dataframe\">\n",
       "  <thead>\n",
       "    <tr style=\"text-align: right;\">\n",
       "      <th></th>\n",
       "      <th>uid</th>\n",
       "      <th>age</th>\n",
       "      <th>attraction_coeff</th>\n",
       "      <th>coins</th>\n",
       "      <th>country</th>\n",
       "      <th>visit_days</th>\n",
       "      <th>gender</th>\n",
       "      <th>age_filter_start</th>\n",
       "      <th>age_filter_end</th>\n",
       "      <th>views_count</th>\n",
       "      <th>was_premium</th>\n",
       "      <th>is_premium</th>\n",
       "      <th>total_revenue</th>\n",
       "      <th>joined_at</th>\n",
       "      <th>paid_at</th>\n",
       "      <th>revenue</th>\n",
       "      <th>payment_id</th>\n",
       "      <th>from_page</th>\n",
       "      <th>product_type</th>\n",
       "    </tr>\n",
       "  </thead>\n",
       "  <tbody>\n",
       "    <tr>\n",
       "      <th>140</th>\n",
       "      <td>891919368</td>\n",
       "      <td>29</td>\n",
       "      <td>250</td>\n",
       "      <td>NaN</td>\n",
       "      <td>France</td>\n",
       "      <td>nan</td>\n",
       "      <td>1</td>\n",
       "      <td>26</td>\n",
       "      <td>32</td>\n",
       "      <td>4</td>\n",
       "      <td>1.0</td>\n",
       "      <td>1.0</td>\n",
       "      <td>16536</td>\n",
       "      <td>2017-10-24 21:21:00</td>\n",
       "      <td>2017-10-31 23:21:00</td>\n",
       "      <td>16536.0</td>\n",
       "      <td>147</td>\n",
       "      <td>trial_vip_popup</td>\n",
       "      <td>trial_premium</td>\n",
       "    </tr>\n",
       "    <tr>\n",
       "      <th>194</th>\n",
       "      <td>891786216</td>\n",
       "      <td>21</td>\n",
       "      <td>250</td>\n",
       "      <td>NaN</td>\n",
       "      <td>Spain</td>\n",
       "      <td>nan</td>\n",
       "      <td>1</td>\n",
       "      <td>18</td>\n",
       "      <td>24</td>\n",
       "      <td>4</td>\n",
       "      <td>1.0</td>\n",
       "      <td>1.0</td>\n",
       "      <td>12818</td>\n",
       "      <td>2017-10-27 18:20:00</td>\n",
       "      <td>2017-11-03 20:20:00</td>\n",
       "      <td>12818.0</td>\n",
       "      <td>147</td>\n",
       "      <td>trial_vip_popup</td>\n",
       "      <td>trial_premium</td>\n",
       "    </tr>\n",
       "    <tr>\n",
       "      <th>226</th>\n",
       "      <td>892211106</td>\n",
       "      <td>33</td>\n",
       "      <td>0</td>\n",
       "      <td>NaN</td>\n",
       "      <td>France</td>\n",
       "      <td>nan</td>\n",
       "      <td>1</td>\n",
       "      <td>30</td>\n",
       "      <td>36</td>\n",
       "      <td>4</td>\n",
       "      <td>1.0</td>\n",
       "      <td>1.0</td>\n",
       "      <td>4537</td>\n",
       "      <td>2017-10-18 17:09:00</td>\n",
       "      <td>2017-10-18 17:31:00</td>\n",
       "      <td>4537.0</td>\n",
       "      <td>147</td>\n",
       "      <td>left_sidebar_menu</td>\n",
       "      <td>premium_no_trial</td>\n",
       "    </tr>\n",
       "    <tr>\n",
       "      <th>387</th>\n",
       "      <td>892408266</td>\n",
       "      <td>24</td>\n",
       "      <td>0</td>\n",
       "      <td>NaN</td>\n",
       "      <td>France</td>\n",
       "      <td>nan</td>\n",
       "      <td>1</td>\n",
       "      <td>21</td>\n",
       "      <td>27</td>\n",
       "      <td>1</td>\n",
       "      <td>1.0</td>\n",
       "      <td>1.0</td>\n",
       "      <td>16653</td>\n",
       "      <td>2017-10-14 18:47:00</td>\n",
       "      <td>2017-10-23 13:05:00</td>\n",
       "      <td>16653.0</td>\n",
       "      <td>147</td>\n",
       "      <td>autoreply_message</td>\n",
       "      <td>trial_premium</td>\n",
       "    </tr>\n",
       "    <tr>\n",
       "      <th>542</th>\n",
       "      <td>892084260</td>\n",
       "      <td>53</td>\n",
       "      <td>184</td>\n",
       "      <td>NaN</td>\n",
       "      <td>Canada</td>\n",
       "      <td>nan</td>\n",
       "      <td>1</td>\n",
       "      <td>50</td>\n",
       "      <td>56</td>\n",
       "      <td>119</td>\n",
       "      <td>1.0</td>\n",
       "      <td>1.0</td>\n",
       "      <td>9815</td>\n",
       "      <td>2017-10-21 13:30:00</td>\n",
       "      <td>2017-10-28 15:32:00</td>\n",
       "      <td>9815.0</td>\n",
       "      <td>147</td>\n",
       "      <td>trial_vip_popup</td>\n",
       "      <td>trial_premium</td>\n",
       "    </tr>\n",
       "  </tbody>\n",
       "</table>\n",
       "</div>"
      ],
      "text/plain": [
       "           uid  age  attraction_coeff  coins country visit_days gender  \\\n",
       "140  891919368   29               250    NaN  France        nan      1   \n",
       "194  891786216   21               250    NaN   Spain        nan      1   \n",
       "226  892211106   33                 0    NaN  France        nan      1   \n",
       "387  892408266   24                 0    NaN  France        nan      1   \n",
       "542  892084260   53               184    NaN  Canada        nan      1   \n",
       "\n",
       "     age_filter_start  age_filter_end  views_count  was_premium  is_premium  \\\n",
       "140                26              32            4          1.0         1.0   \n",
       "194                18              24            4          1.0         1.0   \n",
       "226                30              36            4          1.0         1.0   \n",
       "387                21              27            1          1.0         1.0   \n",
       "542                50              56          119          1.0         1.0   \n",
       "\n",
       "     total_revenue           joined_at             paid_at  revenue  \\\n",
       "140          16536 2017-10-24 21:21:00 2017-10-31 23:21:00  16536.0   \n",
       "194          12818 2017-10-27 18:20:00 2017-11-03 20:20:00  12818.0   \n",
       "226           4537 2017-10-18 17:09:00 2017-10-18 17:31:00   4537.0   \n",
       "387          16653 2017-10-14 18:47:00 2017-10-23 13:05:00  16653.0   \n",
       "542           9815 2017-10-21 13:30:00 2017-10-28 15:32:00   9815.0   \n",
       "\n",
       "    payment_id          from_page      product_type  \n",
       "140        147    trial_vip_popup     trial_premium  \n",
       "194        147    trial_vip_popup     trial_premium  \n",
       "226        147  left_sidebar_menu  premium_no_trial  \n",
       "387        147  autoreply_message     trial_premium  \n",
       "542        147    trial_vip_popup     trial_premium  "
      ]
     },
     "execution_count": 544,
     "metadata": {},
     "output_type": "execute_result"
    }
   ],
   "source": [
    "test.astype({'visit_days':\"str\"}).query(\"visit_days == 'nan' and joined_at != 'NaN' and paid_at != 'NaN'\").head()"
   ]
  },
  {
   "cell_type": "code",
   "execution_count": 545,
   "metadata": {},
   "outputs": [
    {
     "name": "stdout",
     "output_type": "stream",
     "text": [
      "Нашлись случаи, когда якобы пользователь ниразу не заходил в сервис c момента регистрации, а при этом и имелась дата и время покупки.\n",
      "Таких случаев в тестовой группе набралось 20 штук.\n"
     ]
    }
   ],
   "source": [
    "print(\"Нашлись случаи, когда якобы пользователь ниразу не заходил в сервис c момента регистрации, а при этом и имелась дата и время покупки.\\\n",
    "\\nТаких случаев в тестовой группе набралось {} штук.\".format(test.astype({'visit_days':\"str\"}).query(\"visit_days == 'nan' and joined_at != 'NaN' and paid_at != 'NaN'\").shape[0]))"
   ]
  },
  {
   "cell_type": "code",
   "execution_count": 546,
   "metadata": {},
   "outputs": [
    {
     "data": {
      "text/html": [
       "<div>\n",
       "<style scoped>\n",
       "    .dataframe tbody tr th:only-of-type {\n",
       "        vertical-align: middle;\n",
       "    }\n",
       "\n",
       "    .dataframe tbody tr th {\n",
       "        vertical-align: top;\n",
       "    }\n",
       "\n",
       "    .dataframe thead th {\n",
       "        text-align: right;\n",
       "    }\n",
       "</style>\n",
       "<table border=\"1\" class=\"dataframe\">\n",
       "  <thead>\n",
       "    <tr style=\"text-align: right;\">\n",
       "      <th></th>\n",
       "      <th>uid</th>\n",
       "      <th>age</th>\n",
       "      <th>attraction_coeff</th>\n",
       "      <th>coins</th>\n",
       "      <th>country</th>\n",
       "      <th>visit_days</th>\n",
       "      <th>gender</th>\n",
       "      <th>age_filter_start</th>\n",
       "      <th>age_filter_end</th>\n",
       "      <th>views_count</th>\n",
       "      <th>was_premium</th>\n",
       "      <th>is_premium</th>\n",
       "      <th>total_revenue</th>\n",
       "      <th>joined_at</th>\n",
       "      <th>paid_at</th>\n",
       "      <th>revenue</th>\n",
       "      <th>payment_id</th>\n",
       "      <th>from_page</th>\n",
       "      <th>product_type</th>\n",
       "    </tr>\n",
       "  </thead>\n",
       "  <tbody>\n",
       "    <tr>\n",
       "      <th>0</th>\n",
       "      <td>892309896</td>\n",
       "      <td>27</td>\n",
       "      <td>685</td>\n",
       "      <td>NaN</td>\n",
       "      <td>United States of America</td>\n",
       "      <td>1,2,3,4,5,6,7,8,9,10,11,12,16,17</td>\n",
       "      <td>1</td>\n",
       "      <td>24</td>\n",
       "      <td>30</td>\n",
       "      <td>89</td>\n",
       "      <td>NaN</td>\n",
       "      <td>NaN</td>\n",
       "      <td>0</td>\n",
       "      <td>NaT</td>\n",
       "      <td>NaT</td>\n",
       "      <td>NaN</td>\n",
       "      <td>NaN</td>\n",
       "      <td>NaN</td>\n",
       "      <td>NaN</td>\n",
       "    </tr>\n",
       "    <tr>\n",
       "      <th>2</th>\n",
       "      <td>892185708</td>\n",
       "      <td>45</td>\n",
       "      <td>44</td>\n",
       "      <td>NaN</td>\n",
       "      <td>Israel</td>\n",
       "      <td>1,3,4,6,7,8,10,11,12,13,14,15,16,17,18,19,20,2...</td>\n",
       "      <td>1</td>\n",
       "      <td>42</td>\n",
       "      <td>48</td>\n",
       "      <td>68</td>\n",
       "      <td>NaN</td>\n",
       "      <td>NaN</td>\n",
       "      <td>0</td>\n",
       "      <td>NaT</td>\n",
       "      <td>NaT</td>\n",
       "      <td>NaN</td>\n",
       "      <td>NaN</td>\n",
       "      <td>NaN</td>\n",
       "      <td>NaN</td>\n",
       "    </tr>\n",
       "    <tr>\n",
       "      <th>3</th>\n",
       "      <td>892130292</td>\n",
       "      <td>32</td>\n",
       "      <td>0</td>\n",
       "      <td>NaN</td>\n",
       "      <td>United States of America</td>\n",
       "      <td>1,2,3,4,5,6,7,8,9,10,11,12</td>\n",
       "      <td>1</td>\n",
       "      <td>29</td>\n",
       "      <td>35</td>\n",
       "      <td>0</td>\n",
       "      <td>NaN</td>\n",
       "      <td>NaN</td>\n",
       "      <td>0</td>\n",
       "      <td>NaT</td>\n",
       "      <td>NaT</td>\n",
       "      <td>NaN</td>\n",
       "      <td>NaN</td>\n",
       "      <td>NaN</td>\n",
       "      <td>NaN</td>\n",
       "    </tr>\n",
       "    <tr>\n",
       "      <th>5</th>\n",
       "      <td>891083133</td>\n",
       "      <td>24</td>\n",
       "      <td>0</td>\n",
       "      <td>NaN</td>\n",
       "      <td>Spain</td>\n",
       "      <td>1</td>\n",
       "      <td>1</td>\n",
       "      <td>16</td>\n",
       "      <td>27</td>\n",
       "      <td>0</td>\n",
       "      <td>NaN</td>\n",
       "      <td>NaN</td>\n",
       "      <td>0</td>\n",
       "      <td>NaT</td>\n",
       "      <td>NaT</td>\n",
       "      <td>NaN</td>\n",
       "      <td>NaN</td>\n",
       "      <td>NaN</td>\n",
       "      <td>NaN</td>\n",
       "    </tr>\n",
       "    <tr>\n",
       "      <th>8</th>\n",
       "      <td>891085770</td>\n",
       "      <td>28</td>\n",
       "      <td>0</td>\n",
       "      <td>NaN</td>\n",
       "      <td>Italy</td>\n",
       "      <td>1,2,3,4</td>\n",
       "      <td>1</td>\n",
       "      <td>25</td>\n",
       "      <td>31</td>\n",
       "      <td>1</td>\n",
       "      <td>NaN</td>\n",
       "      <td>NaN</td>\n",
       "      <td>0</td>\n",
       "      <td>NaT</td>\n",
       "      <td>NaT</td>\n",
       "      <td>NaN</td>\n",
       "      <td>NaN</td>\n",
       "      <td>NaN</td>\n",
       "      <td>NaN</td>\n",
       "    </tr>\n",
       "  </tbody>\n",
       "</table>\n",
       "</div>"
      ],
      "text/plain": [
       "         uid  age  attraction_coeff  coins                   country  \\\n",
       "0  892309896   27               685    NaN  United States of America   \n",
       "2  892185708   45                44    NaN                    Israel   \n",
       "3  892130292   32                 0    NaN  United States of America   \n",
       "5  891083133   24                 0    NaN                     Spain   \n",
       "8  891085770   28                 0    NaN                     Italy   \n",
       "\n",
       "                                          visit_days gender  age_filter_start  \\\n",
       "0                   1,2,3,4,5,6,7,8,9,10,11,12,16,17      1                24   \n",
       "2  1,3,4,6,7,8,10,11,12,13,14,15,16,17,18,19,20,2...      1                42   \n",
       "3                         1,2,3,4,5,6,7,8,9,10,11,12      1                29   \n",
       "5                                                  1      1                16   \n",
       "8                                            1,2,3,4      1                25   \n",
       "\n",
       "   age_filter_end  views_count  was_premium  is_premium  total_revenue  \\\n",
       "0              30           89          NaN         NaN              0   \n",
       "2              48           68          NaN         NaN              0   \n",
       "3              35            0          NaN         NaN              0   \n",
       "5              27            0          NaN         NaN              0   \n",
       "8              31            1          NaN         NaN              0   \n",
       "\n",
       "  joined_at paid_at  revenue payment_id from_page product_type  \n",
       "0       NaT     NaT      NaN        NaN       NaN          NaN  \n",
       "2       NaT     NaT      NaN        NaN       NaN          NaN  \n",
       "3       NaT     NaT      NaN        NaN       NaN          NaN  \n",
       "5       NaT     NaT      NaN        NaN       NaN          NaN  \n",
       "8       NaT     NaT      NaN        NaN       NaN          NaN  "
      ]
     },
     "execution_count": 546,
     "metadata": {},
     "output_type": "execute_result"
    }
   ],
   "source": [
    "test.astype({'visit_days':\"str\"}).query(\"visit_days != 'nan' and joined_at == 'NaN' and paid_at == 'NaN'\").head()"
   ]
  },
  {
   "cell_type": "code",
   "execution_count": 547,
   "metadata": {},
   "outputs": [
    {
     "name": "stdout",
     "output_type": "stream",
     "text": [
      "Да и обратная ситуация имеется в очень большом количестве = 2851 штук.\n"
     ]
    }
   ],
   "source": [
    "print(\"Да и обратная ситуация имеется в очень большом количестве = {} штук.\".format(test.astype({'visit_days':\"str\"}).query(\"visit_days != 'nan' and joined_at == 'NaN' and paid_at == 'NaN'\").shape[0]))"
   ]
  },
  {
   "cell_type": "code",
   "execution_count": 548,
   "metadata": {},
   "outputs": [
    {
     "name": "stdout",
     "output_type": "stream",
     "text": [
      "Аналогичные ситуации в группах control_1 и control_2. В анализе колонку \"visit_days\" использовать нельзя.\n"
     ]
    }
   ],
   "source": [
    "print(\"Аналогичные ситуации в группах control_1 и control_2. В анализе колонку \\\"visit_days\\\" использовать нельзя.\")"
   ]
  },
  {
   "cell_type": "code",
   "execution_count": null,
   "metadata": {},
   "outputs": [],
   "source": [
    "\n",
    "\n"
   ]
  },
  {
   "cell_type": "markdown",
   "metadata": {},
   "source": [
    "<h3> Проверим данные о поле пользователей."
   ]
  },
  {
   "cell_type": "code",
   "execution_count": 549,
   "metadata": {},
   "outputs": [
    {
     "name": "stdout",
     "output_type": "stream",
     "text": [
      "В каждом датафрейме должно быть всего 2 показателя.\n",
      "В тестовой группе ['1', '0']. \n",
      "В контрольной 1 группе ['0', '1']. \n",
      "В контрольной 2 группе ['1', '0'].\n"
     ]
    }
   ],
   "source": [
    "print(\\\n",
    "\"В каждом датафрейме должно быть всего 2 показателя.\\\n",
    "\\nВ тестовой группе {}. \\\n",
    "\\nВ контрольной 1 группе {}. \\\n",
    "\\nВ контрольной 2 группе {}.\"\\\n",
    ".format(test.gender.unique().tolist(), control_1.gender.unique().tolist(), control_2.gender.unique().tolist()))"
   ]
  },
  {
   "cell_type": "code",
   "execution_count": null,
   "metadata": {},
   "outputs": [],
   "source": [
    "\n",
    "\n"
   ]
  },
  {
   "cell_type": "markdown",
   "metadata": {},
   "source": [
    "<h3> Проверим данные о возрасте пользователей."
   ]
  },
  {
   "cell_type": "code",
   "execution_count": 550,
   "metadata": {},
   "outputs": [
    {
     "name": "stdout",
     "output_type": "stream",
     "text": [
      "В каждом датафрейме не должно быть пропусков в возрасте пользователя и нулевых и отрицательных значений.\n",
      "В тестовой группе 0 таких значений. \n",
      "В контрольной 1 группе 0 таких значений. \n",
      "В контрольной 2 группе 0 таких значений.\n"
     ]
    }
   ],
   "source": [
    "# Проверим пропуски (либо отрицательные, либо нулевые значения) в возрасте пользователей \n",
    "print(\\\n",
    "\"В каждом датафрейме не должно быть пропусков в возрасте пользователя и нулевых и отрицательных значений.\\\n",
    "\\nВ тестовой группе {} таких значений. \\\n",
    "\\nВ контрольной 1 группе {} таких значений. \\\n",
    "\\nВ контрольной 2 группе {} таких значений.\"\\\n",
    ".format(test.query(\"age <= 0 and age == 'NaT'\").shape[0], \\\n",
    "        control_1.query(\"age <= 0 and age == 'NaT'\").shape[0],\\\n",
    "        control_2.query(\"age <= 0 and age == 'NaT'\").shape[0]))"
   ]
  },
  {
   "cell_type": "code",
   "execution_count": 551,
   "metadata": {},
   "outputs": [
    {
     "name": "stdout",
     "output_type": "stream",
     "text": [
      "В каждом датафрейме не должно быть, что конечный возраст в фильтре меньше начального возраста.\n",
      "В тестовой группе 0 таких значений. \n",
      "В контрольной 1 группе 0 таких значений. \n",
      "В контрольной 2 группе 0 таких значений.\n"
     ]
    }
   ],
   "source": [
    "# Проверим конечный возраст всегда ли больше начального\n",
    "print(\\\n",
    "\"В каждом датафрейме не должно быть, что конечный возраст в фильтре меньше начального возраста.\\\n",
    "\\nВ тестовой группе {} таких значений. \\\n",
    "\\nВ контрольной 1 группе {} таких значений. \\\n",
    "\\nВ контрольной 2 группе {} таких значений.\"\\\n",
    ".format(test.query(\"age_filter_start >= age_filter_end\").shape[0], \\\n",
    "        control_1.query(\"age_filter_start >= age_filter_end\").shape[0],\\\n",
    "        control_2.query(\"age_filter_start >= age_filter_end\").shape[0]))"
   ]
  },
  {
   "cell_type": "code",
   "execution_count": 552,
   "metadata": {},
   "outputs": [
    {
     "name": "stdout",
     "output_type": "stream",
     "text": [
      "В каждом датафрейме возраст должен соответствовать возрастной группе (фильтру возрастов).\n",
      "В тестовой группе несоответствий наблюдается у 293 пользователей. \n",
      "В контрольной 1 группе несоответствий наблюдается у 297 пользователей. \n",
      "В контрольной 2 группе несоответствий наблюдается у 253 пользователей.\n",
      "\n",
      "Из этого следует, что анализ данных по возрастной группе проводить не стоит!\n"
     ]
    }
   ],
   "source": [
    "# Проверим соответствует ли фильтр возраста самому возрасту пользователя (правильно ли выставлен фильтр или есть ошибки)\n",
    "print(\\\n",
    "\"В каждом датафрейме возраст должен соответствовать возрастной группе (фильтру возрастов).\\\n",
    "\\nВ тестовой группе несоответствий наблюдается у {} пользователей. \\\n",
    "\\nВ контрольной 1 группе несоответствий наблюдается у {} пользователей. \\\n",
    "\\nВ контрольной 2 группе несоответствий наблюдается у {} пользователей.\"\\\n",
    ".format(test.query(\"age < age_filter_start or age > age_filter_end\").uid.nunique(), \\\n",
    "        control_1.query(\"age < age_filter_start or age > age_filter_end\").uid.nunique(),\\\n",
    "        control_2.query(\"age < age_filter_start or age > age_filter_end\").uid.nunique()))\n",
    "\n",
    "print(\"\\nИз этого следует, что анализ данных по возрастной группе проводить не стоит!\")"
   ]
  },
  {
   "cell_type": "code",
   "execution_count": null,
   "metadata": {},
   "outputs": [],
   "source": [
    "\n",
    "\n"
   ]
  },
  {
   "cell_type": "markdown",
   "metadata": {},
   "source": [
    "<h3> Проверим данные виде платёжных систем, т.е. колонке \"payment_id\""
   ]
  },
  {
   "cell_type": "code",
   "execution_count": 553,
   "metadata": {},
   "outputs": [],
   "source": [
    "# Переведем все данные этой колонки в str, тк тяжело фильтровать пропущенные значения\n",
    "test.payment_id = test.payment_id.astype(\"str\")\n",
    "control_1.payment_id = control_1.payment_id.astype(\"str\")\n",
    "control_2.payment_id = control_2.payment_id.astype(\"str\")"
   ]
  },
  {
   "cell_type": "code",
   "execution_count": 554,
   "metadata": {},
   "outputs": [
    {
     "data": {
      "text/plain": [
       "{'0', '146', '147', '19', '67', '68', 'nan'}"
      ]
     },
     "execution_count": 554,
     "metadata": {},
     "output_type": "execute_result"
    }
   ],
   "source": [
    "# Посмотрим какие же уникальные платёжные системы применяются в каждой группе\n",
    "test_payment_id = set(sorted(test.payment_id.unique().tolist(), reverse=False))\n",
    "test_payment_id"
   ]
  },
  {
   "cell_type": "code",
   "execution_count": 555,
   "metadata": {},
   "outputs": [
    {
     "data": {
      "text/plain": [
       "{'0.0', '127.0', '146.0', '147.0', '19.0', '67.0', '68.0', 'nan'}"
      ]
     },
     "execution_count": 555,
     "metadata": {},
     "output_type": "execute_result"
    }
   ],
   "source": [
    "control_1_payment_id = set(sorted(control_1.payment_id.unique().tolist(), reverse=False))\n",
    "control_1_payment_id"
   ]
  },
  {
   "cell_type": "code",
   "execution_count": 556,
   "metadata": {},
   "outputs": [
    {
     "data": {
      "text/plain": [
       "{'0', '146', '147', '19', '67', '68', 'nan'}"
      ]
     },
     "execution_count": 556,
     "metadata": {},
     "output_type": "execute_result"
    }
   ],
   "source": [
    "control_2_payment_id = set(sorted(control_2.payment_id.unique().tolist(), reverse=False))\n",
    "control_2_payment_id"
   ]
  },
  {
   "cell_type": "code",
   "execution_count": 557,
   "metadata": {},
   "outputs": [],
   "source": [
    "# Приведем колонку control_1.payment_id в нормальный вид (без нулей)\n",
    "\n",
    "# Запишем содержимое колонки в переменную\n",
    "control_1_payment_id = control_1.payment_id.str.split(\".\").str[0]\n",
    "control_1_payment_id = pd.DataFrame(control_1_payment_id, columns=[\"payment_id\"])\n",
    "\n",
    "# Удалим из DF эту колонку\n",
    "control_1.drop(labels=\"payment_id\", axis=\"columns\", inplace=True)\n",
    "\n",
    "# Довавим нормальную колонку без нулей по индексам\n",
    "control_1 = control_1.merge(control_1_payment_id, how=\"left\", left_index = True, right_index = True) "
   ]
  },
  {
   "cell_type": "code",
   "execution_count": 558,
   "metadata": {},
   "outputs": [
    {
     "data": {
      "text/plain": [
       "{'0', '127', '146', '147', '19', '67', '68', 'nan'}"
      ]
     },
     "execution_count": 558,
     "metadata": {},
     "output_type": "execute_result"
    }
   ],
   "source": [
    "control_1_payment_id = set(sorted(control_1.payment_id.unique().tolist(), reverse=False))\n",
    "control_1_payment_id"
   ]
  },
  {
   "cell_type": "code",
   "execution_count": 559,
   "metadata": {},
   "outputs": [
    {
     "name": "stdout",
     "output_type": "stream",
     "text": [
      "Имеем множества в каждой группе, сравним их и выделим уникальные для каждой группы.\n"
     ]
    }
   ],
   "source": [
    "print(\"Имеем множества в каждой группе, сравним их и выделим уникальные для каждой группы.\")"
   ]
  },
  {
   "cell_type": "code",
   "execution_count": 560,
   "metadata": {},
   "outputs": [
    {
     "data": {
      "text/plain": [
       "0"
      ]
     },
     "execution_count": 560,
     "metadata": {},
     "output_type": "execute_result"
    }
   ],
   "source": [
    "#  Найдем уникальные платежные системы для каждой группы\n",
    "len(list(test_payment_id.difference(control_1_payment_id, control_2_payment_id)))"
   ]
  },
  {
   "cell_type": "code",
   "execution_count": 561,
   "metadata": {},
   "outputs": [
    {
     "data": {
      "text/plain": [
       "'127'"
      ]
     },
     "execution_count": 561,
     "metadata": {},
     "output_type": "execute_result"
    }
   ],
   "source": [
    "list(control_1_payment_id.difference(control_2_payment_id, test_payment_id))[0]"
   ]
  },
  {
   "cell_type": "code",
   "execution_count": 562,
   "metadata": {},
   "outputs": [
    {
     "data": {
      "text/plain": [
       "0"
      ]
     },
     "execution_count": 562,
     "metadata": {},
     "output_type": "execute_result"
    }
   ],
   "source": [
    "len(list(control_2_payment_id.difference(control_1_payment_id, test_payment_id)))"
   ]
  },
  {
   "cell_type": "markdown",
   "metadata": {},
   "source": [
    "Мы видим уникальную платёжную систему лишь в группы control_1"
   ]
  },
  {
   "cell_type": "code",
   "execution_count": null,
   "metadata": {},
   "outputs": [],
   "source": [
    "\n",
    "\n"
   ]
  },
  {
   "cell_type": "markdown",
   "metadata": {},
   "source": [
    "<h3> Создадим колонку с группой в каждом DF и можно объединить все это в один DF."
   ]
  },
  {
   "cell_type": "code",
   "execution_count": 563,
   "metadata": {},
   "outputs": [
    {
     "data": {
      "text/plain": [
       "13364"
      ]
     },
     "execution_count": 563,
     "metadata": {},
     "output_type": "execute_result"
    }
   ],
   "source": [
    "test['group'] = 'test'\n",
    "control_1['group'] = 'control_1'\n",
    "control_2['group'] = 'control_2'\n",
    "list_columns_names = test.columns.tolist()\n",
    "\n",
    "# Присоединим друг к другу Датафреймы\n",
    "general = pd.concat([test, control_1, control_2], axis=0)\n",
    "general.shape[0]"
   ]
  },
  {
   "cell_type": "code",
   "execution_count": 564,
   "metadata": {},
   "outputs": [
    {
     "data": {
      "text/plain": [
       "13364"
      ]
     },
     "execution_count": 564,
     "metadata": {},
     "output_type": "execute_result"
    }
   ],
   "source": [
    "# Проверим количество строк у позученного датасета\n",
    "test.shape[0]+control_1.shape[0]+control_2.shape[0]"
   ]
  },
  {
   "cell_type": "code",
   "execution_count": null,
   "metadata": {},
   "outputs": [],
   "source": [
    "\n",
    "\n",
    "\n",
    "\n"
   ]
  },
  {
   "cell_type": "markdown",
   "metadata": {},
   "source": [
    "<h2> <u>Блок A/B тестов </u></h2>\n",
    "    \n",
    "    Был проведен A/B тест, в рамках которого для новых пользователей из нескольких стран была изменена стоимость премиум-подписки* при покупке через две новые платежные системы. При этом стоимость пробного периода оставалась прежней.\n",
    "    (*Деньги за подписку списываются ежемесячно до тех пор, пока пользователь её не отменит.)\n",
    "    \n",
    "    Проверьте:\n",
    "- Был ли эксперимент успешен в целом. \n"
   ]
  },
  {
   "cell_type": "markdown",
   "metadata": {},
   "source": [
    "Цель данного A/B теста - <u>повышение прибыли</u>. За счёт повышения стоимости премиум-подписки у новых пользователей из некоторых стран мы рассчитываем увеличить выручку. \n",
    "Из задания не ясно что даёт премиум-подписка, можно только фантазировать на эту тему.\n",
    "\n",
    "Проверим <u><b>главную гипотезу</b></u> - может ли повышение стоимости подписки увеличить выручку.<br>\n",
    "Проверим <u><b>прокси гипотезу</b></u> - может ли повышение стоимости подписки уронить конверсию в покупателя премиум-подписки.\n",
    "\n",
    "Имеется 3 группы. 1 тестовая и 2 контрольные. .<br>\n",
    "Как раз контрольные и нужны для проведения A/A теста для проверки правильности системы сплитования пользователей (что пользователи распределены однородно, случайно и равномерно по группам) - в таком случае метрики в A/A тесте должны быть не статзначимы, <u>т.е. не давать статзначимых различий!</u>"
   ]
  },
  {
   "cell_type": "code",
   "execution_count": null,
   "metadata": {},
   "outputs": [],
   "source": []
  },
  {
   "cell_type": "markdown",
   "metadata": {},
   "source": [
    "<h3> A/A тест на гл.гипотезу (повышение стоимости премиум-подписки - повышение выручки)"
   ]
  },
  {
   "cell_type": "markdown",
   "metadata": {},
   "source": [
    "Проверим число операций через различные платёжные системы.<br>\n",
    "Но имеет смысл отбросить \"NaN\" - тк данные криво записаны и мы не можем  знать наверняка какая система на самом деле использовалась, и вообще использовалась ли она!"
   ]
  },
  {
   "cell_type": "code",
   "execution_count": 565,
   "metadata": {},
   "outputs": [
    {
     "data": {
      "text/html": [
       "<div>\n",
       "<style scoped>\n",
       "    .dataframe tbody tr th:only-of-type {\n",
       "        vertical-align: middle;\n",
       "    }\n",
       "\n",
       "    .dataframe tbody tr th {\n",
       "        vertical-align: top;\n",
       "    }\n",
       "\n",
       "    .dataframe thead th {\n",
       "        text-align: right;\n",
       "    }\n",
       "</style>\n",
       "<table border=\"1\" class=\"dataframe\">\n",
       "  <thead>\n",
       "    <tr style=\"text-align: right;\">\n",
       "      <th></th>\n",
       "      <th>payment_id</th>\n",
       "      <th>uid</th>\n",
       "    </tr>\n",
       "  </thead>\n",
       "  <tbody>\n",
       "    <tr>\n",
       "      <th>0</th>\n",
       "      <td>0</td>\n",
       "      <td>5</td>\n",
       "    </tr>\n",
       "    <tr>\n",
       "      <th>1</th>\n",
       "      <td>127</td>\n",
       "      <td>5</td>\n",
       "    </tr>\n",
       "    <tr>\n",
       "      <th>2</th>\n",
       "      <td>146</td>\n",
       "      <td>32</td>\n",
       "    </tr>\n",
       "    <tr>\n",
       "      <th>3</th>\n",
       "      <td>147</td>\n",
       "      <td>155</td>\n",
       "    </tr>\n",
       "    <tr>\n",
       "      <th>4</th>\n",
       "      <td>19</td>\n",
       "      <td>121</td>\n",
       "    </tr>\n",
       "    <tr>\n",
       "      <th>5</th>\n",
       "      <td>67</td>\n",
       "      <td>41</td>\n",
       "    </tr>\n",
       "    <tr>\n",
       "      <th>6</th>\n",
       "      <td>68</td>\n",
       "      <td>18</td>\n",
       "    </tr>\n",
       "  </tbody>\n",
       "</table>\n",
       "</div>"
      ],
      "text/plain": [
       "  payment_id  uid\n",
       "0          0    5\n",
       "1        127    5\n",
       "2        146   32\n",
       "3        147  155\n",
       "4         19  121\n",
       "5         67   41\n",
       "6         68   18"
      ]
     },
     "execution_count": 565,
     "metadata": {},
     "output_type": "execute_result"
    }
   ],
   "source": [
    "#Проверим число операций через различные платёжные системы\n",
    "control_1.query('payment_id != \"nan\"').groupby('payment_id', as_index=False).agg({\"uid\":'count'})"
   ]
  },
  {
   "cell_type": "code",
   "execution_count": 566,
   "metadata": {},
   "outputs": [
    {
     "data": {
      "text/html": [
       "<div>\n",
       "<style scoped>\n",
       "    .dataframe tbody tr th:only-of-type {\n",
       "        vertical-align: middle;\n",
       "    }\n",
       "\n",
       "    .dataframe tbody tr th {\n",
       "        vertical-align: top;\n",
       "    }\n",
       "\n",
       "    .dataframe thead th {\n",
       "        text-align: right;\n",
       "    }\n",
       "</style>\n",
       "<table border=\"1\" class=\"dataframe\">\n",
       "  <thead>\n",
       "    <tr style=\"text-align: right;\">\n",
       "      <th></th>\n",
       "      <th>payment_id</th>\n",
       "      <th>uid</th>\n",
       "    </tr>\n",
       "  </thead>\n",
       "  <tbody>\n",
       "    <tr>\n",
       "      <th>0</th>\n",
       "      <td>0</td>\n",
       "      <td>1</td>\n",
       "    </tr>\n",
       "    <tr>\n",
       "      <th>1</th>\n",
       "      <td>146</td>\n",
       "      <td>30</td>\n",
       "    </tr>\n",
       "    <tr>\n",
       "      <th>2</th>\n",
       "      <td>147</td>\n",
       "      <td>145</td>\n",
       "    </tr>\n",
       "    <tr>\n",
       "      <th>3</th>\n",
       "      <td>19</td>\n",
       "      <td>95</td>\n",
       "    </tr>\n",
       "    <tr>\n",
       "      <th>4</th>\n",
       "      <td>67</td>\n",
       "      <td>43</td>\n",
       "    </tr>\n",
       "    <tr>\n",
       "      <th>5</th>\n",
       "      <td>68</td>\n",
       "      <td>14</td>\n",
       "    </tr>\n",
       "  </tbody>\n",
       "</table>\n",
       "</div>"
      ],
      "text/plain": [
       "  payment_id  uid\n",
       "0          0    1\n",
       "1        146   30\n",
       "2        147  145\n",
       "3         19   95\n",
       "4         67   43\n",
       "5         68   14"
      ]
     },
     "execution_count": 566,
     "metadata": {},
     "output_type": "execute_result"
    }
   ],
   "source": [
    "control_2.query('payment_id != \"nan\"').groupby('payment_id', as_index=False).agg({\"uid\":'count'})"
   ]
  },
  {
   "cell_type": "code",
   "execution_count": 567,
   "metadata": {},
   "outputs": [
    {
     "data": {
      "text/html": [
       "<div>\n",
       "<style scoped>\n",
       "    .dataframe tbody tr th:only-of-type {\n",
       "        vertical-align: middle;\n",
       "    }\n",
       "\n",
       "    .dataframe tbody tr th {\n",
       "        vertical-align: top;\n",
       "    }\n",
       "\n",
       "    .dataframe thead th {\n",
       "        text-align: right;\n",
       "    }\n",
       "</style>\n",
       "<table border=\"1\" class=\"dataframe\">\n",
       "  <thead>\n",
       "    <tr style=\"text-align: right;\">\n",
       "      <th></th>\n",
       "      <th>group</th>\n",
       "      <th>revenue</th>\n",
       "    </tr>\n",
       "  </thead>\n",
       "  <tbody>\n",
       "    <tr>\n",
       "      <th>0</th>\n",
       "      <td>control_1</td>\n",
       "      <td>6929.206897</td>\n",
       "    </tr>\n",
       "  </tbody>\n",
       "</table>\n",
       "</div>"
      ],
      "text/plain": [
       "       group      revenue\n",
       "0  control_1  6929.206897"
      ]
     },
     "execution_count": 567,
     "metadata": {},
     "output_type": "execute_result"
    }
   ],
   "source": [
    "# Теперь для проведения A/A теста посмотрим на cреднюю общую выручку в каждой группе (без привязки к платёжной системе) у новых пользователей\n",
    "control_1.query('payment_id != \"nan\"').groupby('group', as_index=False).agg({\"revenue\":np.mean})"
   ]
  },
  {
   "cell_type": "code",
   "execution_count": 568,
   "metadata": {},
   "outputs": [
    {
     "data": {
      "text/html": [
       "<div>\n",
       "<style scoped>\n",
       "    .dataframe tbody tr th:only-of-type {\n",
       "        vertical-align: middle;\n",
       "    }\n",
       "\n",
       "    .dataframe tbody tr th {\n",
       "        vertical-align: top;\n",
       "    }\n",
       "\n",
       "    .dataframe thead th {\n",
       "        text-align: right;\n",
       "    }\n",
       "</style>\n",
       "<table border=\"1\" class=\"dataframe\">\n",
       "  <thead>\n",
       "    <tr style=\"text-align: right;\">\n",
       "      <th></th>\n",
       "      <th>group</th>\n",
       "      <th>revenue</th>\n",
       "    </tr>\n",
       "  </thead>\n",
       "  <tbody>\n",
       "    <tr>\n",
       "      <th>0</th>\n",
       "      <td>control_2</td>\n",
       "      <td>5854.993902</td>\n",
       "    </tr>\n",
       "  </tbody>\n",
       "</table>\n",
       "</div>"
      ],
      "text/plain": [
       "       group      revenue\n",
       "0  control_2  5854.993902"
      ]
     },
     "execution_count": 568,
     "metadata": {},
     "output_type": "execute_result"
    }
   ],
   "source": [
    "control_2.query('payment_id != \"nan\"').groupby('group', as_index=False).agg({\"revenue\":np.mean})"
   ]
  },
  {
   "cell_type": "code",
   "execution_count": 569,
   "metadata": {},
   "outputs": [
    {
     "data": {
      "text/plain": [
       "7122.101123595506"
      ]
     },
     "execution_count": 569,
     "metadata": {},
     "output_type": "execute_result"
    }
   ],
   "source": [
    "# Отсортируем пользователей по возрастунаю даты 1-го платежа\n",
    "# Уберем все дубликаты пользователей, кроме 1-го значения\n",
    "# Фильтруем по наличию премиум-подписки и наличию какой-либо платёжной системы\n",
    "control_1_premium_newusers = control_1\\\n",
    "                                                                                                        .sort_values(\"paid_at\", ascending=True)\\\n",
    "                                                                                                        .drop_duplicates(subset='uid', keep=\"first\")\\\n",
    "                                                                                                        .query('payment_id != \"nan\" and product_type == \"premium_no_trial\"')\n",
    "\n",
    "# Посчитаем стоимость подписки на уникального пользователя\n",
    "control_1_premium_newusers_price = control_1_premium_newusers.revenue.sum() / control_1_premium_newusers.uid.nunique()\n",
    "control_1_premium_newusers_price"
   ]
  },
  {
   "cell_type": "code",
   "execution_count": 570,
   "metadata": {},
   "outputs": [
    {
     "data": {
      "text/plain": [
       "7288.955555555555"
      ]
     },
     "execution_count": 570,
     "metadata": {},
     "output_type": "execute_result"
    }
   ],
   "source": [
    "# Отсортируем пользователей по возрастунаю даты 1-го платежа\n",
    "# Уберем все дубликаты пользователей, кроме 1-го значения\n",
    "# Фильтруем по наличию премиум-подписки и наличию какой-либо платёжной системы\n",
    "control_2_premium_newusers = control_2\\\n",
    "                                                                                                        .sort_values(\"paid_at\", ascending=True)\\\n",
    "                                                                                                        .drop_duplicates(subset='uid', keep=\"first\")\\\n",
    "                                                                                                        .query('payment_id != \"nan\" and product_type == \"premium_no_trial\"')\n",
    "\n",
    "# Посчитаем стоимость подписки на уникального пользователя\n",
    "control_2_premium_newusers_price = control_2_premium_newusers.revenue.sum() / control_2_premium_newusers.uid.nunique()\n",
    "control_2_premium_newusers_price"
   ]
  },
  {
   "cell_type": "code",
   "execution_count": 571,
   "metadata": {},
   "outputs": [],
   "source": [
    "# Отсортируем пользователей по возрастунаю даты 1-го платежа\n",
    "# Уберем все дубликаты пользователей, кроме 1-го значения\n",
    "# Фильтруем по наличию премиум-подписки и наличию какой-либо платёжной системы\n",
    "general_premium_newusers = general\\\n",
    "                                                                                                        .sort_values(\"paid_at\", ascending=True)\\\n",
    "                                                                                                        .drop_duplicates(subset='uid', keep=\"first\")\\\n",
    "                                                                                                        .query('payment_id != \"nan\" and product_type == \"premium_no_trial\"')"
   ]
  },
  {
   "cell_type": "code",
   "execution_count": 572,
   "metadata": {},
   "outputs": [
    {
     "data": {
      "text/plain": [
       "Text(0, 0.5, '')"
      ]
     },
     "execution_count": 572,
     "metadata": {},
     "output_type": "execute_result"
    },
    {
     "data": {
      "image/png": "[encoded data removed]",
      "text/plain": [
       "<Figure size 1152x576 with 1 Axes>"
      ]
     },
     "metadata": {
      "needs_background": "light"
     },
     "output_type": "display_data"
    }
   ],
   "source": [
    "# Проверим распределения стоимстей премиум-подписки у каждой группы пользователей\n",
    "\n",
    "# Изменяем размер графика\n",
    "plt.figure(figsize=(16, 8))                    \n",
    "sns.set(style='whitegrid', palette=None)\n",
    "\n",
    "# Построим барплот\n",
    "sns.boxplot(data=general_newusers.query(\"group != 'test'\"), y=\"revenue\", x=\"group\")\n",
    "\n",
    "# Затюним график\n",
    "plt.title('График распределения прибыли\\n', fontsize=20)\n",
    "plt.xlabel('Прибыль', fontsize=16, rotation=0, labelpad=20)\n",
    "plt.ylabel('', fontsize=16, rotation=0, labelpad=35)"
   ]
  },
  {
   "cell_type": "code",
   "execution_count": 573,
   "metadata": {},
   "outputs": [
    {
     "data": {
      "text/plain": [
       "Text(0, 0.5, '')"
      ]
     },
     "execution_count": 573,
     "metadata": {},
     "output_type": "execute_result"
    },
    {
     "data": {
      "image/png": "[encoded data removed]",
      "text/plain": [
       "<Figure size 1152x576 with 1 Axes>"
      ]
     },
     "metadata": {},
     "output_type": "display_data"
    }
   ],
   "source": [
    "# Проверим распределения стоимстей премиум-подписки у каждой группы пользователей\n",
    "\n",
    "# Изменяем размер графика\n",
    "plt.figure(figsize=(16, 8))                    \n",
    "sns.set(style='whitegrid', palette=None)\n",
    "\n",
    "# Построим барплот\n",
    "sns.histplot(data=control_1_premium_newusers.revenue, kde=True, color=\"blue\")\n",
    "sns.histplot(data=control_2_premium_newusers.revenue, kde=True, color=\"orange\")\n",
    "\n",
    "# Затюним график\n",
    "plt.title('График распределения прибыли\\n', fontsize=20)\n",
    "plt.xlabel('Прибыль', fontsize=16, rotation=0, labelpad=20)\n",
    "plt.ylabel('', fontsize=16, rotation=0, labelpad=35)"
   ]
  },
  {
   "cell_type": "markdown",
   "metadata": {},
   "source": [
    "Для выполнения T-теста проверим условия:\n",
    "    1. Распределения нормальны или размер выборки > 30\n",
    "    2. Дисперсии распределений однородны"
   ]
  },
  {
   "cell_type": "markdown",
   "metadata": {},
   "source": [
    "<b>Проверим размеры выборок распределений!</b><br>"
   ]
  },
  {
   "cell_type": "code",
   "execution_count": 574,
   "metadata": {},
   "outputs": [
    {
     "name": "stdout",
     "output_type": "stream",
     "text": [
      "Размеры выборок:\n",
      "в группе control_1 = 89, \n",
      "в группе control_2 = 90.\n"
     ]
    }
   ],
   "source": [
    "print(\"Размеры выборок:\\\n",
    "\\nв группе control_1 = {}, \\\n",
    "\\nв группе control_2 = {}.\"\\\n",
    "      .format(control_1_premium_newusers.shape[0], control_2_premium_newusers.shape[0]))"
   ]
  },
  {
   "cell_type": "markdown",
   "metadata": {},
   "source": [
    "<b>Проверим нормальность распределений!</b><br>\n",
    "Cформулируем H0 для нормальности распределений - распределение нормально распределено.<br>\n",
    "Cформулируем H1 для нормальности распределений - распределение не нормально распределено."
   ]
  },
  {
   "cell_type": "code",
   "execution_count": 575,
   "metadata": {},
   "outputs": [
    {
     "name": "stdout",
     "output_type": "stream",
     "text": [
      "P-value в группе control_1 = 9.327743536484844e-19\n",
      "P-value в группе control_2 = 2.2637283802676784e-19\n",
      "Распределения revenue распределены не нормально, тк pvalue < 0.05.\n"
     ]
    }
   ],
   "source": [
    "# Нормальность, используем levene тк выборка небольшого размера\n",
    "print(\"P-value в группе control_1 = {}\".format(ss.shapiro(control_1_premium_newusers.revenue).pvalue))\n",
    "print(\"P-value в группе control_2 = {}\".format(ss.shapiro(control_2_premium_newusers.revenue).pvalue))\n",
    "print(\"Распределения revenue распределены не нормально, тк pvalue < 0.05.\")"
   ]
  },
  {
   "cell_type": "markdown",
   "metadata": {},
   "source": [
    "<b>Проверим гомогенность дисперсий распределений!</b><br>\n",
    "Cформулируем H0 для гомогенности дисперсий - дисперсии гомогенны.<br>\n",
    "Cформулируем H1 для гомогенности дисперсий - дисперсии не гомогенны."
   ]
  },
  {
   "cell_type": "code",
   "execution_count": 576,
   "metadata": {},
   "outputs": [
    {
     "name": "stdout",
     "output_type": "stream",
     "text": [
      "P-value дисперсий в группах control_1 и control_2 = 0.8621889003615292\n",
      "Распределения дисперсий revenue гомогенны, тк pvalue > 0.05.\n"
     ]
    }
   ],
   "source": [
    "# Нормальность, используем levene тк выборка небольшого размера\n",
    "print(\"P-value дисперсий в группах control_1 и control_2 = {}\".format(ss.levene(control_1_premium_newusers.revenue, control_2_premium_newusers.revenue).pvalue))\n",
    "print(\"Распределения дисперсий revenue гомогенны, тк pvalue > 0.05.\")"
   ]
  },
  {
   "cell_type": "markdown",
   "metadata": {},
   "source": [
    "В размеры выборок в группах > 30, то не сильно важно соблюдать уловие нормальности распределений, а также дисперсии распределений однородны.<br>\n",
    "Поэтому можно использовать Т-критерий Стьюдента, для определения стат. различий между средними значениями в этих распределениях.<br>"
   ]
  },
  {
   "cell_type": "markdown",
   "metadata": {},
   "source": [
    "<b>Т-тест.</b><br>\n",
    "Cформулируем H0 для Т-теста - средние значения revenue равны.<br>\n",
    "Cформулируем H1 для Т-теста - средние значения revenue не равны."
   ]
  },
  {
   "cell_type": "code",
   "execution_count": 577,
   "metadata": {},
   "outputs": [
    {
     "name": "stdout",
     "output_type": "stream",
     "text": [
      "P-value T-теста группах control_1 и control_2 = 0.9105426013702382\n",
      "Различия средних значений revenue не стат. значимы, тк pvalue > 0.05.\n"
     ]
    }
   ],
   "source": [
    "print(\"P-value T-теста группах control_1 и control_2 = {}\".format(ss.ttest_ind(control_1_premium_newusers.revenue, control_2_premium_newusers.revenue).pvalue))\n",
    "print(\"Различия средних значений revenue не стат. значимы, тк pvalue > 0.05.\")"
   ]
  },
  {
   "cell_type": "markdown",
   "metadata": {},
   "source": [
    "Из этого следует, что с точки зрения среднего значения прибыли контрольные группы распределены однородно, случайно и равномерно - система сплитования сработала правильно."
   ]
  },
  {
   "cell_type": "code",
   "execution_count": null,
   "metadata": {},
   "outputs": [],
   "source": [
    "\n",
    "\n"
   ]
  },
  {
   "cell_type": "markdown",
   "metadata": {},
   "source": [
    "<h3>A/A тест на пр.гипотезу (повышение стоимости премиум-подписки - ухудшение конверсии в первую покупку премиум подписки)"
   ]
  },
  {
   "cell_type": "code",
   "execution_count": 578,
   "metadata": {},
   "outputs": [
    {
     "name": "stdout",
     "output_type": "stream",
     "text": [
      "Число уникальных пользователей (которые зарегистрировались в сервисе, т.е. имеют колонку \"joined_at\")      \n",
      "в control_1 группе 193 и в control_2 группе 187.\n",
      "\n",
      "Посчитаем абс. конверсию в премиум подписку в каждой контрольной группе \n",
      "(отношение числа юзеров с купленной премиум подпиской к общему числу юзеров).\n"
     ]
    }
   ],
   "source": [
    "# Посчитаем количество новых пользователей (т.е. имеют колонку \"joined_at\")\n",
    "control_1_newusers = control_1\\\n",
    "                                                                        .query(\"joined_at != 'NaT'\")\\\n",
    "                                                                        .sort_values(\"paid_at\", ascending=True)\\\n",
    "                                                                        .drop_duplicates(subset='uid', keep=\"first\")\n",
    "\n",
    "control_2_newusers = control_2\\\n",
    "                                                                        .query(\"joined_at != 'NaT'\")\\\n",
    "                                                                        .sort_values(\"paid_at\", ascending=True)\\\n",
    "                                                                        .drop_duplicates(subset='uid', keep=\"first\")\n",
    "\n",
    "general_newusers = general\\\n",
    "                                                                        .query(\"joined_at != 'NaT'\")\\\n",
    "                                                                        .sort_values(\"paid_at\", ascending=True)\\\n",
    "                                                                        .drop_duplicates(subset='uid', keep=\"first\")\n",
    "\n",
    "print(\"Число уникальных пользователей (которые зарегистрировались в сервисе, т.е. имеют колонку \\\"joined_at\\\")\\\n",
    "      \\nв control_1 группе {} и в control_2 группе {}.\"\\\n",
    "      .format(control_1_newusers.uid.nunique(), control_2_newusers.uid.nunique()))\n",
    "\n",
    "print(\"\\nПосчитаем абс. конверсию в премиум подписку в каждой контрольной группе \\\n",
    "\\n(отношение числа юзеров с купленной премиум подпиской к общему числу юзеров).\")"
   ]
  },
  {
   "cell_type": "code",
   "execution_count": 579,
   "metadata": {},
   "outputs": [
    {
     "name": "stdout",
     "output_type": "stream",
     "text": [
      "Конверсия в control_1 группе 46.11 и в control_2 группе 48.13.\n"
     ]
    }
   ],
   "source": [
    "#  Конверсия нового юзера (зарегистрированного) с первой покупки сразу в премиум-подписку\n",
    "control_1_CR_firstpay_inpremium = (control_1_premium_newusers.uid.nunique() / control_1_newusers.uid.nunique()) * 100\n",
    "control_2_CR_firstpay_inpremium = (control_2_premium_newusers.uid.nunique() / control_2_newusers.uid.nunique()) * 100\n",
    "\n",
    "print(\"Конверсия в control_1 группе {} и в control_2 группе {}.\"\\\n",
    "          .format(round(control_1_CR_firstpay_inpremium, 2),\\\n",
    "                          round(control_2_CR_firstpay_inpremium, 2)))"
   ]
  },
  {
   "cell_type": "markdown",
   "metadata": {},
   "source": [
    "Создадим кросс-таблицу контрольных групп с конверсией пользователей."
   ]
  },
  {
   "cell_type": "code",
   "execution_count": 580,
   "metadata": {},
   "outputs": [],
   "source": [
    "cross_cr = pd.DataFrame({     'group' : ['control_1', 'control_1', 'control_2', 'control_2'],\n",
    "                                                        'users' : ['newusers', 'premium_newusers', 'newusers', 'premium_newusers'],\n",
    "                                                        'num' : [control_1_newusers.uid.nunique(), control_1_premium_newusers.uid.nunique(), control_2_newusers.uid.nunique(), control_2_premium_newusers.uid.nunique()]\n",
    "                                                    })"
   ]
  },
  {
   "cell_type": "code",
   "execution_count": 581,
   "metadata": {},
   "outputs": [
    {
     "data": {
      "text/html": [
       "<div>\n",
       "<style scoped>\n",
       "    .dataframe tbody tr th:only-of-type {\n",
       "        vertical-align: middle;\n",
       "    }\n",
       "\n",
       "    .dataframe tbody tr th {\n",
       "        vertical-align: top;\n",
       "    }\n",
       "\n",
       "    .dataframe thead th {\n",
       "        text-align: right;\n",
       "    }\n",
       "</style>\n",
       "<table border=\"1\" class=\"dataframe\">\n",
       "  <thead>\n",
       "    <tr style=\"text-align: right;\">\n",
       "      <th>group</th>\n",
       "      <th>control_1</th>\n",
       "      <th>control_2</th>\n",
       "    </tr>\n",
       "    <tr>\n",
       "      <th>users</th>\n",
       "      <th></th>\n",
       "      <th></th>\n",
       "    </tr>\n",
       "  </thead>\n",
       "  <tbody>\n",
       "    <tr>\n",
       "      <th>newusers</th>\n",
       "      <td>193</td>\n",
       "      <td>187</td>\n",
       "    </tr>\n",
       "    <tr>\n",
       "      <th>premium_newusers</th>\n",
       "      <td>89</td>\n",
       "      <td>90</td>\n",
       "    </tr>\n",
       "  </tbody>\n",
       "</table>\n",
       "</div>"
      ],
      "text/plain": [
       "group             control_1  control_2\n",
       "users                                 \n",
       "newusers                193        187\n",
       "premium_newusers         89         90"
      ]
     },
     "execution_count": 581,
     "metadata": {},
     "output_type": "execute_result"
    }
   ],
   "source": [
    "cross_cr = pd.crosstab(cross_cr.users, cross_cr.group)\n",
    "cross_cr.control_1 = [control_1_newusers.uid.nunique(), control_1_premium_newusers.uid.nunique()]\n",
    "cross_cr.control_2 = [control_2_newusers.uid.nunique(), control_2_premium_newusers.uid.nunique()]\n",
    "cross_cr"
   ]
  },
  {
   "cell_type": "markdown",
   "metadata": {},
   "source": [
    "Выдвинем гипотезы для использования <b>критерия Хи-квадрат</b> для категориальной переменной \"users\":\n",
    "    \n",
    "- H0 - статзначимых различий в CR нет;\n",
    "- H1 - статзначимые различия в CR есть.\n",
    "\n",
    "<b>Для использования критерия Хи-квадрат выполняются следующие условия</b>:\n",
    "1. Все наблюдения независимы;\n",
    "2. Количество наблюдений в каждой группе > 5."
   ]
  },
  {
   "cell_type": "code",
   "execution_count": 582,
   "metadata": {},
   "outputs": [
    {
     "name": "stdout",
     "output_type": "stream",
     "text": [
      "P-value критерия Хи-квадрат группах control_1 и control_2 = 0.8845926660145232\n",
      "Различия CR не стат. значимы, тк pvalue > 0.05.\n"
     ]
    }
   ],
   "source": [
    "stat, p, dof, expected = chi2_contingency(cross_cr)\n",
    "print(\"P-value критерия Хи-квадрат группах control_1 и control_2 = {}\".format(p))\n",
    "print(\"Различия CR не стат. значимы, тк pvalue > 0.05.\")"
   ]
  },
  {
   "cell_type": "markdown",
   "metadata": {},
   "source": [
    "Из этого следует, что с точки зрения сравнений конверсий в первую покупку сразу в премиум подписку контрольные группы равны - система сплитования сработала правильно."
   ]
  },
  {
   "cell_type": "code",
   "execution_count": null,
   "metadata": {},
   "outputs": [],
   "source": [
    "\n",
    "\n"
   ]
  },
  {
   "cell_type": "markdown",
   "metadata": {},
   "source": [
    "<h3> A/B тест на гл.гипотезу (повышение стоимости премиум-подписки - повышение выручки)"
   ]
  },
  {
   "cell_type": "code",
   "execution_count": 583,
   "metadata": {},
   "outputs": [
    {
     "name": "stdout",
     "output_type": "stream",
     "text": [
      "Стоимость премиум подписки на уникального пользователя:                                    \n",
      "в test группе 10034.4,                                    \n",
      "в control_1 группе 7122.1,                                    \n",
      "в control_2 группе 7289.0.\n"
     ]
    }
   ],
   "source": [
    "# Отсортируем пользователей по возрастунаю даты 1-го платежа\n",
    "# Уберем все дубликаты пользователей, кроме 1-го значения\n",
    "# Фильтруем по наличию премиум-подписки и наличию какой-либо платёжной системы\n",
    "test_premium_newusers = test\\\n",
    "                                                                                                        .sort_values(\"paid_at\", ascending=True)\\\n",
    "                                                                                                        .drop_duplicates(subset='uid', keep=\"first\")\\\n",
    "                                                                                                        .query('payment_id != \"nan\" and product_type == \"premium_no_trial\"')\n",
    "\n",
    "# Посчитаем стоимость подписки на уникального пользователя\n",
    "test_premium_newusers_price = test_premium_newusers.revenue.sum() / test_premium_newusers.uid.nunique()\n",
    "\n",
    "\n",
    "print(\"Стоимость премиум подписки на уникального пользователя:\\\n",
    "                                    \\nв test группе {},\\\n",
    "                                    \\nв control_1 группе {},\\\n",
    "                                    \\nв control_2 группе {}.\"\\\n",
    "          .format(round(test_premium_newusers_price, 1),\\\n",
    "                          round(control_1_premium_newusers_price, 1),\\\n",
    "                          round(control_2_premium_newusers_price, 1)))"
   ]
  },
  {
   "cell_type": "code",
   "execution_count": 584,
   "metadata": {
    "scrolled": false
   },
   "outputs": [
    {
     "data": {
      "text/plain": [
       "Text(0, 0.5, '')"
      ]
     },
     "execution_count": 584,
     "metadata": {},
     "output_type": "execute_result"
    },
    {
     "data": {
      "image/png": "[encoded data removed]",
      "text/plain": [
       "<Figure size 1152x576 with 1 Axes>"
      ]
     },
     "metadata": {},
     "output_type": "display_data"
    }
   ],
   "source": [
    "# Проверим распределения стоимстей премиум-подписки у каждой группы пользователей\n",
    "\n",
    "# Изменяем размер графика\n",
    "plt.figure(figsize=(16, 8))                    \n",
    "sns.set(style='whitegrid', palette=None)\n",
    "\n",
    "# Построим барплот\n",
    "sns.boxplot(data=general_newusers, y=\"revenue\", x=\"group\")\n",
    "\n",
    "# Затюним график\n",
    "plt.title('График распределения прибыли\\n', fontsize=20)\n",
    "plt.xlabel('Прибыль', fontsize=16, rotation=0, labelpad=20)\n",
    "plt.ylabel('', fontsize=16, rotation=0, labelpad=35)"
   ]
  },
  {
   "cell_type": "code",
   "execution_count": 585,
   "metadata": {},
   "outputs": [
    {
     "data": {
      "text/plain": [
       "Text(0, 0.5, '')"
      ]
     },
     "execution_count": 585,
     "metadata": {},
     "output_type": "execute_result"
    },
    {
     "data": {
      "image/png": "[encoded data removed]",
      "text/plain": [
       "<Figure size 1152x576 with 1 Axes>"
      ]
     },
     "metadata": {},
     "output_type": "display_data"
    }
   ],
   "source": [
    "# Проверим распределения стоимстей премиум-подписки у каждой группы пользователей\n",
    "\n",
    "# Изменяем размер графика\n",
    "plt.figure(figsize=(16, 8))                    \n",
    "sns.set(style='whitegrid', palette=None)\n",
    "\n",
    "# Построим барплот\n",
    "sns.histplot(data=control_1_premium_newusers.revenue, kde=True, color=\"blue\")\n",
    "sns.histplot(data=test_premium_newusers.revenue, kde=True, color=\"orange\")\n",
    "sns.histplot(data=control_2_premium_newusers.revenue, kde=True, color=\"green\")\n",
    "\n",
    "# Затюним график\n",
    "plt.title('График распределения прибыли\\n', fontsize=20)\n",
    "plt.xlabel('Прибыль', fontsize=16, rotation=0, labelpad=20)\n",
    "plt.ylabel('', fontsize=16, rotation=0, labelpad=35)"
   ]
  },
  {
   "cell_type": "markdown",
   "metadata": {},
   "source": [
    "<b>Для выполнения ANOVA теста </b> проверим условия:\n",
    "    1. Распределения нормальны или размер выборки > 30\n",
    "    2. Дисперсии распределений однородны"
   ]
  },
  {
   "cell_type": "markdown",
   "metadata": {},
   "source": [
    "<b>Проверим размеры выборок распределений!</b><br>"
   ]
  },
  {
   "cell_type": "code",
   "execution_count": 586,
   "metadata": {},
   "outputs": [
    {
     "name": "stdout",
     "output_type": "stream",
     "text": [
      "Размеры выборок:\n",
      "в группе test = 57, \n",
      "в группе control_1 = 89, \n",
      "в группе control_2 = 90.\n"
     ]
    }
   ],
   "source": [
    "print(\"Размеры выборок:\\\n",
    "\\nв группе test = {}, \\\n",
    "\\nв группе control_1 = {}, \\\n",
    "\\nв группе control_2 = {}.\"\\\n",
    "                  .format(test_premium_newusers.shape[0],\\\n",
    "                                  control_1_premium_newusers.shape[0],\\\n",
    "                                  control_2_premium_newusers.shape[0]))"
   ]
  },
  {
   "cell_type": "markdown",
   "metadata": {},
   "source": [
    "<b>Проверим нормальность распределений!</b><br>\n",
    "Cформулируем H0 для нормальности распределений - распределение нормально распределено.<br>\n",
    "Cформулируем H1 для нормальности распределений - распределение не нормально распределено."
   ]
  },
  {
   "cell_type": "code",
   "execution_count": 587,
   "metadata": {},
   "outputs": [
    {
     "name": "stdout",
     "output_type": "stream",
     "text": [
      "P-value в группе test = 3.1585668020699727e-15\n",
      "P-value в группе control_1 = 9.327743536484844e-19\n",
      "P-value в группе control_2 = 2.2637283802676784e-19\n",
      "Распределения revenue распределены не нормально, тк pvalue < 0.05.\n"
     ]
    }
   ],
   "source": [
    "# Нормальность, используем levene тк выборка небольшого размера\n",
    "print(\"P-value в группе test = {}\".format(ss.shapiro(test_premium_newusers.revenue).pvalue))\n",
    "print(\"P-value в группе control_1 = {}\".format(ss.shapiro(control_1_premium_newusers.revenue).pvalue))\n",
    "print(\"P-value в группе control_2 = {}\".format(ss.shapiro(control_2_premium_newusers.revenue).pvalue))\n",
    "print(\"Распределения revenue распределены не нормально, тк pvalue < 0.05.\")"
   ]
  },
  {
   "cell_type": "markdown",
   "metadata": {},
   "source": [
    "<b>Проверим гомогенность дисперсий распределений!</b><br>\n",
    "Cформулируем H0 для гомогенности дисперсий - дисперсии гомогенны.<br>\n",
    "Cформулируем H1 для гомогенности дисперсий - дисперсии не гомогенны."
   ]
  },
  {
   "cell_type": "code",
   "execution_count": 588,
   "metadata": {},
   "outputs": [
    {
     "name": "stdout",
     "output_type": "stream",
     "text": [
      "P-value дисперсий в группах test, control_1 и control_2 = 0.5777227973875312\n",
      "Распределения дисперсий revenue гомогенны, тк pvalue > 0.05.\n"
     ]
    }
   ],
   "source": [
    "# Нормальность, используем levene тк выборка небольшого размера\n",
    "print(\"P-value дисперсий в группах test, control_1 и control_2 = {}\".format(ss.levene(test_premium_newusers.revenue,\\\n",
    "                                                                                                                                                                        control_1_premium_newusers.revenue, \\\n",
    "                                                                                                                                                                        control_2_premium_newusers.revenue).pvalue))\n",
    "print(\"Распределения дисперсий revenue гомогенны, тк pvalue > 0.05.\")"
   ]
  },
  {
   "cell_type": "markdown",
   "metadata": {},
   "source": [
    "В размеры выборок в группах > 30, то не сильно важно соблюдать уловие нормальности распределений, а также дисперсии распределений однородны.<br>\n",
    "Поэтому можно использовать ANOVA-анализ для 3-ех групп, для определения стат. различий между средними значениями в этих распределениях.<br>"
   ]
  },
  {
   "cell_type": "markdown",
   "metadata": {},
   "source": [
    "<b>Однофакторный ANOVA.</b><br>\n",
    "Cформулируем H0 для ANOVA - средние значения revenue равны во всех группах.<br>\n",
    "Cформулируем H1 для ANOVA - средние значения revenue отличается хотя бы в 1 группе."
   ]
  },
  {
   "cell_type": "code",
   "execution_count": 589,
   "metadata": {},
   "outputs": [
    {
     "name": "stdout",
     "output_type": "stream",
     "text": [
      "P-value однофакторного ANOVA в группах test, control_1 и control_2 = 0.2481307971159107.\n",
      "Различия средних значений revenue не стат. значимы, тк pvalue > 0.05. Т.е. нет оснований отбрасывать H0 и принимать H1.\n"
     ]
    }
   ],
   "source": [
    "print(\"P-value однофакторного ANOVA в группах test, control_1 и control_2 = {}.\"\\\n",
    "      .format(ss.f_oneway(test_premium_newusers.revenue,\\\n",
    "                                                 control_1_premium_newusers.revenue,\\\n",
    "                                                 control_2_premium_newusers.revenue)\\\n",
    "                                                .pvalue))\n",
    "print(\"Различия средних значений revenue не стат. значимы, тк pvalue > 0.05. Т.е. нет оснований отбрасывать H0 и принимать H1.\")"
   ]
  },
  {
   "cell_type": "code",
   "execution_count": null,
   "metadata": {},
   "outputs": [],
   "source": []
  },
  {
   "cell_type": "code",
   "execution_count": null,
   "metadata": {},
   "outputs": [],
   "source": [
    "\n",
    "\n"
   ]
  },
  {
   "cell_type": "markdown",
   "metadata": {},
   "source": [
    "<h3> A/B тест на пр.гипотезу (повышение стоимости премиум-подписки - ухудшение конверсии в первую покупку премиум подписки)"
   ]
  },
  {
   "cell_type": "code",
   "execution_count": 590,
   "metadata": {},
   "outputs": [],
   "source": [
    "# Посчитаем количество новых пользователей (т.е. имеют колонку \"joined_at\") в тестовой группе\n",
    "test_newusers = test\\\n",
    "                                                                        .query(\"joined_at != 'NaT'\")\\\n",
    "                                                                        .sort_values(\"paid_at\", ascending=True)\\\n",
    "                                                                        .drop_duplicates(subset='uid', keep=\"first\")"
   ]
  },
  {
   "cell_type": "code",
   "execution_count": 591,
   "metadata": {
    "scrolled": true
   },
   "outputs": [
    {
     "name": "stdout",
     "output_type": "stream",
     "text": [
      "Конверсия: \n",
      "в test группе 39.04,                                    \n",
      "в control_1 группе 46.11,                                    \n",
      "в control_2 группе 48.13.\n"
     ]
    }
   ],
   "source": [
    "#  Конверсия нового юзера (зарегистрированного) с первой покупки сразу в премиум-подписку в тестовой группе\n",
    "test_CR_firstpay_inpremium = (test_premium_newusers.uid.nunique() / test_newusers.uid.nunique()) * 100\n",
    "\n",
    "print(\"Конверсия: \\nв test группе {},\\\n",
    "                                    \\nв control_1 группе {},\\\n",
    "                                    \\nв control_2 группе {}.\"\\\n",
    "          .format(round(test_CR_firstpay_inpremium, 2),\\\n",
    "                          round(control_1_CR_firstpay_inpremium, 2),\\\n",
    "                          round(control_2_CR_firstpay_inpremium, 2)))"
   ]
  },
  {
   "cell_type": "markdown",
   "metadata": {},
   "source": [
    "Создадим кросс-таблицу контрольных групп с конверсией пользователей."
   ]
  },
  {
   "cell_type": "code",
   "execution_count": 592,
   "metadata": {
    "scrolled": true
   },
   "outputs": [
    {
     "data": {
      "text/html": [
       "<div>\n",
       "<style scoped>\n",
       "    .dataframe tbody tr th:only-of-type {\n",
       "        vertical-align: middle;\n",
       "    }\n",
       "\n",
       "    .dataframe tbody tr th {\n",
       "        vertical-align: top;\n",
       "    }\n",
       "\n",
       "    .dataframe thead th {\n",
       "        text-align: right;\n",
       "    }\n",
       "</style>\n",
       "<table border=\"1\" class=\"dataframe\">\n",
       "  <thead>\n",
       "    <tr style=\"text-align: right;\">\n",
       "      <th></th>\n",
       "      <th>group</th>\n",
       "      <th>users</th>\n",
       "      <th>num</th>\n",
       "    </tr>\n",
       "  </thead>\n",
       "  <tbody>\n",
       "    <tr>\n",
       "      <th>0</th>\n",
       "      <td>test</td>\n",
       "      <td>newusers</td>\n",
       "      <td>146</td>\n",
       "    </tr>\n",
       "    <tr>\n",
       "      <th>1</th>\n",
       "      <td>test</td>\n",
       "      <td>premium_newusers</td>\n",
       "      <td>57</td>\n",
       "    </tr>\n",
       "    <tr>\n",
       "      <th>2</th>\n",
       "      <td>control_1</td>\n",
       "      <td>newusers</td>\n",
       "      <td>193</td>\n",
       "    </tr>\n",
       "    <tr>\n",
       "      <th>3</th>\n",
       "      <td>control_1</td>\n",
       "      <td>premium_newusers</td>\n",
       "      <td>89</td>\n",
       "    </tr>\n",
       "    <tr>\n",
       "      <th>4</th>\n",
       "      <td>control_2</td>\n",
       "      <td>newusers</td>\n",
       "      <td>187</td>\n",
       "    </tr>\n",
       "    <tr>\n",
       "      <th>5</th>\n",
       "      <td>control_2</td>\n",
       "      <td>premium_newusers</td>\n",
       "      <td>90</td>\n",
       "    </tr>\n",
       "  </tbody>\n",
       "</table>\n",
       "</div>"
      ],
      "text/plain": [
       "       group             users  num\n",
       "0       test          newusers  146\n",
       "1       test  premium_newusers   57\n",
       "2  control_1          newusers  193\n",
       "3  control_1  premium_newusers   89\n",
       "4  control_2          newusers  187\n",
       "5  control_2  premium_newusers   90"
      ]
     },
     "execution_count": 592,
     "metadata": {},
     "output_type": "execute_result"
    }
   ],
   "source": [
    "cross_cr_t = pd.DataFrame({     'group' : ['test', 'test', 'control_1', 'control_1', 'control_2', 'control_2'],\n",
    "                                                        'users' : ['newusers', 'premium_newusers', 'newusers', 'premium_newusers', 'newusers', 'premium_newusers'],\n",
    "                                                        'num' : [test_newusers.uid.nunique(), test_premium_newusers.uid.nunique(), control_1_newusers.uid.nunique(), control_1_premium_newusers.uid.nunique(), control_2_newusers.uid.nunique(), control_2_premium_newusers.uid.nunique()]\n",
    "                                                    })\n",
    "cross_cr_t"
   ]
  },
  {
   "cell_type": "code",
   "execution_count": 593,
   "metadata": {},
   "outputs": [
    {
     "data": {
      "text/html": [
       "<div>\n",
       "<style scoped>\n",
       "    .dataframe tbody tr th:only-of-type {\n",
       "        vertical-align: middle;\n",
       "    }\n",
       "\n",
       "    .dataframe tbody tr th {\n",
       "        vertical-align: top;\n",
       "    }\n",
       "\n",
       "    .dataframe thead th {\n",
       "        text-align: right;\n",
       "    }\n",
       "</style>\n",
       "<table border=\"1\" class=\"dataframe\">\n",
       "  <thead>\n",
       "    <tr style=\"text-align: right;\">\n",
       "      <th>group</th>\n",
       "      <th>control_1</th>\n",
       "      <th>control_2</th>\n",
       "      <th>test</th>\n",
       "    </tr>\n",
       "    <tr>\n",
       "      <th>users</th>\n",
       "      <th></th>\n",
       "      <th></th>\n",
       "      <th></th>\n",
       "    </tr>\n",
       "  </thead>\n",
       "  <tbody>\n",
       "    <tr>\n",
       "      <th>newusers</th>\n",
       "      <td>193</td>\n",
       "      <td>187</td>\n",
       "      <td>146</td>\n",
       "    </tr>\n",
       "    <tr>\n",
       "      <th>premium_newusers</th>\n",
       "      <td>89</td>\n",
       "      <td>90</td>\n",
       "      <td>57</td>\n",
       "    </tr>\n",
       "  </tbody>\n",
       "</table>\n",
       "</div>"
      ],
      "text/plain": [
       "group             control_1  control_2  test\n",
       "users                                       \n",
       "newusers                193        187   146\n",
       "premium_newusers         89         90    57"
      ]
     },
     "execution_count": 593,
     "metadata": {},
     "output_type": "execute_result"
    }
   ],
   "source": [
    "cross_cr_t = pd.crosstab(cross_cr_t.users, cross_cr_t.group)\n",
    "cross_cr_t.test = [test_newusers.uid.nunique(), test_premium_newusers.uid.nunique()]\n",
    "cross_cr_t.control_1 = [control_1_newusers.uid.nunique(), control_1_premium_newusers.uid.nunique()]\n",
    "cross_cr_t.control_2 = [control_2_newusers.uid.nunique(), control_2_premium_newusers.uid.nunique()]\n",
    "cross_cr_t"
   ]
  },
  {
   "cell_type": "markdown",
   "metadata": {},
   "source": [
    "Выдвинем гипотезы для использования <b>критерия Хи-квадрат</b> для категориальной переменной \"users\":\n",
    "    \n",
    "- H0 - статзначимых различий в CR нет;\n",
    "- H1 - статзначимые различия в CR есть.\n",
    "\n",
    "<b>Для использования критерия Хи-квадрат выполняются следующие условия</b>:\n",
    "1. Все наблюдения независимы;\n",
    "2. Количество наблюдений в каждой группе > 5."
   ]
  },
  {
   "cell_type": "code",
   "execution_count": 594,
   "metadata": {},
   "outputs": [
    {
     "name": "stdout",
     "output_type": "stream",
     "text": [
      "P-value критерия Хи-квадрат группах test, control_1 и control_2 = 0.5656954261867887\n",
      "Различия CR не стат. значимы, тк pvalue > 0.05.\n"
     ]
    }
   ],
   "source": [
    "stat, p, dof, expected = chi2_contingency(cross_cr_t)\n",
    "print(\"P-value критерия Хи-квадрат группах test, control_1 и control_2 = {}\".format(p))\n",
    "print(\"Различия CR не стат. значимы, тк pvalue > 0.05.\")"
   ]
  },
  {
   "cell_type": "code",
   "execution_count": null,
   "metadata": {},
   "outputs": [],
   "source": [
    "\n",
    "\n"
   ]
  },
  {
   "cell_type": "markdown",
   "metadata": {},
   "source": [
    "<h2><u>Вывод:</h2></u>\n",
    "\n",
    "<b>На основе проведенного анализа 2 контрольных и 1 тестовой группы можно сделать следующие выводы:\n",
    "- Система сплитования правильно - контрольные группы распределены однородно, случайно и равномерно.\n",
    "- Очень много битых данных в исходных таблицах, из-за этого призодится проверять каждую колонку на правильность данных.\n",
    "- Средняя выручка на пользователя cтат. значимо не изменилась при увеличении стоимости премиум-подписки.\n",
    "- Конверсия пользователя в первую покупку сразу премиум-подписки при увеличении ее стоимости cтат. значимо не изменилась.   \n",
    "    \n",
    "Итого: тестовую версию выкатывать нецелесообрано!"
   ]
  },
  {
   "cell_type": "code",
   "execution_count": null,
   "metadata": {},
   "outputs": [],
   "source": []
  }
 ],
 "metadata": {
  "kernelspec": {
   "display_name": "Python 3",
   "language": "python",
   "name": "python3"
  },
  "language_info": {
   "codemirror_mode": {
    "name": "ipython",
    "version": 3
   },
   "file_extension": ".py",
   "mimetype": "text/x-python",
   "name": "python",
   "nbconvert_exporter": "python",
   "pygments_lexer": "ipython3",
   "version": "3.7.3"
  }
 },
 "nbformat": 4,
 "nbformat_minor": 4
}
