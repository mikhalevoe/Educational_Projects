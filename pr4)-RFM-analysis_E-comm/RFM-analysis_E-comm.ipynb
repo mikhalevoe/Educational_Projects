{
 "cells": [
  {
   "cell_type": "markdown",
   "metadata": {},
   "source": [
    "<h1>RFM-анализ интернет магазина</h1>\n",
    "\n",
    "<h4>Скачайте датасет и проведите RFM анализ.<br>\n",
    "    В каждом подсегменте поделите пользователей на 4 класса (как на занятии).<br>\n",
    "    Отсчитывайте количество дней, прошедших с момента последней покупки, \n",
    "    с максимальной даты покупки в датасете.</h4>\n",
    "\n",
    "<ol>\n",
    "   \n",
    "<li>Какое максимальное кол-во покупок было совершено одним пользователем?</li>\n",
    "<li>Какая верхняя граница у суммы покупок у пользователей с классом 4 в подсегменте М? ).<br>(Другими словами: пользователи, у которых сумма покупок от 0 до Х попадают в 4 класс в подсегменте М)</li>\n",
    "<li>Какая нижняя граница у количества покупок у пользователей с классом 1 в подсегменте F?</li>\n",
    "<li>Какая верхняя граница у количества покупок у пользователей с классом 2 в подсегменте R?</li>\n",
    "<li>Сколько пользователей попало в сегмент 111?</li>\n",
    "<li>Сколько пользователей попало в сегмент 311?</li>\n",
    "<li>В каком RFM-сегменте самое большое кол-во пользователей?</li>\n",
    "<li>В каком RFM-сегменте самое маленькое кол-во пользователей?</li>\n",
    "<li>Какое количество пользователей попало в самый малочисленный сегмент?</li></ol>"
   ]
  },
  {
   "cell_type": "markdown",
   "metadata": {},
   "source": [
    "### БИБЛИОТЕКИ"
   ]
  },
  {
   "cell_type": "code",
   "execution_count": 236,
   "metadata": {},
   "outputs": [],
   "source": [
    "import pandas as pd\n",
    "import numpy as np\n",
    "import seaborn as sns\n",
    "import matplotlib.pyplot as plt\n",
    "%matplotlib inline\n",
    "import os\n",
    "import datetime\n",
    "from datetime import timedelta\n",
    "from datetime import datetime\n",
    "import time"
   ]
  },
  {
   "cell_type": "markdown",
   "metadata": {},
   "source": [
    "### ЗАГРУЗКА ДАННЫХ"
   ]
  },
  {
   "cell_type": "code",
   "execution_count": 80,
   "metadata": {},
   "outputs": [
    {
     "name": "stderr",
     "output_type": "stream",
     "text": [
      "/opt/tljh/user/lib/python3.7/site-packages/IPython/core/interactiveshell.py:3254: DtypeWarning: Columns (1) have mixed types.Specify dtype option on import or set low_memory=False.\n",
      "  if (await self.run_code(code, result,  async_=asy)):\n"
     ]
    },
    {
     "data": {
      "text/html": [
       "<div>\n",
       "<style scoped>\n",
       "    .dataframe tbody tr th:only-of-type {\n",
       "        vertical-align: middle;\n",
       "    }\n",
       "\n",
       "    .dataframe tbody tr th {\n",
       "        vertical-align: top;\n",
       "    }\n",
       "\n",
       "    .dataframe thead th {\n",
       "        text-align: right;\n",
       "    }\n",
       "</style>\n",
       "<table border=\"1\" class=\"dataframe\">\n",
       "  <thead>\n",
       "    <tr style=\"text-align: right;\">\n",
       "      <th></th>\n",
       "      <th>InvoiceNo</th>\n",
       "      <th>CustomerCode</th>\n",
       "      <th>InvoiceDate</th>\n",
       "      <th>Amount</th>\n",
       "    </tr>\n",
       "  </thead>\n",
       "  <tbody>\n",
       "    <tr>\n",
       "      <th>0</th>\n",
       "      <td>C0011810010001</td>\n",
       "      <td>19067290</td>\n",
       "      <td>2020-09-01</td>\n",
       "      <td>1716.00</td>\n",
       "    </tr>\n",
       "    <tr>\n",
       "      <th>1</th>\n",
       "      <td>C0011810010017</td>\n",
       "      <td>13233933</td>\n",
       "      <td>2020-09-01</td>\n",
       "      <td>1489.74</td>\n",
       "    </tr>\n",
       "    <tr>\n",
       "      <th>2</th>\n",
       "      <td>C0011810010020</td>\n",
       "      <td>99057968</td>\n",
       "      <td>2020-09-01</td>\n",
       "      <td>151.47</td>\n",
       "    </tr>\n",
       "    <tr>\n",
       "      <th>3</th>\n",
       "      <td>C0011810010021</td>\n",
       "      <td>80007276</td>\n",
       "      <td>2020-09-01</td>\n",
       "      <td>146.72</td>\n",
       "    </tr>\n",
       "    <tr>\n",
       "      <th>4</th>\n",
       "      <td>C0011810010024</td>\n",
       "      <td>13164076</td>\n",
       "      <td>2020-09-01</td>\n",
       "      <td>104.00</td>\n",
       "    </tr>\n",
       "    <tr>\n",
       "      <th>...</th>\n",
       "      <td>...</td>\n",
       "      <td>...</td>\n",
       "      <td>...</td>\n",
       "      <td>...</td>\n",
       "    </tr>\n",
       "    <tr>\n",
       "      <th>332725</th>\n",
       "      <td>S0081810310459</td>\n",
       "      <td>14092500</td>\n",
       "      <td>2020-09-30</td>\n",
       "      <td>3801.87</td>\n",
       "    </tr>\n",
       "    <tr>\n",
       "      <th>332726</th>\n",
       "      <td>S0081810310461</td>\n",
       "      <td>99065678</td>\n",
       "      <td>2020-09-30</td>\n",
       "      <td>5769.88</td>\n",
       "    </tr>\n",
       "    <tr>\n",
       "      <th>332727</th>\n",
       "      <td>S0081810310462</td>\n",
       "      <td>19029918</td>\n",
       "      <td>2020-09-30</td>\n",
       "      <td>736.88</td>\n",
       "    </tr>\n",
       "    <tr>\n",
       "      <th>332728</th>\n",
       "      <td>S0081810310463</td>\n",
       "      <td>13020033</td>\n",
       "      <td>2020-09-30</td>\n",
       "      <td>1475.20</td>\n",
       "    </tr>\n",
       "    <tr>\n",
       "      <th>332729</th>\n",
       "      <td>S0081810310466</td>\n",
       "      <td>13046679</td>\n",
       "      <td>2020-09-30</td>\n",
       "      <td>709.56</td>\n",
       "    </tr>\n",
       "  </tbody>\n",
       "</table>\n",
       "<p>332730 rows × 4 columns</p>\n",
       "</div>"
      ],
      "text/plain": [
       "             InvoiceNo CustomerCode InvoiceDate   Amount\n",
       "0       C0011810010001     19067290  2020-09-01  1716.00\n",
       "1       C0011810010017     13233933  2020-09-01  1489.74\n",
       "2       C0011810010020     99057968  2020-09-01   151.47\n",
       "3       C0011810010021     80007276  2020-09-01   146.72\n",
       "4       C0011810010024     13164076  2020-09-01   104.00\n",
       "...                ...          ...         ...      ...\n",
       "332725  S0081810310459     14092500  2020-09-30  3801.87\n",
       "332726  S0081810310461     99065678  2020-09-30  5769.88\n",
       "332727  S0081810310462     19029918  2020-09-30   736.88\n",
       "332728  S0081810310463     13020033  2020-09-30  1475.20\n",
       "332729  S0081810310466     13046679  2020-09-30   709.56\n",
       "\n",
       "[332730 rows x 4 columns]"
      ]
     },
     "execution_count": 80,
     "metadata": {},
     "output_type": "execute_result"
    }
   ],
   "source": [
    "#Чтобы узнать текущую дирректорию\n",
    "os.getcwd()\n",
    "# Чтобы узнать что лежит в текущей дирректории\n",
    "os.listdir()\n",
    "# - ~/ - относительный путь\n",
    "# - ../ - путь с поднятием вверх из другой папки до корневой\n",
    "# (подъём на уровень выше - домашняя директория ~)\n",
    "\n",
    "# Запишем путь файла в переменную\n",
    "path_df = \"~/Product_Analytics/Lesson_4/RFM_ht_data.csv\"\n",
    "# Cчитаем DF c помощью лямбда-функции\n",
    "download_df = lambda x:  pd.read_csv(x, sep=',', parse_dates=['InvoiceDate']) #парсим дату\n",
    "# Присвоим переменную датафрейму\n",
    "df = download_df(path_df)\n",
    "df"
   ]
  },
  {
   "cell_type": "markdown",
   "metadata": {},
   "source": [
    "### ПРОВЕРКА ДАННЫХ"
   ]
  },
  {
   "cell_type": "code",
   "execution_count": 81,
   "metadata": {},
   "outputs": [
    {
     "name": "stdout",
     "output_type": "stream",
     "text": [
      "Размер исходного датафрейма:\n",
      "(332730, 4) \n",
      "\n",
      "Форматы колонок тисходного датафрейма:\n",
      "InvoiceNo               object\n",
      "CustomerCode            object\n",
      "InvoiceDate     datetime64[ns]\n",
      "Amount                 float64\n",
      "dtype: object \n",
      "\n",
      "Число пропусков в колонках исходного датафрейма:\n",
      "InvoiceNo       0\n",
      "CustomerCode    0\n",
      "InvoiceDate     0\n",
      "Amount          0\n",
      "dtype: int64 \n",
      "\n"
     ]
    }
   ],
   "source": [
    "# Проверим размер DF\n",
    "print(\"Размер исходного датафрейма:\\n{}\".format(df.shape), \"\\n\")\n",
    "\n",
    "# Преобразуем колонки с датой\n",
    "#df_ecomm[\"date\"] = pd.to_datetime(df_ecomm[\"date\"])\n",
    "\n",
    "# Преобразуем колонки со смешанным типом данных\n",
    "# Расчёты мб неправильными (Предупреждение при загрузке DF)\n",
    "df.InvoiceNo = df.InvoiceNo.apply(str)\n",
    "df.CustomerCode = df.CustomerCode.astype(\"str\")\n",
    "\n",
    "# Проверим типы данных столбцов DF\n",
    "print(\"Форматы колонок тисходного датафрейма:\\n{}\".format(df.dtypes), '\\n')\n",
    "\n",
    "# Проверим DF на пропуски\n",
    "print(\"Число пропусков в колонках исходного датафрейма:\\n{}\".format(df.isna().sum()), '\\n')"
   ]
  },
  {
   "cell_type": "code",
   "execution_count": null,
   "metadata": {},
   "outputs": [],
   "source": [
    "\n",
    "\n",
    "\n"
   ]
  },
  {
   "cell_type": "markdown",
   "metadata": {},
   "source": [
    "<h3>Произведем RFM-анализ</h3>"
   ]
  },
  {
   "cell_type": "code",
   "execution_count": 82,
   "metadata": {
    "scrolled": true
   },
   "outputs": [
    {
     "name": "stdout",
     "output_type": "stream",
     "text": [
      "Самая последная дата покупки в DF: 2020-09-30.\n",
      "От нее и будем считать параметр 'Recency'.\n"
     ]
    }
   ],
   "source": [
    "\"\"\"\n",
    "Будем отсчитывайть количество дней, прошедших с момента последней покупки,\n",
    "с максимальной даты покупки в датасете  до сегодняшнего дня.\n",
    "\"\"\"\n",
    "\n",
    "\n",
    "\n",
    "# Опеределим cамую последнюю дату покупки в DF\n",
    "last_date = df['InvoiceDate'].max()\n",
    "\n",
    "# Преобразуем str формат переменной now в формат datetime64\n",
    "#last_date = datetime.strptime(last_date, '%Y-%m-%d')\n",
    "\n",
    "print(\"Самая последная дата покупки в DF: {}.\\n\\\n",
    "От нее и будем считать параметр 'Recency'.\".format(last_date.strftime(\"%Y-%m-%d\")))"
   ]
  },
  {
   "cell_type": "markdown",
   "metadata": {},
   "source": [
    "<h5>Выделим RFM метрики</h5>"
   ]
  },
  {
   "cell_type": "code",
   "execution_count": 93,
   "metadata": {
    "scrolled": true
   },
   "outputs": [
    {
     "data": {
      "text/html": [
       "<div>\n",
       "<style scoped>\n",
       "    .dataframe tbody tr th:only-of-type {\n",
       "        vertical-align: middle;\n",
       "    }\n",
       "\n",
       "    .dataframe tbody tr th {\n",
       "        vertical-align: top;\n",
       "    }\n",
       "\n",
       "    .dataframe thead th {\n",
       "        text-align: right;\n",
       "    }\n",
       "</style>\n",
       "<table border=\"1\" class=\"dataframe\">\n",
       "  <thead>\n",
       "    <tr style=\"text-align: right;\">\n",
       "      <th></th>\n",
       "      <th>CustomerCode</th>\n",
       "      <th>Recency</th>\n",
       "      <th>Frequency</th>\n",
       "      <th>Monetary</th>\n",
       "    </tr>\n",
       "  </thead>\n",
       "  <tbody>\n",
       "    <tr>\n",
       "      <th>0</th>\n",
       "      <td>02213019</td>\n",
       "      <td>19</td>\n",
       "      <td>1</td>\n",
       "      <td>1609.20</td>\n",
       "    </tr>\n",
       "    <tr>\n",
       "      <th>1</th>\n",
       "      <td>02213042</td>\n",
       "      <td>22</td>\n",
       "      <td>3</td>\n",
       "      <td>9685.48</td>\n",
       "    </tr>\n",
       "    <tr>\n",
       "      <th>2</th>\n",
       "      <td>02213071</td>\n",
       "      <td>29</td>\n",
       "      <td>1</td>\n",
       "      <td>415.00</td>\n",
       "    </tr>\n",
       "    <tr>\n",
       "      <th>3</th>\n",
       "      <td>02213088</td>\n",
       "      <td>23</td>\n",
       "      <td>1</td>\n",
       "      <td>305.00</td>\n",
       "    </tr>\n",
       "    <tr>\n",
       "      <th>4</th>\n",
       "      <td>02213092</td>\n",
       "      <td>25</td>\n",
       "      <td>1</td>\n",
       "      <td>1412.88</td>\n",
       "    </tr>\n",
       "    <tr>\n",
       "      <th>...</th>\n",
       "      <td>...</td>\n",
       "      <td>...</td>\n",
       "      <td>...</td>\n",
       "      <td>...</td>\n",
       "    </tr>\n",
       "    <tr>\n",
       "      <th>123728</th>\n",
       "      <td>99099927</td>\n",
       "      <td>10</td>\n",
       "      <td>1</td>\n",
       "      <td>961.10</td>\n",
       "    </tr>\n",
       "    <tr>\n",
       "      <th>123729</th>\n",
       "      <td>99099936</td>\n",
       "      <td>0</td>\n",
       "      <td>1</td>\n",
       "      <td>1521.78</td>\n",
       "    </tr>\n",
       "    <tr>\n",
       "      <th>123730</th>\n",
       "      <td>99099959</td>\n",
       "      <td>8</td>\n",
       "      <td>2</td>\n",
       "      <td>1444.56</td>\n",
       "    </tr>\n",
       "    <tr>\n",
       "      <th>123731</th>\n",
       "      <td>99099963</td>\n",
       "      <td>19</td>\n",
       "      <td>1</td>\n",
       "      <td>3018.91</td>\n",
       "    </tr>\n",
       "    <tr>\n",
       "      <th>123732</th>\n",
       "      <td>99099972</td>\n",
       "      <td>0</td>\n",
       "      <td>2</td>\n",
       "      <td>4577.37</td>\n",
       "    </tr>\n",
       "  </tbody>\n",
       "</table>\n",
       "<p>123733 rows × 4 columns</p>\n",
       "</div>"
      ],
      "text/plain": [
       "       CustomerCode  Recency  Frequency  Monetary\n",
       "0          02213019       19          1   1609.20\n",
       "1          02213042       22          3   9685.48\n",
       "2          02213071       29          1    415.00\n",
       "3          02213088       23          1    305.00\n",
       "4          02213092       25          1   1412.88\n",
       "...             ...      ...        ...       ...\n",
       "123728     99099927       10          1    961.10\n",
       "123729     99099936        0          1   1521.78\n",
       "123730     99099959        8          2   1444.56\n",
       "123731     99099963       19          1   3018.91\n",
       "123732     99099972        0          2   4577.37\n",
       "\n",
       "[123733 rows x 4 columns]"
      ]
     },
     "execution_count": 93,
     "metadata": {},
     "output_type": "execute_result"
    }
   ],
   "source": [
    "# Создадим новые колонки с:\n",
    "# Recency - числом дней с момента поледней покупки пользователя\n",
    "# Frequency - суммарное количество покупок у пользователя за всё время\n",
    "# Monetary - сумма покупок у пользователя за всё время\n",
    "\n",
    "df_rfm = df\\\n",
    "                    .groupby('CustomerCode', as_index=False)\\\n",
    "                    .agg({'InvoiceDate': lambda x: (last_date - x.max()).days, \n",
    "                          'InvoiceNo': lambda x: len(x),     \n",
    "                          'Amount': lambda x: x.sum()})\n",
    "\n",
    "df_rfm = df_rfm.rename(columns={\n",
    "                                'InvoiceDate':'Recency',\n",
    "                                'InvoiceNo':'Frequency',\n",
    "                                'Amount':'Monetary'\n",
    "                                })\n",
    "df_rfm"
   ]
  },
  {
   "cell_type": "markdown",
   "metadata": {},
   "source": [
    "<h5>Разделим пользователей на 4 равных группы (т.е. каждую метрику)</h5> "
   ]
  },
  {
   "cell_type": "code",
   "execution_count": 97,
   "metadata": {},
   "outputs": [
    {
     "data": {
      "text/html": [
       "<div>\n",
       "<style scoped>\n",
       "    .dataframe tbody tr th:only-of-type {\n",
       "        vertical-align: middle;\n",
       "    }\n",
       "\n",
       "    .dataframe tbody tr th {\n",
       "        vertical-align: top;\n",
       "    }\n",
       "\n",
       "    .dataframe thead th {\n",
       "        text-align: right;\n",
       "    }\n",
       "</style>\n",
       "<table border=\"1\" class=\"dataframe\">\n",
       "  <thead>\n",
       "    <tr style=\"text-align: right;\">\n",
       "      <th></th>\n",
       "      <th>Recency</th>\n",
       "      <th>Frequency</th>\n",
       "      <th>Monetary</th>\n",
       "    </tr>\n",
       "  </thead>\n",
       "  <tbody>\n",
       "    <tr>\n",
       "      <th>0.25</th>\n",
       "      <td>2</td>\n",
       "      <td>1</td>\n",
       "      <td>765.00</td>\n",
       "    </tr>\n",
       "    <tr>\n",
       "      <th>0.50</th>\n",
       "      <td>8</td>\n",
       "      <td>2</td>\n",
       "      <td>1834.48</td>\n",
       "    </tr>\n",
       "    <tr>\n",
       "      <th>0.75</th>\n",
       "      <td>16</td>\n",
       "      <td>3</td>\n",
       "      <td>4008.84</td>\n",
       "    </tr>\n",
       "  </tbody>\n",
       "</table>\n",
       "</div>"
      ],
      "text/plain": [
       "      Recency  Frequency  Monetary\n",
       "0.25        2          1    765.00\n",
       "0.50        8          2   1834.48\n",
       "0.75       16          3   4008.84"
      ]
     },
     "execution_count": 97,
     "metadata": {},
     "output_type": "execute_result"
    }
   ],
   "source": [
    "# Определим границы квантилей\n",
    "# Поделим на равные части\n",
    "list_borders = [0.25, 0.5, 0.75]\n",
    "\n",
    "# Создадим DF с границами групп по каждой метрике\n",
    "quantiles = df_rfm.quantile(q=list_borders, interpolation=\"higher\")\n",
    "quantiles"
   ]
  },
  {
   "cell_type": "code",
   "execution_count": 98,
   "metadata": {},
   "outputs": [],
   "source": [
    "# Выделен новую переменную для DF, чтобы не потерять предыдущий DF (без RFM анализа)\n",
    "df_rfmSegmentation = df_rfm"
   ]
  },
  {
   "cell_type": "code",
   "execution_count": 108,
   "metadata": {},
   "outputs": [
    {
     "data": {
      "text/plain": [
       "2"
      ]
     },
     "execution_count": 108,
     "metadata": {},
     "output_type": "execute_result"
    }
   ],
   "source": [
    "quantiles.Frequency[0.5]"
   ]
  },
  {
   "cell_type": "markdown",
   "metadata": {},
   "source": [
    "<h5>Опишем ф-и для присвоения рангов</h5> "
   ]
  },
  {
   "cell_type": "code",
   "execution_count": 135,
   "metadata": {},
   "outputs": [],
   "source": [
    "# Ф-я для кол-ва дней с последней покупки\n",
    "# Чем больше дней, тем меньше ранг\n",
    "def RClass(value,parameter_name,quantiles_table):\n",
    "    if value <= quantiles_table[parameter_name][0.25]:\n",
    "        return 1\n",
    "    elif value <= quantiles_table[parameter_name][0.50]:\n",
    "        return 2\n",
    "    elif value <= quantiles_table[parameter_name][0.75]: \n",
    "        return 3\n",
    "    else:\n",
    "        return 4\n",
    "\n",
    "# Ф-я для общей суммы и для числа покупок \n",
    "# Чем больше сумма, тем больше и ранг\n",
    "def FMClass(value, parameter_name,quantiles_table):\n",
    "    if value <= quantiles_table[parameter_name][0.25]:\n",
    "        return 4\n",
    "    elif value <= quantiles_table[parameter_name][0.50]:\n",
    "        return 3\n",
    "    elif value <= quantiles_table[parameter_name][0.75]: \n",
    "        return 2\n",
    "    else: \n",
    "        return 1"
   ]
  },
  {
   "cell_type": "code",
   "execution_count": 136,
   "metadata": {},
   "outputs": [],
   "source": [
    "# Вызовем фу-ю разными способами\n",
    "\n",
    "# Recency\n",
    "df_rfmSegmentation['R_Quartile'] = df_rfmSegmentation['Recency'].apply(lambda x: RClass(x,'Recency',quantiles))\n",
    "\n",
    "# Frequency\n",
    "df_rfmSegmentation['F_Quartile'] = df_rfmSegmentation['Frequency'].apply(FMClass, args=('Frequency',quantiles))\n",
    "\n",
    "# Monetary\n",
    "df_rfmSegmentation['M_Quartile'] = df_rfmSegmentation['Monetary'].apply(FMClass, args=('Monetary',quantiles))"
   ]
  },
  {
   "cell_type": "code",
   "execution_count": 137,
   "metadata": {},
   "outputs": [
    {
     "name": "stdout",
     "output_type": "stream",
     "text": [
      "<class 'pandas.core.frame.DataFrame'>\n",
      "Int64Index: 123733 entries, 0 to 123732\n",
      "Data columns (total 8 columns):\n",
      " #   Column        Non-Null Count   Dtype  \n",
      "---  ------        --------------   -----  \n",
      " 0   CustomerCode  123733 non-null  object \n",
      " 1   Recency       123733 non-null  int64  \n",
      " 2   Frequency     123733 non-null  int64  \n",
      " 3   Monetary      123733 non-null  float64\n",
      " 4   R_Quartile    123733 non-null  int64  \n",
      " 5   F_Quartile    123733 non-null  int64  \n",
      " 6   M_Quartile    123733 non-null  int64  \n",
      " 7   RFMClass      123733 non-null  int64  \n",
      "dtypes: float64(1), int64(6), object(1)\n",
      "memory usage: 8.5+ MB\n"
     ]
    }
   ],
   "source": [
    "df_rfmSegmentation.info()"
   ]
  },
  {
   "cell_type": "code",
   "execution_count": 138,
   "metadata": {},
   "outputs": [
    {
     "name": "stdout",
     "output_type": "stream",
     "text": [
      "<class 'pandas.core.frame.DataFrame'>\n",
      "Int64Index: 123733 entries, 0 to 123732\n",
      "Data columns (total 8 columns):\n",
      " #   Column        Non-Null Count   Dtype  \n",
      "---  ------        --------------   -----  \n",
      " 0   CustomerCode  123733 non-null  object \n",
      " 1   Recency       123733 non-null  int64  \n",
      " 2   Frequency     123733 non-null  int64  \n",
      " 3   Monetary      123733 non-null  float64\n",
      " 4   R_Quartile    123733 non-null  int64  \n",
      " 5   F_Quartile    123733 non-null  int64  \n",
      " 6   M_Quartile    123733 non-null  int64  \n",
      " 7   RFMClass      123733 non-null  object \n",
      "dtypes: float64(1), int64(5), object(2)\n",
      "memory usage: 8.5+ MB\n"
     ]
    }
   ],
   "source": [
    "# Найдём RFM. Но так как квартили формамата int64, то нужно в расчётах преобразовать каждый квартиль\n",
    "#  в str формат и сложить эти строки\n",
    "\n",
    "# Для этого используем функцию map()\n",
    "df_rfmSegmentation['RFMClass'] = df_rfmSegmentation.R_Quartile.map(str) \\\n",
    "                                                                    + df_rfmSegmentation.F_Quartile.map(str)\\\n",
    "                                                                    + df_rfmSegmentation.M_Quartile.map(str)\n",
    "df_rfmSegmentation.info()"
   ]
  },
  {
   "cell_type": "code",
   "execution_count": 139,
   "metadata": {},
   "outputs": [
    {
     "data": {
      "text/plain": [
       "CustomerCode     object\n",
       "Recency           int64\n",
       "Frequency         int64\n",
       "Monetary        float64\n",
       "R_Quartile        int64\n",
       "F_Quartile        int64\n",
       "M_Quartile        int64\n",
       "RFMClass          int64\n",
       "dtype: object"
      ]
     },
     "execution_count": 139,
     "metadata": {},
     "output_type": "execute_result"
    }
   ],
   "source": [
    "df_rfmSegmentation['RFMClass'] = df_rfmSegmentation['RFMClass'].map(int)\n",
    "df_rfmSegmentation.dtypes"
   ]
  },
  {
   "cell_type": "code",
   "execution_count": 140,
   "metadata": {},
   "outputs": [
    {
     "data": {
      "text/html": [
       "<div>\n",
       "<style scoped>\n",
       "    .dataframe tbody tr th:only-of-type {\n",
       "        vertical-align: middle;\n",
       "    }\n",
       "\n",
       "    .dataframe tbody tr th {\n",
       "        vertical-align: top;\n",
       "    }\n",
       "\n",
       "    .dataframe thead th {\n",
       "        text-align: right;\n",
       "    }\n",
       "</style>\n",
       "<table border=\"1\" class=\"dataframe\">\n",
       "  <thead>\n",
       "    <tr style=\"text-align: right;\">\n",
       "      <th></th>\n",
       "      <th>CustomerCode</th>\n",
       "      <th>Recency</th>\n",
       "      <th>Frequency</th>\n",
       "      <th>Monetary</th>\n",
       "      <th>R_Quartile</th>\n",
       "      <th>F_Quartile</th>\n",
       "      <th>M_Quartile</th>\n",
       "      <th>RFMClass</th>\n",
       "    </tr>\n",
       "  </thead>\n",
       "  <tbody>\n",
       "    <tr>\n",
       "      <th>6</th>\n",
       "      <td>02213129</td>\n",
       "      <td>1</td>\n",
       "      <td>4</td>\n",
       "      <td>2199.00</td>\n",
       "      <td>1</td>\n",
       "      <td>1</td>\n",
       "      <td>2</td>\n",
       "      <td>112</td>\n",
       "    </tr>\n",
       "    <tr>\n",
       "      <th>13</th>\n",
       "      <td>02213280</td>\n",
       "      <td>0</td>\n",
       "      <td>6</td>\n",
       "      <td>4772.93</td>\n",
       "      <td>1</td>\n",
       "      <td>1</td>\n",
       "      <td>1</td>\n",
       "      <td>111</td>\n",
       "    </tr>\n",
       "    <tr>\n",
       "      <th>18</th>\n",
       "      <td>02213315</td>\n",
       "      <td>0</td>\n",
       "      <td>4</td>\n",
       "      <td>13386.21</td>\n",
       "      <td>1</td>\n",
       "      <td>1</td>\n",
       "      <td>1</td>\n",
       "      <td>111</td>\n",
       "    </tr>\n",
       "    <tr>\n",
       "      <th>22</th>\n",
       "      <td>02213383</td>\n",
       "      <td>2</td>\n",
       "      <td>8</td>\n",
       "      <td>6283.81</td>\n",
       "      <td>1</td>\n",
       "      <td>1</td>\n",
       "      <td>1</td>\n",
       "      <td>111</td>\n",
       "    </tr>\n",
       "    <tr>\n",
       "      <th>28</th>\n",
       "      <td>02213478</td>\n",
       "      <td>0</td>\n",
       "      <td>4</td>\n",
       "      <td>6270.09</td>\n",
       "      <td>1</td>\n",
       "      <td>1</td>\n",
       "      <td>1</td>\n",
       "      <td>111</td>\n",
       "    </tr>\n",
       "    <tr>\n",
       "      <th>...</th>\n",
       "      <td>...</td>\n",
       "      <td>...</td>\n",
       "      <td>...</td>\n",
       "      <td>...</td>\n",
       "      <td>...</td>\n",
       "      <td>...</td>\n",
       "      <td>...</td>\n",
       "      <td>...</td>\n",
       "    </tr>\n",
       "    <tr>\n",
       "      <th>123719</th>\n",
       "      <td>99099814</td>\n",
       "      <td>1</td>\n",
       "      <td>11</td>\n",
       "      <td>9610.69</td>\n",
       "      <td>1</td>\n",
       "      <td>1</td>\n",
       "      <td>1</td>\n",
       "      <td>111</td>\n",
       "    </tr>\n",
       "    <tr>\n",
       "      <th>123720</th>\n",
       "      <td>99099847</td>\n",
       "      <td>16</td>\n",
       "      <td>4</td>\n",
       "      <td>8139.48</td>\n",
       "      <td>3</td>\n",
       "      <td>1</td>\n",
       "      <td>1</td>\n",
       "      <td>311</td>\n",
       "    </tr>\n",
       "    <tr>\n",
       "      <th>123724</th>\n",
       "      <td>99099889</td>\n",
       "      <td>0</td>\n",
       "      <td>8</td>\n",
       "      <td>6874.10</td>\n",
       "      <td>1</td>\n",
       "      <td>1</td>\n",
       "      <td>1</td>\n",
       "      <td>111</td>\n",
       "    </tr>\n",
       "    <tr>\n",
       "      <th>123725</th>\n",
       "      <td>99099890</td>\n",
       "      <td>4</td>\n",
       "      <td>10</td>\n",
       "      <td>16090.53</td>\n",
       "      <td>2</td>\n",
       "      <td>1</td>\n",
       "      <td>1</td>\n",
       "      <td>211</td>\n",
       "    </tr>\n",
       "    <tr>\n",
       "      <th>123727</th>\n",
       "      <td>99099925</td>\n",
       "      <td>3</td>\n",
       "      <td>4</td>\n",
       "      <td>3714.90</td>\n",
       "      <td>2</td>\n",
       "      <td>1</td>\n",
       "      <td>2</td>\n",
       "      <td>212</td>\n",
       "    </tr>\n",
       "  </tbody>\n",
       "</table>\n",
       "<p>27700 rows × 8 columns</p>\n",
       "</div>"
      ],
      "text/plain": [
       "       CustomerCode  Recency  Frequency  Monetary  R_Quartile  F_Quartile  \\\n",
       "6          02213129        1          4   2199.00           1           1   \n",
       "13         02213280        0          6   4772.93           1           1   \n",
       "18         02213315        0          4  13386.21           1           1   \n",
       "22         02213383        2          8   6283.81           1           1   \n",
       "28         02213478        0          4   6270.09           1           1   \n",
       "...             ...      ...        ...       ...         ...         ...   \n",
       "123719     99099814        1         11   9610.69           1           1   \n",
       "123720     99099847       16          4   8139.48           3           1   \n",
       "123724     99099889        0          8   6874.10           1           1   \n",
       "123725     99099890        4         10  16090.53           2           1   \n",
       "123727     99099925        3          4   3714.90           2           1   \n",
       "\n",
       "        M_Quartile  RFMClass  \n",
       "6                2       112  \n",
       "13               1       111  \n",
       "18               1       111  \n",
       "22               1       111  \n",
       "28               1       111  \n",
       "...            ...       ...  \n",
       "123719           1       111  \n",
       "123720           1       311  \n",
       "123724           1       111  \n",
       "123725           1       211  \n",
       "123727           2       212  \n",
       "\n",
       "[27700 rows x 8 columns]"
      ]
     },
     "execution_count": 140,
     "metadata": {},
     "output_type": "execute_result"
    }
   ],
   "source": [
    "df_rfmSegmentation.query(\"F_Quartile == 1\")"
   ]
  },
  {
   "cell_type": "code",
   "execution_count": 241,
   "metadata": {},
   "outputs": [
    {
     "data": {
      "text/html": [
       "<div>\n",
       "<style scoped>\n",
       "    .dataframe tbody tr th:only-of-type {\n",
       "        vertical-align: middle;\n",
       "    }\n",
       "\n",
       "    .dataframe tbody tr th {\n",
       "        vertical-align: top;\n",
       "    }\n",
       "\n",
       "    .dataframe thead th {\n",
       "        text-align: right;\n",
       "    }\n",
       "</style>\n",
       "<table border=\"1\" class=\"dataframe\">\n",
       "  <thead>\n",
       "    <tr style=\"text-align: right;\">\n",
       "      <th>F_Quartile</th>\n",
       "      <th>1</th>\n",
       "      <th>2</th>\n",
       "      <th>3</th>\n",
       "      <th>4</th>\n",
       "    </tr>\n",
       "    <tr>\n",
       "      <th>R_Quartile</th>\n",
       "      <th></th>\n",
       "      <th></th>\n",
       "      <th></th>\n",
       "      <th></th>\n",
       "    </tr>\n",
       "  </thead>\n",
       "  <tbody>\n",
       "    <tr>\n",
       "      <th>1</th>\n",
       "      <td>14433</td>\n",
       "      <td>4671</td>\n",
       "      <td>5795</td>\n",
       "      <td>6074</td>\n",
       "    </tr>\n",
       "    <tr>\n",
       "      <th>2</th>\n",
       "      <td>9634</td>\n",
       "      <td>5889</td>\n",
       "      <td>8633</td>\n",
       "      <td>10399</td>\n",
       "    </tr>\n",
       "    <tr>\n",
       "      <th>3</th>\n",
       "      <td>3091</td>\n",
       "      <td>3748</td>\n",
       "      <td>7734</td>\n",
       "      <td>13263</td>\n",
       "    </tr>\n",
       "    <tr>\n",
       "      <th>4</th>\n",
       "      <td>542</td>\n",
       "      <td>1311</td>\n",
       "      <td>5415</td>\n",
       "      <td>23101</td>\n",
       "    </tr>\n",
       "  </tbody>\n",
       "</table>\n",
       "</div>"
      ],
      "text/plain": [
       "F_Quartile      1     2     3      4\n",
       "R_Quartile                          \n",
       "1           14433  4671  5795   6074\n",
       "2            9634  5889  8633  10399\n",
       "3            3091  3748  7734  13263\n",
       "4             542  1311  5415  23101"
      ]
     },
     "execution_count": 241,
     "metadata": {},
     "output_type": "execute_result"
    }
   ],
   "source": [
    "pd.crosstab(index = df_rfmSegmentation.R_Quartile, columns = df_rfmSegmentation.F_Quartile)"
   ]
  },
  {
   "cell_type": "code",
   "execution_count": 246,
   "metadata": {},
   "outputs": [
    {
     "data": {
      "image/png": "[encoded data removed]",
      "text/plain": [
       "<Figure size 1152x576 with 2 Axes>"
      ]
     },
     "metadata": {
      "needs_background": "light"
     },
     "output_type": "display_data"
    }
   ],
   "source": [
    "plt.figure(figsize=(16, 8))\n",
    "\n",
    "rfm_table = df_rfmSegmentation.pivot_table(\n",
    "                        index='R_Quartile', \n",
    "                        columns='F_Quartile', \n",
    "                        values='Monetary', \n",
    "                        aggfunc=np.median).applymap(int)\n",
    "sns.heatmap(rfm_table, cmap=\"YlGnBu\", annot=True, fmt=\".0f\", linewidths=4.15, annot_kws={\"size\": 10},yticklabels=4);"
   ]
  },
  {
   "cell_type": "markdown",
   "metadata": {},
   "source": [
    "### *1. Какое максимальное кол-во покупок было совершено одним пользователем?*"
   ]
  },
  {
   "cell_type": "code",
   "execution_count": 178,
   "metadata": {},
   "outputs": [
    {
     "data": {
      "text/plain": [
       "204"
      ]
     },
     "execution_count": 178,
     "metadata": {},
     "output_type": "execute_result"
    }
   ],
   "source": [
    "df_rfm.Frequency.max()"
   ]
  },
  {
   "cell_type": "markdown",
   "metadata": {},
   "source": [
    "### *2. Какая верхняя граница у суммы покупок у пользователей с классом 4 в подсегменте М?<br> (Другими словами: пользователи, у которых сумма покупок от 0 до Х попадают в 4 класс <br>в подсегменте М)*"
   ]
  },
  {
   "cell_type": "code",
   "execution_count": 184,
   "metadata": {},
   "outputs": [
    {
     "data": {
      "text/plain": [
       "765.0"
      ]
     },
     "execution_count": 184,
     "metadata": {},
     "output_type": "execute_result"
    }
   ],
   "source": [
    "quantiles.Monetary[0.25]"
   ]
  },
  {
   "cell_type": "markdown",
   "metadata": {},
   "source": [
    "### *3. Какая нижняя граница у количества покупок у пользователей с классом 1 в подсегменте F?*"
   ]
  },
  {
   "cell_type": "code",
   "execution_count": 187,
   "metadata": {},
   "outputs": [
    {
     "data": {
      "text/plain": [
       "4"
      ]
     },
     "execution_count": 187,
     "metadata": {},
     "output_type": "execute_result"
    }
   ],
   "source": [
    "quantiles.Frequency[0.75]+1"
   ]
  },
  {
   "cell_type": "markdown",
   "metadata": {},
   "source": [
    "### *4. Какое максимальное количество дней может пройти с момента последней покупки для того, чтобы пользователь попал в класс 2 в подсегменте R?*"
   ]
  },
  {
   "cell_type": "code",
   "execution_count": 189,
   "metadata": {},
   "outputs": [
    {
     "data": {
      "text/plain": [
       "8"
      ]
     },
     "execution_count": 189,
     "metadata": {},
     "output_type": "execute_result"
    }
   ],
   "source": [
    "quantiles.Recency[0.5]"
   ]
  },
  {
   "cell_type": "markdown",
   "metadata": {},
   "source": [
    "### *5. Сколько пользователей попало в сегмент 111?*"
   ]
  },
  {
   "cell_type": "code",
   "execution_count": 194,
   "metadata": {},
   "outputs": [
    {
     "data": {
      "text/plain": [
       "9705"
      ]
     },
     "execution_count": 194,
     "metadata": {},
     "output_type": "execute_result"
    }
   ],
   "source": [
    "df_rfmSegmentation.query(\"RFMClass == 111\").shape[0]"
   ]
  },
  {
   "cell_type": "markdown",
   "metadata": {},
   "source": [
    "### *6. Сколько пользователей попало в сегмент 311?*"
   ]
  },
  {
   "cell_type": "code",
   "execution_count": 195,
   "metadata": {},
   "outputs": [
    {
     "data": {
      "text/plain": [
       "1609"
      ]
     },
     "execution_count": 195,
     "metadata": {},
     "output_type": "execute_result"
    }
   ],
   "source": [
    "df_rfmSegmentation.query(\"RFMClass == 311\").shape[0]"
   ]
  },
  {
   "cell_type": "markdown",
   "metadata": {},
   "source": [
    "### *7. В каком RFM-сегменте самое большое кол-во пользователей?*"
   ]
  },
  {
   "cell_type": "code",
   "execution_count": 200,
   "metadata": {},
   "outputs": [
    {
     "data": {
      "text/plain": [
       "444"
      ]
     },
     "execution_count": 200,
     "metadata": {},
     "output_type": "execute_result"
    }
   ],
   "source": [
    "df_rfmSegmentation.groupby(\"RFMClass\", as_index=False).agg({\"CustomerCode\":\"count\"}).max().RFMClass          "
   ]
  },
  {
   "cell_type": "markdown",
   "metadata": {},
   "source": [
    "### *8. В каком RFM-сегменте самое маленькое кол-во пользователей?*"
   ]
  },
  {
   "cell_type": "code",
   "execution_count": 227,
   "metadata": {},
   "outputs": [
    {
     "data": {
      "text/plain": [
       "414"
      ]
     },
     "execution_count": 227,
     "metadata": {},
     "output_type": "execute_result"
    }
   ],
   "source": [
    "df_rfmSegmentation.groupby(\"RFMClass\", as_index=False).agg({\"CustomerCode\":\"count\"}).sort_values(\"CustomerCode\").head(1).RFMClass[51]"
   ]
  },
  {
   "cell_type": "markdown",
   "metadata": {},
   "source": [
    "### *9. Какое количество пользователей попало в самый малочисленный сегмент?*"
   ]
  },
  {
   "cell_type": "code",
   "execution_count": 205,
   "metadata": {},
   "outputs": [
    {
     "data": {
      "text/plain": [
       "2"
      ]
     },
     "execution_count": 205,
     "metadata": {},
     "output_type": "execute_result"
    }
   ],
   "source": [
    "df_rfmSegmentation.RFMClass.value_counts().min()"
   ]
  },
  {
   "cell_type": "code",
   "execution_count": null,
   "metadata": {},
   "outputs": [],
   "source": []
  }
 ],
 "metadata": {
  "kernelspec": {
   "display_name": "Python 3",
   "language": "python",
   "name": "python3"
  },
  "language_info": {
   "codemirror_mode": {
    "name": "ipython",
    "version": 3
   },
   "file_extension": ".py",
   "mimetype": "text/x-python",
   "name": "python",
   "nbconvert_exporter": "python",
   "pygments_lexer": "ipython3",
   "version": "3.7.3"
  }
 },
 "nbformat": 4,
 "nbformat_minor": 4
}
